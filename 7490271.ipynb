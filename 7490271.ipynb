{
  "nbformat": 4,
  "nbformat_minor": 0,
  "metadata": {
    "colab": {
      "name": "Untitled17.ipynb",
      "provenance": [],
      "collapsed_sections": []
    },
    "kernelspec": {
      "name": "python3",
      "display_name": "Python 3"
    },
    "language_info": {
      "name": "python"
    }
  },
  "cells": [
    {
      "cell_type": "markdown",
      "source": [
        "Чехол для наушников Apple AirPods 7490271"
      ],
      "metadata": {
        "id": "9sRbrGybu1Uc"
      }
    },
    {
      "cell_type": "code",
      "source": [
        "! pip install catboost"
      ],
      "metadata": {
        "colab": {
          "base_uri": "https://localhost:8080/"
        },
        "id": "SnkKFFSRtyUk",
        "outputId": "7b06f400-133a-4bfe-d25c-9099ef1ca5af"
      },
      "execution_count": 1,
      "outputs": [
        {
          "output_type": "stream",
          "name": "stdout",
          "text": [
            "Looking in indexes: https://pypi.org/simple, https://us-python.pkg.dev/colab-wheels/public/simple/\n",
            "Requirement already satisfied: catboost in /usr/local/lib/python3.7/dist-packages (1.0.6)\n",
            "Requirement already satisfied: matplotlib in /usr/local/lib/python3.7/dist-packages (from catboost) (3.2.2)\n",
            "Requirement already satisfied: graphviz in /usr/local/lib/python3.7/dist-packages (from catboost) (0.10.1)\n",
            "Requirement already satisfied: scipy in /usr/local/lib/python3.7/dist-packages (from catboost) (1.4.1)\n",
            "Requirement already satisfied: plotly in /usr/local/lib/python3.7/dist-packages (from catboost) (5.5.0)\n",
            "Requirement already satisfied: numpy>=1.16.0 in /usr/local/lib/python3.7/dist-packages (from catboost) (1.21.6)\n",
            "Requirement already satisfied: six in /usr/local/lib/python3.7/dist-packages (from catboost) (1.15.0)\n",
            "Requirement already satisfied: pandas>=0.24.0 in /usr/local/lib/python3.7/dist-packages (from catboost) (1.3.5)\n",
            "Requirement already satisfied: pytz>=2017.3 in /usr/local/lib/python3.7/dist-packages (from pandas>=0.24.0->catboost) (2022.1)\n",
            "Requirement already satisfied: python-dateutil>=2.7.3 in /usr/local/lib/python3.7/dist-packages (from pandas>=0.24.0->catboost) (2.8.2)\n",
            "Requirement already satisfied: kiwisolver>=1.0.1 in /usr/local/lib/python3.7/dist-packages (from matplotlib->catboost) (1.4.2)\n",
            "Requirement already satisfied: cycler>=0.10 in /usr/local/lib/python3.7/dist-packages (from matplotlib->catboost) (0.11.0)\n",
            "Requirement already satisfied: pyparsing!=2.0.4,!=2.1.2,!=2.1.6,>=2.0.1 in /usr/local/lib/python3.7/dist-packages (from matplotlib->catboost) (3.0.9)\n",
            "Requirement already satisfied: typing-extensions in /usr/local/lib/python3.7/dist-packages (from kiwisolver>=1.0.1->matplotlib->catboost) (4.2.0)\n",
            "Requirement already satisfied: tenacity>=6.2.0 in /usr/local/lib/python3.7/dist-packages (from plotly->catboost) (8.0.1)\n"
          ]
        }
      ]
    },
    {
      "cell_type": "code",
      "source": [
        "import pandas as pd\n",
        "import numpy as np\n",
        "\n",
        "import matplotlib.pyplot as plt\n",
        "\n",
        "from statsmodels.tsa.seasonal import seasonal_decompose\n",
        "\n",
        "from sklearn.model_selection import train_test_split\n",
        "\n",
        "from sklearn.model_selection import TimeSeriesSplit\n",
        "\n",
        "from sklearn.model_selection import GridSearchCV\n",
        "from catboost import CatBoostRegressor\n",
        "\n",
        "import lightgbm as lgb\n",
        "\n",
        "import xgboost as xgb\n",
        "from xgboost import XGBRegressor\n",
        "\n",
        "from sklearn.linear_model import LinearRegression\n",
        "from sklearn.ensemble import RandomForestRegressor\n",
        "\n",
        "from sklearn.model_selection import cross_val_score\n",
        "from sklearn.metrics import make_scorer\n",
        "from sklearn.metrics import mean_squared_error\n",
        "\n",
        "import copy\n",
        "from copy import deepcopy"
      ],
      "metadata": {
        "colab": {
          "base_uri": "https://localhost:8080/"
        },
        "id": "g16gG3f4tycg",
        "outputId": "92df8d19-2e70-4e4c-828f-415d95fbe00a"
      },
      "execution_count": 2,
      "outputs": [
        {
          "output_type": "stream",
          "name": "stderr",
          "text": [
            "/usr/local/lib/python3.7/dist-packages/statsmodels/tools/_testing.py:19: FutureWarning: pandas.util.testing is deprecated. Use the functions in the public API at pandas.testing instead.\n",
            "  import pandas.util.testing as tm\n"
          ]
        }
      ]
    },
    {
      "cell_type": "markdown",
      "source": [
        "------------"
      ],
      "metadata": {
        "id": "PgIXLlqL5zM8"
      }
    },
    {
      "cell_type": "code",
      "source": [
        "data = pd.read_csv('/content/7490271.csv', sep=';')"
      ],
      "metadata": {
        "id": "KgNovoIL1wDQ"
      },
      "execution_count": 89,
      "outputs": []
    },
    {
      "cell_type": "code",
      "source": [
        "data"
      ],
      "metadata": {
        "colab": {
          "base_uri": "https://localhost:8080/",
          "height": 644
        },
        "id": "qTog5a2q9q8A",
        "outputId": "61aab500-071d-4a64-bc17-1ae58504696f"
      },
      "execution_count": 90,
      "outputs": [
        {
          "output_type": "execute_result",
          "data": {
            "text/plain": [
              "                   Дата  Продажи  Остаток   Цена  Со скидкой и промо  Скидка  \\\n",
              "0            2022-06-16      NaN      NaN    NaN                 NaN     NaN   \n",
              "1            2022-06-15        3    284.0  846.0               194.0    77.0   \n",
              "2            2022-06-14        1    286.0  846.0               194.0    77.0   \n",
              "3            2022-06-13        3    287.0  846.0               194.0    77.0   \n",
              "4            2022-06-12        2    289.0  846.0               194.0    77.0   \n",
              "..                  ...      ...      ...    ...                 ...     ...   \n",
              "95     Среднее (в день)     5 шт      NaN    NaN                 NaN     NaN   \n",
              "96      Дней с наличием  93 дней      NaN    NaN                 NaN     NaN   \n",
              "97  Среднее при наличии     5 шт      NaN    NaN                 NaN     NaN   \n",
              "98            Потенциал      NaN      NaN    NaN                 NaN     NaN   \n",
              "99    Упущенная выручка      NaN      NaN    NaN                 NaN     NaN   \n",
              "\n",
              "    Цена со скидкой  Промокод  СПП  Цена с СПП Сумма продаж  Комментариев  \\\n",
              "0               NaN       NaN  NaN         NaN          NaN           NaN   \n",
              "1             194.0       0.0  0.0       194.0          582        1651.0   \n",
              "2             194.0       0.0  0.0       194.0          194        1650.0   \n",
              "3             194.0       0.0  0.0       194.0          582        1648.0   \n",
              "4             194.0       0.0  0.0       194.0          388        1645.0   \n",
              "..              ...       ...  ...         ...          ...           ...   \n",
              "95              NaN       NaN  NaN         NaN     935,59 ₽           NaN   \n",
              "96              NaN       NaN  NaN         NaN          NaN           NaN   \n",
              "97              NaN       NaN  NaN         NaN     935,59 ₽           NaN   \n",
              "98              NaN       NaN  NaN         NaN  87 010,00 ₽           NaN   \n",
              "99              NaN       NaN  NaN         NaN       0,00 ₽           NaN   \n",
              "\n",
              "    Рейтинг  \n",
              "0       NaN  \n",
              "1       4.0  \n",
              "2       4.0  \n",
              "3       4.0  \n",
              "4       4.0  \n",
              "..      ...  \n",
              "95      NaN  \n",
              "96      NaN  \n",
              "97      NaN  \n",
              "98      NaN  \n",
              "99      NaN  \n",
              "\n",
              "[100 rows x 13 columns]"
            ],
            "text/html": [
              "\n",
              "  <div id=\"df-c611b957-8da3-4161-957f-fe1fd4d1ff7c\">\n",
              "    <div class=\"colab-df-container\">\n",
              "      <div>\n",
              "<style scoped>\n",
              "    .dataframe tbody tr th:only-of-type {\n",
              "        vertical-align: middle;\n",
              "    }\n",
              "\n",
              "    .dataframe tbody tr th {\n",
              "        vertical-align: top;\n",
              "    }\n",
              "\n",
              "    .dataframe thead th {\n",
              "        text-align: right;\n",
              "    }\n",
              "</style>\n",
              "<table border=\"1\" class=\"dataframe\">\n",
              "  <thead>\n",
              "    <tr style=\"text-align: right;\">\n",
              "      <th></th>\n",
              "      <th>Дата</th>\n",
              "      <th>Продажи</th>\n",
              "      <th>Остаток</th>\n",
              "      <th>Цена</th>\n",
              "      <th>Со скидкой и промо</th>\n",
              "      <th>Скидка</th>\n",
              "      <th>Цена со скидкой</th>\n",
              "      <th>Промокод</th>\n",
              "      <th>СПП</th>\n",
              "      <th>Цена с СПП</th>\n",
              "      <th>Сумма продаж</th>\n",
              "      <th>Комментариев</th>\n",
              "      <th>Рейтинг</th>\n",
              "    </tr>\n",
              "  </thead>\n",
              "  <tbody>\n",
              "    <tr>\n",
              "      <th>0</th>\n",
              "      <td>2022-06-16</td>\n",
              "      <td>NaN</td>\n",
              "      <td>NaN</td>\n",
              "      <td>NaN</td>\n",
              "      <td>NaN</td>\n",
              "      <td>NaN</td>\n",
              "      <td>NaN</td>\n",
              "      <td>NaN</td>\n",
              "      <td>NaN</td>\n",
              "      <td>NaN</td>\n",
              "      <td>NaN</td>\n",
              "      <td>NaN</td>\n",
              "      <td>NaN</td>\n",
              "    </tr>\n",
              "    <tr>\n",
              "      <th>1</th>\n",
              "      <td>2022-06-15</td>\n",
              "      <td>3</td>\n",
              "      <td>284.0</td>\n",
              "      <td>846.0</td>\n",
              "      <td>194.0</td>\n",
              "      <td>77.0</td>\n",
              "      <td>194.0</td>\n",
              "      <td>0.0</td>\n",
              "      <td>0.0</td>\n",
              "      <td>194.0</td>\n",
              "      <td>582</td>\n",
              "      <td>1651.0</td>\n",
              "      <td>4.0</td>\n",
              "    </tr>\n",
              "    <tr>\n",
              "      <th>2</th>\n",
              "      <td>2022-06-14</td>\n",
              "      <td>1</td>\n",
              "      <td>286.0</td>\n",
              "      <td>846.0</td>\n",
              "      <td>194.0</td>\n",
              "      <td>77.0</td>\n",
              "      <td>194.0</td>\n",
              "      <td>0.0</td>\n",
              "      <td>0.0</td>\n",
              "      <td>194.0</td>\n",
              "      <td>194</td>\n",
              "      <td>1650.0</td>\n",
              "      <td>4.0</td>\n",
              "    </tr>\n",
              "    <tr>\n",
              "      <th>3</th>\n",
              "      <td>2022-06-13</td>\n",
              "      <td>3</td>\n",
              "      <td>287.0</td>\n",
              "      <td>846.0</td>\n",
              "      <td>194.0</td>\n",
              "      <td>77.0</td>\n",
              "      <td>194.0</td>\n",
              "      <td>0.0</td>\n",
              "      <td>0.0</td>\n",
              "      <td>194.0</td>\n",
              "      <td>582</td>\n",
              "      <td>1648.0</td>\n",
              "      <td>4.0</td>\n",
              "    </tr>\n",
              "    <tr>\n",
              "      <th>4</th>\n",
              "      <td>2022-06-12</td>\n",
              "      <td>2</td>\n",
              "      <td>289.0</td>\n",
              "      <td>846.0</td>\n",
              "      <td>194.0</td>\n",
              "      <td>77.0</td>\n",
              "      <td>194.0</td>\n",
              "      <td>0.0</td>\n",
              "      <td>0.0</td>\n",
              "      <td>194.0</td>\n",
              "      <td>388</td>\n",
              "      <td>1645.0</td>\n",
              "      <td>4.0</td>\n",
              "    </tr>\n",
              "    <tr>\n",
              "      <th>...</th>\n",
              "      <td>...</td>\n",
              "      <td>...</td>\n",
              "      <td>...</td>\n",
              "      <td>...</td>\n",
              "      <td>...</td>\n",
              "      <td>...</td>\n",
              "      <td>...</td>\n",
              "      <td>...</td>\n",
              "      <td>...</td>\n",
              "      <td>...</td>\n",
              "      <td>...</td>\n",
              "      <td>...</td>\n",
              "      <td>...</td>\n",
              "    </tr>\n",
              "    <tr>\n",
              "      <th>95</th>\n",
              "      <td>Среднее (в день)</td>\n",
              "      <td>5 шт</td>\n",
              "      <td>NaN</td>\n",
              "      <td>NaN</td>\n",
              "      <td>NaN</td>\n",
              "      <td>NaN</td>\n",
              "      <td>NaN</td>\n",
              "      <td>NaN</td>\n",
              "      <td>NaN</td>\n",
              "      <td>NaN</td>\n",
              "      <td>935,59 ₽</td>\n",
              "      <td>NaN</td>\n",
              "      <td>NaN</td>\n",
              "    </tr>\n",
              "    <tr>\n",
              "      <th>96</th>\n",
              "      <td>Дней с наличием</td>\n",
              "      <td>93 дней</td>\n",
              "      <td>NaN</td>\n",
              "      <td>NaN</td>\n",
              "      <td>NaN</td>\n",
              "      <td>NaN</td>\n",
              "      <td>NaN</td>\n",
              "      <td>NaN</td>\n",
              "      <td>NaN</td>\n",
              "      <td>NaN</td>\n",
              "      <td>NaN</td>\n",
              "      <td>NaN</td>\n",
              "      <td>NaN</td>\n",
              "    </tr>\n",
              "    <tr>\n",
              "      <th>97</th>\n",
              "      <td>Среднее при наличии</td>\n",
              "      <td>5 шт</td>\n",
              "      <td>NaN</td>\n",
              "      <td>NaN</td>\n",
              "      <td>NaN</td>\n",
              "      <td>NaN</td>\n",
              "      <td>NaN</td>\n",
              "      <td>NaN</td>\n",
              "      <td>NaN</td>\n",
              "      <td>NaN</td>\n",
              "      <td>935,59 ₽</td>\n",
              "      <td>NaN</td>\n",
              "      <td>NaN</td>\n",
              "    </tr>\n",
              "    <tr>\n",
              "      <th>98</th>\n",
              "      <td>Потенциал</td>\n",
              "      <td>NaN</td>\n",
              "      <td>NaN</td>\n",
              "      <td>NaN</td>\n",
              "      <td>NaN</td>\n",
              "      <td>NaN</td>\n",
              "      <td>NaN</td>\n",
              "      <td>NaN</td>\n",
              "      <td>NaN</td>\n",
              "      <td>NaN</td>\n",
              "      <td>87 010,00 ₽</td>\n",
              "      <td>NaN</td>\n",
              "      <td>NaN</td>\n",
              "    </tr>\n",
              "    <tr>\n",
              "      <th>99</th>\n",
              "      <td>Упущенная выручка</td>\n",
              "      <td>NaN</td>\n",
              "      <td>NaN</td>\n",
              "      <td>NaN</td>\n",
              "      <td>NaN</td>\n",
              "      <td>NaN</td>\n",
              "      <td>NaN</td>\n",
              "      <td>NaN</td>\n",
              "      <td>NaN</td>\n",
              "      <td>NaN</td>\n",
              "      <td>0,00 ₽</td>\n",
              "      <td>NaN</td>\n",
              "      <td>NaN</td>\n",
              "    </tr>\n",
              "  </tbody>\n",
              "</table>\n",
              "<p>100 rows × 13 columns</p>\n",
              "</div>\n",
              "      <button class=\"colab-df-convert\" onclick=\"convertToInteractive('df-c611b957-8da3-4161-957f-fe1fd4d1ff7c')\"\n",
              "              title=\"Convert this dataframe to an interactive table.\"\n",
              "              style=\"display:none;\">\n",
              "        \n",
              "  <svg xmlns=\"http://www.w3.org/2000/svg\" height=\"24px\"viewBox=\"0 0 24 24\"\n",
              "       width=\"24px\">\n",
              "    <path d=\"M0 0h24v24H0V0z\" fill=\"none\"/>\n",
              "    <path d=\"M18.56 5.44l.94 2.06.94-2.06 2.06-.94-2.06-.94-.94-2.06-.94 2.06-2.06.94zm-11 1L8.5 8.5l.94-2.06 2.06-.94-2.06-.94L8.5 2.5l-.94 2.06-2.06.94zm10 10l.94 2.06.94-2.06 2.06-.94-2.06-.94-.94-2.06-.94 2.06-2.06.94z\"/><path d=\"M17.41 7.96l-1.37-1.37c-.4-.4-.92-.59-1.43-.59-.52 0-1.04.2-1.43.59L10.3 9.45l-7.72 7.72c-.78.78-.78 2.05 0 2.83L4 21.41c.39.39.9.59 1.41.59.51 0 1.02-.2 1.41-.59l7.78-7.78 2.81-2.81c.8-.78.8-2.07 0-2.86zM5.41 20L4 18.59l7.72-7.72 1.47 1.35L5.41 20z\"/>\n",
              "  </svg>\n",
              "      </button>\n",
              "      \n",
              "  <style>\n",
              "    .colab-df-container {\n",
              "      display:flex;\n",
              "      flex-wrap:wrap;\n",
              "      gap: 12px;\n",
              "    }\n",
              "\n",
              "    .colab-df-convert {\n",
              "      background-color: #E8F0FE;\n",
              "      border: none;\n",
              "      border-radius: 50%;\n",
              "      cursor: pointer;\n",
              "      display: none;\n",
              "      fill: #1967D2;\n",
              "      height: 32px;\n",
              "      padding: 0 0 0 0;\n",
              "      width: 32px;\n",
              "    }\n",
              "\n",
              "    .colab-df-convert:hover {\n",
              "      background-color: #E2EBFA;\n",
              "      box-shadow: 0px 1px 2px rgba(60, 64, 67, 0.3), 0px 1px 3px 1px rgba(60, 64, 67, 0.15);\n",
              "      fill: #174EA6;\n",
              "    }\n",
              "\n",
              "    [theme=dark] .colab-df-convert {\n",
              "      background-color: #3B4455;\n",
              "      fill: #D2E3FC;\n",
              "    }\n",
              "\n",
              "    [theme=dark] .colab-df-convert:hover {\n",
              "      background-color: #434B5C;\n",
              "      box-shadow: 0px 1px 3px 1px rgba(0, 0, 0, 0.15);\n",
              "      filter: drop-shadow(0px 1px 2px rgba(0, 0, 0, 0.3));\n",
              "      fill: #FFFFFF;\n",
              "    }\n",
              "  </style>\n",
              "\n",
              "      <script>\n",
              "        const buttonEl =\n",
              "          document.querySelector('#df-c611b957-8da3-4161-957f-fe1fd4d1ff7c button.colab-df-convert');\n",
              "        buttonEl.style.display =\n",
              "          google.colab.kernel.accessAllowed ? 'block' : 'none';\n",
              "\n",
              "        async function convertToInteractive(key) {\n",
              "          const element = document.querySelector('#df-c611b957-8da3-4161-957f-fe1fd4d1ff7c');\n",
              "          const dataTable =\n",
              "            await google.colab.kernel.invokeFunction('convertToInteractive',\n",
              "                                                     [key], {});\n",
              "          if (!dataTable) return;\n",
              "\n",
              "          const docLinkHtml = 'Like what you see? Visit the ' +\n",
              "            '<a target=\"_blank\" href=https://colab.research.google.com/notebooks/data_table.ipynb>data table notebook</a>'\n",
              "            + ' to learn more about interactive tables.';\n",
              "          element.innerHTML = '';\n",
              "          dataTable['output_type'] = 'display_data';\n",
              "          await google.colab.output.renderOutput(dataTable, element);\n",
              "          const docLink = document.createElement('div');\n",
              "          docLink.innerHTML = docLinkHtml;\n",
              "          element.appendChild(docLink);\n",
              "        }\n",
              "      </script>\n",
              "    </div>\n",
              "  </div>\n",
              "  "
            ]
          },
          "metadata": {},
          "execution_count": 90
        }
      ]
    },
    {
      "cell_type": "markdown",
      "source": [
        "Данные за период с 15.03.2022 по 15.06.2022 "
      ],
      "metadata": {
        "id": "IMqL9Jye18Jn"
      }
    },
    {
      "cell_type": "code",
      "source": [
        "data = data[1:94]"
      ],
      "metadata": {
        "id": "0f22QH_f66Be"
      },
      "execution_count": 91,
      "outputs": []
    },
    {
      "cell_type": "code",
      "source": [
        "data.duplicated().sum()"
      ],
      "metadata": {
        "colab": {
          "base_uri": "https://localhost:8080/"
        },
        "id": "eEUu_hf3LV5T",
        "outputId": "05478603-a9af-4297-a55f-7f3ddbfdb02f"
      },
      "execution_count": 92,
      "outputs": [
        {
          "output_type": "execute_result",
          "data": {
            "text/plain": [
              "0"
            ]
          },
          "metadata": {},
          "execution_count": 92
        }
      ]
    },
    {
      "cell_type": "code",
      "source": [
        "data.info()"
      ],
      "metadata": {
        "colab": {
          "base_uri": "https://localhost:8080/"
        },
        "id": "GQ78TCOm7BmF",
        "outputId": "e5471cfd-a6df-4c26-89c7-4ada472a917c"
      },
      "execution_count": 93,
      "outputs": [
        {
          "output_type": "stream",
          "name": "stdout",
          "text": [
            "<class 'pandas.core.frame.DataFrame'>\n",
            "RangeIndex: 93 entries, 1 to 93\n",
            "Data columns (total 13 columns):\n",
            " #   Column              Non-Null Count  Dtype  \n",
            "---  ------              --------------  -----  \n",
            " 0   Дата                93 non-null     object \n",
            " 1   Продажи             93 non-null     object \n",
            " 2   Остаток             93 non-null     float64\n",
            " 3   Цена                93 non-null     float64\n",
            " 4   Со скидкой и промо  93 non-null     float64\n",
            " 5   Скидка              93 non-null     float64\n",
            " 6   Цена со скидкой     93 non-null     float64\n",
            " 7   Промокод            93 non-null     float64\n",
            " 8   СПП                 93 non-null     float64\n",
            " 9   Цена с СПП          93 non-null     float64\n",
            " 10  Сумма продаж        93 non-null     object \n",
            " 11  Комментариев        93 non-null     float64\n",
            " 12  Рейтинг             93 non-null     float64\n",
            "dtypes: float64(10), object(3)\n",
            "memory usage: 9.6+ KB\n"
          ]
        }
      ]
    },
    {
      "cell_type": "code",
      "source": [
        "data['Дата'] = pd.to_datetime(data['Дата'], format='%Y-%m-%d')"
      ],
      "metadata": {
        "colab": {
          "base_uri": "https://localhost:8080/"
        },
        "id": "KiPnhPSP7DW1",
        "outputId": "b724d3be-8505-4889-b4d5-a3c901de3687"
      },
      "execution_count": 94,
      "outputs": [
        {
          "output_type": "stream",
          "name": "stderr",
          "text": [
            "/usr/local/lib/python3.7/dist-packages/ipykernel_launcher.py:1: SettingWithCopyWarning: \n",
            "A value is trying to be set on a copy of a slice from a DataFrame.\n",
            "Try using .loc[row_indexer,col_indexer] = value instead\n",
            "\n",
            "See the caveats in the documentation: https://pandas.pydata.org/pandas-docs/stable/user_guide/indexing.html#returning-a-view-versus-a-copy\n",
            "  \"\"\"Entry point for launching an IPython kernel.\n"
          ]
        }
      ]
    },
    {
      "cell_type": "code",
      "source": [
        "data = data.sort_values(by='Дата')"
      ],
      "metadata": {
        "id": "O2YfjfFI8HSA"
      },
      "execution_count": 95,
      "outputs": []
    },
    {
      "cell_type": "code",
      "source": [
        "data = data.set_index('Дата')"
      ],
      "metadata": {
        "id": "47OJfd3h8XJJ"
      },
      "execution_count": 96,
      "outputs": []
    },
    {
      "cell_type": "code",
      "source": [
        "data['Продажи'] = data['Продажи'].astype('int')\n",
        "data['Сумма продаж'] = data['Сумма продаж'].astype('float64')"
      ],
      "metadata": {
        "id": "S2EVPddVED5N"
      },
      "execution_count": 97,
      "outputs": []
    },
    {
      "cell_type": "code",
      "source": [
        "data.describe()"
      ],
      "metadata": {
        "colab": {
          "base_uri": "https://localhost:8080/",
          "height": 399
        },
        "id": "6YfbaavNKs6d",
        "outputId": "847c131f-275e-47a9-a08f-78fdd54818e2"
      },
      "execution_count": 99,
      "outputs": [
        {
          "output_type": "execute_result",
          "data": {
            "text/plain": [
              "         Продажи     Остаток        Цена  Со скидкой и промо     Скидка  \\\n",
              "count  93.000000   93.000000   93.000000           93.000000  93.000000   \n",
              "mean    4.752688  241.204301  780.795699          206.311828  73.408602   \n",
              "std     3.390062   72.651575   87.337745           26.231817   2.743516   \n",
              "min     0.000000   94.000000  675.000000          189.000000  67.000000   \n",
              "25%     2.000000  188.000000  675.000000          189.000000  72.000000   \n",
              "50%     4.000000  234.000000  846.000000          194.000000  72.000000   \n",
              "75%     7.000000  301.000000  846.000000          236.000000  77.000000   \n",
              "max    15.000000  361.000000  960.000000          279.000000  77.000000   \n",
              "\n",
              "       Цена со скидкой  Промокод   СПП  Цена с СПП  Сумма продаж  \\\n",
              "count        93.000000      93.0  93.0   93.000000     93.000000   \n",
              "mean        206.311828       0.0   0.0  206.311828    935.591398   \n",
              "std          26.231817       0.0   0.0   26.231817    625.456064   \n",
              "min         189.000000       0.0   0.0  189.000000      0.000000   \n",
              "25%         189.000000       0.0   0.0  189.000000    472.000000   \n",
              "50%         194.000000       0.0   0.0  194.000000    792.000000   \n",
              "75%         236.000000       0.0   0.0  236.000000   1323.000000   \n",
              "max         279.000000       0.0   0.0  279.000000   2835.000000   \n",
              "\n",
              "       Комментариев  Рейтинг  \n",
              "count     93.000000     93.0  \n",
              "mean    1604.752688      4.0  \n",
              "std       34.833971      0.0  \n",
              "min     1540.000000      4.0  \n",
              "25%     1576.000000      4.0  \n",
              "50%     1620.000000      4.0  \n",
              "75%     1631.000000      4.0  \n",
              "max     1651.000000      4.0  "
            ],
            "text/html": [
              "\n",
              "  <div id=\"df-5a1e661a-5a6d-440c-a3f6-8dfab6f1eb90\">\n",
              "    <div class=\"colab-df-container\">\n",
              "      <div>\n",
              "<style scoped>\n",
              "    .dataframe tbody tr th:only-of-type {\n",
              "        vertical-align: middle;\n",
              "    }\n",
              "\n",
              "    .dataframe tbody tr th {\n",
              "        vertical-align: top;\n",
              "    }\n",
              "\n",
              "    .dataframe thead th {\n",
              "        text-align: right;\n",
              "    }\n",
              "</style>\n",
              "<table border=\"1\" class=\"dataframe\">\n",
              "  <thead>\n",
              "    <tr style=\"text-align: right;\">\n",
              "      <th></th>\n",
              "      <th>Продажи</th>\n",
              "      <th>Остаток</th>\n",
              "      <th>Цена</th>\n",
              "      <th>Со скидкой и промо</th>\n",
              "      <th>Скидка</th>\n",
              "      <th>Цена со скидкой</th>\n",
              "      <th>Промокод</th>\n",
              "      <th>СПП</th>\n",
              "      <th>Цена с СПП</th>\n",
              "      <th>Сумма продаж</th>\n",
              "      <th>Комментариев</th>\n",
              "      <th>Рейтинг</th>\n",
              "    </tr>\n",
              "  </thead>\n",
              "  <tbody>\n",
              "    <tr>\n",
              "      <th>count</th>\n",
              "      <td>93.000000</td>\n",
              "      <td>93.000000</td>\n",
              "      <td>93.000000</td>\n",
              "      <td>93.000000</td>\n",
              "      <td>93.000000</td>\n",
              "      <td>93.000000</td>\n",
              "      <td>93.0</td>\n",
              "      <td>93.0</td>\n",
              "      <td>93.000000</td>\n",
              "      <td>93.000000</td>\n",
              "      <td>93.000000</td>\n",
              "      <td>93.0</td>\n",
              "    </tr>\n",
              "    <tr>\n",
              "      <th>mean</th>\n",
              "      <td>4.752688</td>\n",
              "      <td>241.204301</td>\n",
              "      <td>780.795699</td>\n",
              "      <td>206.311828</td>\n",
              "      <td>73.408602</td>\n",
              "      <td>206.311828</td>\n",
              "      <td>0.0</td>\n",
              "      <td>0.0</td>\n",
              "      <td>206.311828</td>\n",
              "      <td>935.591398</td>\n",
              "      <td>1604.752688</td>\n",
              "      <td>4.0</td>\n",
              "    </tr>\n",
              "    <tr>\n",
              "      <th>std</th>\n",
              "      <td>3.390062</td>\n",
              "      <td>72.651575</td>\n",
              "      <td>87.337745</td>\n",
              "      <td>26.231817</td>\n",
              "      <td>2.743516</td>\n",
              "      <td>26.231817</td>\n",
              "      <td>0.0</td>\n",
              "      <td>0.0</td>\n",
              "      <td>26.231817</td>\n",
              "      <td>625.456064</td>\n",
              "      <td>34.833971</td>\n",
              "      <td>0.0</td>\n",
              "    </tr>\n",
              "    <tr>\n",
              "      <th>min</th>\n",
              "      <td>0.000000</td>\n",
              "      <td>94.000000</td>\n",
              "      <td>675.000000</td>\n",
              "      <td>189.000000</td>\n",
              "      <td>67.000000</td>\n",
              "      <td>189.000000</td>\n",
              "      <td>0.0</td>\n",
              "      <td>0.0</td>\n",
              "      <td>189.000000</td>\n",
              "      <td>0.000000</td>\n",
              "      <td>1540.000000</td>\n",
              "      <td>4.0</td>\n",
              "    </tr>\n",
              "    <tr>\n",
              "      <th>25%</th>\n",
              "      <td>2.000000</td>\n",
              "      <td>188.000000</td>\n",
              "      <td>675.000000</td>\n",
              "      <td>189.000000</td>\n",
              "      <td>72.000000</td>\n",
              "      <td>189.000000</td>\n",
              "      <td>0.0</td>\n",
              "      <td>0.0</td>\n",
              "      <td>189.000000</td>\n",
              "      <td>472.000000</td>\n",
              "      <td>1576.000000</td>\n",
              "      <td>4.0</td>\n",
              "    </tr>\n",
              "    <tr>\n",
              "      <th>50%</th>\n",
              "      <td>4.000000</td>\n",
              "      <td>234.000000</td>\n",
              "      <td>846.000000</td>\n",
              "      <td>194.000000</td>\n",
              "      <td>72.000000</td>\n",
              "      <td>194.000000</td>\n",
              "      <td>0.0</td>\n",
              "      <td>0.0</td>\n",
              "      <td>194.000000</td>\n",
              "      <td>792.000000</td>\n",
              "      <td>1620.000000</td>\n",
              "      <td>4.0</td>\n",
              "    </tr>\n",
              "    <tr>\n",
              "      <th>75%</th>\n",
              "      <td>7.000000</td>\n",
              "      <td>301.000000</td>\n",
              "      <td>846.000000</td>\n",
              "      <td>236.000000</td>\n",
              "      <td>77.000000</td>\n",
              "      <td>236.000000</td>\n",
              "      <td>0.0</td>\n",
              "      <td>0.0</td>\n",
              "      <td>236.000000</td>\n",
              "      <td>1323.000000</td>\n",
              "      <td>1631.000000</td>\n",
              "      <td>4.0</td>\n",
              "    </tr>\n",
              "    <tr>\n",
              "      <th>max</th>\n",
              "      <td>15.000000</td>\n",
              "      <td>361.000000</td>\n",
              "      <td>960.000000</td>\n",
              "      <td>279.000000</td>\n",
              "      <td>77.000000</td>\n",
              "      <td>279.000000</td>\n",
              "      <td>0.0</td>\n",
              "      <td>0.0</td>\n",
              "      <td>279.000000</td>\n",
              "      <td>2835.000000</td>\n",
              "      <td>1651.000000</td>\n",
              "      <td>4.0</td>\n",
              "    </tr>\n",
              "  </tbody>\n",
              "</table>\n",
              "</div>\n",
              "      <button class=\"colab-df-convert\" onclick=\"convertToInteractive('df-5a1e661a-5a6d-440c-a3f6-8dfab6f1eb90')\"\n",
              "              title=\"Convert this dataframe to an interactive table.\"\n",
              "              style=\"display:none;\">\n",
              "        \n",
              "  <svg xmlns=\"http://www.w3.org/2000/svg\" height=\"24px\"viewBox=\"0 0 24 24\"\n",
              "       width=\"24px\">\n",
              "    <path d=\"M0 0h24v24H0V0z\" fill=\"none\"/>\n",
              "    <path d=\"M18.56 5.44l.94 2.06.94-2.06 2.06-.94-2.06-.94-.94-2.06-.94 2.06-2.06.94zm-11 1L8.5 8.5l.94-2.06 2.06-.94-2.06-.94L8.5 2.5l-.94 2.06-2.06.94zm10 10l.94 2.06.94-2.06 2.06-.94-2.06-.94-.94-2.06-.94 2.06-2.06.94z\"/><path d=\"M17.41 7.96l-1.37-1.37c-.4-.4-.92-.59-1.43-.59-.52 0-1.04.2-1.43.59L10.3 9.45l-7.72 7.72c-.78.78-.78 2.05 0 2.83L4 21.41c.39.39.9.59 1.41.59.51 0 1.02-.2 1.41-.59l7.78-7.78 2.81-2.81c.8-.78.8-2.07 0-2.86zM5.41 20L4 18.59l7.72-7.72 1.47 1.35L5.41 20z\"/>\n",
              "  </svg>\n",
              "      </button>\n",
              "      \n",
              "  <style>\n",
              "    .colab-df-container {\n",
              "      display:flex;\n",
              "      flex-wrap:wrap;\n",
              "      gap: 12px;\n",
              "    }\n",
              "\n",
              "    .colab-df-convert {\n",
              "      background-color: #E8F0FE;\n",
              "      border: none;\n",
              "      border-radius: 50%;\n",
              "      cursor: pointer;\n",
              "      display: none;\n",
              "      fill: #1967D2;\n",
              "      height: 32px;\n",
              "      padding: 0 0 0 0;\n",
              "      width: 32px;\n",
              "    }\n",
              "\n",
              "    .colab-df-convert:hover {\n",
              "      background-color: #E2EBFA;\n",
              "      box-shadow: 0px 1px 2px rgba(60, 64, 67, 0.3), 0px 1px 3px 1px rgba(60, 64, 67, 0.15);\n",
              "      fill: #174EA6;\n",
              "    }\n",
              "\n",
              "    [theme=dark] .colab-df-convert {\n",
              "      background-color: #3B4455;\n",
              "      fill: #D2E3FC;\n",
              "    }\n",
              "\n",
              "    [theme=dark] .colab-df-convert:hover {\n",
              "      background-color: #434B5C;\n",
              "      box-shadow: 0px 1px 3px 1px rgba(0, 0, 0, 0.15);\n",
              "      filter: drop-shadow(0px 1px 2px rgba(0, 0, 0, 0.3));\n",
              "      fill: #FFFFFF;\n",
              "    }\n",
              "  </style>\n",
              "\n",
              "      <script>\n",
              "        const buttonEl =\n",
              "          document.querySelector('#df-5a1e661a-5a6d-440c-a3f6-8dfab6f1eb90 button.colab-df-convert');\n",
              "        buttonEl.style.display =\n",
              "          google.colab.kernel.accessAllowed ? 'block' : 'none';\n",
              "\n",
              "        async function convertToInteractive(key) {\n",
              "          const element = document.querySelector('#df-5a1e661a-5a6d-440c-a3f6-8dfab6f1eb90');\n",
              "          const dataTable =\n",
              "            await google.colab.kernel.invokeFunction('convertToInteractive',\n",
              "                                                     [key], {});\n",
              "          if (!dataTable) return;\n",
              "\n",
              "          const docLinkHtml = 'Like what you see? Visit the ' +\n",
              "            '<a target=\"_blank\" href=https://colab.research.google.com/notebooks/data_table.ipynb>data table notebook</a>'\n",
              "            + ' to learn more about interactive tables.';\n",
              "          element.innerHTML = '';\n",
              "          dataTable['output_type'] = 'display_data';\n",
              "          await google.colab.output.renderOutput(dataTable, element);\n",
              "          const docLink = document.createElement('div');\n",
              "          docLink.innerHTML = docLinkHtml;\n",
              "          element.appendChild(docLink);\n",
              "        }\n",
              "      </script>\n",
              "    </div>\n",
              "  </div>\n",
              "  "
            ]
          },
          "metadata": {},
          "execution_count": 99
        }
      ]
    },
    {
      "cell_type": "code",
      "source": [
        "data = data.drop(['Со скидкой и промо', 'Промокод', 'СПП', 'Цена с СПП'], axis=1)"
      ],
      "metadata": {
        "id": "iW4s-_ZEKhne"
      },
      "execution_count": 100,
      "outputs": []
    },
    {
      "cell_type": "code",
      "source": [
        "data.info()"
      ],
      "metadata": {
        "colab": {
          "base_uri": "https://localhost:8080/"
        },
        "id": "_6-2g3HRI5hk",
        "outputId": "50ad647f-8a82-4666-8688-20026a799cbf"
      },
      "execution_count": 101,
      "outputs": [
        {
          "output_type": "stream",
          "name": "stdout",
          "text": [
            "<class 'pandas.core.frame.DataFrame'>\n",
            "DatetimeIndex: 93 entries, 2022-03-15 to 2022-06-15\n",
            "Data columns (total 8 columns):\n",
            " #   Column           Non-Null Count  Dtype  \n",
            "---  ------           --------------  -----  \n",
            " 0   Продажи          93 non-null     int64  \n",
            " 1   Остаток          93 non-null     float64\n",
            " 2   Цена             93 non-null     float64\n",
            " 3   Скидка           93 non-null     float64\n",
            " 4   Цена со скидкой  93 non-null     float64\n",
            " 5   Сумма продаж     93 non-null     float64\n",
            " 6   Комментариев     93 non-null     float64\n",
            " 7   Рейтинг          93 non-null     float64\n",
            "dtypes: float64(7), int64(1)\n",
            "memory usage: 6.5 KB\n"
          ]
        }
      ]
    },
    {
      "cell_type": "code",
      "source": [
        "data.isna().sum()"
      ],
      "metadata": {
        "colab": {
          "base_uri": "https://localhost:8080/"
        },
        "id": "K56m0ZeqK11z",
        "outputId": "e1bc4cdf-77ee-47a8-8174-69a4b4153e9a"
      },
      "execution_count": 14,
      "outputs": [
        {
          "output_type": "execute_result",
          "data": {
            "text/plain": [
              "Продажи            0\n",
              "Остаток            0\n",
              "Цена               0\n",
              "Скидка             0\n",
              "Цена со скидкой    0\n",
              "Сумма продаж       0\n",
              "Комментариев       0\n",
              "Рейтинг            0\n",
              "dtype: int64"
            ]
          },
          "metadata": {},
          "execution_count": 14
        }
      ]
    },
    {
      "cell_type": "code",
      "source": [
        "data"
      ],
      "metadata": {
        "colab": {
          "base_uri": "https://localhost:8080/",
          "height": 455
        },
        "id": "IVwyXcjNJUgG",
        "outputId": "28cd3789-a499-47cd-e123-113edca49800"
      },
      "execution_count": 16,
      "outputs": [
        {
          "output_type": "execute_result",
          "data": {
            "text/plain": [
              "            Продажи  Остаток   Цена  Скидка  Цена со скидкой  Сумма продаж  \\\n",
              "Дата                                                                         \n",
              "2022-03-15        4    155.0  675.0    72.0            189.0         756.0   \n",
              "2022-03-16        9    146.0  675.0    72.0            189.0        1701.0   \n",
              "2022-03-17        8    138.0  675.0    72.0            189.0        1512.0   \n",
              "2022-03-18       12    127.0  675.0    72.0            189.0        2268.0   \n",
              "2022-03-19        7    120.0  675.0    72.0            189.0        1323.0   \n",
              "...             ...      ...    ...     ...              ...           ...   \n",
              "2022-06-11        0    291.0  846.0    77.0            194.0           0.0   \n",
              "2022-06-12        2    289.0  846.0    77.0            194.0         388.0   \n",
              "2022-06-13        3    287.0  846.0    77.0            194.0         582.0   \n",
              "2022-06-14        1    286.0  846.0    77.0            194.0         194.0   \n",
              "2022-06-15        3    284.0  846.0    77.0            194.0         582.0   \n",
              "\n",
              "            Комментариев  Рейтинг  \n",
              "Дата                               \n",
              "2022-03-15        1540.0      4.0  \n",
              "2022-03-16        1540.0      4.0  \n",
              "2022-03-17        1540.0      4.0  \n",
              "2022-03-18        1540.0      4.0  \n",
              "2022-03-19        1540.0      4.0  \n",
              "...                  ...      ...  \n",
              "2022-06-11        1645.0      4.0  \n",
              "2022-06-12        1645.0      4.0  \n",
              "2022-06-13        1648.0      4.0  \n",
              "2022-06-14        1650.0      4.0  \n",
              "2022-06-15        1651.0      4.0  \n",
              "\n",
              "[93 rows x 8 columns]"
            ],
            "text/html": [
              "\n",
              "  <div id=\"df-b5ebb80c-1fef-4342-bc26-7b09415bdfb5\">\n",
              "    <div class=\"colab-df-container\">\n",
              "      <div>\n",
              "<style scoped>\n",
              "    .dataframe tbody tr th:only-of-type {\n",
              "        vertical-align: middle;\n",
              "    }\n",
              "\n",
              "    .dataframe tbody tr th {\n",
              "        vertical-align: top;\n",
              "    }\n",
              "\n",
              "    .dataframe thead th {\n",
              "        text-align: right;\n",
              "    }\n",
              "</style>\n",
              "<table border=\"1\" class=\"dataframe\">\n",
              "  <thead>\n",
              "    <tr style=\"text-align: right;\">\n",
              "      <th></th>\n",
              "      <th>Продажи</th>\n",
              "      <th>Остаток</th>\n",
              "      <th>Цена</th>\n",
              "      <th>Скидка</th>\n",
              "      <th>Цена со скидкой</th>\n",
              "      <th>Сумма продаж</th>\n",
              "      <th>Комментариев</th>\n",
              "      <th>Рейтинг</th>\n",
              "    </tr>\n",
              "    <tr>\n",
              "      <th>Дата</th>\n",
              "      <th></th>\n",
              "      <th></th>\n",
              "      <th></th>\n",
              "      <th></th>\n",
              "      <th></th>\n",
              "      <th></th>\n",
              "      <th></th>\n",
              "      <th></th>\n",
              "    </tr>\n",
              "  </thead>\n",
              "  <tbody>\n",
              "    <tr>\n",
              "      <th>2022-03-15</th>\n",
              "      <td>4</td>\n",
              "      <td>155.0</td>\n",
              "      <td>675.0</td>\n",
              "      <td>72.0</td>\n",
              "      <td>189.0</td>\n",
              "      <td>756.0</td>\n",
              "      <td>1540.0</td>\n",
              "      <td>4.0</td>\n",
              "    </tr>\n",
              "    <tr>\n",
              "      <th>2022-03-16</th>\n",
              "      <td>9</td>\n",
              "      <td>146.0</td>\n",
              "      <td>675.0</td>\n",
              "      <td>72.0</td>\n",
              "      <td>189.0</td>\n",
              "      <td>1701.0</td>\n",
              "      <td>1540.0</td>\n",
              "      <td>4.0</td>\n",
              "    </tr>\n",
              "    <tr>\n",
              "      <th>2022-03-17</th>\n",
              "      <td>8</td>\n",
              "      <td>138.0</td>\n",
              "      <td>675.0</td>\n",
              "      <td>72.0</td>\n",
              "      <td>189.0</td>\n",
              "      <td>1512.0</td>\n",
              "      <td>1540.0</td>\n",
              "      <td>4.0</td>\n",
              "    </tr>\n",
              "    <tr>\n",
              "      <th>2022-03-18</th>\n",
              "      <td>12</td>\n",
              "      <td>127.0</td>\n",
              "      <td>675.0</td>\n",
              "      <td>72.0</td>\n",
              "      <td>189.0</td>\n",
              "      <td>2268.0</td>\n",
              "      <td>1540.0</td>\n",
              "      <td>4.0</td>\n",
              "    </tr>\n",
              "    <tr>\n",
              "      <th>2022-03-19</th>\n",
              "      <td>7</td>\n",
              "      <td>120.0</td>\n",
              "      <td>675.0</td>\n",
              "      <td>72.0</td>\n",
              "      <td>189.0</td>\n",
              "      <td>1323.0</td>\n",
              "      <td>1540.0</td>\n",
              "      <td>4.0</td>\n",
              "    </tr>\n",
              "    <tr>\n",
              "      <th>...</th>\n",
              "      <td>...</td>\n",
              "      <td>...</td>\n",
              "      <td>...</td>\n",
              "      <td>...</td>\n",
              "      <td>...</td>\n",
              "      <td>...</td>\n",
              "      <td>...</td>\n",
              "      <td>...</td>\n",
              "    </tr>\n",
              "    <tr>\n",
              "      <th>2022-06-11</th>\n",
              "      <td>0</td>\n",
              "      <td>291.0</td>\n",
              "      <td>846.0</td>\n",
              "      <td>77.0</td>\n",
              "      <td>194.0</td>\n",
              "      <td>0.0</td>\n",
              "      <td>1645.0</td>\n",
              "      <td>4.0</td>\n",
              "    </tr>\n",
              "    <tr>\n",
              "      <th>2022-06-12</th>\n",
              "      <td>2</td>\n",
              "      <td>289.0</td>\n",
              "      <td>846.0</td>\n",
              "      <td>77.0</td>\n",
              "      <td>194.0</td>\n",
              "      <td>388.0</td>\n",
              "      <td>1645.0</td>\n",
              "      <td>4.0</td>\n",
              "    </tr>\n",
              "    <tr>\n",
              "      <th>2022-06-13</th>\n",
              "      <td>3</td>\n",
              "      <td>287.0</td>\n",
              "      <td>846.0</td>\n",
              "      <td>77.0</td>\n",
              "      <td>194.0</td>\n",
              "      <td>582.0</td>\n",
              "      <td>1648.0</td>\n",
              "      <td>4.0</td>\n",
              "    </tr>\n",
              "    <tr>\n",
              "      <th>2022-06-14</th>\n",
              "      <td>1</td>\n",
              "      <td>286.0</td>\n",
              "      <td>846.0</td>\n",
              "      <td>77.0</td>\n",
              "      <td>194.0</td>\n",
              "      <td>194.0</td>\n",
              "      <td>1650.0</td>\n",
              "      <td>4.0</td>\n",
              "    </tr>\n",
              "    <tr>\n",
              "      <th>2022-06-15</th>\n",
              "      <td>3</td>\n",
              "      <td>284.0</td>\n",
              "      <td>846.0</td>\n",
              "      <td>77.0</td>\n",
              "      <td>194.0</td>\n",
              "      <td>582.0</td>\n",
              "      <td>1651.0</td>\n",
              "      <td>4.0</td>\n",
              "    </tr>\n",
              "  </tbody>\n",
              "</table>\n",
              "<p>93 rows × 8 columns</p>\n",
              "</div>\n",
              "      <button class=\"colab-df-convert\" onclick=\"convertToInteractive('df-b5ebb80c-1fef-4342-bc26-7b09415bdfb5')\"\n",
              "              title=\"Convert this dataframe to an interactive table.\"\n",
              "              style=\"display:none;\">\n",
              "        \n",
              "  <svg xmlns=\"http://www.w3.org/2000/svg\" height=\"24px\"viewBox=\"0 0 24 24\"\n",
              "       width=\"24px\">\n",
              "    <path d=\"M0 0h24v24H0V0z\" fill=\"none\"/>\n",
              "    <path d=\"M18.56 5.44l.94 2.06.94-2.06 2.06-.94-2.06-.94-.94-2.06-.94 2.06-2.06.94zm-11 1L8.5 8.5l.94-2.06 2.06-.94-2.06-.94L8.5 2.5l-.94 2.06-2.06.94zm10 10l.94 2.06.94-2.06 2.06-.94-2.06-.94-.94-2.06-.94 2.06-2.06.94z\"/><path d=\"M17.41 7.96l-1.37-1.37c-.4-.4-.92-.59-1.43-.59-.52 0-1.04.2-1.43.59L10.3 9.45l-7.72 7.72c-.78.78-.78 2.05 0 2.83L4 21.41c.39.39.9.59 1.41.59.51 0 1.02-.2 1.41-.59l7.78-7.78 2.81-2.81c.8-.78.8-2.07 0-2.86zM5.41 20L4 18.59l7.72-7.72 1.47 1.35L5.41 20z\"/>\n",
              "  </svg>\n",
              "      </button>\n",
              "      \n",
              "  <style>\n",
              "    .colab-df-container {\n",
              "      display:flex;\n",
              "      flex-wrap:wrap;\n",
              "      gap: 12px;\n",
              "    }\n",
              "\n",
              "    .colab-df-convert {\n",
              "      background-color: #E8F0FE;\n",
              "      border: none;\n",
              "      border-radius: 50%;\n",
              "      cursor: pointer;\n",
              "      display: none;\n",
              "      fill: #1967D2;\n",
              "      height: 32px;\n",
              "      padding: 0 0 0 0;\n",
              "      width: 32px;\n",
              "    }\n",
              "\n",
              "    .colab-df-convert:hover {\n",
              "      background-color: #E2EBFA;\n",
              "      box-shadow: 0px 1px 2px rgba(60, 64, 67, 0.3), 0px 1px 3px 1px rgba(60, 64, 67, 0.15);\n",
              "      fill: #174EA6;\n",
              "    }\n",
              "\n",
              "    [theme=dark] .colab-df-convert {\n",
              "      background-color: #3B4455;\n",
              "      fill: #D2E3FC;\n",
              "    }\n",
              "\n",
              "    [theme=dark] .colab-df-convert:hover {\n",
              "      background-color: #434B5C;\n",
              "      box-shadow: 0px 1px 3px 1px rgba(0, 0, 0, 0.15);\n",
              "      filter: drop-shadow(0px 1px 2px rgba(0, 0, 0, 0.3));\n",
              "      fill: #FFFFFF;\n",
              "    }\n",
              "  </style>\n",
              "\n",
              "      <script>\n",
              "        const buttonEl =\n",
              "          document.querySelector('#df-b5ebb80c-1fef-4342-bc26-7b09415bdfb5 button.colab-df-convert');\n",
              "        buttonEl.style.display =\n",
              "          google.colab.kernel.accessAllowed ? 'block' : 'none';\n",
              "\n",
              "        async function convertToInteractive(key) {\n",
              "          const element = document.querySelector('#df-b5ebb80c-1fef-4342-bc26-7b09415bdfb5');\n",
              "          const dataTable =\n",
              "            await google.colab.kernel.invokeFunction('convertToInteractive',\n",
              "                                                     [key], {});\n",
              "          if (!dataTable) return;\n",
              "\n",
              "          const docLinkHtml = 'Like what you see? Visit the ' +\n",
              "            '<a target=\"_blank\" href=https://colab.research.google.com/notebooks/data_table.ipynb>data table notebook</a>'\n",
              "            + ' to learn more about interactive tables.';\n",
              "          element.innerHTML = '';\n",
              "          dataTable['output_type'] = 'display_data';\n",
              "          await google.colab.output.renderOutput(dataTable, element);\n",
              "          const docLink = document.createElement('div');\n",
              "          docLink.innerHTML = docLinkHtml;\n",
              "          element.appendChild(docLink);\n",
              "        }\n",
              "      </script>\n",
              "    </div>\n",
              "  </div>\n",
              "  "
            ]
          },
          "metadata": {},
          "execution_count": 16
        }
      ]
    },
    {
      "cell_type": "code",
      "source": [
        "data['Продажи'].plot(figsize=(15,5))"
      ],
      "metadata": {
        "colab": {
          "base_uri": "https://localhost:8080/",
          "height": 357
        },
        "id": "KZSA5gbMKAmC",
        "outputId": "b0ae47a5-394f-429f-fb9a-6dda1b06ef60"
      },
      "execution_count": 17,
      "outputs": [
        {
          "output_type": "execute_result",
          "data": {
            "text/plain": [
              "<matplotlib.axes._subplots.AxesSubplot at 0x7f83e9419f90>"
            ]
          },
          "metadata": {},
          "execution_count": 17
        },
        {
          "output_type": "display_data",
          "data": {
            "text/plain": [
              "<Figure size 1080x360 with 1 Axes>"
            ],
            "image/png": "[encoded data removed]"
          },
          "metadata": {
            "needs_background": "light"
          }
        }
      ]
    },
    {
      "cell_type": "markdown",
      "source": [
        "Проведем сезонную декомпозицию."
      ],
      "metadata": {
        "id": "MWkKGDT154zm"
      }
    },
    {
      "cell_type": "code",
      "source": [
        "decomposed = seasonal_decompose(data['Продажи'])"
      ],
      "metadata": {
        "id": "X8YZQdy0-Tvf"
      },
      "execution_count": 18,
      "outputs": []
    },
    {
      "cell_type": "code",
      "source": [
        "plt.figure(figsize=(10, 10))\n",
        "\n",
        "plt.subplot(311)\n",
        "decomposed.trend.plot(ax=plt.gca())\n",
        "plt.title('Тренд')\n",
        "\n",
        "plt.subplot(312)\n",
        "decomposed.seasonal.plot(ax=plt.gca()) \n",
        "plt.title('Сезонная составляющая')\n",
        "\n",
        "plt.subplot(313)\n",
        "decomposed.resid.plot(ax=plt.gca()) \n",
        "plt.title('Остаток декомпозиции')\n",
        "\n",
        "plt.tight_layout()"
      ],
      "metadata": {
        "colab": {
          "base_uri": "https://localhost:8080/",
          "height": 729
        },
        "id": "xwy5f0y0AW_b",
        "outputId": "9b7ee975-0dcc-4dd2-b4ad-681406fe7f71"
      },
      "execution_count": 19,
      "outputs": [
        {
          "output_type": "display_data",
          "data": {
            "text/plain": [
              "<Figure size 720x720 with 3 Axes>"
            ],
            "image/png": "[encoded data removed]"
          },
          "metadata": {
            "needs_background": "light"
          }
        }
      ]
    },
    {
      "cell_type": "code",
      "source": [
        "decomposed.seasonal['2022-03-15':'2022-04-15'].plot(figsize=(15, 4)) "
      ],
      "metadata": {
        "colab": {
          "base_uri": "https://localhost:8080/",
          "height": 323
        },
        "id": "M9oRyrqRW7Jz",
        "outputId": "1debf2e1-0a5d-4c41-ea4d-d2bd5b043bc9"
      },
      "execution_count": 20,
      "outputs": [
        {
          "output_type": "execute_result",
          "data": {
            "text/plain": [
              "<matplotlib.axes._subplots.AxesSubplot at 0x7f83e65313d0>"
            ]
          },
          "metadata": {},
          "execution_count": 20
        },
        {
          "output_type": "display_data",
          "data": {
            "text/plain": [
              "<Figure size 1080x288 with 1 Axes>"
            ],
            "image/png": "[encoded data removed]"
          },
          "metadata": {
            "needs_background": "light"
          }
        }
      ]
    },
    {
      "cell_type": "markdown",
      "source": [
        "Создадим новые признаки для пострения моделей машинного обучения: календарные (месяц, день, день недели), отстающие значения (до 7 дней), скользящее среднее."
      ],
      "metadata": {
        "id": "-PgsMMzfYHiO"
      }
    },
    {
      "cell_type": "code",
      "source": [
        "def make_features_new(data, max_lag, rolling_mean_size): # создание признаков\n",
        "\n",
        "    data_features = deepcopy(data)\n",
        "\n",
        "    data_features['month'] = data_features.index.month\n",
        "    data_features['day'] = data_features.index.day\n",
        "    data_features['dayofweek'] = data_features.index.dayofweek\n",
        "    \n",
        "    for lag in range(1, max_lag + 1):\n",
        "        data_features['lag_' + str(lag)] = data_features['Продажи'].shift(lag)\n",
        "\n",
        "    data_features['rolling_mean'] = data_features['Продажи'].shift().rolling(rolling_mean_size).mean()\n",
        "    \n",
        "    return data_features"
      ],
      "metadata": {
        "id": "2P-nhPIDXSqu"
      },
      "execution_count": 21,
      "outputs": []
    },
    {
      "cell_type": "code",
      "source": [
        "data_features = make_features_new(data, 7, 3)"
      ],
      "metadata": {
        "id": "jZui1850Ynmo"
      },
      "execution_count": 22,
      "outputs": []
    },
    {
      "cell_type": "code",
      "source": [
        "data_features.columns"
      ],
      "metadata": {
        "colab": {
          "base_uri": "https://localhost:8080/"
        },
        "id": "Lsj9-CDNZTJI",
        "outputId": "a67d0ef2-6284-476d-af22-a4ab3f0e974b"
      },
      "execution_count": 23,
      "outputs": [
        {
          "output_type": "execute_result",
          "data": {
            "text/plain": [
              "Index(['Продажи', 'Остаток', 'Цена', 'Скидка', 'Цена со скидкой',\n",
              "       'Сумма продаж', 'Комментариев', 'Рейтинг', 'month', 'day', 'dayofweek',\n",
              "       'lag_1', 'lag_2', 'lag_3', 'lag_4', 'lag_5', 'lag_6', 'lag_7',\n",
              "       'rolling_mean'],\n",
              "      dtype='object')"
            ]
          },
          "metadata": {},
          "execution_count": 23
        }
      ]
    },
    {
      "cell_type": "code",
      "source": [
        "data_features[['Продажи','lag_1', 'lag_2', 'lag_3', 'lag_4', 'lag_5', 'lag_6', 'lag_7',\n",
        "       'rolling_mean']].head(10)"
      ],
      "metadata": {
        "colab": {
          "base_uri": "https://localhost:8080/",
          "height": 395
        },
        "id": "-pdmutJiY58D",
        "outputId": "cbe305c4-aa1d-4d44-9fd9-fefad2541f42"
      },
      "execution_count": 24,
      "outputs": [
        {
          "output_type": "execute_result",
          "data": {
            "text/plain": [
              "            Продажи  lag_1  lag_2  lag_3  lag_4  lag_5  lag_6  lag_7  \\\n",
              "Дата                                                                   \n",
              "2022-03-15        4    NaN    NaN    NaN    NaN    NaN    NaN    NaN   \n",
              "2022-03-16        9    4.0    NaN    NaN    NaN    NaN    NaN    NaN   \n",
              "2022-03-17        8    9.0    4.0    NaN    NaN    NaN    NaN    NaN   \n",
              "2022-03-18       12    8.0    9.0    4.0    NaN    NaN    NaN    NaN   \n",
              "2022-03-19        7   12.0    8.0    9.0    4.0    NaN    NaN    NaN   \n",
              "2022-03-20        9    7.0   12.0    8.0    9.0    4.0    NaN    NaN   \n",
              "2022-03-21        5    9.0    7.0   12.0    8.0    9.0    4.0    NaN   \n",
              "2022-03-22       11    5.0    9.0    7.0   12.0    8.0    9.0    4.0   \n",
              "2022-03-23        6   11.0    5.0    9.0    7.0   12.0    8.0    9.0   \n",
              "2022-03-24        8    6.0   11.0    5.0    9.0    7.0   12.0    8.0   \n",
              "\n",
              "            rolling_mean  \n",
              "Дата                      \n",
              "2022-03-15           NaN  \n",
              "2022-03-16           NaN  \n",
              "2022-03-17           NaN  \n",
              "2022-03-18      7.000000  \n",
              "2022-03-19      9.666667  \n",
              "2022-03-20      9.000000  \n",
              "2022-03-21      9.333333  \n",
              "2022-03-22      7.000000  \n",
              "2022-03-23      8.333333  \n",
              "2022-03-24      7.333333  "
            ],
            "text/html": [
              "\n",
              "  <div id=\"df-e4ad1534-5b52-40e2-a70a-c7edecc5c8bb\">\n",
              "    <div class=\"colab-df-container\">\n",
              "      <div>\n",
              "<style scoped>\n",
              "    .dataframe tbody tr th:only-of-type {\n",
              "        vertical-align: middle;\n",
              "    }\n",
              "\n",
              "    .dataframe tbody tr th {\n",
              "        vertical-align: top;\n",
              "    }\n",
              "\n",
              "    .dataframe thead th {\n",
              "        text-align: right;\n",
              "    }\n",
              "</style>\n",
              "<table border=\"1\" class=\"dataframe\">\n",
              "  <thead>\n",
              "    <tr style=\"text-align: right;\">\n",
              "      <th></th>\n",
              "      <th>Продажи</th>\n",
              "      <th>lag_1</th>\n",
              "      <th>lag_2</th>\n",
              "      <th>lag_3</th>\n",
              "      <th>lag_4</th>\n",
              "      <th>lag_5</th>\n",
              "      <th>lag_6</th>\n",
              "      <th>lag_7</th>\n",
              "      <th>rolling_mean</th>\n",
              "    </tr>\n",
              "    <tr>\n",
              "      <th>Дата</th>\n",
              "      <th></th>\n",
              "      <th></th>\n",
              "      <th></th>\n",
              "      <th></th>\n",
              "      <th></th>\n",
              "      <th></th>\n",
              "      <th></th>\n",
              "      <th></th>\n",
              "      <th></th>\n",
              "    </tr>\n",
              "  </thead>\n",
              "  <tbody>\n",
              "    <tr>\n",
              "      <th>2022-03-15</th>\n",
              "      <td>4</td>\n",
              "      <td>NaN</td>\n",
              "      <td>NaN</td>\n",
              "      <td>NaN</td>\n",
              "      <td>NaN</td>\n",
              "      <td>NaN</td>\n",
              "      <td>NaN</td>\n",
              "      <td>NaN</td>\n",
              "      <td>NaN</td>\n",
              "    </tr>\n",
              "    <tr>\n",
              "      <th>2022-03-16</th>\n",
              "      <td>9</td>\n",
              "      <td>4.0</td>\n",
              "      <td>NaN</td>\n",
              "      <td>NaN</td>\n",
              "      <td>NaN</td>\n",
              "      <td>NaN</td>\n",
              "      <td>NaN</td>\n",
              "      <td>NaN</td>\n",
              "      <td>NaN</td>\n",
              "    </tr>\n",
              "    <tr>\n",
              "      <th>2022-03-17</th>\n",
              "      <td>8</td>\n",
              "      <td>9.0</td>\n",
              "      <td>4.0</td>\n",
              "      <td>NaN</td>\n",
              "      <td>NaN</td>\n",
              "      <td>NaN</td>\n",
              "      <td>NaN</td>\n",
              "      <td>NaN</td>\n",
              "      <td>NaN</td>\n",
              "    </tr>\n",
              "    <tr>\n",
              "      <th>2022-03-18</th>\n",
              "      <td>12</td>\n",
              "      <td>8.0</td>\n",
              "      <td>9.0</td>\n",
              "      <td>4.0</td>\n",
              "      <td>NaN</td>\n",
              "      <td>NaN</td>\n",
              "      <td>NaN</td>\n",
              "      <td>NaN</td>\n",
              "      <td>7.000000</td>\n",
              "    </tr>\n",
              "    <tr>\n",
              "      <th>2022-03-19</th>\n",
              "      <td>7</td>\n",
              "      <td>12.0</td>\n",
              "      <td>8.0</td>\n",
              "      <td>9.0</td>\n",
              "      <td>4.0</td>\n",
              "      <td>NaN</td>\n",
              "      <td>NaN</td>\n",
              "      <td>NaN</td>\n",
              "      <td>9.666667</td>\n",
              "    </tr>\n",
              "    <tr>\n",
              "      <th>2022-03-20</th>\n",
              "      <td>9</td>\n",
              "      <td>7.0</td>\n",
              "      <td>12.0</td>\n",
              "      <td>8.0</td>\n",
              "      <td>9.0</td>\n",
              "      <td>4.0</td>\n",
              "      <td>NaN</td>\n",
              "      <td>NaN</td>\n",
              "      <td>9.000000</td>\n",
              "    </tr>\n",
              "    <tr>\n",
              "      <th>2022-03-21</th>\n",
              "      <td>5</td>\n",
              "      <td>9.0</td>\n",
              "      <td>7.0</td>\n",
              "      <td>12.0</td>\n",
              "      <td>8.0</td>\n",
              "      <td>9.0</td>\n",
              "      <td>4.0</td>\n",
              "      <td>NaN</td>\n",
              "      <td>9.333333</td>\n",
              "    </tr>\n",
              "    <tr>\n",
              "      <th>2022-03-22</th>\n",
              "      <td>11</td>\n",
              "      <td>5.0</td>\n",
              "      <td>9.0</td>\n",
              "      <td>7.0</td>\n",
              "      <td>12.0</td>\n",
              "      <td>8.0</td>\n",
              "      <td>9.0</td>\n",
              "      <td>4.0</td>\n",
              "      <td>7.000000</td>\n",
              "    </tr>\n",
              "    <tr>\n",
              "      <th>2022-03-23</th>\n",
              "      <td>6</td>\n",
              "      <td>11.0</td>\n",
              "      <td>5.0</td>\n",
              "      <td>9.0</td>\n",
              "      <td>7.0</td>\n",
              "      <td>12.0</td>\n",
              "      <td>8.0</td>\n",
              "      <td>9.0</td>\n",
              "      <td>8.333333</td>\n",
              "    </tr>\n",
              "    <tr>\n",
              "      <th>2022-03-24</th>\n",
              "      <td>8</td>\n",
              "      <td>6.0</td>\n",
              "      <td>11.0</td>\n",
              "      <td>5.0</td>\n",
              "      <td>9.0</td>\n",
              "      <td>7.0</td>\n",
              "      <td>12.0</td>\n",
              "      <td>8.0</td>\n",
              "      <td>7.333333</td>\n",
              "    </tr>\n",
              "  </tbody>\n",
              "</table>\n",
              "</div>\n",
              "      <button class=\"colab-df-convert\" onclick=\"convertToInteractive('df-e4ad1534-5b52-40e2-a70a-c7edecc5c8bb')\"\n",
              "              title=\"Convert this dataframe to an interactive table.\"\n",
              "              style=\"display:none;\">\n",
              "        \n",
              "  <svg xmlns=\"http://www.w3.org/2000/svg\" height=\"24px\"viewBox=\"0 0 24 24\"\n",
              "       width=\"24px\">\n",
              "    <path d=\"M0 0h24v24H0V0z\" fill=\"none\"/>\n",
              "    <path d=\"M18.56 5.44l.94 2.06.94-2.06 2.06-.94-2.06-.94-.94-2.06-.94 2.06-2.06.94zm-11 1L8.5 8.5l.94-2.06 2.06-.94-2.06-.94L8.5 2.5l-.94 2.06-2.06.94zm10 10l.94 2.06.94-2.06 2.06-.94-2.06-.94-.94-2.06-.94 2.06-2.06.94z\"/><path d=\"M17.41 7.96l-1.37-1.37c-.4-.4-.92-.59-1.43-.59-.52 0-1.04.2-1.43.59L10.3 9.45l-7.72 7.72c-.78.78-.78 2.05 0 2.83L4 21.41c.39.39.9.59 1.41.59.51 0 1.02-.2 1.41-.59l7.78-7.78 2.81-2.81c.8-.78.8-2.07 0-2.86zM5.41 20L4 18.59l7.72-7.72 1.47 1.35L5.41 20z\"/>\n",
              "  </svg>\n",
              "      </button>\n",
              "      \n",
              "  <style>\n",
              "    .colab-df-container {\n",
              "      display:flex;\n",
              "      flex-wrap:wrap;\n",
              "      gap: 12px;\n",
              "    }\n",
              "\n",
              "    .colab-df-convert {\n",
              "      background-color: #E8F0FE;\n",
              "      border: none;\n",
              "      border-radius: 50%;\n",
              "      cursor: pointer;\n",
              "      display: none;\n",
              "      fill: #1967D2;\n",
              "      height: 32px;\n",
              "      padding: 0 0 0 0;\n",
              "      width: 32px;\n",
              "    }\n",
              "\n",
              "    .colab-df-convert:hover {\n",
              "      background-color: #E2EBFA;\n",
              "      box-shadow: 0px 1px 2px rgba(60, 64, 67, 0.3), 0px 1px 3px 1px rgba(60, 64, 67, 0.15);\n",
              "      fill: #174EA6;\n",
              "    }\n",
              "\n",
              "    [theme=dark] .colab-df-convert {\n",
              "      background-color: #3B4455;\n",
              "      fill: #D2E3FC;\n",
              "    }\n",
              "\n",
              "    [theme=dark] .colab-df-convert:hover {\n",
              "      background-color: #434B5C;\n",
              "      box-shadow: 0px 1px 3px 1px rgba(0, 0, 0, 0.15);\n",
              "      filter: drop-shadow(0px 1px 2px rgba(0, 0, 0, 0.3));\n",
              "      fill: #FFFFFF;\n",
              "    }\n",
              "  </style>\n",
              "\n",
              "      <script>\n",
              "        const buttonEl =\n",
              "          document.querySelector('#df-e4ad1534-5b52-40e2-a70a-c7edecc5c8bb button.colab-df-convert');\n",
              "        buttonEl.style.display =\n",
              "          google.colab.kernel.accessAllowed ? 'block' : 'none';\n",
              "\n",
              "        async function convertToInteractive(key) {\n",
              "          const element = document.querySelector('#df-e4ad1534-5b52-40e2-a70a-c7edecc5c8bb');\n",
              "          const dataTable =\n",
              "            await google.colab.kernel.invokeFunction('convertToInteractive',\n",
              "                                                     [key], {});\n",
              "          if (!dataTable) return;\n",
              "\n",
              "          const docLinkHtml = 'Like what you see? Visit the ' +\n",
              "            '<a target=\"_blank\" href=https://colab.research.google.com/notebooks/data_table.ipynb>data table notebook</a>'\n",
              "            + ' to learn more about interactive tables.';\n",
              "          element.innerHTML = '';\n",
              "          dataTable['output_type'] = 'display_data';\n",
              "          await google.colab.output.renderOutput(dataTable, element);\n",
              "          const docLink = document.createElement('div');\n",
              "          docLink.innerHTML = docLinkHtml;\n",
              "          element.appendChild(docLink);\n",
              "        }\n",
              "      </script>\n",
              "    </div>\n",
              "  </div>\n",
              "  "
            ]
          },
          "metadata": {},
          "execution_count": 24
        }
      ]
    },
    {
      "cell_type": "code",
      "source": [
        "data_features = data_features.dropna()"
      ],
      "metadata": {
        "id": "chA6sEQMZxZs"
      },
      "execution_count": 25,
      "outputs": []
    },
    {
      "cell_type": "markdown",
      "source": [
        "----------"
      ],
      "metadata": {
        "id": "pM1vaB0L6BhC"
      }
    },
    {
      "cell_type": "code",
      "source": [
        ""
      ],
      "metadata": {
        "id": "w5wAg33E6Cxh"
      },
      "execution_count": null,
      "outputs": []
    },
    {
      "cell_type": "markdown",
      "source": [
        "-------"
      ],
      "metadata": {
        "id": "DRoY_gJ36ANz"
      }
    },
    {
      "cell_type": "markdown",
      "source": [
        "Обучение\n",
        "\n",
        "Разделим исходные данные на обучающую, валидационную и тестовую выборки. Делим в отношении 8 : 1 : 1."
      ],
      "metadata": {
        "id": "_9acoDc5aVny"
      }
    },
    {
      "cell_type": "code",
      "source": [
        "features = data_features.drop(['Продажи'], axis=1) # признаки\n",
        "target = data_features['Продажи'] # целевой признак"
      ],
      "metadata": {
        "id": "LzDi6yuHaRZc"
      },
      "execution_count": 26,
      "outputs": []
    },
    {
      "cell_type": "code",
      "source": [
        "features.shape, target.shape"
      ],
      "metadata": {
        "colab": {
          "base_uri": "https://localhost:8080/"
        },
        "id": "BlhsVZjpadHJ",
        "outputId": "30d90254-10bf-4635-94be-bdfb2e57469b"
      },
      "execution_count": 27,
      "outputs": [
        {
          "output_type": "execute_result",
          "data": {
            "text/plain": [
              "((86, 18), (86,))"
            ]
          },
          "metadata": {},
          "execution_count": 27
        }
      ]
    },
    {
      "cell_type": "code",
      "source": [
        "# отделим 10% данных для тестовой выборки, данные не перемешиваем\n",
        "features_train_valid, features_test, target_train_valid, target_test = train_test_split(\n",
        "    features, target, test_size=0.1, shuffle=False) "
      ],
      "metadata": {
        "id": "wMLvYgIAafIL"
      },
      "execution_count": 28,
      "outputs": []
    },
    {
      "cell_type": "code",
      "source": [
        "# отделим 10% данных для валидационной выборки, данные не перемешиваем\n",
        "features_train, features_valid, target_train, target_valid = train_test_split(\n",
        "    features_train_valid, target_train_valid, test_size=0.111, shuffle=False) "
      ],
      "metadata": {
        "id": "UJ4YfGVNakFH"
      },
      "execution_count": 29,
      "outputs": []
    },
    {
      "cell_type": "markdown",
      "source": [
        "----------"
      ],
      "metadata": {
        "id": "2c2-8DNbeBGo"
      }
    },
    {
      "cell_type": "code",
      "source": [
        "tscv = TimeSeriesSplit() # cv для cross_val_score и GridSearchCV для временных рядов"
      ],
      "metadata": {
        "id": "DhRZ_bnDbN_R"
      },
      "execution_count": 30,
      "outputs": []
    },
    {
      "cell_type": "code",
      "source": [
        "def RMSE(target, predictions): # функция для вычисления RMSE\n",
        "    return (mean_squared_error(target, predictions) ** 0.5)"
      ],
      "metadata": {
        "id": "UBj76FUgd7KK"
      },
      "execution_count": 31,
      "outputs": []
    },
    {
      "cell_type": "code",
      "source": [
        "scoring = make_scorer(RMSE, greater_is_better=False) # scoring=scoring для cross_val_score"
      ],
      "metadata": {
        "id": "9KIOOV8kd7BV"
      },
      "execution_count": 32,
      "outputs": []
    },
    {
      "cell_type": "code",
      "source": [
        "df = [] # таблица с результатами\n",
        "col_data = ['model', 'type_data', 'RMSE']"
      ],
      "metadata": {
        "id": "Ptfy1RFYd6xb"
      },
      "execution_count": 33,
      "outputs": []
    },
    {
      "cell_type": "code",
      "source": [
        "def predict_result(model, features, target, type_data, name_model): # функция метрики на предсказании\n",
        "\n",
        "    predictions = model.predict(features) # получим предсказания модели \n",
        "    \n",
        "    result = RMSE(target, predictions) # значение метрики RMSE \n",
        "    \n",
        "#    print(\"RMSE \", name_model, \":\", result)\n",
        "    \n",
        "    df.append([name_model, type_data, result])"
      ],
      "metadata": {
        "id": "5y14Z7h9eJ2S"
      },
      "execution_count": 34,
      "outputs": []
    },
    {
      "cell_type": "code",
      "source": [
        "def plot_test_prediction_result(model, features, target, type_data,  name_model): # тестирование и визуализация\n",
        "\n",
        "    predictions = model.predict(features) # получим предсказания модели \n",
        "    \n",
        "    result = RMSE(target, predictions) # значение метрики RMSE \n",
        "    \n",
        "    print(\"RMSE \", name_model, \":\", result)\n",
        "    \n",
        "    df.append([name_model, type_data, result])   \n",
        "\n",
        "    pred = pd.DataFrame(data=predictions, index = target.index)\n",
        "  \n",
        "    plt.figure(figsize=(12,6))\n",
        "    plt.plot(target, color='green', label='test')\n",
        "    plt.plot(pred, color='red', label='predictions')\n",
        "    plt.title(name_model)\n",
        "    #plt.xlabel('Date')\n",
        "    #plt.ylabel('')\n",
        "    plt.legend()\n",
        "    plt.show()"
      ],
      "metadata": {
        "id": "edxFGYAJeJpp"
      },
      "execution_count": 35,
      "outputs": []
    },
    {
      "cell_type": "markdown",
      "source": [
        "--------------"
      ],
      "metadata": {
        "id": "wdoIKbmwgUBt"
      }
    },
    {
      "cell_type": "markdown",
      "source": [
        "CatBoostRegressor"
      ],
      "metadata": {
        "id": "oSinzO_MbJUr"
      }
    },
    {
      "cell_type": "code",
      "source": [
        "parameters_CBR = {'loss_function': 'RMSE', # значение по умолчанию\n",
        "                  'iterations': 1000, # значение по умолчанию\n",
        "                  'random_state': 12345,\n",
        "                  'verbose': 500}\n",
        "\n",
        "model_CBR = CatBoostRegressor(**parameters_CBR)\n",
        "\n",
        "grid = {'learning_rate': [0.01],\n",
        "        'depth': [4, 6]}\n",
        "\n",
        "grid_search_result = model_CBR.grid_search(grid, \n",
        "                                           X=features_train, \n",
        "                                           y=target_train, cv=tscv)"
      ],
      "metadata": {
        "colab": {
          "base_uri": "https://localhost:8080/"
        },
        "id": "FWQEy9FFaxBt",
        "outputId": "17d9e4ce-2512-4967-a074-7f846e01e261"
      },
      "execution_count": 36,
      "outputs": [
        {
          "output_type": "stream",
          "name": "stdout",
          "text": [
            "0:\tlearn: 6.6170868\ttest: 3.4555318\tbest: 3.4555318 (0)\ttotal: 46.8ms\tremaining: 46.8s\n",
            "500:\tlearn: 0.7377055\ttest: 1.1988448\tbest: 1.1988448 (500)\ttotal: 316ms\tremaining: 314ms\n",
            "999:\tlearn: 0.3079478\ttest: 0.8733197\tbest: 0.8733197 (999)\ttotal: 550ms\tremaining: 0us\n",
            "\n",
            "bestTest = 0.8733197356\n",
            "bestIteration = 999\n",
            "\n",
            "0:\tloss: 0.8733197\tbest: 0.8733197 (0)\ttotal: 583ms\tremaining: 583ms\n",
            "0:\tlearn: 6.6227286\ttest: 3.4581604\tbest: 3.4581604 (0)\ttotal: 1.11ms\tremaining: 1.11s\n",
            "500:\tlearn: 0.7010465\ttest: 1.3690813\tbest: 1.3690813 (500)\ttotal: 390ms\tremaining: 388ms\n",
            "999:\tlearn: 0.2491361\ttest: 1.0910349\tbest: 1.0910349 (999)\ttotal: 824ms\tremaining: 0us\n",
            "\n",
            "bestTest = 1.091034912\n",
            "bestIteration = 999\n",
            "\n",
            "1:\tloss: 1.0910349\tbest: 0.8733197 (0)\ttotal: 1.44s\tremaining: 0us\n",
            "Estimating final quality...\n",
            "Training on fold [0/5]\n",
            "0:\tlearn: 8.0061066\ttest: 10.1198774\tbest: 10.1198774 (0)\ttotal: 509us\tremaining: 509ms\n",
            "500:\tlearn: 0.9218947\ttest: 5.8225552\tbest: 5.8225552 (500)\ttotal: 143ms\tremaining: 143ms\n",
            "999:\tlearn: 0.2323474\ttest: 5.1760722\tbest: 5.1760722 (999)\ttotal: 415ms\tremaining: 0us\n",
            "\n",
            "bestTest = 5.17607223\n",
            "bestIteration = 999\n",
            "\n",
            "Training on fold [1/5]\n",
            "0:\tlearn: 9.0037457\ttest: 5.3922931\tbest: 5.3922931 (0)\ttotal: 983us\tremaining: 982ms\n",
            "500:\tlearn: 0.9206995\ttest: 1.7694333\tbest: 1.7694333 (500)\ttotal: 323ms\tremaining: 322ms\n",
            "999:\tlearn: 0.2669498\ttest: 1.6969587\tbest: 1.6968544 (997)\ttotal: 696ms\tremaining: 0us\n",
            "\n",
            "bestTest = 1.696854435\n",
            "bestIteration = 997\n",
            "\n",
            "Training on fold [2/5]\n",
            "0:\tlearn: 8.0483689\ttest: 2.5879403\tbest: 2.5879403 (0)\ttotal: 405us\tremaining: 405ms\n",
            "500:\tlearn: 0.7668446\ttest: 1.8966853\tbest: 1.5828737 (117)\ttotal: 413ms\tremaining: 412ms\n",
            "999:\tlearn: 0.2877083\ttest: 2.0108093\tbest: 1.5828737 (117)\ttotal: 860ms\tremaining: 0us\n",
            "\n",
            "bestTest = 1.582873725\n",
            "bestIteration = 117\n",
            "\n",
            "Training on fold [3/5]\n",
            "0:\tlearn: 7.1295132\ttest: 2.4378113\tbest: 2.4378113 (0)\ttotal: 573us\tremaining: 572ms\n",
            "500:\tlearn: 0.7641507\ttest: 1.0896759\tbest: 1.0896759 (500)\ttotal: 409ms\tremaining: 407ms\n",
            "999:\tlearn: 0.3016353\ttest: 0.7595030\tbest: 0.7595030 (999)\ttotal: 806ms\tremaining: 0us\n",
            "\n",
            "bestTest = 0.759503031\n",
            "bestIteration = 999\n",
            "\n",
            "Training on fold [4/5]\n",
            "0:\tlearn: 6.4917297\ttest: 3.4272402\tbest: 3.4272402 (0)\ttotal: 1.08ms\tremaining: 1.08s\n",
            "500:\tlearn: 0.7395850\ttest: 0.9715387\tbest: 0.9715387 (500)\ttotal: 441ms\tremaining: 439ms\n",
            "999:\tlearn: 0.3043124\ttest: 0.7407063\tbest: 0.7407001 (998)\ttotal: 870ms\tremaining: 0us\n",
            "\n",
            "bestTest = 0.7407001112\n",
            "bestIteration = 998\n",
            "\n"
          ]
        }
      ]
    },
    {
      "cell_type": "code",
      "source": [
        "model_CBR.fit(features_train, target_train)"
      ],
      "metadata": {
        "colab": {
          "base_uri": "https://localhost:8080/"
        },
        "id": "sudUi1PKawjm",
        "outputId": "07515260-969a-4340-c88b-60d98c52f2b4"
      },
      "execution_count": 37,
      "outputs": [
        {
          "output_type": "stream",
          "name": "stdout",
          "text": [
            "0:\tlearn: 3.4636076\ttotal: 735us\tremaining: 735ms\n",
            "500:\tlearn: 0.5728654\ttotal: 789ms\tremaining: 786ms\n",
            "999:\tlearn: 0.2253551\ttotal: 1.53s\tremaining: 0us\n"
          ]
        },
        {
          "output_type": "execute_result",
          "data": {
            "text/plain": [
              "<catboost.core.CatBoostRegressor at 0x7f83e8dab750>"
            ]
          },
          "metadata": {},
          "execution_count": 37
        }
      ]
    },
    {
      "cell_type": "code",
      "source": [
        " model_CBR.best_score_['learn']['RMSE']"
      ],
      "metadata": {
        "colab": {
          "base_uri": "https://localhost:8080/"
        },
        "id": "FRBvftLFfHJ8",
        "outputId": "4b817adb-acc7-4ae9-f77d-ffebfd7132d8"
      },
      "execution_count": 38,
      "outputs": [
        {
          "output_type": "execute_result",
          "data": {
            "text/plain": [
              "0.22535505880594195"
            ]
          },
          "metadata": {},
          "execution_count": 38
        }
      ]
    },
    {
      "cell_type": "code",
      "source": [
        "df.append(['CatBoostRegressor', 'train', model_CBR.best_score_['learn']['RMSE']])"
      ],
      "metadata": {
        "id": "b2EsfXT6cBnZ"
      },
      "execution_count": 39,
      "outputs": []
    },
    {
      "cell_type": "markdown",
      "source": [
        "-------"
      ],
      "metadata": {
        "id": "UxJsaxG6euEB"
      }
    },
    {
      "cell_type": "markdown",
      "source": [
        "XGBRegressor"
      ],
      "metadata": {
        "id": "zWXuSRDvemge"
      }
    },
    {
      "cell_type": "code",
      "source": [
        "params = { #'eval_metric': \"rmse\"\n",
        "          'max_depth': [6, 8], # 5, 6, 10, 15, 20],\n",
        "          'learning_rate': [0.3], # 0.1, 0.2, 0.3],\n",
        "           #'subsample': 0.8,\n",
        "     #      'colsample_bytree': np.arange(0.4, 1.0, 0.1),\n",
        "     #      'colsample_bylevel': np.arange(0.4, 1.0, 0.1),\n",
        "          'n_estimators': [100]\n",
        "}"
      ],
      "metadata": {
        "id": "b23cWmOPetZ5"
      },
      "execution_count": 40,
      "outputs": []
    },
    {
      "cell_type": "code",
      "source": [
        "model_ = XGBRegressor()"
      ],
      "metadata": {
        "id": "LDuq0v_Vev2z"
      },
      "execution_count": 41,
      "outputs": []
    },
    {
      "cell_type": "code",
      "source": [
        "model_XGBR = GridSearchCV(model_, params, cv=tscv, scoring=scoring, verbose=1)"
      ],
      "metadata": {
        "id": "HuHcekxbev0G"
      },
      "execution_count": 42,
      "outputs": []
    },
    {
      "cell_type": "code",
      "source": [
        "model_XGBR.fit(features_train, target_train)"
      ],
      "metadata": {
        "colab": {
          "base_uri": "https://localhost:8080/"
        },
        "id": "LAziovgNevxA",
        "outputId": "a6f36c4d-5551-4c8f-bd34-f6c271eaa917"
      },
      "execution_count": 43,
      "outputs": [
        {
          "output_type": "stream",
          "name": "stdout",
          "text": [
            "Fitting 5 folds for each of 2 candidates, totalling 10 fits\n",
            "[09:40:50] WARNING: /workspace/src/objective/regression_obj.cu:152: reg:linear is now deprecated in favor of reg:squarederror.\n",
            "[09:40:51] WARNING: /workspace/src/objective/regression_obj.cu:152: reg:linear is now deprecated in favor of reg:squarederror.\n",
            "[09:40:51] WARNING: /workspace/src/objective/regression_obj.cu:152: reg:linear is now deprecated in favor of reg:squarederror.\n",
            "[09:40:51] WARNING: /workspace/src/objective/regression_obj.cu:152: reg:linear is now deprecated in favor of reg:squarederror.\n",
            "[09:40:51] WARNING: /workspace/src/objective/regression_obj.cu:152: reg:linear is now deprecated in favor of reg:squarederror.\n",
            "[09:40:51] WARNING: /workspace/src/objective/regression_obj.cu:152: reg:linear is now deprecated in favor of reg:squarederror.\n",
            "[09:40:51] WARNING: /workspace/src/objective/regression_obj.cu:152: reg:linear is now deprecated in favor of reg:squarederror.\n",
            "[09:40:51] WARNING: /workspace/src/objective/regression_obj.cu:152: reg:linear is now deprecated in favor of reg:squarederror.\n",
            "[09:40:51] WARNING: /workspace/src/objective/regression_obj.cu:152: reg:linear is now deprecated in favor of reg:squarederror.\n",
            "[09:40:51] WARNING: /workspace/src/objective/regression_obj.cu:152: reg:linear is now deprecated in favor of reg:squarederror.\n",
            "[09:40:51] WARNING: /workspace/src/objective/regression_obj.cu:152: reg:linear is now deprecated in favor of reg:squarederror.\n"
          ]
        },
        {
          "output_type": "execute_result",
          "data": {
            "text/plain": [
              "GridSearchCV(cv=TimeSeriesSplit(gap=0, max_train_size=None, n_splits=5, test_size=None),\n",
              "             estimator=XGBRegressor(),\n",
              "             param_grid={'learning_rate': [0.3], 'max_depth': [6, 8],\n",
              "                         'n_estimators': [100]},\n",
              "             scoring=make_scorer(RMSE, greater_is_better=False), verbose=1)"
            ]
          },
          "metadata": {},
          "execution_count": 43
        }
      ]
    },
    {
      "cell_type": "code",
      "source": [
        "model_XGBR.best_params_"
      ],
      "metadata": {
        "colab": {
          "base_uri": "https://localhost:8080/"
        },
        "id": "tcsw121MevuP",
        "outputId": "20b248f2-f4d7-4c9f-f73f-548074f70e24"
      },
      "execution_count": 44,
      "outputs": [
        {
          "output_type": "execute_result",
          "data": {
            "text/plain": [
              "{'learning_rate': 0.3, 'max_depth': 6, 'n_estimators': 100}"
            ]
          },
          "metadata": {},
          "execution_count": 44
        }
      ]
    },
    {
      "cell_type": "code",
      "source": [
        "df.append(['XGBRegressor', 'train', abs(model_XGBR.best_score_)])"
      ],
      "metadata": {
        "id": "MyOvlV_BevrX"
      },
      "execution_count": 45,
      "outputs": []
    },
    {
      "cell_type": "code",
      "source": [
        "abs(model_XGBR.best_score_)"
      ],
      "metadata": {
        "colab": {
          "base_uri": "https://localhost:8080/"
        },
        "id": "k1M7bFc0evn8",
        "outputId": "01a64818-50d8-45cc-c748-eb71b3306b09"
      },
      "execution_count": 46,
      "outputs": [
        {
          "output_type": "execute_result",
          "data": {
            "text/plain": [
              "1.4987086078046985"
            ]
          },
          "metadata": {},
          "execution_count": 46
        }
      ]
    },
    {
      "cell_type": "markdown",
      "source": [
        "-----------"
      ],
      "metadata": {
        "id": "KclamnvpgREs"
      }
    },
    {
      "cell_type": "markdown",
      "source": [
        "LightGBMRegressor"
      ],
      "metadata": {
        "id": "OhNdvcjZfLkG"
      }
    },
    {
      "cell_type": "code",
      "source": [
        "Params = {\n",
        "    'learning_rate': [0.1, 0.2],\n",
        "    'num_leaves': [31, 50],\n",
        "    'n_estimators': [100],\n",
        "    'objective' : ['regression'],\n",
        "    'random_state' : [12345] \n",
        "    }"
      ],
      "metadata": {
        "id": "eBpNF8T7evk9"
      },
      "execution_count": 47,
      "outputs": []
    },
    {
      "cell_type": "code",
      "source": [
        "model_ = lgb.LGBMRegressor()"
      ],
      "metadata": {
        "id": "1kbYpjUkevib"
      },
      "execution_count": 48,
      "outputs": []
    },
    {
      "cell_type": "code",
      "source": [
        "model_LGBMR = GridSearchCV(model_, Params, scoring=scoring, cv=tscv, verbose=1)"
      ],
      "metadata": {
        "id": "ffB7zYJffYz5"
      },
      "execution_count": 49,
      "outputs": []
    },
    {
      "cell_type": "code",
      "source": [
        "model_LGBMR.fit(features_train, target_train)"
      ],
      "metadata": {
        "colab": {
          "base_uri": "https://localhost:8080/"
        },
        "id": "mk-KO6h1fYw0",
        "outputId": "f0cc9fd4-7e22-4ae8-d815-3e5823c2b70e"
      },
      "execution_count": 50,
      "outputs": [
        {
          "output_type": "stream",
          "name": "stdout",
          "text": [
            "Fitting 5 folds for each of 4 candidates, totalling 20 fits\n"
          ]
        },
        {
          "output_type": "execute_result",
          "data": {
            "text/plain": [
              "GridSearchCV(cv=TimeSeriesSplit(gap=0, max_train_size=None, n_splits=5, test_size=None),\n",
              "             estimator=LGBMRegressor(),\n",
              "             param_grid={'learning_rate': [0.1, 0.2], 'n_estimators': [100],\n",
              "                         'num_leaves': [31, 50], 'objective': ['regression'],\n",
              "                         'random_state': [12345]},\n",
              "             scoring=make_scorer(RMSE, greater_is_better=False), verbose=1)"
            ]
          },
          "metadata": {},
          "execution_count": 50
        }
      ]
    },
    {
      "cell_type": "code",
      "source": [
        "model_LGBMR.best_params_"
      ],
      "metadata": {
        "colab": {
          "base_uri": "https://localhost:8080/"
        },
        "id": "CMQ28r_nfYt2",
        "outputId": "518e5770-6c4a-4f9e-aa29-da08142dabe0"
      },
      "execution_count": 51,
      "outputs": [
        {
          "output_type": "execute_result",
          "data": {
            "text/plain": [
              "{'learning_rate': 0.1,\n",
              " 'n_estimators': 100,\n",
              " 'num_leaves': 31,\n",
              " 'objective': 'regression',\n",
              " 'random_state': 12345}"
            ]
          },
          "metadata": {},
          "execution_count": 51
        }
      ]
    },
    {
      "cell_type": "code",
      "source": [
        "df.append(['LightGBMRegressor', 'train', abs(model_LGBMR.best_score_)])"
      ],
      "metadata": {
        "id": "knygIIMzfYqb"
      },
      "execution_count": 52,
      "outputs": []
    },
    {
      "cell_type": "code",
      "source": [
        "abs(model_LGBMR.best_score_)"
      ],
      "metadata": {
        "colab": {
          "base_uri": "https://localhost:8080/"
        },
        "id": "zpruJWOPfYnr",
        "outputId": "53563bbe-aee4-48bb-dadf-490ad80fe4d3"
      },
      "execution_count": 53,
      "outputs": [
        {
          "output_type": "execute_result",
          "data": {
            "text/plain": [
              "3.3090318082450074"
            ]
          },
          "metadata": {},
          "execution_count": 53
        }
      ]
    },
    {
      "cell_type": "markdown",
      "source": [
        "-----------"
      ],
      "metadata": {
        "id": "J6g0MsbugO5x"
      }
    },
    {
      "cell_type": "markdown",
      "source": [
        "RandomForestRegressor"
      ],
      "metadata": {
        "id": "8JIyZlZofonD"
      }
    },
    {
      "cell_type": "code",
      "source": [
        "best_modelRFR = None\n",
        "best_depthRFR = 0\n",
        "best_est = 0\n",
        "best_rmseRFR = 10000\n",
        "\n",
        "for est in range(1, 11, 2): # в цикле меняем гиперпараметр - максимальное количество деревьев\n",
        "    for depth in range(1, 11, 2): # в цикле меняем гиперпараметр - максимальную глубину дерева\n",
        "\n",
        "        model = RandomForestRegressor(random_state=12345, n_estimators=est, max_depth=depth) # случайный лес\n",
        "    \n",
        "        score = abs(sum(cross_val_score(\n",
        "            model, features_train, target_train, scoring=scoring, cv=tscv)) / 5)\n",
        "    \n",
        "        if score < best_rmseRFR:\n",
        "            best_modelRFR = model\n",
        "            best_depthRFR = depth\n",
        "            best_est = est\n",
        "            best_rmseRFR = score\n",
        "\n",
        "            \n",
        "print(\"Модель 'Случайный лес', RMSE: \", best_rmseRFR, \n",
        "      \", количество деревьев:\", best_est, \", глубина дерева:\", best_depthRFR)"
      ],
      "metadata": {
        "colab": {
          "base_uri": "https://localhost:8080/"
        },
        "id": "tsRZBudQf2LP",
        "outputId": "76674386-e9d3-44d5-f558-2c168f4ecd5f"
      },
      "execution_count": 54,
      "outputs": [
        {
          "output_type": "stream",
          "name": "stdout",
          "text": [
            "Модель 'Случайный лес', RMSE:  1.463401528127266 , количество деревьев: 3 , глубина дерева: 5\n"
          ]
        }
      ]
    },
    {
      "cell_type": "code",
      "source": [
        "best_modelRFR.fit(features_train, target_train)"
      ],
      "metadata": {
        "colab": {
          "base_uri": "https://localhost:8080/"
        },
        "id": "X3S9fk3Kf2IL",
        "outputId": "e745b81e-93d5-4e32-8ec1-162c839a7b00"
      },
      "execution_count": 55,
      "outputs": [
        {
          "output_type": "execute_result",
          "data": {
            "text/plain": [
              "RandomForestRegressor(max_depth=5, n_estimators=3, random_state=12345)"
            ]
          },
          "metadata": {},
          "execution_count": 55
        }
      ]
    },
    {
      "cell_type": "code",
      "source": [
        "df.append(['RandomForestRegressor', 'train', best_rmseRFR])"
      ],
      "metadata": {
        "id": "a0eeCumsf2FP"
      },
      "execution_count": 56,
      "outputs": []
    },
    {
      "cell_type": "markdown",
      "source": [
        "-----------"
      ],
      "metadata": {
        "id": "W-UI3T37gMaP"
      }
    },
    {
      "cell_type": "markdown",
      "source": [
        "LinearRegression"
      ],
      "metadata": {
        "id": "V-gadqYcgDt1"
      }
    },
    {
      "cell_type": "code",
      "source": [
        "modelLinR = LinearRegression() # инициализируем модель LinearRegression"
      ],
      "metadata": {
        "id": "YkPT-DDzf2CX"
      },
      "execution_count": 57,
      "outputs": []
    },
    {
      "cell_type": "code",
      "source": [
        "modelLinR.fit(features_train, target_train)"
      ],
      "metadata": {
        "colab": {
          "base_uri": "https://localhost:8080/"
        },
        "id": "vo4l5566f1_d",
        "outputId": "5e9b5cba-cb5b-489f-f6c0-72733ad68715"
      },
      "execution_count": 58,
      "outputs": [
        {
          "output_type": "execute_result",
          "data": {
            "text/plain": [
              "LinearRegression()"
            ]
          },
          "metadata": {},
          "execution_count": 58
        }
      ]
    },
    {
      "cell_type": "code",
      "source": [
        "predict_result(modelLinR, features_train, target_train, 'train', 'LinearRegression')"
      ],
      "metadata": {
        "id": "Dd_g2LfNf183"
      },
      "execution_count": 59,
      "outputs": []
    },
    {
      "cell_type": "markdown",
      "source": [
        "----------"
      ],
      "metadata": {
        "id": "5laubhungZKf"
      }
    },
    {
      "cell_type": "code",
      "source": [
        "df_result = pd.DataFrame(data=df, columns=col_data) # таблица с результатами"
      ],
      "metadata": {
        "id": "o-CHLUa4f1Lz"
      },
      "execution_count": 60,
      "outputs": []
    },
    {
      "cell_type": "code",
      "source": [
        "df_result"
      ],
      "metadata": {
        "colab": {
          "base_uri": "https://localhost:8080/",
          "height": 206
        },
        "id": "zSHpRozjgfiF",
        "outputId": "1bfcaf09-8baf-4539-ef02-e064906b6fb6"
      },
      "execution_count": 61,
      "outputs": [
        {
          "output_type": "execute_result",
          "data": {
            "text/plain": [
              "                   model type_data      RMSE\n",
              "0      CatBoostRegressor     train  0.225355\n",
              "1           XGBRegressor     train  1.498709\n",
              "2      LightGBMRegressor     train  3.309032\n",
              "3  RandomForestRegressor     train  1.463402\n",
              "4       LinearRegression     train  0.176395"
            ],
            "text/html": [
              "\n",
              "  <div id=\"df-0355f334-1cd2-45ac-9ed9-b5b760ee5eea\">\n",
              "    <div class=\"colab-df-container\">\n",
              "      <div>\n",
              "<style scoped>\n",
              "    .dataframe tbody tr th:only-of-type {\n",
              "        vertical-align: middle;\n",
              "    }\n",
              "\n",
              "    .dataframe tbody tr th {\n",
              "        vertical-align: top;\n",
              "    }\n",
              "\n",
              "    .dataframe thead th {\n",
              "        text-align: right;\n",
              "    }\n",
              "</style>\n",
              "<table border=\"1\" class=\"dataframe\">\n",
              "  <thead>\n",
              "    <tr style=\"text-align: right;\">\n",
              "      <th></th>\n",
              "      <th>model</th>\n",
              "      <th>type_data</th>\n",
              "      <th>RMSE</th>\n",
              "    </tr>\n",
              "  </thead>\n",
              "  <tbody>\n",
              "    <tr>\n",
              "      <th>0</th>\n",
              "      <td>CatBoostRegressor</td>\n",
              "      <td>train</td>\n",
              "      <td>0.225355</td>\n",
              "    </tr>\n",
              "    <tr>\n",
              "      <th>1</th>\n",
              "      <td>XGBRegressor</td>\n",
              "      <td>train</td>\n",
              "      <td>1.498709</td>\n",
              "    </tr>\n",
              "    <tr>\n",
              "      <th>2</th>\n",
              "      <td>LightGBMRegressor</td>\n",
              "      <td>train</td>\n",
              "      <td>3.309032</td>\n",
              "    </tr>\n",
              "    <tr>\n",
              "      <th>3</th>\n",
              "      <td>RandomForestRegressor</td>\n",
              "      <td>train</td>\n",
              "      <td>1.463402</td>\n",
              "    </tr>\n",
              "    <tr>\n",
              "      <th>4</th>\n",
              "      <td>LinearRegression</td>\n",
              "      <td>train</td>\n",
              "      <td>0.176395</td>\n",
              "    </tr>\n",
              "  </tbody>\n",
              "</table>\n",
              "</div>\n",
              "      <button class=\"colab-df-convert\" onclick=\"convertToInteractive('df-0355f334-1cd2-45ac-9ed9-b5b760ee5eea')\"\n",
              "              title=\"Convert this dataframe to an interactive table.\"\n",
              "              style=\"display:none;\">\n",
              "        \n",
              "  <svg xmlns=\"http://www.w3.org/2000/svg\" height=\"24px\"viewBox=\"0 0 24 24\"\n",
              "       width=\"24px\">\n",
              "    <path d=\"M0 0h24v24H0V0z\" fill=\"none\"/>\n",
              "    <path d=\"M18.56 5.44l.94 2.06.94-2.06 2.06-.94-2.06-.94-.94-2.06-.94 2.06-2.06.94zm-11 1L8.5 8.5l.94-2.06 2.06-.94-2.06-.94L8.5 2.5l-.94 2.06-2.06.94zm10 10l.94 2.06.94-2.06 2.06-.94-2.06-.94-.94-2.06-.94 2.06-2.06.94z\"/><path d=\"M17.41 7.96l-1.37-1.37c-.4-.4-.92-.59-1.43-.59-.52 0-1.04.2-1.43.59L10.3 9.45l-7.72 7.72c-.78.78-.78 2.05 0 2.83L4 21.41c.39.39.9.59 1.41.59.51 0 1.02-.2 1.41-.59l7.78-7.78 2.81-2.81c.8-.78.8-2.07 0-2.86zM5.41 20L4 18.59l7.72-7.72 1.47 1.35L5.41 20z\"/>\n",
              "  </svg>\n",
              "      </button>\n",
              "      \n",
              "  <style>\n",
              "    .colab-df-container {\n",
              "      display:flex;\n",
              "      flex-wrap:wrap;\n",
              "      gap: 12px;\n",
              "    }\n",
              "\n",
              "    .colab-df-convert {\n",
              "      background-color: #E8F0FE;\n",
              "      border: none;\n",
              "      border-radius: 50%;\n",
              "      cursor: pointer;\n",
              "      display: none;\n",
              "      fill: #1967D2;\n",
              "      height: 32px;\n",
              "      padding: 0 0 0 0;\n",
              "      width: 32px;\n",
              "    }\n",
              "\n",
              "    .colab-df-convert:hover {\n",
              "      background-color: #E2EBFA;\n",
              "      box-shadow: 0px 1px 2px rgba(60, 64, 67, 0.3), 0px 1px 3px 1px rgba(60, 64, 67, 0.15);\n",
              "      fill: #174EA6;\n",
              "    }\n",
              "\n",
              "    [theme=dark] .colab-df-convert {\n",
              "      background-color: #3B4455;\n",
              "      fill: #D2E3FC;\n",
              "    }\n",
              "\n",
              "    [theme=dark] .colab-df-convert:hover {\n",
              "      background-color: #434B5C;\n",
              "      box-shadow: 0px 1px 3px 1px rgba(0, 0, 0, 0.15);\n",
              "      filter: drop-shadow(0px 1px 2px rgba(0, 0, 0, 0.3));\n",
              "      fill: #FFFFFF;\n",
              "    }\n",
              "  </style>\n",
              "\n",
              "      <script>\n",
              "        const buttonEl =\n",
              "          document.querySelector('#df-0355f334-1cd2-45ac-9ed9-b5b760ee5eea button.colab-df-convert');\n",
              "        buttonEl.style.display =\n",
              "          google.colab.kernel.accessAllowed ? 'block' : 'none';\n",
              "\n",
              "        async function convertToInteractive(key) {\n",
              "          const element = document.querySelector('#df-0355f334-1cd2-45ac-9ed9-b5b760ee5eea');\n",
              "          const dataTable =\n",
              "            await google.colab.kernel.invokeFunction('convertToInteractive',\n",
              "                                                     [key], {});\n",
              "          if (!dataTable) return;\n",
              "\n",
              "          const docLinkHtml = 'Like what you see? Visit the ' +\n",
              "            '<a target=\"_blank\" href=https://colab.research.google.com/notebooks/data_table.ipynb>data table notebook</a>'\n",
              "            + ' to learn more about interactive tables.';\n",
              "          element.innerHTML = '';\n",
              "          dataTable['output_type'] = 'display_data';\n",
              "          await google.colab.output.renderOutput(dataTable, element);\n",
              "          const docLink = document.createElement('div');\n",
              "          docLink.innerHTML = docLinkHtml;\n",
              "          element.appendChild(docLink);\n",
              "        }\n",
              "      </script>\n",
              "    </div>\n",
              "  </div>\n",
              "  "
            ]
          },
          "metadata": {},
          "execution_count": 61
        }
      ]
    },
    {
      "cell_type": "markdown",
      "source": [
        "Тестирование"
      ],
      "metadata": {
        "id": "8bKzaHtwgntk"
      }
    },
    {
      "cell_type": "code",
      "source": [
        "model = [model_XGBR, \n",
        "         model_LGBMR, \n",
        "         best_modelRFR,\n",
        "         modelLinR,\n",
        "         model_CBR]\n",
        "name_model = ['XGBRegressor', \n",
        "              'LightGBMRegressor',\n",
        "              'RandomForestRegressor',\n",
        "              'LinearRegression',\n",
        "              'CatBoostRegressor']"
      ],
      "metadata": {
        "id": "Tr2yTM3LgffP"
      },
      "execution_count": 62,
      "outputs": []
    },
    {
      "cell_type": "code",
      "source": [
        "df.append(['-', '-', '-'])"
      ],
      "metadata": {
        "id": "Uknfceq1gfZ1"
      },
      "execution_count": 63,
      "outputs": []
    },
    {
      "cell_type": "code",
      "source": [
        "for _ in range(len(model)):\n",
        "    predict_result(model[_], features_test, target_test, 'test', name_model[_])"
      ],
      "metadata": {
        "id": "cFXNzfMvgsn_"
      },
      "execution_count": 64,
      "outputs": []
    },
    {
      "cell_type": "code",
      "source": [
        "df.append(['-', '-', '-'])"
      ],
      "metadata": {
        "id": "mVEUEFn2gskZ"
      },
      "execution_count": 65,
      "outputs": []
    },
    {
      "cell_type": "code",
      "source": [
        "df_result = pd.DataFrame(data=df, columns=col_data) # таблица с результатами"
      ],
      "metadata": {
        "id": "Ic-esTkegshr"
      },
      "execution_count": 66,
      "outputs": []
    },
    {
      "cell_type": "code",
      "source": [
        "df_result"
      ],
      "metadata": {
        "colab": {
          "base_uri": "https://localhost:8080/",
          "height": 426
        },
        "id": "dowdkZzygsem",
        "outputId": "4dea2023-6258-42f3-d701-0bc94b35060e"
      },
      "execution_count": 67,
      "outputs": [
        {
          "output_type": "execute_result",
          "data": {
            "text/plain": [
              "                    model type_data      RMSE\n",
              "0       CatBoostRegressor     train  0.225355\n",
              "1            XGBRegressor     train  1.498709\n",
              "2       LightGBMRegressor     train  3.309032\n",
              "3   RandomForestRegressor     train  1.463402\n",
              "4        LinearRegression     train  0.176395\n",
              "5                       -         -         -\n",
              "6            XGBRegressor      test  0.008094\n",
              "7       LightGBMRegressor      test    0.7148\n",
              "8   RandomForestRegressor      test  0.248452\n",
              "9        LinearRegression      test   0.04235\n",
              "10      CatBoostRegressor      test  0.243527\n",
              "11                      -         -         -"
            ],
            "text/html": [
              "\n",
              "  <div id=\"df-32a26656-abe3-4dee-bdda-c7d46125bab6\">\n",
              "    <div class=\"colab-df-container\">\n",
              "      <div>\n",
              "<style scoped>\n",
              "    .dataframe tbody tr th:only-of-type {\n",
              "        vertical-align: middle;\n",
              "    }\n",
              "\n",
              "    .dataframe tbody tr th {\n",
              "        vertical-align: top;\n",
              "    }\n",
              "\n",
              "    .dataframe thead th {\n",
              "        text-align: right;\n",
              "    }\n",
              "</style>\n",
              "<table border=\"1\" class=\"dataframe\">\n",
              "  <thead>\n",
              "    <tr style=\"text-align: right;\">\n",
              "      <th></th>\n",
              "      <th>model</th>\n",
              "      <th>type_data</th>\n",
              "      <th>RMSE</th>\n",
              "    </tr>\n",
              "  </thead>\n",
              "  <tbody>\n",
              "    <tr>\n",
              "      <th>0</th>\n",
              "      <td>CatBoostRegressor</td>\n",
              "      <td>train</td>\n",
              "      <td>0.225355</td>\n",
              "    </tr>\n",
              "    <tr>\n",
              "      <th>1</th>\n",
              "      <td>XGBRegressor</td>\n",
              "      <td>train</td>\n",
              "      <td>1.498709</td>\n",
              "    </tr>\n",
              "    <tr>\n",
              "      <th>2</th>\n",
              "      <td>LightGBMRegressor</td>\n",
              "      <td>train</td>\n",
              "      <td>3.309032</td>\n",
              "    </tr>\n",
              "    <tr>\n",
              "      <th>3</th>\n",
              "      <td>RandomForestRegressor</td>\n",
              "      <td>train</td>\n",
              "      <td>1.463402</td>\n",
              "    </tr>\n",
              "    <tr>\n",
              "      <th>4</th>\n",
              "      <td>LinearRegression</td>\n",
              "      <td>train</td>\n",
              "      <td>0.176395</td>\n",
              "    </tr>\n",
              "    <tr>\n",
              "      <th>5</th>\n",
              "      <td>-</td>\n",
              "      <td>-</td>\n",
              "      <td>-</td>\n",
              "    </tr>\n",
              "    <tr>\n",
              "      <th>6</th>\n",
              "      <td>XGBRegressor</td>\n",
              "      <td>test</td>\n",
              "      <td>0.008094</td>\n",
              "    </tr>\n",
              "    <tr>\n",
              "      <th>7</th>\n",
              "      <td>LightGBMRegressor</td>\n",
              "      <td>test</td>\n",
              "      <td>0.7148</td>\n",
              "    </tr>\n",
              "    <tr>\n",
              "      <th>8</th>\n",
              "      <td>RandomForestRegressor</td>\n",
              "      <td>test</td>\n",
              "      <td>0.248452</td>\n",
              "    </tr>\n",
              "    <tr>\n",
              "      <th>9</th>\n",
              "      <td>LinearRegression</td>\n",
              "      <td>test</td>\n",
              "      <td>0.04235</td>\n",
              "    </tr>\n",
              "    <tr>\n",
              "      <th>10</th>\n",
              "      <td>CatBoostRegressor</td>\n",
              "      <td>test</td>\n",
              "      <td>0.243527</td>\n",
              "    </tr>\n",
              "    <tr>\n",
              "      <th>11</th>\n",
              "      <td>-</td>\n",
              "      <td>-</td>\n",
              "      <td>-</td>\n",
              "    </tr>\n",
              "  </tbody>\n",
              "</table>\n",
              "</div>\n",
              "      <button class=\"colab-df-convert\" onclick=\"convertToInteractive('df-32a26656-abe3-4dee-bdda-c7d46125bab6')\"\n",
              "              title=\"Convert this dataframe to an interactive table.\"\n",
              "              style=\"display:none;\">\n",
              "        \n",
              "  <svg xmlns=\"http://www.w3.org/2000/svg\" height=\"24px\"viewBox=\"0 0 24 24\"\n",
              "       width=\"24px\">\n",
              "    <path d=\"M0 0h24v24H0V0z\" fill=\"none\"/>\n",
              "    <path d=\"M18.56 5.44l.94 2.06.94-2.06 2.06-.94-2.06-.94-.94-2.06-.94 2.06-2.06.94zm-11 1L8.5 8.5l.94-2.06 2.06-.94-2.06-.94L8.5 2.5l-.94 2.06-2.06.94zm10 10l.94 2.06.94-2.06 2.06-.94-2.06-.94-.94-2.06-.94 2.06-2.06.94z\"/><path d=\"M17.41 7.96l-1.37-1.37c-.4-.4-.92-.59-1.43-.59-.52 0-1.04.2-1.43.59L10.3 9.45l-7.72 7.72c-.78.78-.78 2.05 0 2.83L4 21.41c.39.39.9.59 1.41.59.51 0 1.02-.2 1.41-.59l7.78-7.78 2.81-2.81c.8-.78.8-2.07 0-2.86zM5.41 20L4 18.59l7.72-7.72 1.47 1.35L5.41 20z\"/>\n",
              "  </svg>\n",
              "      </button>\n",
              "      \n",
              "  <style>\n",
              "    .colab-df-container {\n",
              "      display:flex;\n",
              "      flex-wrap:wrap;\n",
              "      gap: 12px;\n",
              "    }\n",
              "\n",
              "    .colab-df-convert {\n",
              "      background-color: #E8F0FE;\n",
              "      border: none;\n",
              "      border-radius: 50%;\n",
              "      cursor: pointer;\n",
              "      display: none;\n",
              "      fill: #1967D2;\n",
              "      height: 32px;\n",
              "      padding: 0 0 0 0;\n",
              "      width: 32px;\n",
              "    }\n",
              "\n",
              "    .colab-df-convert:hover {\n",
              "      background-color: #E2EBFA;\n",
              "      box-shadow: 0px 1px 2px rgba(60, 64, 67, 0.3), 0px 1px 3px 1px rgba(60, 64, 67, 0.15);\n",
              "      fill: #174EA6;\n",
              "    }\n",
              "\n",
              "    [theme=dark] .colab-df-convert {\n",
              "      background-color: #3B4455;\n",
              "      fill: #D2E3FC;\n",
              "    }\n",
              "\n",
              "    [theme=dark] .colab-df-convert:hover {\n",
              "      background-color: #434B5C;\n",
              "      box-shadow: 0px 1px 3px 1px rgba(0, 0, 0, 0.15);\n",
              "      filter: drop-shadow(0px 1px 2px rgba(0, 0, 0, 0.3));\n",
              "      fill: #FFFFFF;\n",
              "    }\n",
              "  </style>\n",
              "\n",
              "      <script>\n",
              "        const buttonEl =\n",
              "          document.querySelector('#df-32a26656-abe3-4dee-bdda-c7d46125bab6 button.colab-df-convert');\n",
              "        buttonEl.style.display =\n",
              "          google.colab.kernel.accessAllowed ? 'block' : 'none';\n",
              "\n",
              "        async function convertToInteractive(key) {\n",
              "          const element = document.querySelector('#df-32a26656-abe3-4dee-bdda-c7d46125bab6');\n",
              "          const dataTable =\n",
              "            await google.colab.kernel.invokeFunction('convertToInteractive',\n",
              "                                                     [key], {});\n",
              "          if (!dataTable) return;\n",
              "\n",
              "          const docLinkHtml = 'Like what you see? Visit the ' +\n",
              "            '<a target=\"_blank\" href=https://colab.research.google.com/notebooks/data_table.ipynb>data table notebook</a>'\n",
              "            + ' to learn more about interactive tables.';\n",
              "          element.innerHTML = '';\n",
              "          dataTable['output_type'] = 'display_data';\n",
              "          await google.colab.output.renderOutput(dataTable, element);\n",
              "          const docLink = document.createElement('div');\n",
              "          docLink.innerHTML = docLinkHtml;\n",
              "          element.appendChild(docLink);\n",
              "        }\n",
              "      </script>\n",
              "    </div>\n",
              "  </div>\n",
              "  "
            ]
          },
          "metadata": {},
          "execution_count": 67
        }
      ]
    },
    {
      "cell_type": "markdown",
      "source": [
        "train + valid\n",
        "\n",
        "Для улучшения качества моделей переобучим их на объединении трейна и валидации."
      ],
      "metadata": {
        "id": "prcGSTJmhJBd"
      }
    },
    {
      "cell_type": "code",
      "source": [
        "features_train_valid = pd.concat([features_train, features_valid])"
      ],
      "metadata": {
        "id": "Nf_Wz6MlgsYr"
      },
      "execution_count": 68,
      "outputs": []
    },
    {
      "cell_type": "markdown",
      "source": [
        "------"
      ],
      "metadata": {
        "id": "0OXXXDw3hWNi"
      }
    },
    {
      "cell_type": "code",
      "source": [
        "model_XGBR.fit(features_train_valid, target_train_valid)"
      ],
      "metadata": {
        "colab": {
          "base_uri": "https://localhost:8080/"
        },
        "id": "vk6ZCQbmgsV_",
        "outputId": "aa7118b1-e73e-4cd4-ccaf-968573c59cd0"
      },
      "execution_count": 69,
      "outputs": [
        {
          "output_type": "stream",
          "name": "stdout",
          "text": [
            "Fitting 5 folds for each of 2 candidates, totalling 10 fits\n",
            "[09:41:00] WARNING: /workspace/src/objective/regression_obj.cu:152: reg:linear is now deprecated in favor of reg:squarederror.\n",
            "[09:41:01] WARNING: /workspace/src/objective/regression_obj.cu:152: reg:linear is now deprecated in favor of reg:squarederror.\n",
            "[09:41:01] WARNING: /workspace/src/objective/regression_obj.cu:152: reg:linear is now deprecated in favor of reg:squarederror.\n",
            "[09:41:01] WARNING: /workspace/src/objective/regression_obj.cu:152: reg:linear is now deprecated in favor of reg:squarederror.\n",
            "[09:41:01] WARNING: /workspace/src/objective/regression_obj.cu:152: reg:linear is now deprecated in favor of reg:squarederror.\n",
            "[09:41:01] WARNING: /workspace/src/objective/regression_obj.cu:152: reg:linear is now deprecated in favor of reg:squarederror.\n",
            "[09:41:01] WARNING: /workspace/src/objective/regression_obj.cu:152: reg:linear is now deprecated in favor of reg:squarederror.\n",
            "[09:41:01] WARNING: /workspace/src/objective/regression_obj.cu:152: reg:linear is now deprecated in favor of reg:squarederror.\n",
            "[09:41:01] WARNING: /workspace/src/objective/regression_obj.cu:152: reg:linear is now deprecated in favor of reg:squarederror.\n",
            "[09:41:01] WARNING: /workspace/src/objective/regression_obj.cu:152: reg:linear is now deprecated in favor of reg:squarederror.\n",
            "[09:41:01] WARNING: /workspace/src/objective/regression_obj.cu:152: reg:linear is now deprecated in favor of reg:squarederror.\n"
          ]
        },
        {
          "output_type": "execute_result",
          "data": {
            "text/plain": [
              "GridSearchCV(cv=TimeSeriesSplit(gap=0, max_train_size=None, n_splits=5, test_size=None),\n",
              "             estimator=XGBRegressor(),\n",
              "             param_grid={'learning_rate': [0.3], 'max_depth': [6, 8],\n",
              "                         'n_estimators': [100]},\n",
              "             scoring=make_scorer(RMSE, greater_is_better=False), verbose=1)"
            ]
          },
          "metadata": {},
          "execution_count": 69
        }
      ]
    },
    {
      "cell_type": "code",
      "source": [
        "df.append(['XGBRegressor', 'train_valid', abs(model_XGBR.best_score_)])"
      ],
      "metadata": {
        "id": "ivHIt6uchNXd"
      },
      "execution_count": 70,
      "outputs": []
    },
    {
      "cell_type": "markdown",
      "source": [
        "---"
      ],
      "metadata": {
        "id": "4gzDLQmUhXr2"
      }
    },
    {
      "cell_type": "code",
      "source": [
        "model_LGBMR.fit(features_train_valid, target_train_valid)"
      ],
      "metadata": {
        "colab": {
          "base_uri": "https://localhost:8080/"
        },
        "id": "XK4yzxBChNVR",
        "outputId": "1fac8576-882f-4807-8ce7-f91284e61139"
      },
      "execution_count": 71,
      "outputs": [
        {
          "output_type": "stream",
          "name": "stdout",
          "text": [
            "Fitting 5 folds for each of 4 candidates, totalling 20 fits\n"
          ]
        },
        {
          "output_type": "execute_result",
          "data": {
            "text/plain": [
              "GridSearchCV(cv=TimeSeriesSplit(gap=0, max_train_size=None, n_splits=5, test_size=None),\n",
              "             estimator=LGBMRegressor(),\n",
              "             param_grid={'learning_rate': [0.1, 0.2], 'n_estimators': [100],\n",
              "                         'num_leaves': [31, 50], 'objective': ['regression'],\n",
              "                         'random_state': [12345]},\n",
              "             scoring=make_scorer(RMSE, greater_is_better=False), verbose=1)"
            ]
          },
          "metadata": {},
          "execution_count": 71
        }
      ]
    },
    {
      "cell_type": "code",
      "source": [
        "df.append(['LightGBMRegressor', 'train_valid', abs(model_LGBMR.best_score_)])"
      ],
      "metadata": {
        "id": "ru3qseZdhNSn"
      },
      "execution_count": 72,
      "outputs": []
    },
    {
      "cell_type": "markdown",
      "source": [
        "---------"
      ],
      "metadata": {
        "id": "brj9FJAIhecv"
      }
    },
    {
      "cell_type": "code",
      "source": [
        "best_modelRFR.fit(features_train_valid, target_train_valid)"
      ],
      "metadata": {
        "colab": {
          "base_uri": "https://localhost:8080/"
        },
        "id": "4Gi8_ZuOhNQW",
        "outputId": "5ffa4794-abb6-4adb-f212-d7265eb4c192"
      },
      "execution_count": 73,
      "outputs": [
        {
          "output_type": "execute_result",
          "data": {
            "text/plain": [
              "RandomForestRegressor(max_depth=5, n_estimators=3, random_state=12345)"
            ]
          },
          "metadata": {},
          "execution_count": 73
        }
      ]
    },
    {
      "cell_type": "code",
      "source": [
        "predict_result(\n",
        "    best_modelRFR, features_train_valid, target_train_valid, 'train_valid', 'RandomForestRegressor')\n"
      ],
      "metadata": {
        "id": "qVgmmEEehf2z"
      },
      "execution_count": 74,
      "outputs": []
    },
    {
      "cell_type": "markdown",
      "source": [
        "------"
      ],
      "metadata": {
        "id": "4ZsQIUxEhm7I"
      }
    },
    {
      "cell_type": "code",
      "source": [
        "modelLinR.fit(features_train_valid, target_train_valid)"
      ],
      "metadata": {
        "colab": {
          "base_uri": "https://localhost:8080/"
        },
        "id": "JDHzuZ2ThnpE",
        "outputId": "788dac85-f59f-4113-cbe7-e9c1d14c4459"
      },
      "execution_count": 75,
      "outputs": [
        {
          "output_type": "execute_result",
          "data": {
            "text/plain": [
              "LinearRegression()"
            ]
          },
          "metadata": {},
          "execution_count": 75
        }
      ]
    },
    {
      "cell_type": "code",
      "source": [
        "predict_result(\n",
        "    modelLinR, features_train_valid, target_train_valid, 'train_valid', 'LinearRegression')"
      ],
      "metadata": {
        "id": "-Mi32Kf4hrYQ"
      },
      "execution_count": 76,
      "outputs": []
    },
    {
      "cell_type": "markdown",
      "source": [
        "------"
      ],
      "metadata": {
        "id": "wSExWEWwhtZh"
      }
    },
    {
      "cell_type": "code",
      "source": [
        "model_CBR.fit(features_train_valid, target_train_valid)"
      ],
      "metadata": {
        "colab": {
          "base_uri": "https://localhost:8080/"
        },
        "id": "kva26zSzhuE0",
        "outputId": "81a0519a-9682-4f1a-b393-65645996bb6b"
      },
      "execution_count": 77,
      "outputs": [
        {
          "output_type": "stream",
          "name": "stdout",
          "text": [
            "0:\tlearn: 3.3527233\ttotal: 977us\tremaining: 976ms\n",
            "500:\tlearn: 0.5557248\ttotal: 586ms\tremaining: 583ms\n",
            "999:\tlearn: 0.2309244\ttotal: 1.47s\tremaining: 0us\n"
          ]
        },
        {
          "output_type": "execute_result",
          "data": {
            "text/plain": [
              "<catboost.core.CatBoostRegressor at 0x7f83e8dab750>"
            ]
          },
          "metadata": {},
          "execution_count": 77
        }
      ]
    },
    {
      "cell_type": "code",
      "source": [
        "df.append(['model_CBR', 'train_valid', model_CBR.best_score_['learn']['RMSE']])"
      ],
      "metadata": {
        "id": "1_EKruVQhv5D"
      },
      "execution_count": 78,
      "outputs": []
    },
    {
      "cell_type": "code",
      "source": [
        "df.append(['-', '-', '-'])"
      ],
      "metadata": {
        "id": "btvCXRhFhzlq"
      },
      "execution_count": 79,
      "outputs": []
    },
    {
      "cell_type": "markdown",
      "source": [
        "--------"
      ],
      "metadata": {
        "id": "PUUt0aLih5Jo"
      }
    },
    {
      "cell_type": "markdown",
      "source": [
        "Финальное тестирование и визуализация"
      ],
      "metadata": {
        "id": "OMol29Afh5FP"
      }
    },
    {
      "cell_type": "code",
      "source": [
        "name_model = ['XGBRegressor_train_valid', \n",
        "              'LightGBMRegressor_train_valid',\n",
        "              'RandomForestRegressor_train_valid',\n",
        "              'LinearRegression_train_valid',\n",
        "              'CatBoostRegressor_train_valid']"
      ],
      "metadata": {
        "id": "gzEKtjT9h0IL"
      },
      "execution_count": 80,
      "outputs": []
    },
    {
      "cell_type": "code",
      "source": [
        "for _ in range(len(model)):\n",
        "    plot_test_prediction_result(\n",
        "    model[_], features_test, target_test, 'test', name_model[_])"
      ],
      "metadata": {
        "colab": {
          "base_uri": "https://localhost:8080/",
          "height": 1000
        },
        "id": "0uzxIAtgh-4T",
        "outputId": "017fe69d-694f-4ce1-b263-008a3b8afa30"
      },
      "execution_count": 81,
      "outputs": [
        {
          "output_type": "stream",
          "name": "stdout",
          "text": [
            "RMSE  XGBRegressor_train_valid : 0.0001769066403621813\n"
          ]
        },
        {
          "output_type": "display_data",
          "data": {
            "text/plain": [
              "<Figure size 864x432 with 1 Axes>"
            ],
            "image/png": "[encoded data removed]"
          },
          "metadata": {
            "needs_background": "light"
          }
        },
        {
          "output_type": "stream",
          "name": "stdout",
          "text": [
            "RMSE  LightGBMRegressor_train_valid : 0.7324276348680323\n"
          ]
        },
        {
          "output_type": "display_data",
          "data": {
            "text/plain": [
              "<Figure size 864x432 with 1 Axes>"
            ],
            "image/png": "[encoded data removed]"
          },
          "metadata": {
            "needs_background": "light"
          }
        },
        {
          "output_type": "stream",
          "name": "stdout",
          "text": [
            "RMSE  RandomForestRegressor_train_valid : 0.11111111111111112\n"
          ]
        },
        {
          "output_type": "display_data",
          "data": {
            "text/plain": [
              "<Figure size 864x432 with 1 Axes>"
            ],
            "image/png": "[encoded data removed]"
          },
          "metadata": {
            "needs_background": "light"
          }
        },
        {
          "output_type": "stream",
          "name": "stdout",
          "text": [
            "RMSE  LinearRegression_train_valid : 0.04200968431200251\n"
          ]
        },
        {
          "output_type": "display_data",
          "data": {
            "text/plain": [
              "<Figure size 864x432 with 1 Axes>"
            ],
            "image/png": "[encoded data removed]"
          },
          "metadata": {
            "needs_background": "light"
          }
        },
        {
          "output_type": "stream",
          "name": "stdout",
          "text": [
            "RMSE  CatBoostRegressor_train_valid : 0.24593892072501497\n"
          ]
        },
        {
          "output_type": "display_data",
          "data": {
            "text/plain": [
              "<Figure size 864x432 with 1 Axes>"
            ],
            "image/png": "[encoded data removed]"
          },
          "metadata": {
            "needs_background": "light"
          }
        }
      ]
    },
    {
      "cell_type": "code",
      "source": [
        "df_result = pd.DataFrame(data=df, columns=col_data) # таблица с результатами"
      ],
      "metadata": {
        "id": "HdILmtExiPOY"
      },
      "execution_count": 82,
      "outputs": []
    },
    {
      "cell_type": "code",
      "source": [
        "df_result"
      ],
      "metadata": {
        "colab": {
          "base_uri": "https://localhost:8080/",
          "height": 771
        },
        "id": "7X2yxrJWiRFm",
        "outputId": "6b63a74f-2b98-4c34-c25a-b3c23c147d5f"
      },
      "execution_count": 83,
      "outputs": [
        {
          "output_type": "execute_result",
          "data": {
            "text/plain": [
              "                                model    type_data      RMSE\n",
              "0                   CatBoostRegressor        train  0.225355\n",
              "1                        XGBRegressor        train  1.498709\n",
              "2                   LightGBMRegressor        train  3.309032\n",
              "3               RandomForestRegressor        train  1.463402\n",
              "4                    LinearRegression        train  0.176395\n",
              "5                                   -            -         -\n",
              "6                        XGBRegressor         test  0.008094\n",
              "7                   LightGBMRegressor         test    0.7148\n",
              "8               RandomForestRegressor         test  0.248452\n",
              "9                    LinearRegression         test   0.04235\n",
              "10                  CatBoostRegressor         test  0.243527\n",
              "11                                  -            -         -\n",
              "12                       XGBRegressor  train_valid  0.880936\n",
              "13                  LightGBMRegressor  train_valid  3.238352\n",
              "14              RandomForestRegressor  train_valid  0.174078\n",
              "15                   LinearRegression  train_valid  0.166991\n",
              "16                          model_CBR  train_valid  0.230924\n",
              "17                                  -            -         -\n",
              "18           XGBRegressor_train_valid         test  0.000177\n",
              "19      LightGBMRegressor_train_valid         test  0.732428\n",
              "20  RandomForestRegressor_train_valid         test  0.111111\n",
              "21       LinearRegression_train_valid         test   0.04201\n",
              "22      CatBoostRegressor_train_valid         test  0.245939"
            ],
            "text/html": [
              "\n",
              "  <div id=\"df-0d41d36a-93cc-465e-81ed-72080e8cc067\">\n",
              "    <div class=\"colab-df-container\">\n",
              "      <div>\n",
              "<style scoped>\n",
              "    .dataframe tbody tr th:only-of-type {\n",
              "        vertical-align: middle;\n",
              "    }\n",
              "\n",
              "    .dataframe tbody tr th {\n",
              "        vertical-align: top;\n",
              "    }\n",
              "\n",
              "    .dataframe thead th {\n",
              "        text-align: right;\n",
              "    }\n",
              "</style>\n",
              "<table border=\"1\" class=\"dataframe\">\n",
              "  <thead>\n",
              "    <tr style=\"text-align: right;\">\n",
              "      <th></th>\n",
              "      <th>model</th>\n",
              "      <th>type_data</th>\n",
              "      <th>RMSE</th>\n",
              "    </tr>\n",
              "  </thead>\n",
              "  <tbody>\n",
              "    <tr>\n",
              "      <th>0</th>\n",
              "      <td>CatBoostRegressor</td>\n",
              "      <td>train</td>\n",
              "      <td>0.225355</td>\n",
              "    </tr>\n",
              "    <tr>\n",
              "      <th>1</th>\n",
              "      <td>XGBRegressor</td>\n",
              "      <td>train</td>\n",
              "      <td>1.498709</td>\n",
              "    </tr>\n",
              "    <tr>\n",
              "      <th>2</th>\n",
              "      <td>LightGBMRegressor</td>\n",
              "      <td>train</td>\n",
              "      <td>3.309032</td>\n",
              "    </tr>\n",
              "    <tr>\n",
              "      <th>3</th>\n",
              "      <td>RandomForestRegressor</td>\n",
              "      <td>train</td>\n",
              "      <td>1.463402</td>\n",
              "    </tr>\n",
              "    <tr>\n",
              "      <th>4</th>\n",
              "      <td>LinearRegression</td>\n",
              "      <td>train</td>\n",
              "      <td>0.176395</td>\n",
              "    </tr>\n",
              "    <tr>\n",
              "      <th>5</th>\n",
              "      <td>-</td>\n",
              "      <td>-</td>\n",
              "      <td>-</td>\n",
              "    </tr>\n",
              "    <tr>\n",
              "      <th>6</th>\n",
              "      <td>XGBRegressor</td>\n",
              "      <td>test</td>\n",
              "      <td>0.008094</td>\n",
              "    </tr>\n",
              "    <tr>\n",
              "      <th>7</th>\n",
              "      <td>LightGBMRegressor</td>\n",
              "      <td>test</td>\n",
              "      <td>0.7148</td>\n",
              "    </tr>\n",
              "    <tr>\n",
              "      <th>8</th>\n",
              "      <td>RandomForestRegressor</td>\n",
              "      <td>test</td>\n",
              "      <td>0.248452</td>\n",
              "    </tr>\n",
              "    <tr>\n",
              "      <th>9</th>\n",
              "      <td>LinearRegression</td>\n",
              "      <td>test</td>\n",
              "      <td>0.04235</td>\n",
              "    </tr>\n",
              "    <tr>\n",
              "      <th>10</th>\n",
              "      <td>CatBoostRegressor</td>\n",
              "      <td>test</td>\n",
              "      <td>0.243527</td>\n",
              "    </tr>\n",
              "    <tr>\n",
              "      <th>11</th>\n",
              "      <td>-</td>\n",
              "      <td>-</td>\n",
              "      <td>-</td>\n",
              "    </tr>\n",
              "    <tr>\n",
              "      <th>12</th>\n",
              "      <td>XGBRegressor</td>\n",
              "      <td>train_valid</td>\n",
              "      <td>0.880936</td>\n",
              "    </tr>\n",
              "    <tr>\n",
              "      <th>13</th>\n",
              "      <td>LightGBMRegressor</td>\n",
              "      <td>train_valid</td>\n",
              "      <td>3.238352</td>\n",
              "    </tr>\n",
              "    <tr>\n",
              "      <th>14</th>\n",
              "      <td>RandomForestRegressor</td>\n",
              "      <td>train_valid</td>\n",
              "      <td>0.174078</td>\n",
              "    </tr>\n",
              "    <tr>\n",
              "      <th>15</th>\n",
              "      <td>LinearRegression</td>\n",
              "      <td>train_valid</td>\n",
              "      <td>0.166991</td>\n",
              "    </tr>\n",
              "    <tr>\n",
              "      <th>16</th>\n",
              "      <td>model_CBR</td>\n",
              "      <td>train_valid</td>\n",
              "      <td>0.230924</td>\n",
              "    </tr>\n",
              "    <tr>\n",
              "      <th>17</th>\n",
              "      <td>-</td>\n",
              "      <td>-</td>\n",
              "      <td>-</td>\n",
              "    </tr>\n",
              "    <tr>\n",
              "      <th>18</th>\n",
              "      <td>XGBRegressor_train_valid</td>\n",
              "      <td>test</td>\n",
              "      <td>0.000177</td>\n",
              "    </tr>\n",
              "    <tr>\n",
              "      <th>19</th>\n",
              "      <td>LightGBMRegressor_train_valid</td>\n",
              "      <td>test</td>\n",
              "      <td>0.732428</td>\n",
              "    </tr>\n",
              "    <tr>\n",
              "      <th>20</th>\n",
              "      <td>RandomForestRegressor_train_valid</td>\n",
              "      <td>test</td>\n",
              "      <td>0.111111</td>\n",
              "    </tr>\n",
              "    <tr>\n",
              "      <th>21</th>\n",
              "      <td>LinearRegression_train_valid</td>\n",
              "      <td>test</td>\n",
              "      <td>0.04201</td>\n",
              "    </tr>\n",
              "    <tr>\n",
              "      <th>22</th>\n",
              "      <td>CatBoostRegressor_train_valid</td>\n",
              "      <td>test</td>\n",
              "      <td>0.245939</td>\n",
              "    </tr>\n",
              "  </tbody>\n",
              "</table>\n",
              "</div>\n",
              "      <button class=\"colab-df-convert\" onclick=\"convertToInteractive('df-0d41d36a-93cc-465e-81ed-72080e8cc067')\"\n",
              "              title=\"Convert this dataframe to an interactive table.\"\n",
              "              style=\"display:none;\">\n",
              "        \n",
              "  <svg xmlns=\"http://www.w3.org/2000/svg\" height=\"24px\"viewBox=\"0 0 24 24\"\n",
              "       width=\"24px\">\n",
              "    <path d=\"M0 0h24v24H0V0z\" fill=\"none\"/>\n",
              "    <path d=\"M18.56 5.44l.94 2.06.94-2.06 2.06-.94-2.06-.94-.94-2.06-.94 2.06-2.06.94zm-11 1L8.5 8.5l.94-2.06 2.06-.94-2.06-.94L8.5 2.5l-.94 2.06-2.06.94zm10 10l.94 2.06.94-2.06 2.06-.94-2.06-.94-.94-2.06-.94 2.06-2.06.94z\"/><path d=\"M17.41 7.96l-1.37-1.37c-.4-.4-.92-.59-1.43-.59-.52 0-1.04.2-1.43.59L10.3 9.45l-7.72 7.72c-.78.78-.78 2.05 0 2.83L4 21.41c.39.39.9.59 1.41.59.51 0 1.02-.2 1.41-.59l7.78-7.78 2.81-2.81c.8-.78.8-2.07 0-2.86zM5.41 20L4 18.59l7.72-7.72 1.47 1.35L5.41 20z\"/>\n",
              "  </svg>\n",
              "      </button>\n",
              "      \n",
              "  <style>\n",
              "    .colab-df-container {\n",
              "      display:flex;\n",
              "      flex-wrap:wrap;\n",
              "      gap: 12px;\n",
              "    }\n",
              "\n",
              "    .colab-df-convert {\n",
              "      background-color: #E8F0FE;\n",
              "      border: none;\n",
              "      border-radius: 50%;\n",
              "      cursor: pointer;\n",
              "      display: none;\n",
              "      fill: #1967D2;\n",
              "      height: 32px;\n",
              "      padding: 0 0 0 0;\n",
              "      width: 32px;\n",
              "    }\n",
              "\n",
              "    .colab-df-convert:hover {\n",
              "      background-color: #E2EBFA;\n",
              "      box-shadow: 0px 1px 2px rgba(60, 64, 67, 0.3), 0px 1px 3px 1px rgba(60, 64, 67, 0.15);\n",
              "      fill: #174EA6;\n",
              "    }\n",
              "\n",
              "    [theme=dark] .colab-df-convert {\n",
              "      background-color: #3B4455;\n",
              "      fill: #D2E3FC;\n",
              "    }\n",
              "\n",
              "    [theme=dark] .colab-df-convert:hover {\n",
              "      background-color: #434B5C;\n",
              "      box-shadow: 0px 1px 3px 1px rgba(0, 0, 0, 0.15);\n",
              "      filter: drop-shadow(0px 1px 2px rgba(0, 0, 0, 0.3));\n",
              "      fill: #FFFFFF;\n",
              "    }\n",
              "  </style>\n",
              "\n",
              "      <script>\n",
              "        const buttonEl =\n",
              "          document.querySelector('#df-0d41d36a-93cc-465e-81ed-72080e8cc067 button.colab-df-convert');\n",
              "        buttonEl.style.display =\n",
              "          google.colab.kernel.accessAllowed ? 'block' : 'none';\n",
              "\n",
              "        async function convertToInteractive(key) {\n",
              "          const element = document.querySelector('#df-0d41d36a-93cc-465e-81ed-72080e8cc067');\n",
              "          const dataTable =\n",
              "            await google.colab.kernel.invokeFunction('convertToInteractive',\n",
              "                                                     [key], {});\n",
              "          if (!dataTable) return;\n",
              "\n",
              "          const docLinkHtml = 'Like what you see? Visit the ' +\n",
              "            '<a target=\"_blank\" href=https://colab.research.google.com/notebooks/data_table.ipynb>data table notebook</a>'\n",
              "            + ' to learn more about interactive tables.';\n",
              "          element.innerHTML = '';\n",
              "          dataTable['output_type'] = 'display_data';\n",
              "          await google.colab.output.renderOutput(dataTable, element);\n",
              "          const docLink = document.createElement('div');\n",
              "          docLink.innerHTML = docLinkHtml;\n",
              "          element.appendChild(docLink);\n",
              "        }\n",
              "      </script>\n",
              "    </div>\n",
              "  </div>\n",
              "  "
            ]
          },
          "metadata": {},
          "execution_count": 83
        }
      ]
    },
    {
      "cell_type": "code",
      "source": [
        "model = [model_XGBR, \n",
        "         model_LGBMR, \n",
        "         best_modelRFR,\n",
        "         modelLinR,\n",
        "         model_CBR]"
      ],
      "metadata": {
        "id": "2DwVX4GRiRDB"
      },
      "execution_count": 84,
      "outputs": []
    },
    {
      "cell_type": "code",
      "source": [
        "target_test"
      ],
      "metadata": {
        "colab": {
          "base_uri": "https://localhost:8080/"
        },
        "id": "preswm0BiRAM",
        "outputId": "3c940343-ff5a-4ca9-fc1d-326c09638bf5"
      },
      "execution_count": 85,
      "outputs": [
        {
          "output_type": "execute_result",
          "data": {
            "text/plain": [
              "Дата\n",
              "2022-06-07    3\n",
              "2022-06-08    2\n",
              "2022-06-09    1\n",
              "2022-06-10    3\n",
              "2022-06-11    0\n",
              "2022-06-12    2\n",
              "2022-06-13    3\n",
              "2022-06-14    1\n",
              "2022-06-15    3\n",
              "Name: Продажи, dtype: int64"
            ]
          },
          "metadata": {},
          "execution_count": 85
        }
      ]
    },
    {
      "cell_type": "code",
      "source": [
        "best_modelRFR.predict(features_test)"
      ],
      "metadata": {
        "colab": {
          "base_uri": "https://localhost:8080/"
        },
        "id": "efkML09gk744",
        "outputId": "6d349fea-ff35-473b-8296-9c883add29d9"
      },
      "execution_count": 86,
      "outputs": [
        {
          "output_type": "execute_result",
          "data": {
            "text/plain": [
              "array([3.        , 2.        , 1.        , 3.        , 0.        ,\n",
              "       2.        , 3.        , 0.66666667, 3.        ])"
            ]
          },
          "metadata": {},
          "execution_count": 86
        }
      ]
    },
    {
      "cell_type": "markdown",
      "source": [
        "--------------"
      ],
      "metadata": {
        "id": "6IVs9IcQmr-5"
      }
    },
    {
      "cell_type": "code",
      "source": [
        "features_test"
      ],
      "metadata": {
        "colab": {
          "base_uri": "https://localhost:8080/",
          "height": 601
        },
        "id": "hRSJUP1bml-3",
        "outputId": "9500682f-10d7-42d8-d3ca-5f8fe4ac893a"
      },
      "execution_count": 87,
      "outputs": [
        {
          "output_type": "execute_result",
          "data": {
            "text/plain": [
              "            Остаток   Цена  Скидка  Цена со скидкой  Сумма продаж  \\\n",
              "Дата                                                                \n",
              "2022-06-07    297.0  846.0    77.0            194.0         582.0   \n",
              "2022-06-08    295.0  846.0    77.0            194.0         388.0   \n",
              "2022-06-09    294.0  846.0    77.0            194.0         194.0   \n",
              "2022-06-10    291.0  846.0    77.0            194.0         582.0   \n",
              "2022-06-11    291.0  846.0    77.0            194.0           0.0   \n",
              "2022-06-12    289.0  846.0    77.0            194.0         388.0   \n",
              "2022-06-13    287.0  846.0    77.0            194.0         582.0   \n",
              "2022-06-14    286.0  846.0    77.0            194.0         194.0   \n",
              "2022-06-15    284.0  846.0    77.0            194.0         582.0   \n",
              "\n",
              "            Комментариев  Рейтинг  month  day  dayofweek  lag_1  lag_2  lag_3  \\\n",
              "Дата                                                                            \n",
              "2022-06-07        1642.0      4.0      6    7          1    2.0    3.0    3.0   \n",
              "2022-06-08        1643.0      4.0      6    8          2    3.0    2.0    3.0   \n",
              "2022-06-09        1644.0      4.0      6    9          3    2.0    3.0    2.0   \n",
              "2022-06-10        1644.0      4.0      6   10          4    1.0    2.0    3.0   \n",
              "2022-06-11        1645.0      4.0      6   11          5    3.0    1.0    2.0   \n",
              "2022-06-12        1645.0      4.0      6   12          6    0.0    3.0    1.0   \n",
              "2022-06-13        1648.0      4.0      6   13          0    2.0    0.0    3.0   \n",
              "2022-06-14        1650.0      4.0      6   14          1    3.0    2.0    0.0   \n",
              "2022-06-15        1651.0      4.0      6   15          2    1.0    3.0    2.0   \n",
              "\n",
              "            lag_4  lag_5  lag_6  lag_7  rolling_mean  \n",
              "Дата                                                  \n",
              "2022-06-07    4.0    4.0    4.0    0.0      2.666667  \n",
              "2022-06-08    3.0    4.0    4.0    4.0      2.666667  \n",
              "2022-06-09    3.0    3.0    4.0    4.0      2.333333  \n",
              "2022-06-10    2.0    3.0    3.0    4.0      2.000000  \n",
              "2022-06-11    3.0    2.0    3.0    3.0      2.000000  \n",
              "2022-06-12    2.0    3.0    2.0    3.0      1.333333  \n",
              "2022-06-13    1.0    2.0    3.0    2.0      1.666667  \n",
              "2022-06-14    3.0    1.0    2.0    3.0      1.666667  \n",
              "2022-06-15    0.0    3.0    1.0    2.0      2.000000  "
            ],
            "text/html": [
              "\n",
              "  <div id=\"df-efc70ca9-6e14-4541-8d54-93f20cb3f14c\">\n",
              "    <div class=\"colab-df-container\">\n",
              "      <div>\n",
              "<style scoped>\n",
              "    .dataframe tbody tr th:only-of-type {\n",
              "        vertical-align: middle;\n",
              "    }\n",
              "\n",
              "    .dataframe tbody tr th {\n",
              "        vertical-align: top;\n",
              "    }\n",
              "\n",
              "    .dataframe thead th {\n",
              "        text-align: right;\n",
              "    }\n",
              "</style>\n",
              "<table border=\"1\" class=\"dataframe\">\n",
              "  <thead>\n",
              "    <tr style=\"text-align: right;\">\n",
              "      <th></th>\n",
              "      <th>Остаток</th>\n",
              "      <th>Цена</th>\n",
              "      <th>Скидка</th>\n",
              "      <th>Цена со скидкой</th>\n",
              "      <th>Сумма продаж</th>\n",
              "      <th>Комментариев</th>\n",
              "      <th>Рейтинг</th>\n",
              "      <th>month</th>\n",
              "      <th>day</th>\n",
              "      <th>dayofweek</th>\n",
              "      <th>lag_1</th>\n",
              "      <th>lag_2</th>\n",
              "      <th>lag_3</th>\n",
              "      <th>lag_4</th>\n",
              "      <th>lag_5</th>\n",
              "      <th>lag_6</th>\n",
              "      <th>lag_7</th>\n",
              "      <th>rolling_mean</th>\n",
              "    </tr>\n",
              "    <tr>\n",
              "      <th>Дата</th>\n",
              "      <th></th>\n",
              "      <th></th>\n",
              "      <th></th>\n",
              "      <th></th>\n",
              "      <th></th>\n",
              "      <th></th>\n",
              "      <th></th>\n",
              "      <th></th>\n",
              "      <th></th>\n",
              "      <th></th>\n",
              "      <th></th>\n",
              "      <th></th>\n",
              "      <th></th>\n",
              "      <th></th>\n",
              "      <th></th>\n",
              "      <th></th>\n",
              "      <th></th>\n",
              "      <th></th>\n",
              "    </tr>\n",
              "  </thead>\n",
              "  <tbody>\n",
              "    <tr>\n",
              "      <th>2022-06-07</th>\n",
              "      <td>297.0</td>\n",
              "      <td>846.0</td>\n",
              "      <td>77.0</td>\n",
              "      <td>194.0</td>\n",
              "      <td>582.0</td>\n",
              "      <td>1642.0</td>\n",
              "      <td>4.0</td>\n",
              "      <td>6</td>\n",
              "      <td>7</td>\n",
              "      <td>1</td>\n",
              "      <td>2.0</td>\n",
              "      <td>3.0</td>\n",
              "      <td>3.0</td>\n",
              "      <td>4.0</td>\n",
              "      <td>4.0</td>\n",
              "      <td>4.0</td>\n",
              "      <td>0.0</td>\n",
              "      <td>2.666667</td>\n",
              "    </tr>\n",
              "    <tr>\n",
              "      <th>2022-06-08</th>\n",
              "      <td>295.0</td>\n",
              "      <td>846.0</td>\n",
              "      <td>77.0</td>\n",
              "      <td>194.0</td>\n",
              "      <td>388.0</td>\n",
              "      <td>1643.0</td>\n",
              "      <td>4.0</td>\n",
              "      <td>6</td>\n",
              "      <td>8</td>\n",
              "      <td>2</td>\n",
              "      <td>3.0</td>\n",
              "      <td>2.0</td>\n",
              "      <td>3.0</td>\n",
              "      <td>3.0</td>\n",
              "      <td>4.0</td>\n",
              "      <td>4.0</td>\n",
              "      <td>4.0</td>\n",
              "      <td>2.666667</td>\n",
              "    </tr>\n",
              "    <tr>\n",
              "      <th>2022-06-09</th>\n",
              "      <td>294.0</td>\n",
              "      <td>846.0</td>\n",
              "      <td>77.0</td>\n",
              "      <td>194.0</td>\n",
              "      <td>194.0</td>\n",
              "      <td>1644.0</td>\n",
              "      <td>4.0</td>\n",
              "      <td>6</td>\n",
              "      <td>9</td>\n",
              "      <td>3</td>\n",
              "      <td>2.0</td>\n",
              "      <td>3.0</td>\n",
              "      <td>2.0</td>\n",
              "      <td>3.0</td>\n",
              "      <td>3.0</td>\n",
              "      <td>4.0</td>\n",
              "      <td>4.0</td>\n",
              "      <td>2.333333</td>\n",
              "    </tr>\n",
              "    <tr>\n",
              "      <th>2022-06-10</th>\n",
              "      <td>291.0</td>\n",
              "      <td>846.0</td>\n",
              "      <td>77.0</td>\n",
              "      <td>194.0</td>\n",
              "      <td>582.0</td>\n",
              "      <td>1644.0</td>\n",
              "      <td>4.0</td>\n",
              "      <td>6</td>\n",
              "      <td>10</td>\n",
              "      <td>4</td>\n",
              "      <td>1.0</td>\n",
              "      <td>2.0</td>\n",
              "      <td>3.0</td>\n",
              "      <td>2.0</td>\n",
              "      <td>3.0</td>\n",
              "      <td>3.0</td>\n",
              "      <td>4.0</td>\n",
              "      <td>2.000000</td>\n",
              "    </tr>\n",
              "    <tr>\n",
              "      <th>2022-06-11</th>\n",
              "      <td>291.0</td>\n",
              "      <td>846.0</td>\n",
              "      <td>77.0</td>\n",
              "      <td>194.0</td>\n",
              "      <td>0.0</td>\n",
              "      <td>1645.0</td>\n",
              "      <td>4.0</td>\n",
              "      <td>6</td>\n",
              "      <td>11</td>\n",
              "      <td>5</td>\n",
              "      <td>3.0</td>\n",
              "      <td>1.0</td>\n",
              "      <td>2.0</td>\n",
              "      <td>3.0</td>\n",
              "      <td>2.0</td>\n",
              "      <td>3.0</td>\n",
              "      <td>3.0</td>\n",
              "      <td>2.000000</td>\n",
              "    </tr>\n",
              "    <tr>\n",
              "      <th>2022-06-12</th>\n",
              "      <td>289.0</td>\n",
              "      <td>846.0</td>\n",
              "      <td>77.0</td>\n",
              "      <td>194.0</td>\n",
              "      <td>388.0</td>\n",
              "      <td>1645.0</td>\n",
              "      <td>4.0</td>\n",
              "      <td>6</td>\n",
              "      <td>12</td>\n",
              "      <td>6</td>\n",
              "      <td>0.0</td>\n",
              "      <td>3.0</td>\n",
              "      <td>1.0</td>\n",
              "      <td>2.0</td>\n",
              "      <td>3.0</td>\n",
              "      <td>2.0</td>\n",
              "      <td>3.0</td>\n",
              "      <td>1.333333</td>\n",
              "    </tr>\n",
              "    <tr>\n",
              "      <th>2022-06-13</th>\n",
              "      <td>287.0</td>\n",
              "      <td>846.0</td>\n",
              "      <td>77.0</td>\n",
              "      <td>194.0</td>\n",
              "      <td>582.0</td>\n",
              "      <td>1648.0</td>\n",
              "      <td>4.0</td>\n",
              "      <td>6</td>\n",
              "      <td>13</td>\n",
              "      <td>0</td>\n",
              "      <td>2.0</td>\n",
              "      <td>0.0</td>\n",
              "      <td>3.0</td>\n",
              "      <td>1.0</td>\n",
              "      <td>2.0</td>\n",
              "      <td>3.0</td>\n",
              "      <td>2.0</td>\n",
              "      <td>1.666667</td>\n",
              "    </tr>\n",
              "    <tr>\n",
              "      <th>2022-06-14</th>\n",
              "      <td>286.0</td>\n",
              "      <td>846.0</td>\n",
              "      <td>77.0</td>\n",
              "      <td>194.0</td>\n",
              "      <td>194.0</td>\n",
              "      <td>1650.0</td>\n",
              "      <td>4.0</td>\n",
              "      <td>6</td>\n",
              "      <td>14</td>\n",
              "      <td>1</td>\n",
              "      <td>3.0</td>\n",
              "      <td>2.0</td>\n",
              "      <td>0.0</td>\n",
              "      <td>3.0</td>\n",
              "      <td>1.0</td>\n",
              "      <td>2.0</td>\n",
              "      <td>3.0</td>\n",
              "      <td>1.666667</td>\n",
              "    </tr>\n",
              "    <tr>\n",
              "      <th>2022-06-15</th>\n",
              "      <td>284.0</td>\n",
              "      <td>846.0</td>\n",
              "      <td>77.0</td>\n",
              "      <td>194.0</td>\n",
              "      <td>582.0</td>\n",
              "      <td>1651.0</td>\n",
              "      <td>4.0</td>\n",
              "      <td>6</td>\n",
              "      <td>15</td>\n",
              "      <td>2</td>\n",
              "      <td>1.0</td>\n",
              "      <td>3.0</td>\n",
              "      <td>2.0</td>\n",
              "      <td>0.0</td>\n",
              "      <td>3.0</td>\n",
              "      <td>1.0</td>\n",
              "      <td>2.0</td>\n",
              "      <td>2.000000</td>\n",
              "    </tr>\n",
              "  </tbody>\n",
              "</table>\n",
              "</div>\n",
              "      <button class=\"colab-df-convert\" onclick=\"convertToInteractive('df-efc70ca9-6e14-4541-8d54-93f20cb3f14c')\"\n",
              "              title=\"Convert this dataframe to an interactive table.\"\n",
              "              style=\"display:none;\">\n",
              "        \n",
              "  <svg xmlns=\"http://www.w3.org/2000/svg\" height=\"24px\"viewBox=\"0 0 24 24\"\n",
              "       width=\"24px\">\n",
              "    <path d=\"M0 0h24v24H0V0z\" fill=\"none\"/>\n",
              "    <path d=\"M18.56 5.44l.94 2.06.94-2.06 2.06-.94-2.06-.94-.94-2.06-.94 2.06-2.06.94zm-11 1L8.5 8.5l.94-2.06 2.06-.94-2.06-.94L8.5 2.5l-.94 2.06-2.06.94zm10 10l.94 2.06.94-2.06 2.06-.94-2.06-.94-.94-2.06-.94 2.06-2.06.94z\"/><path d=\"M17.41 7.96l-1.37-1.37c-.4-.4-.92-.59-1.43-.59-.52 0-1.04.2-1.43.59L10.3 9.45l-7.72 7.72c-.78.78-.78 2.05 0 2.83L4 21.41c.39.39.9.59 1.41.59.51 0 1.02-.2 1.41-.59l7.78-7.78 2.81-2.81c.8-.78.8-2.07 0-2.86zM5.41 20L4 18.59l7.72-7.72 1.47 1.35L5.41 20z\"/>\n",
              "  </svg>\n",
              "      </button>\n",
              "      \n",
              "  <style>\n",
              "    .colab-df-container {\n",
              "      display:flex;\n",
              "      flex-wrap:wrap;\n",
              "      gap: 12px;\n",
              "    }\n",
              "\n",
              "    .colab-df-convert {\n",
              "      background-color: #E8F0FE;\n",
              "      border: none;\n",
              "      border-radius: 50%;\n",
              "      cursor: pointer;\n",
              "      display: none;\n",
              "      fill: #1967D2;\n",
              "      height: 32px;\n",
              "      padding: 0 0 0 0;\n",
              "      width: 32px;\n",
              "    }\n",
              "\n",
              "    .colab-df-convert:hover {\n",
              "      background-color: #E2EBFA;\n",
              "      box-shadow: 0px 1px 2px rgba(60, 64, 67, 0.3), 0px 1px 3px 1px rgba(60, 64, 67, 0.15);\n",
              "      fill: #174EA6;\n",
              "    }\n",
              "\n",
              "    [theme=dark] .colab-df-convert {\n",
              "      background-color: #3B4455;\n",
              "      fill: #D2E3FC;\n",
              "    }\n",
              "\n",
              "    [theme=dark] .colab-df-convert:hover {\n",
              "      background-color: #434B5C;\n",
              "      box-shadow: 0px 1px 3px 1px rgba(0, 0, 0, 0.15);\n",
              "      filter: drop-shadow(0px 1px 2px rgba(0, 0, 0, 0.3));\n",
              "      fill: #FFFFFF;\n",
              "    }\n",
              "  </style>\n",
              "\n",
              "      <script>\n",
              "        const buttonEl =\n",
              "          document.querySelector('#df-efc70ca9-6e14-4541-8d54-93f20cb3f14c button.colab-df-convert');\n",
              "        buttonEl.style.display =\n",
              "          google.colab.kernel.accessAllowed ? 'block' : 'none';\n",
              "\n",
              "        async function convertToInteractive(key) {\n",
              "          const element = document.querySelector('#df-efc70ca9-6e14-4541-8d54-93f20cb3f14c');\n",
              "          const dataTable =\n",
              "            await google.colab.kernel.invokeFunction('convertToInteractive',\n",
              "                                                     [key], {});\n",
              "          if (!dataTable) return;\n",
              "\n",
              "          const docLinkHtml = 'Like what you see? Visit the ' +\n",
              "            '<a target=\"_blank\" href=https://colab.research.google.com/notebooks/data_table.ipynb>data table notebook</a>'\n",
              "            + ' to learn more about interactive tables.';\n",
              "          element.innerHTML = '';\n",
              "          dataTable['output_type'] = 'display_data';\n",
              "          await google.colab.output.renderOutput(dataTable, element);\n",
              "          const docLink = document.createElement('div');\n",
              "          docLink.innerHTML = docLinkHtml;\n",
              "          element.appendChild(docLink);\n",
              "        }\n",
              "      </script>\n",
              "    </div>\n",
              "  </div>\n",
              "  "
            ]
          },
          "metadata": {},
          "execution_count": 87
        }
      ]
    },
    {
      "cell_type": "code",
      "source": [
        "data_features"
      ],
      "metadata": {
        "colab": {
          "base_uri": "https://localhost:8080/",
          "height": 710
        },
        "id": "SNP9_RH9mvra",
        "outputId": "7698998b-59c9-4edf-e859-975213187577"
      },
      "execution_count": 88,
      "outputs": [
        {
          "output_type": "execute_result",
          "data": {
            "text/plain": [
              "            Продажи  Остаток   Цена  Скидка  Цена со скидкой  Сумма продаж  \\\n",
              "Дата                                                                         \n",
              "2022-03-22       11    292.0  675.0    72.0            189.0        2079.0   \n",
              "2022-03-23        6    286.0  675.0    72.0            189.0        1134.0   \n",
              "2022-03-24        8    279.0  675.0    72.0            189.0        1512.0   \n",
              "2022-03-25        8    271.0  675.0    72.0            189.0        1512.0   \n",
              "2022-03-26        9    263.0  675.0    72.0            189.0        1701.0   \n",
              "...             ...      ...    ...     ...              ...           ...   \n",
              "2022-06-11        0    291.0  846.0    77.0            194.0           0.0   \n",
              "2022-06-12        2    289.0  846.0    77.0            194.0         388.0   \n",
              "2022-06-13        3    287.0  846.0    77.0            194.0         582.0   \n",
              "2022-06-14        1    286.0  846.0    77.0            194.0         194.0   \n",
              "2022-06-15        3    284.0  846.0    77.0            194.0         582.0   \n",
              "\n",
              "            Комментариев  Рейтинг  month  day  dayofweek  lag_1  lag_2  lag_3  \\\n",
              "Дата                                                                            \n",
              "2022-03-22        1540.0      4.0      3   22          1    5.0    9.0    7.0   \n",
              "2022-03-23        1540.0      4.0      3   23          2   11.0    5.0    9.0   \n",
              "2022-03-24        1550.0      4.0      3   24          3    6.0   11.0    5.0   \n",
              "2022-03-25        1552.0      4.0      3   25          4    8.0    6.0   11.0   \n",
              "2022-03-26        1553.0      4.0      3   26          5    8.0    8.0    6.0   \n",
              "...                  ...      ...    ...  ...        ...    ...    ...    ...   \n",
              "2022-06-11        1645.0      4.0      6   11          5    3.0    1.0    2.0   \n",
              "2022-06-12        1645.0      4.0      6   12          6    0.0    3.0    1.0   \n",
              "2022-06-13        1648.0      4.0      6   13          0    2.0    0.0    3.0   \n",
              "2022-06-14        1650.0      4.0      6   14          1    3.0    2.0    0.0   \n",
              "2022-06-15        1651.0      4.0      6   15          2    1.0    3.0    2.0   \n",
              "\n",
              "            lag_4  lag_5  lag_6  lag_7  rolling_mean  \n",
              "Дата                                                  \n",
              "2022-03-22   12.0    8.0    9.0    4.0      7.000000  \n",
              "2022-03-23    7.0   12.0    8.0    9.0      8.333333  \n",
              "2022-03-24    9.0    7.0   12.0    8.0      7.333333  \n",
              "2022-03-25    5.0    9.0    7.0   12.0      8.333333  \n",
              "2022-03-26   11.0    5.0    9.0    7.0      7.333333  \n",
              "...           ...    ...    ...    ...           ...  \n",
              "2022-06-11    3.0    2.0    3.0    3.0      2.000000  \n",
              "2022-06-12    2.0    3.0    2.0    3.0      1.333333  \n",
              "2022-06-13    1.0    2.0    3.0    2.0      1.666667  \n",
              "2022-06-14    3.0    1.0    2.0    3.0      1.666667  \n",
              "2022-06-15    0.0    3.0    1.0    2.0      2.000000  \n",
              "\n",
              "[86 rows x 19 columns]"
            ],
            "text/html": [
              "\n",
              "  <div id=\"df-1077b58e-2379-41dd-8764-7436a0557488\">\n",
              "    <div class=\"colab-df-container\">\n",
              "      <div>\n",
              "<style scoped>\n",
              "    .dataframe tbody tr th:only-of-type {\n",
              "        vertical-align: middle;\n",
              "    }\n",
              "\n",
              "    .dataframe tbody tr th {\n",
              "        vertical-align: top;\n",
              "    }\n",
              "\n",
              "    .dataframe thead th {\n",
              "        text-align: right;\n",
              "    }\n",
              "</style>\n",
              "<table border=\"1\" class=\"dataframe\">\n",
              "  <thead>\n",
              "    <tr style=\"text-align: right;\">\n",
              "      <th></th>\n",
              "      <th>Продажи</th>\n",
              "      <th>Остаток</th>\n",
              "      <th>Цена</th>\n",
              "      <th>Скидка</th>\n",
              "      <th>Цена со скидкой</th>\n",
              "      <th>Сумма продаж</th>\n",
              "      <th>Комментариев</th>\n",
              "      <th>Рейтинг</th>\n",
              "      <th>month</th>\n",
              "      <th>day</th>\n",
              "      <th>dayofweek</th>\n",
              "      <th>lag_1</th>\n",
              "      <th>lag_2</th>\n",
              "      <th>lag_3</th>\n",
              "      <th>lag_4</th>\n",
              "      <th>lag_5</th>\n",
              "      <th>lag_6</th>\n",
              "      <th>lag_7</th>\n",
              "      <th>rolling_mean</th>\n",
              "    </tr>\n",
              "    <tr>\n",
              "      <th>Дата</th>\n",
              "      <th></th>\n",
              "      <th></th>\n",
              "      <th></th>\n",
              "      <th></th>\n",
              "      <th></th>\n",
              "      <th></th>\n",
              "      <th></th>\n",
              "      <th></th>\n",
              "      <th></th>\n",
              "      <th></th>\n",
              "      <th></th>\n",
              "      <th></th>\n",
              "      <th></th>\n",
              "      <th></th>\n",
              "      <th></th>\n",
              "      <th></th>\n",
              "      <th></th>\n",
              "      <th></th>\n",
              "      <th></th>\n",
              "    </tr>\n",
              "  </thead>\n",
              "  <tbody>\n",
              "    <tr>\n",
              "      <th>2022-03-22</th>\n",
              "      <td>11</td>\n",
              "      <td>292.0</td>\n",
              "      <td>675.0</td>\n",
              "      <td>72.0</td>\n",
              "      <td>189.0</td>\n",
              "      <td>2079.0</td>\n",
              "      <td>1540.0</td>\n",
              "      <td>4.0</td>\n",
              "      <td>3</td>\n",
              "      <td>22</td>\n",
              "      <td>1</td>\n",
              "      <td>5.0</td>\n",
              "      <td>9.0</td>\n",
              "      <td>7.0</td>\n",
              "      <td>12.0</td>\n",
              "      <td>8.0</td>\n",
              "      <td>9.0</td>\n",
              "      <td>4.0</td>\n",
              "      <td>7.000000</td>\n",
              "    </tr>\n",
              "    <tr>\n",
              "      <th>2022-03-23</th>\n",
              "      <td>6</td>\n",
              "      <td>286.0</td>\n",
              "      <td>675.0</td>\n",
              "      <td>72.0</td>\n",
              "      <td>189.0</td>\n",
              "      <td>1134.0</td>\n",
              "      <td>1540.0</td>\n",
              "      <td>4.0</td>\n",
              "      <td>3</td>\n",
              "      <td>23</td>\n",
              "      <td>2</td>\n",
              "      <td>11.0</td>\n",
              "      <td>5.0</td>\n",
              "      <td>9.0</td>\n",
              "      <td>7.0</td>\n",
              "      <td>12.0</td>\n",
              "      <td>8.0</td>\n",
              "      <td>9.0</td>\n",
              "      <td>8.333333</td>\n",
              "    </tr>\n",
              "    <tr>\n",
              "      <th>2022-03-24</th>\n",
              "      <td>8</td>\n",
              "      <td>279.0</td>\n",
              "      <td>675.0</td>\n",
              "      <td>72.0</td>\n",
              "      <td>189.0</td>\n",
              "      <td>1512.0</td>\n",
              "      <td>1550.0</td>\n",
              "      <td>4.0</td>\n",
              "      <td>3</td>\n",
              "      <td>24</td>\n",
              "      <td>3</td>\n",
              "      <td>6.0</td>\n",
              "      <td>11.0</td>\n",
              "      <td>5.0</td>\n",
              "      <td>9.0</td>\n",
              "      <td>7.0</td>\n",
              "      <td>12.0</td>\n",
              "      <td>8.0</td>\n",
              "      <td>7.333333</td>\n",
              "    </tr>\n",
              "    <tr>\n",
              "      <th>2022-03-25</th>\n",
              "      <td>8</td>\n",
              "      <td>271.0</td>\n",
              "      <td>675.0</td>\n",
              "      <td>72.0</td>\n",
              "      <td>189.0</td>\n",
              "      <td>1512.0</td>\n",
              "      <td>1552.0</td>\n",
              "      <td>4.0</td>\n",
              "      <td>3</td>\n",
              "      <td>25</td>\n",
              "      <td>4</td>\n",
              "      <td>8.0</td>\n",
              "      <td>6.0</td>\n",
              "      <td>11.0</td>\n",
              "      <td>5.0</td>\n",
              "      <td>9.0</td>\n",
              "      <td>7.0</td>\n",
              "      <td>12.0</td>\n",
              "      <td>8.333333</td>\n",
              "    </tr>\n",
              "    <tr>\n",
              "      <th>2022-03-26</th>\n",
              "      <td>9</td>\n",
              "      <td>263.0</td>\n",
              "      <td>675.0</td>\n",
              "      <td>72.0</td>\n",
              "      <td>189.0</td>\n",
              "      <td>1701.0</td>\n",
              "      <td>1553.0</td>\n",
              "      <td>4.0</td>\n",
              "      <td>3</td>\n",
              "      <td>26</td>\n",
              "      <td>5</td>\n",
              "      <td>8.0</td>\n",
              "      <td>8.0</td>\n",
              "      <td>6.0</td>\n",
              "      <td>11.0</td>\n",
              "      <td>5.0</td>\n",
              "      <td>9.0</td>\n",
              "      <td>7.0</td>\n",
              "      <td>7.333333</td>\n",
              "    </tr>\n",
              "    <tr>\n",
              "      <th>...</th>\n",
              "      <td>...</td>\n",
              "      <td>...</td>\n",
              "      <td>...</td>\n",
              "      <td>...</td>\n",
              "      <td>...</td>\n",
              "      <td>...</td>\n",
              "      <td>...</td>\n",
              "      <td>...</td>\n",
              "      <td>...</td>\n",
              "      <td>...</td>\n",
              "      <td>...</td>\n",
              "      <td>...</td>\n",
              "      <td>...</td>\n",
              "      <td>...</td>\n",
              "      <td>...</td>\n",
              "      <td>...</td>\n",
              "      <td>...</td>\n",
              "      <td>...</td>\n",
              "      <td>...</td>\n",
              "    </tr>\n",
              "    <tr>\n",
              "      <th>2022-06-11</th>\n",
              "      <td>0</td>\n",
              "      <td>291.0</td>\n",
              "      <td>846.0</td>\n",
              "      <td>77.0</td>\n",
              "      <td>194.0</td>\n",
              "      <td>0.0</td>\n",
              "      <td>1645.0</td>\n",
              "      <td>4.0</td>\n",
              "      <td>6</td>\n",
              "      <td>11</td>\n",
              "      <td>5</td>\n",
              "      <td>3.0</td>\n",
              "      <td>1.0</td>\n",
              "      <td>2.0</td>\n",
              "      <td>3.0</td>\n",
              "      <td>2.0</td>\n",
              "      <td>3.0</td>\n",
              "      <td>3.0</td>\n",
              "      <td>2.000000</td>\n",
              "    </tr>\n",
              "    <tr>\n",
              "      <th>2022-06-12</th>\n",
              "      <td>2</td>\n",
              "      <td>289.0</td>\n",
              "      <td>846.0</td>\n",
              "      <td>77.0</td>\n",
              "      <td>194.0</td>\n",
              "      <td>388.0</td>\n",
              "      <td>1645.0</td>\n",
              "      <td>4.0</td>\n",
              "      <td>6</td>\n",
              "      <td>12</td>\n",
              "      <td>6</td>\n",
              "      <td>0.0</td>\n",
              "      <td>3.0</td>\n",
              "      <td>1.0</td>\n",
              "      <td>2.0</td>\n",
              "      <td>3.0</td>\n",
              "      <td>2.0</td>\n",
              "      <td>3.0</td>\n",
              "      <td>1.333333</td>\n",
              "    </tr>\n",
              "    <tr>\n",
              "      <th>2022-06-13</th>\n",
              "      <td>3</td>\n",
              "      <td>287.0</td>\n",
              "      <td>846.0</td>\n",
              "      <td>77.0</td>\n",
              "      <td>194.0</td>\n",
              "      <td>582.0</td>\n",
              "      <td>1648.0</td>\n",
              "      <td>4.0</td>\n",
              "      <td>6</td>\n",
              "      <td>13</td>\n",
              "      <td>0</td>\n",
              "      <td>2.0</td>\n",
              "      <td>0.0</td>\n",
              "      <td>3.0</td>\n",
              "      <td>1.0</td>\n",
              "      <td>2.0</td>\n",
              "      <td>3.0</td>\n",
              "      <td>2.0</td>\n",
              "      <td>1.666667</td>\n",
              "    </tr>\n",
              "    <tr>\n",
              "      <th>2022-06-14</th>\n",
              "      <td>1</td>\n",
              "      <td>286.0</td>\n",
              "      <td>846.0</td>\n",
              "      <td>77.0</td>\n",
              "      <td>194.0</td>\n",
              "      <td>194.0</td>\n",
              "      <td>1650.0</td>\n",
              "      <td>4.0</td>\n",
              "      <td>6</td>\n",
              "      <td>14</td>\n",
              "      <td>1</td>\n",
              "      <td>3.0</td>\n",
              "      <td>2.0</td>\n",
              "      <td>0.0</td>\n",
              "      <td>3.0</td>\n",
              "      <td>1.0</td>\n",
              "      <td>2.0</td>\n",
              "      <td>3.0</td>\n",
              "      <td>1.666667</td>\n",
              "    </tr>\n",
              "    <tr>\n",
              "      <th>2022-06-15</th>\n",
              "      <td>3</td>\n",
              "      <td>284.0</td>\n",
              "      <td>846.0</td>\n",
              "      <td>77.0</td>\n",
              "      <td>194.0</td>\n",
              "      <td>582.0</td>\n",
              "      <td>1651.0</td>\n",
              "      <td>4.0</td>\n",
              "      <td>6</td>\n",
              "      <td>15</td>\n",
              "      <td>2</td>\n",
              "      <td>1.0</td>\n",
              "      <td>3.0</td>\n",
              "      <td>2.0</td>\n",
              "      <td>0.0</td>\n",
              "      <td>3.0</td>\n",
              "      <td>1.0</td>\n",
              "      <td>2.0</td>\n",
              "      <td>2.000000</td>\n",
              "    </tr>\n",
              "  </tbody>\n",
              "</table>\n",
              "<p>86 rows × 19 columns</p>\n",
              "</div>\n",
              "      <button class=\"colab-df-convert\" onclick=\"convertToInteractive('df-1077b58e-2379-41dd-8764-7436a0557488')\"\n",
              "              title=\"Convert this dataframe to an interactive table.\"\n",
              "              style=\"display:none;\">\n",
              "        \n",
              "  <svg xmlns=\"http://www.w3.org/2000/svg\" height=\"24px\"viewBox=\"0 0 24 24\"\n",
              "       width=\"24px\">\n",
              "    <path d=\"M0 0h24v24H0V0z\" fill=\"none\"/>\n",
              "    <path d=\"M18.56 5.44l.94 2.06.94-2.06 2.06-.94-2.06-.94-.94-2.06-.94 2.06-2.06.94zm-11 1L8.5 8.5l.94-2.06 2.06-.94-2.06-.94L8.5 2.5l-.94 2.06-2.06.94zm10 10l.94 2.06.94-2.06 2.06-.94-2.06-.94-.94-2.06-.94 2.06-2.06.94z\"/><path d=\"M17.41 7.96l-1.37-1.37c-.4-.4-.92-.59-1.43-.59-.52 0-1.04.2-1.43.59L10.3 9.45l-7.72 7.72c-.78.78-.78 2.05 0 2.83L4 21.41c.39.39.9.59 1.41.59.51 0 1.02-.2 1.41-.59l7.78-7.78 2.81-2.81c.8-.78.8-2.07 0-2.86zM5.41 20L4 18.59l7.72-7.72 1.47 1.35L5.41 20z\"/>\n",
              "  </svg>\n",
              "      </button>\n",
              "      \n",
              "  <style>\n",
              "    .colab-df-container {\n",
              "      display:flex;\n",
              "      flex-wrap:wrap;\n",
              "      gap: 12px;\n",
              "    }\n",
              "\n",
              "    .colab-df-convert {\n",
              "      background-color: #E8F0FE;\n",
              "      border: none;\n",
              "      border-radius: 50%;\n",
              "      cursor: pointer;\n",
              "      display: none;\n",
              "      fill: #1967D2;\n",
              "      height: 32px;\n",
              "      padding: 0 0 0 0;\n",
              "      width: 32px;\n",
              "    }\n",
              "\n",
              "    .colab-df-convert:hover {\n",
              "      background-color: #E2EBFA;\n",
              "      box-shadow: 0px 1px 2px rgba(60, 64, 67, 0.3), 0px 1px 3px 1px rgba(60, 64, 67, 0.15);\n",
              "      fill: #174EA6;\n",
              "    }\n",
              "\n",
              "    [theme=dark] .colab-df-convert {\n",
              "      background-color: #3B4455;\n",
              "      fill: #D2E3FC;\n",
              "    }\n",
              "\n",
              "    [theme=dark] .colab-df-convert:hover {\n",
              "      background-color: #434B5C;\n",
              "      box-shadow: 0px 1px 3px 1px rgba(0, 0, 0, 0.15);\n",
              "      filter: drop-shadow(0px 1px 2px rgba(0, 0, 0, 0.3));\n",
              "      fill: #FFFFFF;\n",
              "    }\n",
              "  </style>\n",
              "\n",
              "      <script>\n",
              "        const buttonEl =\n",
              "          document.querySelector('#df-1077b58e-2379-41dd-8764-7436a0557488 button.colab-df-convert');\n",
              "        buttonEl.style.display =\n",
              "          google.colab.kernel.accessAllowed ? 'block' : 'none';\n",
              "\n",
              "        async function convertToInteractive(key) {\n",
              "          const element = document.querySelector('#df-1077b58e-2379-41dd-8764-7436a0557488');\n",
              "          const dataTable =\n",
              "            await google.colab.kernel.invokeFunction('convertToInteractive',\n",
              "                                                     [key], {});\n",
              "          if (!dataTable) return;\n",
              "\n",
              "          const docLinkHtml = 'Like what you see? Visit the ' +\n",
              "            '<a target=\"_blank\" href=https://colab.research.google.com/notebooks/data_table.ipynb>data table notebook</a>'\n",
              "            + ' to learn more about interactive tables.';\n",
              "          element.innerHTML = '';\n",
              "          dataTable['output_type'] = 'display_data';\n",
              "          await google.colab.output.renderOutput(dataTable, element);\n",
              "          const docLink = document.createElement('div');\n",
              "          docLink.innerHTML = docLinkHtml;\n",
              "          element.appendChild(docLink);\n",
              "        }\n",
              "      </script>\n",
              "    </div>\n",
              "  </div>\n",
              "  "
            ]
          },
          "metadata": {},
          "execution_count": 88
        }
      ]
    }
  ]
}