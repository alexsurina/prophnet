{
  "nbformat": 4,
  "nbformat_minor": 0,
  "metadata": {
    "colab": {
      "name": "Untitled17.ipynb",
      "provenance": [],
      "collapsed_sections": []
    },
    "kernelspec": {
      "name": "python3",
      "display_name": "Python 3"
    },
    "language_info": {
      "name": "python"
    }
  },
  "cells": [
    {
      "cell_type": "markdown",
      "source": [
        "Диспенсер для моющего средства\n",
        "Shiny Kitchen 18895524"
      ],
      "metadata": {
        "id": "9sRbrGybu1Uc"
      }
    },
    {
      "cell_type": "code",
      "source": [
        "! pip install catboost"
      ],
      "metadata": {
        "colab": {
          "base_uri": "https://localhost:8080/"
        },
        "id": "SnkKFFSRtyUk",
        "outputId": "1ea93bc8-ada7-4406-a089-0b627e45e080"
      },
      "execution_count": 1,
      "outputs": [
        {
          "output_type": "stream",
          "name": "stdout",
          "text": [
            "Looking in indexes: https://pypi.org/simple, https://us-python.pkg.dev/colab-wheels/public/simple/\n",
            "Requirement already satisfied: catboost in /usr/local/lib/python3.7/dist-packages (1.0.6)\n",
            "Requirement already satisfied: plotly in /usr/local/lib/python3.7/dist-packages (from catboost) (5.5.0)\n",
            "Requirement already satisfied: graphviz in /usr/local/lib/python3.7/dist-packages (from catboost) (0.10.1)\n",
            "Requirement already satisfied: pandas>=0.24.0 in /usr/local/lib/python3.7/dist-packages (from catboost) (1.3.5)\n",
            "Requirement already satisfied: matplotlib in /usr/local/lib/python3.7/dist-packages (from catboost) (3.2.2)\n",
            "Requirement already satisfied: numpy>=1.16.0 in /usr/local/lib/python3.7/dist-packages (from catboost) (1.21.6)\n",
            "Requirement already satisfied: six in /usr/local/lib/python3.7/dist-packages (from catboost) (1.15.0)\n",
            "Requirement already satisfied: scipy in /usr/local/lib/python3.7/dist-packages (from catboost) (1.4.1)\n",
            "Requirement already satisfied: python-dateutil>=2.7.3 in /usr/local/lib/python3.7/dist-packages (from pandas>=0.24.0->catboost) (2.8.2)\n",
            "Requirement already satisfied: pytz>=2017.3 in /usr/local/lib/python3.7/dist-packages (from pandas>=0.24.0->catboost) (2022.1)\n",
            "Requirement already satisfied: kiwisolver>=1.0.1 in /usr/local/lib/python3.7/dist-packages (from matplotlib->catboost) (1.4.2)\n",
            "Requirement already satisfied: pyparsing!=2.0.4,!=2.1.2,!=2.1.6,>=2.0.1 in /usr/local/lib/python3.7/dist-packages (from matplotlib->catboost) (3.0.9)\n",
            "Requirement already satisfied: cycler>=0.10 in /usr/local/lib/python3.7/dist-packages (from matplotlib->catboost) (0.11.0)\n",
            "Requirement already satisfied: typing-extensions in /usr/local/lib/python3.7/dist-packages (from kiwisolver>=1.0.1->matplotlib->catboost) (4.2.0)\n",
            "Requirement already satisfied: tenacity>=6.2.0 in /usr/local/lib/python3.7/dist-packages (from plotly->catboost) (8.0.1)\n"
          ]
        }
      ]
    },
    {
      "cell_type": "code",
      "source": [
        "import pandas as pd\n",
        "import numpy as np\n",
        "\n",
        "import matplotlib.pyplot as plt\n",
        "\n",
        "from statsmodels.tsa.seasonal import seasonal_decompose\n",
        "\n",
        "from sklearn.model_selection import train_test_split\n",
        "\n",
        "from sklearn.model_selection import TimeSeriesSplit\n",
        "\n",
        "from sklearn.model_selection import GridSearchCV\n",
        "from catboost import CatBoostRegressor\n",
        "\n",
        "import lightgbm as lgb\n",
        "\n",
        "import xgboost as xgb\n",
        "from xgboost import XGBRegressor\n",
        "\n",
        "from sklearn.linear_model import LinearRegression\n",
        "from sklearn.ensemble import RandomForestRegressor\n",
        "\n",
        "from sklearn.model_selection import cross_val_score\n",
        "from sklearn.metrics import make_scorer\n",
        "from sklearn.metrics import mean_squared_error\n",
        "\n",
        "import copy\n",
        "from copy import deepcopy"
      ],
      "metadata": {
        "colab": {
          "base_uri": "https://localhost:8080/"
        },
        "id": "g16gG3f4tycg",
        "outputId": "55af83e8-0033-4076-adce-00642ad5e7c5"
      },
      "execution_count": 2,
      "outputs": [
        {
          "output_type": "stream",
          "name": "stderr",
          "text": [
            "/usr/local/lib/python3.7/dist-packages/statsmodels/tools/_testing.py:19: FutureWarning: pandas.util.testing is deprecated. Use the functions in the public API at pandas.testing instead.\n",
            "  import pandas.util.testing as tm\n"
          ]
        }
      ]
    },
    {
      "cell_type": "markdown",
      "source": [
        "------------"
      ],
      "metadata": {
        "id": "PgIXLlqL5zM8"
      }
    },
    {
      "cell_type": "code",
      "source": [
        "data = pd.read_csv('/content/18895524.csv', sep=';')"
      ],
      "metadata": {
        "id": "KgNovoIL1wDQ"
      },
      "execution_count": 12,
      "outputs": []
    },
    {
      "cell_type": "code",
      "source": [
        "data"
      ],
      "metadata": {
        "colab": {
          "base_uri": "https://localhost:8080/",
          "height": 537
        },
        "id": "qTog5a2q9q8A",
        "outputId": "86e3f31e-8393-47b0-dec3-d77c250b5729"
      },
      "execution_count": 13,
      "outputs": [
        {
          "output_type": "execute_result",
          "data": {
            "text/plain": [
              "                   Дата  Продажи  Остаток    Цена  Со скидкой и промо  Скидка  \\\n",
              "0            2022-06-16      NaN      NaN     NaN                 NaN     NaN   \n",
              "1            2022-06-15        3    224.0  2131.0               404.0    81.0   \n",
              "2            2022-06-14        1    227.0  2131.0               404.0    81.0   \n",
              "3            2022-06-13        3    228.0  2131.0               404.0    81.0   \n",
              "4            2022-06-12        1    230.0  2131.0               404.0    81.0   \n",
              "..                  ...      ...      ...     ...                 ...     ...   \n",
              "95     Среднее (в день)     4 шт      NaN     NaN                 NaN     NaN   \n",
              "96      Дней с наличием  89 дней      NaN     NaN                 NaN     NaN   \n",
              "97  Среднее при наличии     4 шт      NaN     NaN                 NaN     NaN   \n",
              "98            Потенциал      NaN      NaN     NaN                 NaN     NaN   \n",
              "99    Упущенная выручка      NaN      NaN     NaN                 NaN     NaN   \n",
              "\n",
              "    Цена со скидкой  Промокод  СПП  Цена с СПП  Сумма продаж  Комментариев  \\\n",
              "0               NaN       NaN  NaN         NaN           NaN           NaN   \n",
              "1             404.0       0.0  0.0       404.0          1212         197.0   \n",
              "2             404.0       0.0  0.0       404.0           404         197.0   \n",
              "3             404.0       0.0  0.0       404.0          1212         197.0   \n",
              "4             404.0       0.0  0.0       404.0           404         196.0   \n",
              "..              ...       ...  ...         ...           ...           ...   \n",
              "95              NaN       NaN  NaN         NaN    1 562,62 ₽           NaN   \n",
              "96              NaN       NaN  NaN         NaN           NaN           NaN   \n",
              "97              NaN       NaN  NaN         NaN    1 572,38 ₽           NaN   \n",
              "98              NaN       NaN  NaN         NaN  151 856,00 ₽           NaN   \n",
              "99              NaN       NaN  NaN         NaN    6 532,00 ₽           NaN   \n",
              "\n",
              "    Рейтинг  \n",
              "0       NaN  \n",
              "1       5.0  \n",
              "2       5.0  \n",
              "3       5.0  \n",
              "4       5.0  \n",
              "..      ...  \n",
              "95      NaN  \n",
              "96      NaN  \n",
              "97      NaN  \n",
              "98      NaN  \n",
              "99      NaN  \n",
              "\n",
              "[100 rows x 13 columns]"
            ],
            "text/html": [
              "\n",
              "  <div id=\"df-9fdb20fc-cea3-4f24-a75c-3edcad1ab1cf\">\n",
              "    <div class=\"colab-df-container\">\n",
              "      <div>\n",
              "<style scoped>\n",
              "    .dataframe tbody tr th:only-of-type {\n",
              "        vertical-align: middle;\n",
              "    }\n",
              "\n",
              "    .dataframe tbody tr th {\n",
              "        vertical-align: top;\n",
              "    }\n",
              "\n",
              "    .dataframe thead th {\n",
              "        text-align: right;\n",
              "    }\n",
              "</style>\n",
              "<table border=\"1\" class=\"dataframe\">\n",
              "  <thead>\n",
              "    <tr style=\"text-align: right;\">\n",
              "      <th></th>\n",
              "      <th>Дата</th>\n",
              "      <th>Продажи</th>\n",
              "      <th>Остаток</th>\n",
              "      <th>Цена</th>\n",
              "      <th>Со скидкой и промо</th>\n",
              "      <th>Скидка</th>\n",
              "      <th>Цена со скидкой</th>\n",
              "      <th>Промокод</th>\n",
              "      <th>СПП</th>\n",
              "      <th>Цена с СПП</th>\n",
              "      <th>Сумма продаж</th>\n",
              "      <th>Комментариев</th>\n",
              "      <th>Рейтинг</th>\n",
              "    </tr>\n",
              "  </thead>\n",
              "  <tbody>\n",
              "    <tr>\n",
              "      <th>0</th>\n",
              "      <td>2022-06-16</td>\n",
              "      <td>NaN</td>\n",
              "      <td>NaN</td>\n",
              "      <td>NaN</td>\n",
              "      <td>NaN</td>\n",
              "      <td>NaN</td>\n",
              "      <td>NaN</td>\n",
              "      <td>NaN</td>\n",
              "      <td>NaN</td>\n",
              "      <td>NaN</td>\n",
              "      <td>NaN</td>\n",
              "      <td>NaN</td>\n",
              "      <td>NaN</td>\n",
              "    </tr>\n",
              "    <tr>\n",
              "      <th>1</th>\n",
              "      <td>2022-06-15</td>\n",
              "      <td>3</td>\n",
              "      <td>224.0</td>\n",
              "      <td>2131.0</td>\n",
              "      <td>404.0</td>\n",
              "      <td>81.0</td>\n",
              "      <td>404.0</td>\n",
              "      <td>0.0</td>\n",
              "      <td>0.0</td>\n",
              "      <td>404.0</td>\n",
              "      <td>1212</td>\n",
              "      <td>197.0</td>\n",
              "      <td>5.0</td>\n",
              "    </tr>\n",
              "    <tr>\n",
              "      <th>2</th>\n",
              "      <td>2022-06-14</td>\n",
              "      <td>1</td>\n",
              "      <td>227.0</td>\n",
              "      <td>2131.0</td>\n",
              "      <td>404.0</td>\n",
              "      <td>81.0</td>\n",
              "      <td>404.0</td>\n",
              "      <td>0.0</td>\n",
              "      <td>0.0</td>\n",
              "      <td>404.0</td>\n",
              "      <td>404</td>\n",
              "      <td>197.0</td>\n",
              "      <td>5.0</td>\n",
              "    </tr>\n",
              "    <tr>\n",
              "      <th>3</th>\n",
              "      <td>2022-06-13</td>\n",
              "      <td>3</td>\n",
              "      <td>228.0</td>\n",
              "      <td>2131.0</td>\n",
              "      <td>404.0</td>\n",
              "      <td>81.0</td>\n",
              "      <td>404.0</td>\n",
              "      <td>0.0</td>\n",
              "      <td>0.0</td>\n",
              "      <td>404.0</td>\n",
              "      <td>1212</td>\n",
              "      <td>197.0</td>\n",
              "      <td>5.0</td>\n",
              "    </tr>\n",
              "    <tr>\n",
              "      <th>4</th>\n",
              "      <td>2022-06-12</td>\n",
              "      <td>1</td>\n",
              "      <td>230.0</td>\n",
              "      <td>2131.0</td>\n",
              "      <td>404.0</td>\n",
              "      <td>81.0</td>\n",
              "      <td>404.0</td>\n",
              "      <td>0.0</td>\n",
              "      <td>0.0</td>\n",
              "      <td>404.0</td>\n",
              "      <td>404</td>\n",
              "      <td>196.0</td>\n",
              "      <td>5.0</td>\n",
              "    </tr>\n",
              "    <tr>\n",
              "      <th>...</th>\n",
              "      <td>...</td>\n",
              "      <td>...</td>\n",
              "      <td>...</td>\n",
              "      <td>...</td>\n",
              "      <td>...</td>\n",
              "      <td>...</td>\n",
              "      <td>...</td>\n",
              "      <td>...</td>\n",
              "      <td>...</td>\n",
              "      <td>...</td>\n",
              "      <td>...</td>\n",
              "      <td>...</td>\n",
              "      <td>...</td>\n",
              "    </tr>\n",
              "    <tr>\n",
              "      <th>95</th>\n",
              "      <td>Среднее (в день)</td>\n",
              "      <td>4 шт</td>\n",
              "      <td>NaN</td>\n",
              "      <td>NaN</td>\n",
              "      <td>NaN</td>\n",
              "      <td>NaN</td>\n",
              "      <td>NaN</td>\n",
              "      <td>NaN</td>\n",
              "      <td>NaN</td>\n",
              "      <td>NaN</td>\n",
              "      <td>1 562,62 ₽</td>\n",
              "      <td>NaN</td>\n",
              "      <td>NaN</td>\n",
              "    </tr>\n",
              "    <tr>\n",
              "      <th>96</th>\n",
              "      <td>Дней с наличием</td>\n",
              "      <td>89 дней</td>\n",
              "      <td>NaN</td>\n",
              "      <td>NaN</td>\n",
              "      <td>NaN</td>\n",
              "      <td>NaN</td>\n",
              "      <td>NaN</td>\n",
              "      <td>NaN</td>\n",
              "      <td>NaN</td>\n",
              "      <td>NaN</td>\n",
              "      <td>NaN</td>\n",
              "      <td>NaN</td>\n",
              "      <td>NaN</td>\n",
              "    </tr>\n",
              "    <tr>\n",
              "      <th>97</th>\n",
              "      <td>Среднее при наличии</td>\n",
              "      <td>4 шт</td>\n",
              "      <td>NaN</td>\n",
              "      <td>NaN</td>\n",
              "      <td>NaN</td>\n",
              "      <td>NaN</td>\n",
              "      <td>NaN</td>\n",
              "      <td>NaN</td>\n",
              "      <td>NaN</td>\n",
              "      <td>NaN</td>\n",
              "      <td>1 572,38 ₽</td>\n",
              "      <td>NaN</td>\n",
              "      <td>NaN</td>\n",
              "    </tr>\n",
              "    <tr>\n",
              "      <th>98</th>\n",
              "      <td>Потенциал</td>\n",
              "      <td>NaN</td>\n",
              "      <td>NaN</td>\n",
              "      <td>NaN</td>\n",
              "      <td>NaN</td>\n",
              "      <td>NaN</td>\n",
              "      <td>NaN</td>\n",
              "      <td>NaN</td>\n",
              "      <td>NaN</td>\n",
              "      <td>NaN</td>\n",
              "      <td>151 856,00 ₽</td>\n",
              "      <td>NaN</td>\n",
              "      <td>NaN</td>\n",
              "    </tr>\n",
              "    <tr>\n",
              "      <th>99</th>\n",
              "      <td>Упущенная выручка</td>\n",
              "      <td>NaN</td>\n",
              "      <td>NaN</td>\n",
              "      <td>NaN</td>\n",
              "      <td>NaN</td>\n",
              "      <td>NaN</td>\n",
              "      <td>NaN</td>\n",
              "      <td>NaN</td>\n",
              "      <td>NaN</td>\n",
              "      <td>NaN</td>\n",
              "      <td>6 532,00 ₽</td>\n",
              "      <td>NaN</td>\n",
              "      <td>NaN</td>\n",
              "    </tr>\n",
              "  </tbody>\n",
              "</table>\n",
              "<p>100 rows × 13 columns</p>\n",
              "</div>\n",
              "      <button class=\"colab-df-convert\" onclick=\"convertToInteractive('df-9fdb20fc-cea3-4f24-a75c-3edcad1ab1cf')\"\n",
              "              title=\"Convert this dataframe to an interactive table.\"\n",
              "              style=\"display:none;\">\n",
              "        \n",
              "  <svg xmlns=\"http://www.w3.org/2000/svg\" height=\"24px\"viewBox=\"0 0 24 24\"\n",
              "       width=\"24px\">\n",
              "    <path d=\"M0 0h24v24H0V0z\" fill=\"none\"/>\n",
              "    <path d=\"M18.56 5.44l.94 2.06.94-2.06 2.06-.94-2.06-.94-.94-2.06-.94 2.06-2.06.94zm-11 1L8.5 8.5l.94-2.06 2.06-.94-2.06-.94L8.5 2.5l-.94 2.06-2.06.94zm10 10l.94 2.06.94-2.06 2.06-.94-2.06-.94-.94-2.06-.94 2.06-2.06.94z\"/><path d=\"M17.41 7.96l-1.37-1.37c-.4-.4-.92-.59-1.43-.59-.52 0-1.04.2-1.43.59L10.3 9.45l-7.72 7.72c-.78.78-.78 2.05 0 2.83L4 21.41c.39.39.9.59 1.41.59.51 0 1.02-.2 1.41-.59l7.78-7.78 2.81-2.81c.8-.78.8-2.07 0-2.86zM5.41 20L4 18.59l7.72-7.72 1.47 1.35L5.41 20z\"/>\n",
              "  </svg>\n",
              "      </button>\n",
              "      \n",
              "  <style>\n",
              "    .colab-df-container {\n",
              "      display:flex;\n",
              "      flex-wrap:wrap;\n",
              "      gap: 12px;\n",
              "    }\n",
              "\n",
              "    .colab-df-convert {\n",
              "      background-color: #E8F0FE;\n",
              "      border: none;\n",
              "      border-radius: 50%;\n",
              "      cursor: pointer;\n",
              "      display: none;\n",
              "      fill: #1967D2;\n",
              "      height: 32px;\n",
              "      padding: 0 0 0 0;\n",
              "      width: 32px;\n",
              "    }\n",
              "\n",
              "    .colab-df-convert:hover {\n",
              "      background-color: #E2EBFA;\n",
              "      box-shadow: 0px 1px 2px rgba(60, 64, 67, 0.3), 0px 1px 3px 1px rgba(60, 64, 67, 0.15);\n",
              "      fill: #174EA6;\n",
              "    }\n",
              "\n",
              "    [theme=dark] .colab-df-convert {\n",
              "      background-color: #3B4455;\n",
              "      fill: #D2E3FC;\n",
              "    }\n",
              "\n",
              "    [theme=dark] .colab-df-convert:hover {\n",
              "      background-color: #434B5C;\n",
              "      box-shadow: 0px 1px 3px 1px rgba(0, 0, 0, 0.15);\n",
              "      filter: drop-shadow(0px 1px 2px rgba(0, 0, 0, 0.3));\n",
              "      fill: #FFFFFF;\n",
              "    }\n",
              "  </style>\n",
              "\n",
              "      <script>\n",
              "        const buttonEl =\n",
              "          document.querySelector('#df-9fdb20fc-cea3-4f24-a75c-3edcad1ab1cf button.colab-df-convert');\n",
              "        buttonEl.style.display =\n",
              "          google.colab.kernel.accessAllowed ? 'block' : 'none';\n",
              "\n",
              "        async function convertToInteractive(key) {\n",
              "          const element = document.querySelector('#df-9fdb20fc-cea3-4f24-a75c-3edcad1ab1cf');\n",
              "          const dataTable =\n",
              "            await google.colab.kernel.invokeFunction('convertToInteractive',\n",
              "                                                     [key], {});\n",
              "          if (!dataTable) return;\n",
              "\n",
              "          const docLinkHtml = 'Like what you see? Visit the ' +\n",
              "            '<a target=\"_blank\" href=https://colab.research.google.com/notebooks/data_table.ipynb>data table notebook</a>'\n",
              "            + ' to learn more about interactive tables.';\n",
              "          element.innerHTML = '';\n",
              "          dataTable['output_type'] = 'display_data';\n",
              "          await google.colab.output.renderOutput(dataTable, element);\n",
              "          const docLink = document.createElement('div');\n",
              "          docLink.innerHTML = docLinkHtml;\n",
              "          element.appendChild(docLink);\n",
              "        }\n",
              "      </script>\n",
              "    </div>\n",
              "  </div>\n",
              "  "
            ]
          },
          "metadata": {},
          "execution_count": 13
        }
      ]
    },
    {
      "cell_type": "markdown",
      "source": [
        "Данные за период с 15.03.2022 по 15.06.2022 "
      ],
      "metadata": {
        "id": "IMqL9Jye18Jn"
      }
    },
    {
      "cell_type": "code",
      "source": [
        "data = data[1:94]"
      ],
      "metadata": {
        "id": "0f22QH_f66Be"
      },
      "execution_count": 14,
      "outputs": []
    },
    {
      "cell_type": "code",
      "source": [
        "data.duplicated().sum()"
      ],
      "metadata": {
        "colab": {
          "base_uri": "https://localhost:8080/"
        },
        "id": "eEUu_hf3LV5T",
        "outputId": "6717e81e-5221-4bb1-946d-f98ada450000"
      },
      "execution_count": 15,
      "outputs": [
        {
          "output_type": "execute_result",
          "data": {
            "text/plain": [
              "0"
            ]
          },
          "metadata": {},
          "execution_count": 15
        }
      ]
    },
    {
      "cell_type": "code",
      "source": [
        "data.info()"
      ],
      "metadata": {
        "colab": {
          "base_uri": "https://localhost:8080/"
        },
        "id": "GQ78TCOm7BmF",
        "outputId": "d01d8c54-39e0-4360-dd3c-7ac10c974e1d"
      },
      "execution_count": 16,
      "outputs": [
        {
          "output_type": "stream",
          "name": "stdout",
          "text": [
            "<class 'pandas.core.frame.DataFrame'>\n",
            "RangeIndex: 93 entries, 1 to 93\n",
            "Data columns (total 13 columns):\n",
            " #   Column              Non-Null Count  Dtype  \n",
            "---  ------              --------------  -----  \n",
            " 0   Дата                93 non-null     object \n",
            " 1   Продажи             93 non-null     object \n",
            " 2   Остаток             93 non-null     float64\n",
            " 3   Цена                93 non-null     float64\n",
            " 4   Со скидкой и промо  93 non-null     float64\n",
            " 5   Скидка              93 non-null     float64\n",
            " 6   Цена со скидкой     93 non-null     float64\n",
            " 7   Промокод            93 non-null     float64\n",
            " 8   СПП                 93 non-null     float64\n",
            " 9   Цена с СПП          93 non-null     float64\n",
            " 10  Сумма продаж        93 non-null     object \n",
            " 11  Комментариев        93 non-null     float64\n",
            " 12  Рейтинг             93 non-null     float64\n",
            "dtypes: float64(10), object(3)\n",
            "memory usage: 9.6+ KB\n"
          ]
        }
      ]
    },
    {
      "cell_type": "code",
      "source": [
        "data['Дата'] = pd.to_datetime(data['Дата'], format='%Y-%m-%d')"
      ],
      "metadata": {
        "colab": {
          "base_uri": "https://localhost:8080/"
        },
        "id": "KiPnhPSP7DW1",
        "outputId": "eae54707-5ec1-424d-d35b-2724b5ddf426"
      },
      "execution_count": 17,
      "outputs": [
        {
          "output_type": "stream",
          "name": "stderr",
          "text": [
            "/usr/local/lib/python3.7/dist-packages/ipykernel_launcher.py:1: SettingWithCopyWarning: \n",
            "A value is trying to be set on a copy of a slice from a DataFrame.\n",
            "Try using .loc[row_indexer,col_indexer] = value instead\n",
            "\n",
            "See the caveats in the documentation: https://pandas.pydata.org/pandas-docs/stable/user_guide/indexing.html#returning-a-view-versus-a-copy\n",
            "  \"\"\"Entry point for launching an IPython kernel.\n"
          ]
        }
      ]
    },
    {
      "cell_type": "code",
      "source": [
        "data = data.sort_values(by='Дата')"
      ],
      "metadata": {
        "id": "O2YfjfFI8HSA"
      },
      "execution_count": 21,
      "outputs": []
    },
    {
      "cell_type": "code",
      "source": [
        "data = data.set_index('Дата')"
      ],
      "metadata": {
        "id": "47OJfd3h8XJJ"
      },
      "execution_count": 22,
      "outputs": []
    },
    {
      "cell_type": "code",
      "source": [
        "data['Продажи'] = data['Продажи'].astype('int')\n",
        "data['Сумма продаж'] = data['Сумма продаж'].astype('float64')"
      ],
      "metadata": {
        "colab": {
          "base_uri": "https://localhost:8080/"
        },
        "id": "S2EVPddVED5N",
        "outputId": "b159dd8f-bb50-4188-ea6d-f4cb8a671000"
      },
      "execution_count": 18,
      "outputs": [
        {
          "output_type": "stream",
          "name": "stderr",
          "text": [
            "/usr/local/lib/python3.7/dist-packages/ipykernel_launcher.py:1: SettingWithCopyWarning: \n",
            "A value is trying to be set on a copy of a slice from a DataFrame.\n",
            "Try using .loc[row_indexer,col_indexer] = value instead\n",
            "\n",
            "See the caveats in the documentation: https://pandas.pydata.org/pandas-docs/stable/user_guide/indexing.html#returning-a-view-versus-a-copy\n",
            "  \"\"\"Entry point for launching an IPython kernel.\n",
            "/usr/local/lib/python3.7/dist-packages/ipykernel_launcher.py:2: SettingWithCopyWarning: \n",
            "A value is trying to be set on a copy of a slice from a DataFrame.\n",
            "Try using .loc[row_indexer,col_indexer] = value instead\n",
            "\n",
            "See the caveats in the documentation: https://pandas.pydata.org/pandas-docs/stable/user_guide/indexing.html#returning-a-view-versus-a-copy\n",
            "  \n"
          ]
        }
      ]
    },
    {
      "cell_type": "code",
      "source": [
        "data = data.drop(['Со скидкой и промо', 'Промокод', 'СПП', 'Цена с СПП'], axis=1)"
      ],
      "metadata": {
        "id": "iW4s-_ZEKhne"
      },
      "execution_count": 19,
      "outputs": []
    },
    {
      "cell_type": "code",
      "source": [
        "data.info()"
      ],
      "metadata": {
        "colab": {
          "base_uri": "https://localhost:8080/"
        },
        "id": "_6-2g3HRI5hk",
        "outputId": "527f419d-263d-484b-8dee-fd5653ea19f4"
      },
      "execution_count": 23,
      "outputs": [
        {
          "output_type": "stream",
          "name": "stdout",
          "text": [
            "<class 'pandas.core.frame.DataFrame'>\n",
            "DatetimeIndex: 93 entries, 2022-03-15 to 2022-06-15\n",
            "Data columns (total 8 columns):\n",
            " #   Column           Non-Null Count  Dtype  \n",
            "---  ------           --------------  -----  \n",
            " 0   Продажи          93 non-null     int64  \n",
            " 1   Остаток          93 non-null     float64\n",
            " 2   Цена             93 non-null     float64\n",
            " 3   Скидка           93 non-null     float64\n",
            " 4   Цена со скидкой  93 non-null     float64\n",
            " 5   Сумма продаж     93 non-null     float64\n",
            " 6   Комментариев     93 non-null     float64\n",
            " 7   Рейтинг          93 non-null     float64\n",
            "dtypes: float64(7), int64(1)\n",
            "memory usage: 6.5 KB\n"
          ]
        }
      ]
    },
    {
      "cell_type": "code",
      "source": [
        "data.isna().sum()"
      ],
      "metadata": {
        "colab": {
          "base_uri": "https://localhost:8080/"
        },
        "id": "K56m0ZeqK11z",
        "outputId": "c5a7e24e-aafe-44ef-a40a-3bef71b127d5"
      },
      "execution_count": 24,
      "outputs": [
        {
          "output_type": "execute_result",
          "data": {
            "text/plain": [
              "Продажи            0\n",
              "Остаток            0\n",
              "Цена               0\n",
              "Скидка             0\n",
              "Цена со скидкой    0\n",
              "Сумма продаж       0\n",
              "Комментариев       0\n",
              "Рейтинг            0\n",
              "dtype: int64"
            ]
          },
          "metadata": {},
          "execution_count": 24
        }
      ]
    },
    {
      "cell_type": "code",
      "source": [
        "data.describe()"
      ],
      "metadata": {
        "colab": {
          "base_uri": "https://localhost:8080/",
          "height": 301
        },
        "id": "6YfbaavNKs6d",
        "outputId": "931714f1-4a0f-4e86-b2c8-a0e773a0c990"
      },
      "execution_count": 25,
      "outputs": [
        {
          "output_type": "execute_result",
          "data": {
            "text/plain": [
              "         Продажи     Остаток         Цена     Скидка  Цена со скидкой  \\\n",
              "count  93.000000   93.000000    93.000000  93.000000        93.000000   \n",
              "mean    3.763441  153.935484  1975.387097  77.602151       440.559140   \n",
              "std     3.549029  100.247824   196.869910   1.973409        50.952122   \n",
              "min     0.000000    0.000000  1729.000000  75.000000       380.000000   \n",
              "25%     1.000000   61.000000  1729.000000  76.000000       404.000000   \n",
              "50%     3.000000  227.000000  2131.000000  78.000000       414.000000   \n",
              "75%     6.000000  249.000000  2131.000000  78.000000       468.000000   \n",
              "max    14.000000  265.000000  2131.000000  81.000000       532.000000   \n",
              "\n",
              "       Сумма продаж  Комментариев  Рейтинг  \n",
              "count     93.000000     93.000000     93.0  \n",
              "mean    1562.623656    179.096774      5.0  \n",
              "std     1427.083648     14.218837      0.0  \n",
              "min        0.000000    159.000000      5.0  \n",
              "25%      468.000000    166.000000      5.0  \n",
              "50%     1212.000000    183.000000      5.0  \n",
              "75%     2340.000000    192.000000      5.0  \n",
              "max     5796.000000    197.000000      5.0  "
            ],
            "text/html": [
              "\n",
              "  <div id=\"df-9ebbce66-00d3-41ad-91cf-bd879e424308\">\n",
              "    <div class=\"colab-df-container\">\n",
              "      <div>\n",
              "<style scoped>\n",
              "    .dataframe tbody tr th:only-of-type {\n",
              "        vertical-align: middle;\n",
              "    }\n",
              "\n",
              "    .dataframe tbody tr th {\n",
              "        vertical-align: top;\n",
              "    }\n",
              "\n",
              "    .dataframe thead th {\n",
              "        text-align: right;\n",
              "    }\n",
              "</style>\n",
              "<table border=\"1\" class=\"dataframe\">\n",
              "  <thead>\n",
              "    <tr style=\"text-align: right;\">\n",
              "      <th></th>\n",
              "      <th>Продажи</th>\n",
              "      <th>Остаток</th>\n",
              "      <th>Цена</th>\n",
              "      <th>Скидка</th>\n",
              "      <th>Цена со скидкой</th>\n",
              "      <th>Сумма продаж</th>\n",
              "      <th>Комментариев</th>\n",
              "      <th>Рейтинг</th>\n",
              "    </tr>\n",
              "  </thead>\n",
              "  <tbody>\n",
              "    <tr>\n",
              "      <th>count</th>\n",
              "      <td>93.000000</td>\n",
              "      <td>93.000000</td>\n",
              "      <td>93.000000</td>\n",
              "      <td>93.000000</td>\n",
              "      <td>93.000000</td>\n",
              "      <td>93.000000</td>\n",
              "      <td>93.000000</td>\n",
              "      <td>93.0</td>\n",
              "    </tr>\n",
              "    <tr>\n",
              "      <th>mean</th>\n",
              "      <td>3.763441</td>\n",
              "      <td>153.935484</td>\n",
              "      <td>1975.387097</td>\n",
              "      <td>77.602151</td>\n",
              "      <td>440.559140</td>\n",
              "      <td>1562.623656</td>\n",
              "      <td>179.096774</td>\n",
              "      <td>5.0</td>\n",
              "    </tr>\n",
              "    <tr>\n",
              "      <th>std</th>\n",
              "      <td>3.549029</td>\n",
              "      <td>100.247824</td>\n",
              "      <td>196.869910</td>\n",
              "      <td>1.973409</td>\n",
              "      <td>50.952122</td>\n",
              "      <td>1427.083648</td>\n",
              "      <td>14.218837</td>\n",
              "      <td>0.0</td>\n",
              "    </tr>\n",
              "    <tr>\n",
              "      <th>min</th>\n",
              "      <td>0.000000</td>\n",
              "      <td>0.000000</td>\n",
              "      <td>1729.000000</td>\n",
              "      <td>75.000000</td>\n",
              "      <td>380.000000</td>\n",
              "      <td>0.000000</td>\n",
              "      <td>159.000000</td>\n",
              "      <td>5.0</td>\n",
              "    </tr>\n",
              "    <tr>\n",
              "      <th>25%</th>\n",
              "      <td>1.000000</td>\n",
              "      <td>61.000000</td>\n",
              "      <td>1729.000000</td>\n",
              "      <td>76.000000</td>\n",
              "      <td>404.000000</td>\n",
              "      <td>468.000000</td>\n",
              "      <td>166.000000</td>\n",
              "      <td>5.0</td>\n",
              "    </tr>\n",
              "    <tr>\n",
              "      <th>50%</th>\n",
              "      <td>3.000000</td>\n",
              "      <td>227.000000</td>\n",
              "      <td>2131.000000</td>\n",
              "      <td>78.000000</td>\n",
              "      <td>414.000000</td>\n",
              "      <td>1212.000000</td>\n",
              "      <td>183.000000</td>\n",
              "      <td>5.0</td>\n",
              "    </tr>\n",
              "    <tr>\n",
              "      <th>75%</th>\n",
              "      <td>6.000000</td>\n",
              "      <td>249.000000</td>\n",
              "      <td>2131.000000</td>\n",
              "      <td>78.000000</td>\n",
              "      <td>468.000000</td>\n",
              "      <td>2340.000000</td>\n",
              "      <td>192.000000</td>\n",
              "      <td>5.0</td>\n",
              "    </tr>\n",
              "    <tr>\n",
              "      <th>max</th>\n",
              "      <td>14.000000</td>\n",
              "      <td>265.000000</td>\n",
              "      <td>2131.000000</td>\n",
              "      <td>81.000000</td>\n",
              "      <td>532.000000</td>\n",
              "      <td>5796.000000</td>\n",
              "      <td>197.000000</td>\n",
              "      <td>5.0</td>\n",
              "    </tr>\n",
              "  </tbody>\n",
              "</table>\n",
              "</div>\n",
              "      <button class=\"colab-df-convert\" onclick=\"convertToInteractive('df-9ebbce66-00d3-41ad-91cf-bd879e424308')\"\n",
              "              title=\"Convert this dataframe to an interactive table.\"\n",
              "              style=\"display:none;\">\n",
              "        \n",
              "  <svg xmlns=\"http://www.w3.org/2000/svg\" height=\"24px\"viewBox=\"0 0 24 24\"\n",
              "       width=\"24px\">\n",
              "    <path d=\"M0 0h24v24H0V0z\" fill=\"none\"/>\n",
              "    <path d=\"M18.56 5.44l.94 2.06.94-2.06 2.06-.94-2.06-.94-.94-2.06-.94 2.06-2.06.94zm-11 1L8.5 8.5l.94-2.06 2.06-.94-2.06-.94L8.5 2.5l-.94 2.06-2.06.94zm10 10l.94 2.06.94-2.06 2.06-.94-2.06-.94-.94-2.06-.94 2.06-2.06.94z\"/><path d=\"M17.41 7.96l-1.37-1.37c-.4-.4-.92-.59-1.43-.59-.52 0-1.04.2-1.43.59L10.3 9.45l-7.72 7.72c-.78.78-.78 2.05 0 2.83L4 21.41c.39.39.9.59 1.41.59.51 0 1.02-.2 1.41-.59l7.78-7.78 2.81-2.81c.8-.78.8-2.07 0-2.86zM5.41 20L4 18.59l7.72-7.72 1.47 1.35L5.41 20z\"/>\n",
              "  </svg>\n",
              "      </button>\n",
              "      \n",
              "  <style>\n",
              "    .colab-df-container {\n",
              "      display:flex;\n",
              "      flex-wrap:wrap;\n",
              "      gap: 12px;\n",
              "    }\n",
              "\n",
              "    .colab-df-convert {\n",
              "      background-color: #E8F0FE;\n",
              "      border: none;\n",
              "      border-radius: 50%;\n",
              "      cursor: pointer;\n",
              "      display: none;\n",
              "      fill: #1967D2;\n",
              "      height: 32px;\n",
              "      padding: 0 0 0 0;\n",
              "      width: 32px;\n",
              "    }\n",
              "\n",
              "    .colab-df-convert:hover {\n",
              "      background-color: #E2EBFA;\n",
              "      box-shadow: 0px 1px 2px rgba(60, 64, 67, 0.3), 0px 1px 3px 1px rgba(60, 64, 67, 0.15);\n",
              "      fill: #174EA6;\n",
              "    }\n",
              "\n",
              "    [theme=dark] .colab-df-convert {\n",
              "      background-color: #3B4455;\n",
              "      fill: #D2E3FC;\n",
              "    }\n",
              "\n",
              "    [theme=dark] .colab-df-convert:hover {\n",
              "      background-color: #434B5C;\n",
              "      box-shadow: 0px 1px 3px 1px rgba(0, 0, 0, 0.15);\n",
              "      filter: drop-shadow(0px 1px 2px rgba(0, 0, 0, 0.3));\n",
              "      fill: #FFFFFF;\n",
              "    }\n",
              "  </style>\n",
              "\n",
              "      <script>\n",
              "        const buttonEl =\n",
              "          document.querySelector('#df-9ebbce66-00d3-41ad-91cf-bd879e424308 button.colab-df-convert');\n",
              "        buttonEl.style.display =\n",
              "          google.colab.kernel.accessAllowed ? 'block' : 'none';\n",
              "\n",
              "        async function convertToInteractive(key) {\n",
              "          const element = document.querySelector('#df-9ebbce66-00d3-41ad-91cf-bd879e424308');\n",
              "          const dataTable =\n",
              "            await google.colab.kernel.invokeFunction('convertToInteractive',\n",
              "                                                     [key], {});\n",
              "          if (!dataTable) return;\n",
              "\n",
              "          const docLinkHtml = 'Like what you see? Visit the ' +\n",
              "            '<a target=\"_blank\" href=https://colab.research.google.com/notebooks/data_table.ipynb>data table notebook</a>'\n",
              "            + ' to learn more about interactive tables.';\n",
              "          element.innerHTML = '';\n",
              "          dataTable['output_type'] = 'display_data';\n",
              "          await google.colab.output.renderOutput(dataTable, element);\n",
              "          const docLink = document.createElement('div');\n",
              "          docLink.innerHTML = docLinkHtml;\n",
              "          element.appendChild(docLink);\n",
              "        }\n",
              "      </script>\n",
              "    </div>\n",
              "  </div>\n",
              "  "
            ]
          },
          "metadata": {},
          "execution_count": 25
        }
      ]
    },
    {
      "cell_type": "code",
      "source": [
        "data"
      ],
      "metadata": {
        "colab": {
          "base_uri": "https://localhost:8080/",
          "height": 455
        },
        "id": "IVwyXcjNJUgG",
        "outputId": "451c6ac8-94d3-4cb2-95ba-900b336a2e08"
      },
      "execution_count": 26,
      "outputs": [
        {
          "output_type": "execute_result",
          "data": {
            "text/plain": [
              "            Продажи  Остаток    Цена  Скидка  Цена со скидкой  Сумма продаж  \\\n",
              "Дата                                                                          \n",
              "2022-03-15        6     61.0  1729.0    76.0            414.0        2484.0   \n",
              "2022-03-16       12     49.0  1729.0    76.0            414.0        4968.0   \n",
              "2022-03-17        9     40.0  1729.0    76.0            414.0        3726.0   \n",
              "2022-03-18        7     33.0  1729.0    76.0            414.0        2898.0   \n",
              "2022-03-19       11     22.0  1729.0    76.0            414.0        4554.0   \n",
              "...             ...      ...     ...     ...              ...           ...   \n",
              "2022-06-11        5    231.0  2131.0    81.0            404.0        2020.0   \n",
              "2022-06-12        1    230.0  2131.0    81.0            404.0         404.0   \n",
              "2022-06-13        3    228.0  2131.0    81.0            404.0        1212.0   \n",
              "2022-06-14        1    227.0  2131.0    81.0            404.0         404.0   \n",
              "2022-06-15        3    224.0  2131.0    81.0            404.0        1212.0   \n",
              "\n",
              "            Комментариев  Рейтинг  \n",
              "Дата                               \n",
              "2022-03-15         159.0      5.0  \n",
              "2022-03-16         159.0      5.0  \n",
              "2022-03-17         159.0      5.0  \n",
              "2022-03-18         159.0      5.0  \n",
              "2022-03-19         159.0      5.0  \n",
              "...                  ...      ...  \n",
              "2022-06-11         196.0      5.0  \n",
              "2022-06-12         196.0      5.0  \n",
              "2022-06-13         197.0      5.0  \n",
              "2022-06-14         197.0      5.0  \n",
              "2022-06-15         197.0      5.0  \n",
              "\n",
              "[93 rows x 8 columns]"
            ],
            "text/html": [
              "\n",
              "  <div id=\"df-ede75f26-5e6c-4e35-ad34-22454829c6f0\">\n",
              "    <div class=\"colab-df-container\">\n",
              "      <div>\n",
              "<style scoped>\n",
              "    .dataframe tbody tr th:only-of-type {\n",
              "        vertical-align: middle;\n",
              "    }\n",
              "\n",
              "    .dataframe tbody tr th {\n",
              "        vertical-align: top;\n",
              "    }\n",
              "\n",
              "    .dataframe thead th {\n",
              "        text-align: right;\n",
              "    }\n",
              "</style>\n",
              "<table border=\"1\" class=\"dataframe\">\n",
              "  <thead>\n",
              "    <tr style=\"text-align: right;\">\n",
              "      <th></th>\n",
              "      <th>Продажи</th>\n",
              "      <th>Остаток</th>\n",
              "      <th>Цена</th>\n",
              "      <th>Скидка</th>\n",
              "      <th>Цена со скидкой</th>\n",
              "      <th>Сумма продаж</th>\n",
              "      <th>Комментариев</th>\n",
              "      <th>Рейтинг</th>\n",
              "    </tr>\n",
              "    <tr>\n",
              "      <th>Дата</th>\n",
              "      <th></th>\n",
              "      <th></th>\n",
              "      <th></th>\n",
              "      <th></th>\n",
              "      <th></th>\n",
              "      <th></th>\n",
              "      <th></th>\n",
              "      <th></th>\n",
              "    </tr>\n",
              "  </thead>\n",
              "  <tbody>\n",
              "    <tr>\n",
              "      <th>2022-03-15</th>\n",
              "      <td>6</td>\n",
              "      <td>61.0</td>\n",
              "      <td>1729.0</td>\n",
              "      <td>76.0</td>\n",
              "      <td>414.0</td>\n",
              "      <td>2484.0</td>\n",
              "      <td>159.0</td>\n",
              "      <td>5.0</td>\n",
              "    </tr>\n",
              "    <tr>\n",
              "      <th>2022-03-16</th>\n",
              "      <td>12</td>\n",
              "      <td>49.0</td>\n",
              "      <td>1729.0</td>\n",
              "      <td>76.0</td>\n",
              "      <td>414.0</td>\n",
              "      <td>4968.0</td>\n",
              "      <td>159.0</td>\n",
              "      <td>5.0</td>\n",
              "    </tr>\n",
              "    <tr>\n",
              "      <th>2022-03-17</th>\n",
              "      <td>9</td>\n",
              "      <td>40.0</td>\n",
              "      <td>1729.0</td>\n",
              "      <td>76.0</td>\n",
              "      <td>414.0</td>\n",
              "      <td>3726.0</td>\n",
              "      <td>159.0</td>\n",
              "      <td>5.0</td>\n",
              "    </tr>\n",
              "    <tr>\n",
              "      <th>2022-03-18</th>\n",
              "      <td>7</td>\n",
              "      <td>33.0</td>\n",
              "      <td>1729.0</td>\n",
              "      <td>76.0</td>\n",
              "      <td>414.0</td>\n",
              "      <td>2898.0</td>\n",
              "      <td>159.0</td>\n",
              "      <td>5.0</td>\n",
              "    </tr>\n",
              "    <tr>\n",
              "      <th>2022-03-19</th>\n",
              "      <td>11</td>\n",
              "      <td>22.0</td>\n",
              "      <td>1729.0</td>\n",
              "      <td>76.0</td>\n",
              "      <td>414.0</td>\n",
              "      <td>4554.0</td>\n",
              "      <td>159.0</td>\n",
              "      <td>5.0</td>\n",
              "    </tr>\n",
              "    <tr>\n",
              "      <th>...</th>\n",
              "      <td>...</td>\n",
              "      <td>...</td>\n",
              "      <td>...</td>\n",
              "      <td>...</td>\n",
              "      <td>...</td>\n",
              "      <td>...</td>\n",
              "      <td>...</td>\n",
              "      <td>...</td>\n",
              "    </tr>\n",
              "    <tr>\n",
              "      <th>2022-06-11</th>\n",
              "      <td>5</td>\n",
              "      <td>231.0</td>\n",
              "      <td>2131.0</td>\n",
              "      <td>81.0</td>\n",
              "      <td>404.0</td>\n",
              "      <td>2020.0</td>\n",
              "      <td>196.0</td>\n",
              "      <td>5.0</td>\n",
              "    </tr>\n",
              "    <tr>\n",
              "      <th>2022-06-12</th>\n",
              "      <td>1</td>\n",
              "      <td>230.0</td>\n",
              "      <td>2131.0</td>\n",
              "      <td>81.0</td>\n",
              "      <td>404.0</td>\n",
              "      <td>404.0</td>\n",
              "      <td>196.0</td>\n",
              "      <td>5.0</td>\n",
              "    </tr>\n",
              "    <tr>\n",
              "      <th>2022-06-13</th>\n",
              "      <td>3</td>\n",
              "      <td>228.0</td>\n",
              "      <td>2131.0</td>\n",
              "      <td>81.0</td>\n",
              "      <td>404.0</td>\n",
              "      <td>1212.0</td>\n",
              "      <td>197.0</td>\n",
              "      <td>5.0</td>\n",
              "    </tr>\n",
              "    <tr>\n",
              "      <th>2022-06-14</th>\n",
              "      <td>1</td>\n",
              "      <td>227.0</td>\n",
              "      <td>2131.0</td>\n",
              "      <td>81.0</td>\n",
              "      <td>404.0</td>\n",
              "      <td>404.0</td>\n",
              "      <td>197.0</td>\n",
              "      <td>5.0</td>\n",
              "    </tr>\n",
              "    <tr>\n",
              "      <th>2022-06-15</th>\n",
              "      <td>3</td>\n",
              "      <td>224.0</td>\n",
              "      <td>2131.0</td>\n",
              "      <td>81.0</td>\n",
              "      <td>404.0</td>\n",
              "      <td>1212.0</td>\n",
              "      <td>197.0</td>\n",
              "      <td>5.0</td>\n",
              "    </tr>\n",
              "  </tbody>\n",
              "</table>\n",
              "<p>93 rows × 8 columns</p>\n",
              "</div>\n",
              "      <button class=\"colab-df-convert\" onclick=\"convertToInteractive('df-ede75f26-5e6c-4e35-ad34-22454829c6f0')\"\n",
              "              title=\"Convert this dataframe to an interactive table.\"\n",
              "              style=\"display:none;\">\n",
              "        \n",
              "  <svg xmlns=\"http://www.w3.org/2000/svg\" height=\"24px\"viewBox=\"0 0 24 24\"\n",
              "       width=\"24px\">\n",
              "    <path d=\"M0 0h24v24H0V0z\" fill=\"none\"/>\n",
              "    <path d=\"M18.56 5.44l.94 2.06.94-2.06 2.06-.94-2.06-.94-.94-2.06-.94 2.06-2.06.94zm-11 1L8.5 8.5l.94-2.06 2.06-.94-2.06-.94L8.5 2.5l-.94 2.06-2.06.94zm10 10l.94 2.06.94-2.06 2.06-.94-2.06-.94-.94-2.06-.94 2.06-2.06.94z\"/><path d=\"M17.41 7.96l-1.37-1.37c-.4-.4-.92-.59-1.43-.59-.52 0-1.04.2-1.43.59L10.3 9.45l-7.72 7.72c-.78.78-.78 2.05 0 2.83L4 21.41c.39.39.9.59 1.41.59.51 0 1.02-.2 1.41-.59l7.78-7.78 2.81-2.81c.8-.78.8-2.07 0-2.86zM5.41 20L4 18.59l7.72-7.72 1.47 1.35L5.41 20z\"/>\n",
              "  </svg>\n",
              "      </button>\n",
              "      \n",
              "  <style>\n",
              "    .colab-df-container {\n",
              "      display:flex;\n",
              "      flex-wrap:wrap;\n",
              "      gap: 12px;\n",
              "    }\n",
              "\n",
              "    .colab-df-convert {\n",
              "      background-color: #E8F0FE;\n",
              "      border: none;\n",
              "      border-radius: 50%;\n",
              "      cursor: pointer;\n",
              "      display: none;\n",
              "      fill: #1967D2;\n",
              "      height: 32px;\n",
              "      padding: 0 0 0 0;\n",
              "      width: 32px;\n",
              "    }\n",
              "\n",
              "    .colab-df-convert:hover {\n",
              "      background-color: #E2EBFA;\n",
              "      box-shadow: 0px 1px 2px rgba(60, 64, 67, 0.3), 0px 1px 3px 1px rgba(60, 64, 67, 0.15);\n",
              "      fill: #174EA6;\n",
              "    }\n",
              "\n",
              "    [theme=dark] .colab-df-convert {\n",
              "      background-color: #3B4455;\n",
              "      fill: #D2E3FC;\n",
              "    }\n",
              "\n",
              "    [theme=dark] .colab-df-convert:hover {\n",
              "      background-color: #434B5C;\n",
              "      box-shadow: 0px 1px 3px 1px rgba(0, 0, 0, 0.15);\n",
              "      filter: drop-shadow(0px 1px 2px rgba(0, 0, 0, 0.3));\n",
              "      fill: #FFFFFF;\n",
              "    }\n",
              "  </style>\n",
              "\n",
              "      <script>\n",
              "        const buttonEl =\n",
              "          document.querySelector('#df-ede75f26-5e6c-4e35-ad34-22454829c6f0 button.colab-df-convert');\n",
              "        buttonEl.style.display =\n",
              "          google.colab.kernel.accessAllowed ? 'block' : 'none';\n",
              "\n",
              "        async function convertToInteractive(key) {\n",
              "          const element = document.querySelector('#df-ede75f26-5e6c-4e35-ad34-22454829c6f0');\n",
              "          const dataTable =\n",
              "            await google.colab.kernel.invokeFunction('convertToInteractive',\n",
              "                                                     [key], {});\n",
              "          if (!dataTable) return;\n",
              "\n",
              "          const docLinkHtml = 'Like what you see? Visit the ' +\n",
              "            '<a target=\"_blank\" href=https://colab.research.google.com/notebooks/data_table.ipynb>data table notebook</a>'\n",
              "            + ' to learn more about interactive tables.';\n",
              "          element.innerHTML = '';\n",
              "          dataTable['output_type'] = 'display_data';\n",
              "          await google.colab.output.renderOutput(dataTable, element);\n",
              "          const docLink = document.createElement('div');\n",
              "          docLink.innerHTML = docLinkHtml;\n",
              "          element.appendChild(docLink);\n",
              "        }\n",
              "      </script>\n",
              "    </div>\n",
              "  </div>\n",
              "  "
            ]
          },
          "metadata": {},
          "execution_count": 26
        }
      ]
    },
    {
      "cell_type": "code",
      "source": [
        "data['Продажи'].plot(figsize=(15,5))"
      ],
      "metadata": {
        "colab": {
          "base_uri": "https://localhost:8080/",
          "height": 362
        },
        "id": "KZSA5gbMKAmC",
        "outputId": "c9b982f2-4ccb-42c5-9ff9-42f0912404e6"
      },
      "execution_count": 109,
      "outputs": [
        {
          "output_type": "execute_result",
          "data": {
            "text/plain": [
              "<matplotlib.axes._subplots.AxesSubplot at 0x7f87ca8ee490>"
            ]
          },
          "metadata": {},
          "execution_count": 109
        },
        {
          "output_type": "display_data",
          "data": {
            "text/plain": [
              "<Figure size 1080x360 with 1 Axes>"
            ],
            "image/png": "[encoded data removed]"
          },
          "metadata": {
            "needs_background": "light"
          }
        }
      ]
    },
    {
      "cell_type": "markdown",
      "source": [
        "Проведем сезонную декомпозицию."
      ],
      "metadata": {
        "id": "MWkKGDT154zm"
      }
    },
    {
      "cell_type": "code",
      "source": [
        "decomposed = seasonal_decompose(data['Продажи'])"
      ],
      "metadata": {
        "id": "X8YZQdy0-Tvf"
      },
      "execution_count": 28,
      "outputs": []
    },
    {
      "cell_type": "code",
      "source": [
        "plt.figure(figsize=(10, 10))\n",
        "\n",
        "plt.subplot(311)\n",
        "decomposed.trend.plot(ax=plt.gca())\n",
        "plt.title('Тренд')\n",
        "\n",
        "plt.subplot(312)\n",
        "decomposed.seasonal.plot(ax=plt.gca()) \n",
        "plt.title('Сезонная составляющая')\n",
        "\n",
        "plt.subplot(313)\n",
        "decomposed.resid.plot(ax=plt.gca()) \n",
        "plt.title('Остаток декомпозиции')\n",
        "\n",
        "plt.tight_layout()"
      ],
      "metadata": {
        "colab": {
          "base_uri": "https://localhost:8080/",
          "height": 729
        },
        "id": "xwy5f0y0AW_b",
        "outputId": "81b52340-4eb8-4ca4-99e8-8241f4d6f60d"
      },
      "execution_count": 29,
      "outputs": [
        {
          "output_type": "display_data",
          "data": {
            "text/plain": [
              "<Figure size 720x720 with 3 Axes>"
            ],
            "image/png": "[encoded data removed]"
          },
          "metadata": {
            "needs_background": "light"
          }
        }
      ]
    },
    {
      "cell_type": "code",
      "source": [
        "decomposed.seasonal['2022-03-15':'2022-04-15'].plot(figsize=(15, 4)) "
      ],
      "metadata": {
        "colab": {
          "base_uri": "https://localhost:8080/",
          "height": 331
        },
        "id": "M9oRyrqRW7Jz",
        "outputId": "26e5ac69-9f11-4243-9320-3f5778c8ec0e"
      },
      "execution_count": 32,
      "outputs": [
        {
          "output_type": "execute_result",
          "data": {
            "text/plain": [
              "<matplotlib.axes._subplots.AxesSubplot at 0x7f87d025da10>"
            ]
          },
          "metadata": {},
          "execution_count": 32
        },
        {
          "output_type": "display_data",
          "data": {
            "text/plain": [
              "<Figure size 1080x288 with 1 Axes>"
            ],
            "image/png": "[encoded data removed]"
          },
          "metadata": {
            "needs_background": "light"
          }
        }
      ]
    },
    {
      "cell_type": "markdown",
      "source": [
        "Создадим новые признаки для пострения моделей машинного обучения: календарные (месяц, день, день недели), отстающие значения (до 7 дней), скользящее среднее."
      ],
      "metadata": {
        "id": "-PgsMMzfYHiO"
      }
    },
    {
      "cell_type": "code",
      "source": [
        "def make_features_new(data, max_lag, rolling_mean_size): # создание признаков\n",
        "\n",
        "    data_features = deepcopy(data)\n",
        "\n",
        "    data_features['month'] = data_features.index.month\n",
        "    data_features['day'] = data_features.index.day\n",
        "    data_features['dayofweek'] = data_features.index.dayofweek\n",
        "    \n",
        "    for lag in range(1, max_lag + 1):\n",
        "        data_features['lag_' + str(lag)] = data_features['Продажи'].shift(lag)\n",
        "\n",
        "    data_features['rolling_mean'] = data_features['Продажи'].shift().rolling(rolling_mean_size).mean()\n",
        "    \n",
        "    return data_features"
      ],
      "metadata": {
        "id": "2P-nhPIDXSqu"
      },
      "execution_count": 33,
      "outputs": []
    },
    {
      "cell_type": "code",
      "source": [
        "data_features = make_features_new(data, 7, 3)"
      ],
      "metadata": {
        "id": "jZui1850Ynmo"
      },
      "execution_count": 37,
      "outputs": []
    },
    {
      "cell_type": "code",
      "source": [
        "data_features.columns"
      ],
      "metadata": {
        "colab": {
          "base_uri": "https://localhost:8080/"
        },
        "id": "Lsj9-CDNZTJI",
        "outputId": "4e00aec4-3c30-437f-b047-bf81fab6eb81"
      },
      "execution_count": 38,
      "outputs": [
        {
          "output_type": "execute_result",
          "data": {
            "text/plain": [
              "Index(['Продажи', 'Остаток', 'Цена', 'Скидка', 'Цена со скидкой',\n",
              "       'Сумма продаж', 'Комментариев', 'Рейтинг', 'month', 'day', 'dayofweek',\n",
              "       'lag_1', 'lag_2', 'lag_3', 'lag_4', 'lag_5', 'lag_6', 'lag_7',\n",
              "       'rolling_mean'],\n",
              "      dtype='object')"
            ]
          },
          "metadata": {},
          "execution_count": 38
        }
      ]
    },
    {
      "cell_type": "code",
      "source": [
        "data_features[['Продажи','lag_1', 'lag_2', 'lag_3', 'lag_4', 'lag_5', 'lag_6', 'lag_7',\n",
        "       'rolling_mean']].head(10)"
      ],
      "metadata": {
        "colab": {
          "base_uri": "https://localhost:8080/",
          "height": 395
        },
        "id": "-pdmutJiY58D",
        "outputId": "b5c63828-67f7-452e-fbd1-778e2cdb537b"
      },
      "execution_count": 42,
      "outputs": [
        {
          "output_type": "execute_result",
          "data": {
            "text/plain": [
              "            Продажи  lag_1  lag_2  lag_3  lag_4  lag_5  lag_6  lag_7  \\\n",
              "Дата                                                                   \n",
              "2022-03-22       14    7.0    8.0   11.0    7.0    9.0   12.0    6.0   \n",
              "2022-03-23       10   14.0    7.0    8.0   11.0    7.0    9.0   12.0   \n",
              "2022-03-24        7   10.0   14.0    7.0    8.0   11.0    7.0    9.0   \n",
              "2022-03-25       12    7.0   10.0   14.0    7.0    8.0   11.0    7.0   \n",
              "2022-03-26       12   12.0    7.0   10.0   14.0    7.0    8.0   11.0   \n",
              "2022-03-27        7   12.0   12.0    7.0   10.0   14.0    7.0    8.0   \n",
              "2022-03-28        0    7.0   12.0   12.0    7.0   10.0   14.0    7.0   \n",
              "2022-03-29        3    0.0    7.0   12.0   12.0    7.0   10.0   14.0   \n",
              "2022-03-30        2    3.0    0.0    7.0   12.0   12.0    7.0   10.0   \n",
              "2022-03-31        1    2.0    3.0    0.0    7.0   12.0   12.0    7.0   \n",
              "\n",
              "            rolling_mean  \n",
              "Дата                      \n",
              "2022-03-22      8.666667  \n",
              "2022-03-23      9.666667  \n",
              "2022-03-24     10.333333  \n",
              "2022-03-25     10.333333  \n",
              "2022-03-26      9.666667  \n",
              "2022-03-27     10.333333  \n",
              "2022-03-28     10.333333  \n",
              "2022-03-29      6.333333  \n",
              "2022-03-30      3.333333  \n",
              "2022-03-31      1.666667  "
            ],
            "text/html": [
              "\n",
              "  <div id=\"df-2c4a6940-5d37-4150-9903-1b3fa4ac20e1\">\n",
              "    <div class=\"colab-df-container\">\n",
              "      <div>\n",
              "<style scoped>\n",
              "    .dataframe tbody tr th:only-of-type {\n",
              "        vertical-align: middle;\n",
              "    }\n",
              "\n",
              "    .dataframe tbody tr th {\n",
              "        vertical-align: top;\n",
              "    }\n",
              "\n",
              "    .dataframe thead th {\n",
              "        text-align: right;\n",
              "    }\n",
              "</style>\n",
              "<table border=\"1\" class=\"dataframe\">\n",
              "  <thead>\n",
              "    <tr style=\"text-align: right;\">\n",
              "      <th></th>\n",
              "      <th>Продажи</th>\n",
              "      <th>lag_1</th>\n",
              "      <th>lag_2</th>\n",
              "      <th>lag_3</th>\n",
              "      <th>lag_4</th>\n",
              "      <th>lag_5</th>\n",
              "      <th>lag_6</th>\n",
              "      <th>lag_7</th>\n",
              "      <th>rolling_mean</th>\n",
              "    </tr>\n",
              "    <tr>\n",
              "      <th>Дата</th>\n",
              "      <th></th>\n",
              "      <th></th>\n",
              "      <th></th>\n",
              "      <th></th>\n",
              "      <th></th>\n",
              "      <th></th>\n",
              "      <th></th>\n",
              "      <th></th>\n",
              "      <th></th>\n",
              "    </tr>\n",
              "  </thead>\n",
              "  <tbody>\n",
              "    <tr>\n",
              "      <th>2022-03-22</th>\n",
              "      <td>14</td>\n",
              "      <td>7.0</td>\n",
              "      <td>8.0</td>\n",
              "      <td>11.0</td>\n",
              "      <td>7.0</td>\n",
              "      <td>9.0</td>\n",
              "      <td>12.0</td>\n",
              "      <td>6.0</td>\n",
              "      <td>8.666667</td>\n",
              "    </tr>\n",
              "    <tr>\n",
              "      <th>2022-03-23</th>\n",
              "      <td>10</td>\n",
              "      <td>14.0</td>\n",
              "      <td>7.0</td>\n",
              "      <td>8.0</td>\n",
              "      <td>11.0</td>\n",
              "      <td>7.0</td>\n",
              "      <td>9.0</td>\n",
              "      <td>12.0</td>\n",
              "      <td>9.666667</td>\n",
              "    </tr>\n",
              "    <tr>\n",
              "      <th>2022-03-24</th>\n",
              "      <td>7</td>\n",
              "      <td>10.0</td>\n",
              "      <td>14.0</td>\n",
              "      <td>7.0</td>\n",
              "      <td>8.0</td>\n",
              "      <td>11.0</td>\n",
              "      <td>7.0</td>\n",
              "      <td>9.0</td>\n",
              "      <td>10.333333</td>\n",
              "    </tr>\n",
              "    <tr>\n",
              "      <th>2022-03-25</th>\n",
              "      <td>12</td>\n",
              "      <td>7.0</td>\n",
              "      <td>10.0</td>\n",
              "      <td>14.0</td>\n",
              "      <td>7.0</td>\n",
              "      <td>8.0</td>\n",
              "      <td>11.0</td>\n",
              "      <td>7.0</td>\n",
              "      <td>10.333333</td>\n",
              "    </tr>\n",
              "    <tr>\n",
              "      <th>2022-03-26</th>\n",
              "      <td>12</td>\n",
              "      <td>12.0</td>\n",
              "      <td>7.0</td>\n",
              "      <td>10.0</td>\n",
              "      <td>14.0</td>\n",
              "      <td>7.0</td>\n",
              "      <td>8.0</td>\n",
              "      <td>11.0</td>\n",
              "      <td>9.666667</td>\n",
              "    </tr>\n",
              "    <tr>\n",
              "      <th>2022-03-27</th>\n",
              "      <td>7</td>\n",
              "      <td>12.0</td>\n",
              "      <td>12.0</td>\n",
              "      <td>7.0</td>\n",
              "      <td>10.0</td>\n",
              "      <td>14.0</td>\n",
              "      <td>7.0</td>\n",
              "      <td>8.0</td>\n",
              "      <td>10.333333</td>\n",
              "    </tr>\n",
              "    <tr>\n",
              "      <th>2022-03-28</th>\n",
              "      <td>0</td>\n",
              "      <td>7.0</td>\n",
              "      <td>12.0</td>\n",
              "      <td>12.0</td>\n",
              "      <td>7.0</td>\n",
              "      <td>10.0</td>\n",
              "      <td>14.0</td>\n",
              "      <td>7.0</td>\n",
              "      <td>10.333333</td>\n",
              "    </tr>\n",
              "    <tr>\n",
              "      <th>2022-03-29</th>\n",
              "      <td>3</td>\n",
              "      <td>0.0</td>\n",
              "      <td>7.0</td>\n",
              "      <td>12.0</td>\n",
              "      <td>12.0</td>\n",
              "      <td>7.0</td>\n",
              "      <td>10.0</td>\n",
              "      <td>14.0</td>\n",
              "      <td>6.333333</td>\n",
              "    </tr>\n",
              "    <tr>\n",
              "      <th>2022-03-30</th>\n",
              "      <td>2</td>\n",
              "      <td>3.0</td>\n",
              "      <td>0.0</td>\n",
              "      <td>7.0</td>\n",
              "      <td>12.0</td>\n",
              "      <td>12.0</td>\n",
              "      <td>7.0</td>\n",
              "      <td>10.0</td>\n",
              "      <td>3.333333</td>\n",
              "    </tr>\n",
              "    <tr>\n",
              "      <th>2022-03-31</th>\n",
              "      <td>1</td>\n",
              "      <td>2.0</td>\n",
              "      <td>3.0</td>\n",
              "      <td>0.0</td>\n",
              "      <td>7.0</td>\n",
              "      <td>12.0</td>\n",
              "      <td>12.0</td>\n",
              "      <td>7.0</td>\n",
              "      <td>1.666667</td>\n",
              "    </tr>\n",
              "  </tbody>\n",
              "</table>\n",
              "</div>\n",
              "      <button class=\"colab-df-convert\" onclick=\"convertToInteractive('df-2c4a6940-5d37-4150-9903-1b3fa4ac20e1')\"\n",
              "              title=\"Convert this dataframe to an interactive table.\"\n",
              "              style=\"display:none;\">\n",
              "        \n",
              "  <svg xmlns=\"http://www.w3.org/2000/svg\" height=\"24px\"viewBox=\"0 0 24 24\"\n",
              "       width=\"24px\">\n",
              "    <path d=\"M0 0h24v24H0V0z\" fill=\"none\"/>\n",
              "    <path d=\"M18.56 5.44l.94 2.06.94-2.06 2.06-.94-2.06-.94-.94-2.06-.94 2.06-2.06.94zm-11 1L8.5 8.5l.94-2.06 2.06-.94-2.06-.94L8.5 2.5l-.94 2.06-2.06.94zm10 10l.94 2.06.94-2.06 2.06-.94-2.06-.94-.94-2.06-.94 2.06-2.06.94z\"/><path d=\"M17.41 7.96l-1.37-1.37c-.4-.4-.92-.59-1.43-.59-.52 0-1.04.2-1.43.59L10.3 9.45l-7.72 7.72c-.78.78-.78 2.05 0 2.83L4 21.41c.39.39.9.59 1.41.59.51 0 1.02-.2 1.41-.59l7.78-7.78 2.81-2.81c.8-.78.8-2.07 0-2.86zM5.41 20L4 18.59l7.72-7.72 1.47 1.35L5.41 20z\"/>\n",
              "  </svg>\n",
              "      </button>\n",
              "      \n",
              "  <style>\n",
              "    .colab-df-container {\n",
              "      display:flex;\n",
              "      flex-wrap:wrap;\n",
              "      gap: 12px;\n",
              "    }\n",
              "\n",
              "    .colab-df-convert {\n",
              "      background-color: #E8F0FE;\n",
              "      border: none;\n",
              "      border-radius: 50%;\n",
              "      cursor: pointer;\n",
              "      display: none;\n",
              "      fill: #1967D2;\n",
              "      height: 32px;\n",
              "      padding: 0 0 0 0;\n",
              "      width: 32px;\n",
              "    }\n",
              "\n",
              "    .colab-df-convert:hover {\n",
              "      background-color: #E2EBFA;\n",
              "      box-shadow: 0px 1px 2px rgba(60, 64, 67, 0.3), 0px 1px 3px 1px rgba(60, 64, 67, 0.15);\n",
              "      fill: #174EA6;\n",
              "    }\n",
              "\n",
              "    [theme=dark] .colab-df-convert {\n",
              "      background-color: #3B4455;\n",
              "      fill: #D2E3FC;\n",
              "    }\n",
              "\n",
              "    [theme=dark] .colab-df-convert:hover {\n",
              "      background-color: #434B5C;\n",
              "      box-shadow: 0px 1px 3px 1px rgba(0, 0, 0, 0.15);\n",
              "      filter: drop-shadow(0px 1px 2px rgba(0, 0, 0, 0.3));\n",
              "      fill: #FFFFFF;\n",
              "    }\n",
              "  </style>\n",
              "\n",
              "      <script>\n",
              "        const buttonEl =\n",
              "          document.querySelector('#df-2c4a6940-5d37-4150-9903-1b3fa4ac20e1 button.colab-df-convert');\n",
              "        buttonEl.style.display =\n",
              "          google.colab.kernel.accessAllowed ? 'block' : 'none';\n",
              "\n",
              "        async function convertToInteractive(key) {\n",
              "          const element = document.querySelector('#df-2c4a6940-5d37-4150-9903-1b3fa4ac20e1');\n",
              "          const dataTable =\n",
              "            await google.colab.kernel.invokeFunction('convertToInteractive',\n",
              "                                                     [key], {});\n",
              "          if (!dataTable) return;\n",
              "\n",
              "          const docLinkHtml = 'Like what you see? Visit the ' +\n",
              "            '<a target=\"_blank\" href=https://colab.research.google.com/notebooks/data_table.ipynb>data table notebook</a>'\n",
              "            + ' to learn more about interactive tables.';\n",
              "          element.innerHTML = '';\n",
              "          dataTable['output_type'] = 'display_data';\n",
              "          await google.colab.output.renderOutput(dataTable, element);\n",
              "          const docLink = document.createElement('div');\n",
              "          docLink.innerHTML = docLinkHtml;\n",
              "          element.appendChild(docLink);\n",
              "        }\n",
              "      </script>\n",
              "    </div>\n",
              "  </div>\n",
              "  "
            ]
          },
          "metadata": {},
          "execution_count": 42
        }
      ]
    },
    {
      "cell_type": "code",
      "source": [
        "data_features = data_features.dropna()"
      ],
      "metadata": {
        "id": "chA6sEQMZxZs"
      },
      "execution_count": 41,
      "outputs": []
    },
    {
      "cell_type": "markdown",
      "source": [
        "Обучение\n",
        "\n",
        "Разделим исходные данные на обучающую, валидационную и тестовую выборки. Делим в отношении 8 : 1 : 1."
      ],
      "metadata": {
        "id": "_9acoDc5aVny"
      }
    },
    {
      "cell_type": "code",
      "source": [
        "features = data_features.drop(['Продажи'], axis=1) # признаки\n",
        "target = data_features['Продажи'] # целевой признак"
      ],
      "metadata": {
        "id": "LzDi6yuHaRZc"
      },
      "execution_count": 43,
      "outputs": []
    },
    {
      "cell_type": "code",
      "source": [
        "features.shape, target.shape"
      ],
      "metadata": {
        "colab": {
          "base_uri": "https://localhost:8080/"
        },
        "id": "BlhsVZjpadHJ",
        "outputId": "d00a68be-562d-4b8b-821e-8a75f065f1b8"
      },
      "execution_count": 44,
      "outputs": [
        {
          "output_type": "execute_result",
          "data": {
            "text/plain": [
              "((86, 18), (86,))"
            ]
          },
          "metadata": {},
          "execution_count": 44
        }
      ]
    },
    {
      "cell_type": "code",
      "source": [
        "# отделим 10% данных для тестовой выборки, данные не перемешиваем\n",
        "features_train_valid, features_test, target_train_valid, target_test = train_test_split(\n",
        "    features, target, test_size=0.1, shuffle=False) "
      ],
      "metadata": {
        "id": "wMLvYgIAafIL"
      },
      "execution_count": 45,
      "outputs": []
    },
    {
      "cell_type": "code",
      "source": [
        "# отделим 10% данных для валидационной выборки, данные не перемешиваем\n",
        "features_train, features_valid, target_train, target_valid = train_test_split(\n",
        "    features_train_valid, target_train_valid, test_size=0.111, shuffle=False) "
      ],
      "metadata": {
        "id": "UJ4YfGVNakFH"
      },
      "execution_count": 46,
      "outputs": []
    },
    {
      "cell_type": "markdown",
      "source": [
        "----------"
      ],
      "metadata": {
        "id": "2c2-8DNbeBGo"
      }
    },
    {
      "cell_type": "code",
      "source": [
        "tscv = TimeSeriesSplit() # cv для cross_val_score и GridSearchCV для временных рядов"
      ],
      "metadata": {
        "id": "DhRZ_bnDbN_R"
      },
      "execution_count": 47,
      "outputs": []
    },
    {
      "cell_type": "code",
      "source": [
        "def RMSE(target, predictions): # функция для вычисления RMSE\n",
        "    return (mean_squared_error(target, predictions) ** 0.5)"
      ],
      "metadata": {
        "id": "UBj76FUgd7KK"
      },
      "execution_count": 52,
      "outputs": []
    },
    {
      "cell_type": "code",
      "source": [
        "scoring = make_scorer(RMSE, greater_is_better=False) # scoring=scoring для cross_val_score"
      ],
      "metadata": {
        "id": "9KIOOV8kd7BV"
      },
      "execution_count": 53,
      "outputs": []
    },
    {
      "cell_type": "code",
      "source": [
        "df = [] # таблица с результатами\n",
        "col_data = ['model', 'type_data', 'RMSE']"
      ],
      "metadata": {
        "id": "Ptfy1RFYd6xb"
      },
      "execution_count": 54,
      "outputs": []
    },
    {
      "cell_type": "code",
      "source": [
        "def predict_result(model, features, target, type_data, name_model): # функция метрики на предсказании\n",
        "\n",
        "    predictions = model.predict(features) # получим предсказания модели \n",
        "    \n",
        "    result = RMSE(target, predictions) # значение метрики RMSE \n",
        "    \n",
        "#    print(\"RMSE \", name_model, \":\", result)\n",
        "    \n",
        "    df.append([name_model, type_data, result])"
      ],
      "metadata": {
        "id": "5y14Z7h9eJ2S"
      },
      "execution_count": 55,
      "outputs": []
    },
    {
      "cell_type": "code",
      "source": [
        "def plot_test_prediction_result(model, features, target, type_data,  name_model): # тестирование и визуализация\n",
        "\n",
        "    predictions = model.predict(features) # получим предсказания модели \n",
        "    \n",
        "    result = RMSE(target, predictions) # значение метрики RMSE \n",
        "    \n",
        "    print(\"RMSE \", name_model, \":\", result)\n",
        "    \n",
        "    df.append([name_model, type_data, result])   \n",
        "\n",
        "    pred = pd.DataFrame(data=predictions, index = target.index)\n",
        "  \n",
        "    plt.figure(figsize=(12,6))\n",
        "    plt.plot(target, color='green', label='test')\n",
        "    plt.plot(pred, color='red', label='predictions')\n",
        "    plt.title(name_model)\n",
        "    #plt.xlabel('Date')\n",
        "    #plt.ylabel('')\n",
        "    plt.legend()\n",
        "    plt.show()"
      ],
      "metadata": {
        "id": "edxFGYAJeJpp"
      },
      "execution_count": 56,
      "outputs": []
    },
    {
      "cell_type": "markdown",
      "source": [
        "--------------"
      ],
      "metadata": {
        "id": "wdoIKbmwgUBt"
      }
    },
    {
      "cell_type": "markdown",
      "source": [
        "CatBoostRegressor"
      ],
      "metadata": {
        "id": "oSinzO_MbJUr"
      }
    },
    {
      "cell_type": "code",
      "source": [
        "parameters_CBR = {'loss_function': 'RMSE', # значение по умолчанию\n",
        "                  'iterations': 1000, # значение по умолчанию\n",
        "                  'random_state': 12345,\n",
        "                  'verbose': 500}\n",
        "\n",
        "model_CBR = CatBoostRegressor(**parameters_CBR)\n",
        "\n",
        "grid = {'learning_rate': [0.01],\n",
        "        'depth': [4, 6]}\n",
        "\n",
        "grid_search_result = model_CBR.grid_search(grid, \n",
        "                                           X=features_train, \n",
        "                                           y=target_train, cv=tscv)"
      ],
      "metadata": {
        "colab": {
          "base_uri": "https://localhost:8080/"
        },
        "id": "FWQEy9FFaxBt",
        "outputId": "9c43949f-574f-471f-9058-9fb7598c2ac8"
      },
      "execution_count": 49,
      "outputs": [
        {
          "output_type": "stream",
          "name": "stdout",
          "text": [
            "0:\tlearn: 5.7626247\ttest: 1.2771142\tbest: 1.2771142 (0)\ttotal: 1.07ms\tremaining: 1.06s\n",
            "500:\tlearn: 0.6624166\ttest: 0.5364137\tbest: 0.5364137 (500)\ttotal: 224ms\tremaining: 223ms\n",
            "999:\tlearn: 0.1566545\ttest: 0.2878832\tbest: 0.2878832 (999)\ttotal: 396ms\tremaining: 0us\n",
            "\n",
            "bestTest = 0.2878832312\n",
            "bestIteration = 999\n",
            "\n",
            "0:\tloss: 0.2878832\tbest: 0.2878832 (0)\ttotal: 429ms\tremaining: 429ms\n",
            "0:\tlearn: 5.7644049\ttest: 1.2782976\tbest: 1.2782976 (0)\ttotal: 891us\tremaining: 891ms\n",
            "500:\tlearn: 0.7031132\ttest: 0.6695340\tbest: 0.6695340 (500)\ttotal: 325ms\tremaining: 324ms\n",
            "999:\tlearn: 0.1437175\ttest: 0.4250677\tbest: 0.4250677 (999)\ttotal: 658ms\tremaining: 0us\n",
            "\n",
            "bestTest = 0.4250676899\n",
            "bestIteration = 999\n",
            "\n",
            "1:\tloss: 0.4250677\tbest: 0.2878832 (0)\ttotal: 1.12s\tremaining: 0us\n",
            "Estimating final quality...\n",
            "Training on fold [0/5]\n",
            "0:\tlearn: 7.9083049\ttest: 7.5558681\tbest: 7.5558681 (0)\ttotal: 250us\tremaining: 250ms\n",
            "500:\tlearn: 1.1891304\ttest: 2.3207572\tbest: 2.3207572 (500)\ttotal: 119ms\tremaining: 118ms\n",
            "999:\tlearn: 0.3196221\ttest: 1.9725249\tbest: 1.9725249 (999)\ttotal: 238ms\tremaining: 0us\n",
            "\n",
            "bestTest = 1.972524901\n",
            "bestIteration = 999\n",
            "\n",
            "Training on fold [1/5]\n",
            "0:\tlearn: 7.7463599\ttest: 4.8930045\tbest: 4.8930045 (0)\ttotal: 383us\tremaining: 383ms\n",
            "500:\tlearn: 0.9543016\ttest: 1.3737434\tbest: 1.3416153 (295)\ttotal: 158ms\tremaining: 157ms\n",
            "999:\tlearn: 0.2189711\ttest: 1.3246860\tbest: 1.3235977 (983)\ttotal: 312ms\tremaining: 0us\n",
            "\n",
            "bestTest = 1.323597714\n",
            "bestIteration = 983\n",
            "\n",
            "Training on fold [2/5]\n",
            "0:\tlearn: 6.9841227\ttest: 2.0210607\tbest: 2.0210607 (0)\ttotal: 436us\tremaining: 437ms\n",
            "500:\tlearn: 0.8264236\ttest: 1.0834438\tbest: 1.0830530 (499)\ttotal: 193ms\tremaining: 192ms\n",
            "999:\tlearn: 0.1743303\ttest: 0.7985203\tbest: 0.7985203 (999)\ttotal: 352ms\tremaining: 0us\n",
            "\n",
            "bestTest = 0.7985203159\n",
            "bestIteration = 999\n",
            "\n",
            "Training on fold [3/5]\n",
            "0:\tlearn: 6.1645480\ttest: 2.0449494\tbest: 2.0449494 (0)\ttotal: 399us\tremaining: 399ms\n",
            "500:\tlearn: 0.7227790\ttest: 1.0729602\tbest: 1.0729602 (500)\ttotal: 185ms\tremaining: 184ms\n",
            "999:\tlearn: 0.1883075\ttest: 0.5792224\tbest: 0.5792224 (999)\ttotal: 351ms\tremaining: 0us\n",
            "\n",
            "bestTest = 0.5792224297\n",
            "bestIteration = 999\n",
            "\n",
            "Training on fold [4/5]\n",
            "0:\tlearn: 5.6089926\ttest: 1.4413326\tbest: 1.4413326 (0)\ttotal: 457us\tremaining: 457ms\n",
            "500:\tlearn: 0.6412413\ttest: 0.4937452\tbest: 0.4935915 (499)\ttotal: 190ms\tremaining: 189ms\n",
            "999:\tlearn: 0.1572730\ttest: 0.2413046\tbest: 0.2413046 (999)\ttotal: 405ms\tremaining: 0us\n",
            "\n",
            "bestTest = 0.2413046479\n",
            "bestIteration = 999\n",
            "\n"
          ]
        }
      ]
    },
    {
      "cell_type": "code",
      "source": [
        "model_CBR.fit(features_train, target_train)"
      ],
      "metadata": {
        "colab": {
          "base_uri": "https://localhost:8080/"
        },
        "id": "sudUi1PKawjm",
        "outputId": "acaa1dc9-6692-40d5-f0ce-194bf0618976"
      },
      "execution_count": 50,
      "outputs": [
        {
          "output_type": "stream",
          "name": "stdout",
          "text": [
            "0:\tlearn: 3.5809862\ttotal: 1.95ms\tremaining: 1.95s\n",
            "500:\tlearn: 0.4761643\ttotal: 477ms\tremaining: 475ms\n",
            "999:\tlearn: 0.1344274\ttotal: 909ms\tremaining: 0us\n"
          ]
        },
        {
          "output_type": "execute_result",
          "data": {
            "text/plain": [
              "<catboost.core.CatBoostRegressor at 0x7f87ce3f5cd0>"
            ]
          },
          "metadata": {},
          "execution_count": 50
        }
      ]
    },
    {
      "cell_type": "code",
      "source": [
        " model_CBR.best_score_['learn']['RMSE']"
      ],
      "metadata": {
        "colab": {
          "base_uri": "https://localhost:8080/"
        },
        "id": "FRBvftLFfHJ8",
        "outputId": "3dd0a877-d870-4ac1-fc48-7b55a9c361f9"
      },
      "execution_count": 65,
      "outputs": [
        {
          "output_type": "execute_result",
          "data": {
            "text/plain": [
              "0.13442743148705252"
            ]
          },
          "metadata": {},
          "execution_count": 65
        }
      ]
    },
    {
      "cell_type": "code",
      "source": [
        "df.append(['CatBoostRegressor', 'train', model_CBR.best_score_['learn']['RMSE']])"
      ],
      "metadata": {
        "id": "b2EsfXT6cBnZ"
      },
      "execution_count": 57,
      "outputs": []
    },
    {
      "cell_type": "markdown",
      "source": [
        "-------"
      ],
      "metadata": {
        "id": "UxJsaxG6euEB"
      }
    },
    {
      "cell_type": "markdown",
      "source": [
        "XGBRegressor"
      ],
      "metadata": {
        "id": "zWXuSRDvemge"
      }
    },
    {
      "cell_type": "code",
      "source": [
        "params = { #'eval_metric': \"rmse\"\n",
        "          'max_depth': [6, 8], # 5, 6, 10, 15, 20],\n",
        "          'learning_rate': [0.3], # 0.1, 0.2, 0.3],\n",
        "           #'subsample': 0.8,\n",
        "     #      'colsample_bytree': np.arange(0.4, 1.0, 0.1),\n",
        "     #      'colsample_bylevel': np.arange(0.4, 1.0, 0.1),\n",
        "          'n_estimators': [100]\n",
        "}"
      ],
      "metadata": {
        "id": "b23cWmOPetZ5"
      },
      "execution_count": 58,
      "outputs": []
    },
    {
      "cell_type": "code",
      "source": [
        "model_ = XGBRegressor()"
      ],
      "metadata": {
        "id": "LDuq0v_Vev2z"
      },
      "execution_count": 59,
      "outputs": []
    },
    {
      "cell_type": "code",
      "source": [
        "model_XGBR = GridSearchCV(model_, params, cv=tscv, scoring=scoring, verbose=1)"
      ],
      "metadata": {
        "id": "HuHcekxbev0G"
      },
      "execution_count": 60,
      "outputs": []
    },
    {
      "cell_type": "code",
      "source": [
        "model_XGBR.fit(features_train, target_train)"
      ],
      "metadata": {
        "colab": {
          "base_uri": "https://localhost:8080/"
        },
        "id": "LAziovgNevxA",
        "outputId": "be1bd384-eb7f-468a-f09e-ea62f1215713"
      },
      "execution_count": 61,
      "outputs": [
        {
          "output_type": "stream",
          "name": "stdout",
          "text": [
            "Fitting 5 folds for each of 2 candidates, totalling 10 fits\n",
            "[07:47:43] WARNING: /workspace/src/objective/regression_obj.cu:152: reg:linear is now deprecated in favor of reg:squarederror.\n",
            "[07:47:43] WARNING: /workspace/src/objective/regression_obj.cu:152: reg:linear is now deprecated in favor of reg:squarederror.\n",
            "[07:47:43] WARNING: /workspace/src/objective/regression_obj.cu:152: reg:linear is now deprecated in favor of reg:squarederror.\n",
            "[07:47:43] WARNING: /workspace/src/objective/regression_obj.cu:152: reg:linear is now deprecated in favor of reg:squarederror.\n",
            "[07:47:43] WARNING: /workspace/src/objective/regression_obj.cu:152: reg:linear is now deprecated in favor of reg:squarederror.\n",
            "[07:47:43] WARNING: /workspace/src/objective/regression_obj.cu:152: reg:linear is now deprecated in favor of reg:squarederror.\n",
            "[07:47:43] WARNING: /workspace/src/objective/regression_obj.cu:152: reg:linear is now deprecated in favor of reg:squarederror.\n",
            "[07:47:43] WARNING: /workspace/src/objective/regression_obj.cu:152: reg:linear is now deprecated in favor of reg:squarederror.\n",
            "[07:47:43] WARNING: /workspace/src/objective/regression_obj.cu:152: reg:linear is now deprecated in favor of reg:squarederror.\n",
            "[07:47:43] WARNING: /workspace/src/objective/regression_obj.cu:152: reg:linear is now deprecated in favor of reg:squarederror.\n",
            "[07:47:43] WARNING: /workspace/src/objective/regression_obj.cu:152: reg:linear is now deprecated in favor of reg:squarederror.\n"
          ]
        },
        {
          "output_type": "execute_result",
          "data": {
            "text/plain": [
              "GridSearchCV(cv=TimeSeriesSplit(gap=0, max_train_size=None, n_splits=5, test_size=None),\n",
              "             estimator=XGBRegressor(),\n",
              "             param_grid={'learning_rate': [0.3], 'max_depth': [6, 8],\n",
              "                         'n_estimators': [100]},\n",
              "             scoring=make_scorer(RMSE, greater_is_better=False), verbose=1)"
            ]
          },
          "metadata": {},
          "execution_count": 61
        }
      ]
    },
    {
      "cell_type": "code",
      "source": [
        "model_XGBR.best_params_"
      ],
      "metadata": {
        "colab": {
          "base_uri": "https://localhost:8080/"
        },
        "id": "tcsw121MevuP",
        "outputId": "ae467016-b863-4dbd-c191-2dc49e3e355b"
      },
      "execution_count": 62,
      "outputs": [
        {
          "output_type": "execute_result",
          "data": {
            "text/plain": [
              "{'learning_rate': 0.3, 'max_depth': 6, 'n_estimators': 100}"
            ]
          },
          "metadata": {},
          "execution_count": 62
        }
      ]
    },
    {
      "cell_type": "code",
      "source": [
        "df.append(['XGBRegressor', 'train', abs(model_XGBR.best_score_)])"
      ],
      "metadata": {
        "id": "MyOvlV_BevrX"
      },
      "execution_count": 63,
      "outputs": []
    },
    {
      "cell_type": "code",
      "source": [
        "abs(model_XGBR.best_score_)"
      ],
      "metadata": {
        "colab": {
          "base_uri": "https://localhost:8080/"
        },
        "id": "k1M7bFc0evn8",
        "outputId": "93e91123-be2e-4d0a-9a60-5a4e7db96b87"
      },
      "execution_count": 64,
      "outputs": [
        {
          "output_type": "execute_result",
          "data": {
            "text/plain": [
              "0.6011141283300322"
            ]
          },
          "metadata": {},
          "execution_count": 64
        }
      ]
    },
    {
      "cell_type": "markdown",
      "source": [
        "-----------"
      ],
      "metadata": {
        "id": "KclamnvpgREs"
      }
    },
    {
      "cell_type": "markdown",
      "source": [
        "LightGBMRegressor"
      ],
      "metadata": {
        "id": "OhNdvcjZfLkG"
      }
    },
    {
      "cell_type": "code",
      "source": [
        "Params = {\n",
        "    'learning_rate': [0.1, 0.2],\n",
        "    'num_leaves': [31, 50],\n",
        "    'n_estimators': [100],\n",
        "    'objective' : ['regression'],\n",
        "    'random_state' : [12345] \n",
        "    }"
      ],
      "metadata": {
        "id": "eBpNF8T7evk9"
      },
      "execution_count": 66,
      "outputs": []
    },
    {
      "cell_type": "code",
      "source": [
        "model_ = lgb.LGBMRegressor()"
      ],
      "metadata": {
        "id": "1kbYpjUkevib"
      },
      "execution_count": 67,
      "outputs": []
    },
    {
      "cell_type": "code",
      "source": [
        "model_LGBMR = GridSearchCV(model_, Params, scoring=scoring, cv=tscv, verbose=1)"
      ],
      "metadata": {
        "id": "ffB7zYJffYz5"
      },
      "execution_count": 68,
      "outputs": []
    },
    {
      "cell_type": "code",
      "source": [
        "model_LGBMR.fit(features_train, target_train)"
      ],
      "metadata": {
        "colab": {
          "base_uri": "https://localhost:8080/"
        },
        "id": "mk-KO6h1fYw0",
        "outputId": "f0f94ddf-e48f-4d60-93b0-48821c639aa3"
      },
      "execution_count": 69,
      "outputs": [
        {
          "output_type": "stream",
          "name": "stdout",
          "text": [
            "Fitting 5 folds for each of 4 candidates, totalling 20 fits\n"
          ]
        },
        {
          "output_type": "execute_result",
          "data": {
            "text/plain": [
              "GridSearchCV(cv=TimeSeriesSplit(gap=0, max_train_size=None, n_splits=5, test_size=None),\n",
              "             estimator=LGBMRegressor(),\n",
              "             param_grid={'learning_rate': [0.1, 0.2], 'n_estimators': [100],\n",
              "                         'num_leaves': [31, 50], 'objective': ['regression'],\n",
              "                         'random_state': [12345]},\n",
              "             scoring=make_scorer(RMSE, greater_is_better=False), verbose=1)"
            ]
          },
          "metadata": {},
          "execution_count": 69
        }
      ]
    },
    {
      "cell_type": "code",
      "source": [
        "model_LGBMR.best_params_"
      ],
      "metadata": {
        "colab": {
          "base_uri": "https://localhost:8080/"
        },
        "id": "CMQ28r_nfYt2",
        "outputId": "63c1fac5-394a-4be0-b20d-48dd3286a40e"
      },
      "execution_count": 70,
      "outputs": [
        {
          "output_type": "execute_result",
          "data": {
            "text/plain": [
              "{'learning_rate': 0.1,\n",
              " 'n_estimators': 100,\n",
              " 'num_leaves': 31,\n",
              " 'objective': 'regression',\n",
              " 'random_state': 12345}"
            ]
          },
          "metadata": {},
          "execution_count": 70
        }
      ]
    },
    {
      "cell_type": "code",
      "source": [
        "df.append(['LightGBMRegressor', 'train', abs(model_LGBMR.best_score_)])"
      ],
      "metadata": {
        "id": "knygIIMzfYqb"
      },
      "execution_count": 71,
      "outputs": []
    },
    {
      "cell_type": "code",
      "source": [
        "abs(model_LGBMR.best_score_)"
      ],
      "metadata": {
        "colab": {
          "base_uri": "https://localhost:8080/"
        },
        "id": "zpruJWOPfYnr",
        "outputId": "8cdc4c5c-6e3e-48b2-c5d1-29d0df8be413"
      },
      "execution_count": 72,
      "outputs": [
        {
          "output_type": "execute_result",
          "data": {
            "text/plain": [
              "2.4596102371840254"
            ]
          },
          "metadata": {},
          "execution_count": 72
        }
      ]
    },
    {
      "cell_type": "markdown",
      "source": [
        "-----------"
      ],
      "metadata": {
        "id": "J6g0MsbugO5x"
      }
    },
    {
      "cell_type": "markdown",
      "source": [
        "RandomForestRegressor"
      ],
      "metadata": {
        "id": "8JIyZlZofonD"
      }
    },
    {
      "cell_type": "code",
      "source": [
        "best_modelRFR = None\n",
        "best_depthRFR = 0\n",
        "best_est = 0\n",
        "best_rmseRFR = 10000\n",
        "\n",
        "for est in range(1, 11, 2): # в цикле меняем гиперпараметр - максимальное количество деревьев\n",
        "    for depth in range(1, 11, 2): # в цикле меняем гиперпараметр - максимальную глубину дерева\n",
        "\n",
        "        model = RandomForestRegressor(random_state=12345, n_estimators=est, max_depth=depth) # случайный лес\n",
        "    \n",
        "        score = abs(sum(cross_val_score(\n",
        "            model, features_train, target_train, scoring=scoring, cv=tscv)) / 5)\n",
        "    \n",
        "        if score < best_rmseRFR:\n",
        "            best_modelRFR = model\n",
        "            best_depthRFR = depth\n",
        "            best_est = est\n",
        "            best_rmseRFR = score\n",
        "\n",
        "            \n",
        "print(\"Модель 'Случайный лес', RMSE: \", best_rmseRFR, \n",
        "      \", количество деревьев:\", best_est, \", глубина дерева:\", best_depthRFR)"
      ],
      "metadata": {
        "colab": {
          "base_uri": "https://localhost:8080/"
        },
        "id": "tsRZBudQf2LP",
        "outputId": "7391743f-8c6c-4aac-f437-53f79f854a2f"
      },
      "execution_count": 73,
      "outputs": [
        {
          "output_type": "stream",
          "name": "stdout",
          "text": [
            "Модель 'Случайный лес', RMSE:  0.8695590414130313 , количество деревьев: 3 , глубина дерева: 5\n"
          ]
        }
      ]
    },
    {
      "cell_type": "code",
      "source": [
        "best_modelRFR.fit(features_train, target_train)"
      ],
      "metadata": {
        "colab": {
          "base_uri": "https://localhost:8080/"
        },
        "id": "X3S9fk3Kf2IL",
        "outputId": "5ff40546-7eef-4129-f327-d4118b0974a9"
      },
      "execution_count": 74,
      "outputs": [
        {
          "output_type": "execute_result",
          "data": {
            "text/plain": [
              "RandomForestRegressor(max_depth=5, n_estimators=3, random_state=12345)"
            ]
          },
          "metadata": {},
          "execution_count": 74
        }
      ]
    },
    {
      "cell_type": "code",
      "source": [
        "df.append(['RandomForestRegressor', 'train', best_rmseRFR])"
      ],
      "metadata": {
        "id": "a0eeCumsf2FP"
      },
      "execution_count": 75,
      "outputs": []
    },
    {
      "cell_type": "markdown",
      "source": [
        "-----------"
      ],
      "metadata": {
        "id": "W-UI3T37gMaP"
      }
    },
    {
      "cell_type": "markdown",
      "source": [
        "LinearRegression"
      ],
      "metadata": {
        "id": "V-gadqYcgDt1"
      }
    },
    {
      "cell_type": "code",
      "source": [
        "modelLinR = LinearRegression() # инициализируем модель LinearRegression"
      ],
      "metadata": {
        "id": "YkPT-DDzf2CX"
      },
      "execution_count": 76,
      "outputs": []
    },
    {
      "cell_type": "code",
      "source": [
        "modelLinR.fit(features_train, target_train)"
      ],
      "metadata": {
        "colab": {
          "base_uri": "https://localhost:8080/"
        },
        "id": "vo4l5566f1_d",
        "outputId": "54f8fa3a-54df-492e-ebab-243e341af024"
      },
      "execution_count": 77,
      "outputs": [
        {
          "output_type": "execute_result",
          "data": {
            "text/plain": [
              "LinearRegression()"
            ]
          },
          "metadata": {},
          "execution_count": 77
        }
      ]
    },
    {
      "cell_type": "code",
      "source": [
        "predict_result(modelLinR, features_train, target_train, 'train', 'LinearRegression')"
      ],
      "metadata": {
        "id": "Dd_g2LfNf183"
      },
      "execution_count": 78,
      "outputs": []
    },
    {
      "cell_type": "markdown",
      "source": [
        "----------"
      ],
      "metadata": {
        "id": "5laubhungZKf"
      }
    },
    {
      "cell_type": "code",
      "source": [
        "df_result = pd.DataFrame(data=df, columns=col_data) # таблица с результатами"
      ],
      "metadata": {
        "id": "o-CHLUa4f1Lz"
      },
      "execution_count": 79,
      "outputs": []
    },
    {
      "cell_type": "code",
      "source": [
        "df_result"
      ],
      "metadata": {
        "colab": {
          "base_uri": "https://localhost:8080/",
          "height": 206
        },
        "id": "zSHpRozjgfiF",
        "outputId": "9b91741e-cbc3-4c74-e3cd-f0a82aba4cf7"
      },
      "execution_count": 80,
      "outputs": [
        {
          "output_type": "execute_result",
          "data": {
            "text/plain": [
              "                   model type_data      RMSE\n",
              "0      CatBoostRegressor     train  0.134427\n",
              "1           XGBRegressor     train  0.601114\n",
              "2      LightGBMRegressor     train  2.459610\n",
              "3  RandomForestRegressor     train  0.869559\n",
              "4       LinearRegression     train  0.192773"
            ],
            "text/html": [
              "\n",
              "  <div id=\"df-ef651f76-0395-46d1-ba3b-23c72d0372e4\">\n",
              "    <div class=\"colab-df-container\">\n",
              "      <div>\n",
              "<style scoped>\n",
              "    .dataframe tbody tr th:only-of-type {\n",
              "        vertical-align: middle;\n",
              "    }\n",
              "\n",
              "    .dataframe tbody tr th {\n",
              "        vertical-align: top;\n",
              "    }\n",
              "\n",
              "    .dataframe thead th {\n",
              "        text-align: right;\n",
              "    }\n",
              "</style>\n",
              "<table border=\"1\" class=\"dataframe\">\n",
              "  <thead>\n",
              "    <tr style=\"text-align: right;\">\n",
              "      <th></th>\n",
              "      <th>model</th>\n",
              "      <th>type_data</th>\n",
              "      <th>RMSE</th>\n",
              "    </tr>\n",
              "  </thead>\n",
              "  <tbody>\n",
              "    <tr>\n",
              "      <th>0</th>\n",
              "      <td>CatBoostRegressor</td>\n",
              "      <td>train</td>\n",
              "      <td>0.134427</td>\n",
              "    </tr>\n",
              "    <tr>\n",
              "      <th>1</th>\n",
              "      <td>XGBRegressor</td>\n",
              "      <td>train</td>\n",
              "      <td>0.601114</td>\n",
              "    </tr>\n",
              "    <tr>\n",
              "      <th>2</th>\n",
              "      <td>LightGBMRegressor</td>\n",
              "      <td>train</td>\n",
              "      <td>2.459610</td>\n",
              "    </tr>\n",
              "    <tr>\n",
              "      <th>3</th>\n",
              "      <td>RandomForestRegressor</td>\n",
              "      <td>train</td>\n",
              "      <td>0.869559</td>\n",
              "    </tr>\n",
              "    <tr>\n",
              "      <th>4</th>\n",
              "      <td>LinearRegression</td>\n",
              "      <td>train</td>\n",
              "      <td>0.192773</td>\n",
              "    </tr>\n",
              "  </tbody>\n",
              "</table>\n",
              "</div>\n",
              "      <button class=\"colab-df-convert\" onclick=\"convertToInteractive('df-ef651f76-0395-46d1-ba3b-23c72d0372e4')\"\n",
              "              title=\"Convert this dataframe to an interactive table.\"\n",
              "              style=\"display:none;\">\n",
              "        \n",
              "  <svg xmlns=\"http://www.w3.org/2000/svg\" height=\"24px\"viewBox=\"0 0 24 24\"\n",
              "       width=\"24px\">\n",
              "    <path d=\"M0 0h24v24H0V0z\" fill=\"none\"/>\n",
              "    <path d=\"M18.56 5.44l.94 2.06.94-2.06 2.06-.94-2.06-.94-.94-2.06-.94 2.06-2.06.94zm-11 1L8.5 8.5l.94-2.06 2.06-.94-2.06-.94L8.5 2.5l-.94 2.06-2.06.94zm10 10l.94 2.06.94-2.06 2.06-.94-2.06-.94-.94-2.06-.94 2.06-2.06.94z\"/><path d=\"M17.41 7.96l-1.37-1.37c-.4-.4-.92-.59-1.43-.59-.52 0-1.04.2-1.43.59L10.3 9.45l-7.72 7.72c-.78.78-.78 2.05 0 2.83L4 21.41c.39.39.9.59 1.41.59.51 0 1.02-.2 1.41-.59l7.78-7.78 2.81-2.81c.8-.78.8-2.07 0-2.86zM5.41 20L4 18.59l7.72-7.72 1.47 1.35L5.41 20z\"/>\n",
              "  </svg>\n",
              "      </button>\n",
              "      \n",
              "  <style>\n",
              "    .colab-df-container {\n",
              "      display:flex;\n",
              "      flex-wrap:wrap;\n",
              "      gap: 12px;\n",
              "    }\n",
              "\n",
              "    .colab-df-convert {\n",
              "      background-color: #E8F0FE;\n",
              "      border: none;\n",
              "      border-radius: 50%;\n",
              "      cursor: pointer;\n",
              "      display: none;\n",
              "      fill: #1967D2;\n",
              "      height: 32px;\n",
              "      padding: 0 0 0 0;\n",
              "      width: 32px;\n",
              "    }\n",
              "\n",
              "    .colab-df-convert:hover {\n",
              "      background-color: #E2EBFA;\n",
              "      box-shadow: 0px 1px 2px rgba(60, 64, 67, 0.3), 0px 1px 3px 1px rgba(60, 64, 67, 0.15);\n",
              "      fill: #174EA6;\n",
              "    }\n",
              "\n",
              "    [theme=dark] .colab-df-convert {\n",
              "      background-color: #3B4455;\n",
              "      fill: #D2E3FC;\n",
              "    }\n",
              "\n",
              "    [theme=dark] .colab-df-convert:hover {\n",
              "      background-color: #434B5C;\n",
              "      box-shadow: 0px 1px 3px 1px rgba(0, 0, 0, 0.15);\n",
              "      filter: drop-shadow(0px 1px 2px rgba(0, 0, 0, 0.3));\n",
              "      fill: #FFFFFF;\n",
              "    }\n",
              "  </style>\n",
              "\n",
              "      <script>\n",
              "        const buttonEl =\n",
              "          document.querySelector('#df-ef651f76-0395-46d1-ba3b-23c72d0372e4 button.colab-df-convert');\n",
              "        buttonEl.style.display =\n",
              "          google.colab.kernel.accessAllowed ? 'block' : 'none';\n",
              "\n",
              "        async function convertToInteractive(key) {\n",
              "          const element = document.querySelector('#df-ef651f76-0395-46d1-ba3b-23c72d0372e4');\n",
              "          const dataTable =\n",
              "            await google.colab.kernel.invokeFunction('convertToInteractive',\n",
              "                                                     [key], {});\n",
              "          if (!dataTable) return;\n",
              "\n",
              "          const docLinkHtml = 'Like what you see? Visit the ' +\n",
              "            '<a target=\"_blank\" href=https://colab.research.google.com/notebooks/data_table.ipynb>data table notebook</a>'\n",
              "            + ' to learn more about interactive tables.';\n",
              "          element.innerHTML = '';\n",
              "          dataTable['output_type'] = 'display_data';\n",
              "          await google.colab.output.renderOutput(dataTable, element);\n",
              "          const docLink = document.createElement('div');\n",
              "          docLink.innerHTML = docLinkHtml;\n",
              "          element.appendChild(docLink);\n",
              "        }\n",
              "      </script>\n",
              "    </div>\n",
              "  </div>\n",
              "  "
            ]
          },
          "metadata": {},
          "execution_count": 80
        }
      ]
    },
    {
      "cell_type": "markdown",
      "source": [
        "Тестирование"
      ],
      "metadata": {
        "id": "8bKzaHtwgntk"
      }
    },
    {
      "cell_type": "code",
      "source": [
        "model = [model_XGBR, \n",
        "         model_LGBMR, \n",
        "         best_modelRFR,\n",
        "         modelLinR,\n",
        "         model_CBR]\n",
        "name_model = ['XGBRegressor', \n",
        "              'LightGBMRegressor',\n",
        "              'RandomForestRegressor',\n",
        "              'LinearRegression',\n",
        "              'CatBoostRegressor']"
      ],
      "metadata": {
        "id": "Tr2yTM3LgffP"
      },
      "execution_count": 81,
      "outputs": []
    },
    {
      "cell_type": "code",
      "source": [
        "df.append(['-', '-', '-'])"
      ],
      "metadata": {
        "id": "Uknfceq1gfZ1"
      },
      "execution_count": 82,
      "outputs": []
    },
    {
      "cell_type": "code",
      "source": [
        "for _ in range(len(model)):\n",
        "    predict_result(model[_], features_test, target_test, 'test', name_model[_])"
      ],
      "metadata": {
        "id": "cFXNzfMvgsn_"
      },
      "execution_count": 83,
      "outputs": []
    },
    {
      "cell_type": "code",
      "source": [
        "df.append(['-', '-', '-'])"
      ],
      "metadata": {
        "id": "mVEUEFn2gskZ"
      },
      "execution_count": 84,
      "outputs": []
    },
    {
      "cell_type": "code",
      "source": [
        "df_result = pd.DataFrame(data=df, columns=col_data) # таблица с результатами"
      ],
      "metadata": {
        "id": "Ic-esTkegshr"
      },
      "execution_count": 85,
      "outputs": []
    },
    {
      "cell_type": "code",
      "source": [
        "df_result"
      ],
      "metadata": {
        "colab": {
          "base_uri": "https://localhost:8080/",
          "height": 426
        },
        "id": "dowdkZzygsem",
        "outputId": "220bcccd-93c6-4bbf-c9ec-1223d9268ed7"
      },
      "execution_count": 86,
      "outputs": [
        {
          "output_type": "execute_result",
          "data": {
            "text/plain": [
              "                    model type_data      RMSE\n",
              "0       CatBoostRegressor     train  0.134427\n",
              "1            XGBRegressor     train  0.601114\n",
              "2       LightGBMRegressor     train   2.45961\n",
              "3   RandomForestRegressor     train  0.869559\n",
              "4        LinearRegression     train  0.192773\n",
              "5                       -         -         -\n",
              "6            XGBRegressor      test  0.021826\n",
              "7       LightGBMRegressor      test  1.278717\n",
              "8   RandomForestRegressor      test  0.111111\n",
              "9        LinearRegression      test  0.285061\n",
              "10      CatBoostRegressor      test  0.290461\n",
              "11                      -         -         -"
            ],
            "text/html": [
              "\n",
              "  <div id=\"df-63b1d7cb-c896-460d-9f61-a1c7a5f32bcc\">\n",
              "    <div class=\"colab-df-container\">\n",
              "      <div>\n",
              "<style scoped>\n",
              "    .dataframe tbody tr th:only-of-type {\n",
              "        vertical-align: middle;\n",
              "    }\n",
              "\n",
              "    .dataframe tbody tr th {\n",
              "        vertical-align: top;\n",
              "    }\n",
              "\n",
              "    .dataframe thead th {\n",
              "        text-align: right;\n",
              "    }\n",
              "</style>\n",
              "<table border=\"1\" class=\"dataframe\">\n",
              "  <thead>\n",
              "    <tr style=\"text-align: right;\">\n",
              "      <th></th>\n",
              "      <th>model</th>\n",
              "      <th>type_data</th>\n",
              "      <th>RMSE</th>\n",
              "    </tr>\n",
              "  </thead>\n",
              "  <tbody>\n",
              "    <tr>\n",
              "      <th>0</th>\n",
              "      <td>CatBoostRegressor</td>\n",
              "      <td>train</td>\n",
              "      <td>0.134427</td>\n",
              "    </tr>\n",
              "    <tr>\n",
              "      <th>1</th>\n",
              "      <td>XGBRegressor</td>\n",
              "      <td>train</td>\n",
              "      <td>0.601114</td>\n",
              "    </tr>\n",
              "    <tr>\n",
              "      <th>2</th>\n",
              "      <td>LightGBMRegressor</td>\n",
              "      <td>train</td>\n",
              "      <td>2.45961</td>\n",
              "    </tr>\n",
              "    <tr>\n",
              "      <th>3</th>\n",
              "      <td>RandomForestRegressor</td>\n",
              "      <td>train</td>\n",
              "      <td>0.869559</td>\n",
              "    </tr>\n",
              "    <tr>\n",
              "      <th>4</th>\n",
              "      <td>LinearRegression</td>\n",
              "      <td>train</td>\n",
              "      <td>0.192773</td>\n",
              "    </tr>\n",
              "    <tr>\n",
              "      <th>5</th>\n",
              "      <td>-</td>\n",
              "      <td>-</td>\n",
              "      <td>-</td>\n",
              "    </tr>\n",
              "    <tr>\n",
              "      <th>6</th>\n",
              "      <td>XGBRegressor</td>\n",
              "      <td>test</td>\n",
              "      <td>0.021826</td>\n",
              "    </tr>\n",
              "    <tr>\n",
              "      <th>7</th>\n",
              "      <td>LightGBMRegressor</td>\n",
              "      <td>test</td>\n",
              "      <td>1.278717</td>\n",
              "    </tr>\n",
              "    <tr>\n",
              "      <th>8</th>\n",
              "      <td>RandomForestRegressor</td>\n",
              "      <td>test</td>\n",
              "      <td>0.111111</td>\n",
              "    </tr>\n",
              "    <tr>\n",
              "      <th>9</th>\n",
              "      <td>LinearRegression</td>\n",
              "      <td>test</td>\n",
              "      <td>0.285061</td>\n",
              "    </tr>\n",
              "    <tr>\n",
              "      <th>10</th>\n",
              "      <td>CatBoostRegressor</td>\n",
              "      <td>test</td>\n",
              "      <td>0.290461</td>\n",
              "    </tr>\n",
              "    <tr>\n",
              "      <th>11</th>\n",
              "      <td>-</td>\n",
              "      <td>-</td>\n",
              "      <td>-</td>\n",
              "    </tr>\n",
              "  </tbody>\n",
              "</table>\n",
              "</div>\n",
              "      <button class=\"colab-df-convert\" onclick=\"convertToInteractive('df-63b1d7cb-c896-460d-9f61-a1c7a5f32bcc')\"\n",
              "              title=\"Convert this dataframe to an interactive table.\"\n",
              "              style=\"display:none;\">\n",
              "        \n",
              "  <svg xmlns=\"http://www.w3.org/2000/svg\" height=\"24px\"viewBox=\"0 0 24 24\"\n",
              "       width=\"24px\">\n",
              "    <path d=\"M0 0h24v24H0V0z\" fill=\"none\"/>\n",
              "    <path d=\"M18.56 5.44l.94 2.06.94-2.06 2.06-.94-2.06-.94-.94-2.06-.94 2.06-2.06.94zm-11 1L8.5 8.5l.94-2.06 2.06-.94-2.06-.94L8.5 2.5l-.94 2.06-2.06.94zm10 10l.94 2.06.94-2.06 2.06-.94-2.06-.94-.94-2.06-.94 2.06-2.06.94z\"/><path d=\"M17.41 7.96l-1.37-1.37c-.4-.4-.92-.59-1.43-.59-.52 0-1.04.2-1.43.59L10.3 9.45l-7.72 7.72c-.78.78-.78 2.05 0 2.83L4 21.41c.39.39.9.59 1.41.59.51 0 1.02-.2 1.41-.59l7.78-7.78 2.81-2.81c.8-.78.8-2.07 0-2.86zM5.41 20L4 18.59l7.72-7.72 1.47 1.35L5.41 20z\"/>\n",
              "  </svg>\n",
              "      </button>\n",
              "      \n",
              "  <style>\n",
              "    .colab-df-container {\n",
              "      display:flex;\n",
              "      flex-wrap:wrap;\n",
              "      gap: 12px;\n",
              "    }\n",
              "\n",
              "    .colab-df-convert {\n",
              "      background-color: #E8F0FE;\n",
              "      border: none;\n",
              "      border-radius: 50%;\n",
              "      cursor: pointer;\n",
              "      display: none;\n",
              "      fill: #1967D2;\n",
              "      height: 32px;\n",
              "      padding: 0 0 0 0;\n",
              "      width: 32px;\n",
              "    }\n",
              "\n",
              "    .colab-df-convert:hover {\n",
              "      background-color: #E2EBFA;\n",
              "      box-shadow: 0px 1px 2px rgba(60, 64, 67, 0.3), 0px 1px 3px 1px rgba(60, 64, 67, 0.15);\n",
              "      fill: #174EA6;\n",
              "    }\n",
              "\n",
              "    [theme=dark] .colab-df-convert {\n",
              "      background-color: #3B4455;\n",
              "      fill: #D2E3FC;\n",
              "    }\n",
              "\n",
              "    [theme=dark] .colab-df-convert:hover {\n",
              "      background-color: #434B5C;\n",
              "      box-shadow: 0px 1px 3px 1px rgba(0, 0, 0, 0.15);\n",
              "      filter: drop-shadow(0px 1px 2px rgba(0, 0, 0, 0.3));\n",
              "      fill: #FFFFFF;\n",
              "    }\n",
              "  </style>\n",
              "\n",
              "      <script>\n",
              "        const buttonEl =\n",
              "          document.querySelector('#df-63b1d7cb-c896-460d-9f61-a1c7a5f32bcc button.colab-df-convert');\n",
              "        buttonEl.style.display =\n",
              "          google.colab.kernel.accessAllowed ? 'block' : 'none';\n",
              "\n",
              "        async function convertToInteractive(key) {\n",
              "          const element = document.querySelector('#df-63b1d7cb-c896-460d-9f61-a1c7a5f32bcc');\n",
              "          const dataTable =\n",
              "            await google.colab.kernel.invokeFunction('convertToInteractive',\n",
              "                                                     [key], {});\n",
              "          if (!dataTable) return;\n",
              "\n",
              "          const docLinkHtml = 'Like what you see? Visit the ' +\n",
              "            '<a target=\"_blank\" href=https://colab.research.google.com/notebooks/data_table.ipynb>data table notebook</a>'\n",
              "            + ' to learn more about interactive tables.';\n",
              "          element.innerHTML = '';\n",
              "          dataTable['output_type'] = 'display_data';\n",
              "          await google.colab.output.renderOutput(dataTable, element);\n",
              "          const docLink = document.createElement('div');\n",
              "          docLink.innerHTML = docLinkHtml;\n",
              "          element.appendChild(docLink);\n",
              "        }\n",
              "      </script>\n",
              "    </div>\n",
              "  </div>\n",
              "  "
            ]
          },
          "metadata": {},
          "execution_count": 86
        }
      ]
    },
    {
      "cell_type": "markdown",
      "source": [
        "train + valid\n",
        "\n",
        "Для улучшения качества моделей переобучим их на объединении трейна и валидации."
      ],
      "metadata": {
        "id": "prcGSTJmhJBd"
      }
    },
    {
      "cell_type": "code",
      "source": [
        "features_train_valid = pd.concat([features_train, features_valid])"
      ],
      "metadata": {
        "id": "Nf_Wz6MlgsYr"
      },
      "execution_count": 88,
      "outputs": []
    },
    {
      "cell_type": "markdown",
      "source": [
        "------"
      ],
      "metadata": {
        "id": "0OXXXDw3hWNi"
      }
    },
    {
      "cell_type": "code",
      "source": [
        "model_XGBR.fit(features_train_valid, target_train_valid)"
      ],
      "metadata": {
        "colab": {
          "base_uri": "https://localhost:8080/"
        },
        "id": "vk6ZCQbmgsV_",
        "outputId": "4b4c9de4-3546-48f6-9e95-e1f858bb6e7a"
      },
      "execution_count": 89,
      "outputs": [
        {
          "output_type": "stream",
          "name": "stdout",
          "text": [
            "Fitting 5 folds for each of 2 candidates, totalling 10 fits\n",
            "[07:58:19] WARNING: /workspace/src/objective/regression_obj.cu:152: reg:linear is now deprecated in favor of reg:squarederror.\n",
            "[07:58:19] WARNING: /workspace/src/objective/regression_obj.cu:152: reg:linear is now deprecated in favor of reg:squarederror.\n",
            "[07:58:19] WARNING: /workspace/src/objective/regression_obj.cu:152: reg:linear is now deprecated in favor of reg:squarederror.\n",
            "[07:58:19] WARNING: /workspace/src/objective/regression_obj.cu:152: reg:linear is now deprecated in favor of reg:squarederror.\n",
            "[07:58:19] WARNING: /workspace/src/objective/regression_obj.cu:152: reg:linear is now deprecated in favor of reg:squarederror.\n",
            "[07:58:19] WARNING: /workspace/src/objective/regression_obj.cu:152: reg:linear is now deprecated in favor of reg:squarederror.\n",
            "[07:58:19] WARNING: /workspace/src/objective/regression_obj.cu:152: reg:linear is now deprecated in favor of reg:squarederror.\n",
            "[07:58:19] WARNING: /workspace/src/objective/regression_obj.cu:152: reg:linear is now deprecated in favor of reg:squarederror.\n",
            "[07:58:19] WARNING: /workspace/src/objective/regression_obj.cu:152: reg:linear is now deprecated in favor of reg:squarederror.\n",
            "[07:58:19] WARNING: /workspace/src/objective/regression_obj.cu:152: reg:linear is now deprecated in favor of reg:squarederror.\n",
            "[07:58:19] WARNING: /workspace/src/objective/regression_obj.cu:152: reg:linear is now deprecated in favor of reg:squarederror.\n"
          ]
        },
        {
          "output_type": "execute_result",
          "data": {
            "text/plain": [
              "GridSearchCV(cv=TimeSeriesSplit(gap=0, max_train_size=None, n_splits=5, test_size=None),\n",
              "             estimator=XGBRegressor(),\n",
              "             param_grid={'learning_rate': [0.3], 'max_depth': [6, 8],\n",
              "                         'n_estimators': [100]},\n",
              "             scoring=make_scorer(RMSE, greater_is_better=False), verbose=1)"
            ]
          },
          "metadata": {},
          "execution_count": 89
        }
      ]
    },
    {
      "cell_type": "code",
      "source": [
        "df.append(['XGBRegressor', 'train_valid', abs(model_XGBR.best_score_)])"
      ],
      "metadata": {
        "id": "ivHIt6uchNXd"
      },
      "execution_count": 90,
      "outputs": []
    },
    {
      "cell_type": "markdown",
      "source": [
        "---"
      ],
      "metadata": {
        "id": "4gzDLQmUhXr2"
      }
    },
    {
      "cell_type": "code",
      "source": [
        "model_LGBMR.fit(features_train_valid, target_train_valid)"
      ],
      "metadata": {
        "colab": {
          "base_uri": "https://localhost:8080/"
        },
        "id": "XK4yzxBChNVR",
        "outputId": "e2f73551-d4f0-4a1c-88bd-3a762de7e340"
      },
      "execution_count": 91,
      "outputs": [
        {
          "output_type": "stream",
          "name": "stdout",
          "text": [
            "Fitting 5 folds for each of 4 candidates, totalling 20 fits\n"
          ]
        },
        {
          "output_type": "execute_result",
          "data": {
            "text/plain": [
              "GridSearchCV(cv=TimeSeriesSplit(gap=0, max_train_size=None, n_splits=5, test_size=None),\n",
              "             estimator=LGBMRegressor(),\n",
              "             param_grid={'learning_rate': [0.1, 0.2], 'n_estimators': [100],\n",
              "                         'num_leaves': [31, 50], 'objective': ['regression'],\n",
              "                         'random_state': [12345]},\n",
              "             scoring=make_scorer(RMSE, greater_is_better=False), verbose=1)"
            ]
          },
          "metadata": {},
          "execution_count": 91
        }
      ]
    },
    {
      "cell_type": "code",
      "source": [
        "df.append(['LightGBMRegressor', 'train_valid', abs(model_LGBMR.best_score_)])"
      ],
      "metadata": {
        "id": "ru3qseZdhNSn"
      },
      "execution_count": 92,
      "outputs": []
    },
    {
      "cell_type": "markdown",
      "source": [
        "---------"
      ],
      "metadata": {
        "id": "brj9FJAIhecv"
      }
    },
    {
      "cell_type": "code",
      "source": [
        "best_modelRFR.fit(features_train_valid, target_train_valid)"
      ],
      "metadata": {
        "colab": {
          "base_uri": "https://localhost:8080/"
        },
        "id": "4Gi8_ZuOhNQW",
        "outputId": "0ed703c8-8923-4e7b-e966-2a8ccb15448e"
      },
      "execution_count": 93,
      "outputs": [
        {
          "output_type": "execute_result",
          "data": {
            "text/plain": [
              "RandomForestRegressor(max_depth=5, n_estimators=3, random_state=12345)"
            ]
          },
          "metadata": {},
          "execution_count": 93
        }
      ]
    },
    {
      "cell_type": "code",
      "source": [
        "predict_result(\n",
        "    best_modelRFR, features_train_valid, target_train_valid, 'train_valid', 'RandomForestRegressor')\n"
      ],
      "metadata": {
        "id": "qVgmmEEehf2z"
      },
      "execution_count": 94,
      "outputs": []
    },
    {
      "cell_type": "markdown",
      "source": [
        "------"
      ],
      "metadata": {
        "id": "4ZsQIUxEhm7I"
      }
    },
    {
      "cell_type": "code",
      "source": [
        "modelLinR.fit(features_train_valid, target_train_valid)"
      ],
      "metadata": {
        "colab": {
          "base_uri": "https://localhost:8080/"
        },
        "id": "JDHzuZ2ThnpE",
        "outputId": "3245316f-3fb0-4e7a-fdd1-7d46be235c47"
      },
      "execution_count": 95,
      "outputs": [
        {
          "output_type": "execute_result",
          "data": {
            "text/plain": [
              "LinearRegression()"
            ]
          },
          "metadata": {},
          "execution_count": 95
        }
      ]
    },
    {
      "cell_type": "code",
      "source": [
        "predict_result(\n",
        "    modelLinR, features_train_valid, target_train_valid, 'train_valid', 'LinearRegression')"
      ],
      "metadata": {
        "id": "-Mi32Kf4hrYQ"
      },
      "execution_count": 96,
      "outputs": []
    },
    {
      "cell_type": "markdown",
      "source": [
        "------"
      ],
      "metadata": {
        "id": "wSExWEWwhtZh"
      }
    },
    {
      "cell_type": "code",
      "source": [
        "model_CBR.fit(features_train_valid, target_train_valid)"
      ],
      "metadata": {
        "colab": {
          "base_uri": "https://localhost:8080/"
        },
        "id": "kva26zSzhuE0",
        "outputId": "d009fd11-8f8b-465f-f5aa-b2a66dcb3a92"
      },
      "execution_count": 97,
      "outputs": [
        {
          "output_type": "stream",
          "name": "stdout",
          "text": [
            "0:\tlearn: 3.4374942\ttotal: 8.16ms\tremaining: 8.15s\n",
            "500:\tlearn: 0.4556027\ttotal: 596ms\tremaining: 593ms\n",
            "999:\tlearn: 0.1314045\ttotal: 1.38s\tremaining: 0us\n"
          ]
        },
        {
          "output_type": "execute_result",
          "data": {
            "text/plain": [
              "<catboost.core.CatBoostRegressor at 0x7f87ce3f5cd0>"
            ]
          },
          "metadata": {},
          "execution_count": 97
        }
      ]
    },
    {
      "cell_type": "code",
      "source": [
        "df.append(['model_CBR', 'train_valid', model_CBR.best_score_['learn']['RMSE']])"
      ],
      "metadata": {
        "id": "1_EKruVQhv5D"
      },
      "execution_count": 98,
      "outputs": []
    },
    {
      "cell_type": "code",
      "source": [
        "df.append(['-', '-', '-'])"
      ],
      "metadata": {
        "id": "btvCXRhFhzlq"
      },
      "execution_count": 99,
      "outputs": []
    },
    {
      "cell_type": "markdown",
      "source": [
        "--------"
      ],
      "metadata": {
        "id": "PUUt0aLih5Jo"
      }
    },
    {
      "cell_type": "markdown",
      "source": [
        "Финальное тестирование и визуализация"
      ],
      "metadata": {
        "id": "OMol29Afh5FP"
      }
    },
    {
      "cell_type": "code",
      "source": [
        "name_model = ['XGBRegressor_train_valid', \n",
        "              'LightGBMRegressor_train_valid',\n",
        "              'RandomForestRegressor_train_valid',\n",
        "              'LinearRegression_train_valid',\n",
        "              'CatBoostRegressor_train_valid']"
      ],
      "metadata": {
        "id": "gzEKtjT9h0IL"
      },
      "execution_count": 100,
      "outputs": []
    },
    {
      "cell_type": "code",
      "source": [
        "for _ in range(len(model)):\n",
        "    plot_test_prediction_result(\n",
        "    model[_], features_test, target_test, 'test', name_model[_])"
      ],
      "metadata": {
        "colab": {
          "base_uri": "https://localhost:8080/",
          "height": 1000
        },
        "id": "0uzxIAtgh-4T",
        "outputId": "28d402b9-a70f-4d38-98f7-981d39fc91fa"
      },
      "execution_count": 101,
      "outputs": [
        {
          "output_type": "stream",
          "name": "stdout",
          "text": [
            "RMSE  XGBRegressor_train_valid : 0.013130324672460959\n"
          ]
        },
        {
          "output_type": "display_data",
          "data": {
            "text/plain": [
              "<Figure size 864x432 with 1 Axes>"
            ],
            "image/png": "[encoded data removed]"
          },
          "metadata": {
            "needs_background": "light"
          }
        },
        {
          "output_type": "stream",
          "name": "stdout",
          "text": [
            "RMSE  LightGBMRegressor_train_valid : 0.9499367221096017\n"
          ]
        },
        {
          "output_type": "display_data",
          "data": {
            "text/plain": [
              "<Figure size 864x432 with 1 Axes>"
            ],
            "image/png": "[encoded data removed]"
          },
          "metadata": {
            "needs_background": "light"
          }
        },
        {
          "output_type": "stream",
          "name": "stdout",
          "text": [
            "RMSE  RandomForestRegressor_train_valid : 0.0\n"
          ]
        },
        {
          "output_type": "display_data",
          "data": {
            "text/plain": [
              "<Figure size 864x432 with 1 Axes>"
            ],
            "image/png": "[encoded data removed]"
          },
          "metadata": {
            "needs_background": "light"
          }
        },
        {
          "output_type": "stream",
          "name": "stdout",
          "text": [
            "RMSE  LinearRegression_train_valid : 0.12265267513585668\n"
          ]
        },
        {
          "output_type": "display_data",
          "data": {
            "text/plain": [
              "<Figure size 864x432 with 1 Axes>"
            ],
            "image/png": "[encoded data removed]"
          },
          "metadata": {
            "needs_background": "light"
          }
        },
        {
          "output_type": "stream",
          "name": "stdout",
          "text": [
            "RMSE  CatBoostRegressor_train_valid : 0.24398927561279665\n"
          ]
        },
        {
          "output_type": "display_data",
          "data": {
            "text/plain": [
              "<Figure size 864x432 with 1 Axes>"
            ],
            "image/png": "[encoded data removed]"
          },
          "metadata": {
            "needs_background": "light"
          }
        }
      ]
    },
    {
      "cell_type": "code",
      "source": [
        "df_result = pd.DataFrame(data=df, columns=col_data) # таблица с результатами"
      ],
      "metadata": {
        "id": "HdILmtExiPOY"
      },
      "execution_count": 102,
      "outputs": []
    },
    {
      "cell_type": "code",
      "source": [
        "df_result"
      ],
      "metadata": {
        "colab": {
          "base_uri": "https://localhost:8080/",
          "height": 771
        },
        "id": "7X2yxrJWiRFm",
        "outputId": "bad1fe01-cd18-43ea-d067-992f8b3d3092"
      },
      "execution_count": 103,
      "outputs": [
        {
          "output_type": "execute_result",
          "data": {
            "text/plain": [
              "                                model    type_data      RMSE\n",
              "0                   CatBoostRegressor        train  0.134427\n",
              "1                        XGBRegressor        train  0.601114\n",
              "2                   LightGBMRegressor        train   2.45961\n",
              "3               RandomForestRegressor        train  0.869559\n",
              "4                    LinearRegression        train  0.192773\n",
              "5                                   -            -         -\n",
              "6                        XGBRegressor         test  0.021826\n",
              "7                   LightGBMRegressor         test  1.278717\n",
              "8               RandomForestRegressor         test  0.111111\n",
              "9                    LinearRegression         test  0.285061\n",
              "10                  CatBoostRegressor         test  0.290461\n",
              "11                                  -            -         -\n",
              "12                       XGBRegressor  train_valid  0.538415\n",
              "13                  LightGBMRegressor  train_valid  2.171817\n",
              "14              RandomForestRegressor  train_valid  0.224733\n",
              "15                   LinearRegression  train_valid  0.184637\n",
              "16                          model_CBR  train_valid  0.131405\n",
              "17                                  -            -         -\n",
              "18           XGBRegressor_train_valid         test   0.01313\n",
              "19      LightGBMRegressor_train_valid         test  0.949937\n",
              "20  RandomForestRegressor_train_valid         test       0.0\n",
              "21       LinearRegression_train_valid         test  0.122653\n",
              "22      CatBoostRegressor_train_valid         test  0.243989"
            ],
            "text/html": [
              "\n",
              "  <div id=\"df-280dd1c2-69e4-4bf2-b58b-ba4247666f56\">\n",
              "    <div class=\"colab-df-container\">\n",
              "      <div>\n",
              "<style scoped>\n",
              "    .dataframe tbody tr th:only-of-type {\n",
              "        vertical-align: middle;\n",
              "    }\n",
              "\n",
              "    .dataframe tbody tr th {\n",
              "        vertical-align: top;\n",
              "    }\n",
              "\n",
              "    .dataframe thead th {\n",
              "        text-align: right;\n",
              "    }\n",
              "</style>\n",
              "<table border=\"1\" class=\"dataframe\">\n",
              "  <thead>\n",
              "    <tr style=\"text-align: right;\">\n",
              "      <th></th>\n",
              "      <th>model</th>\n",
              "      <th>type_data</th>\n",
              "      <th>RMSE</th>\n",
              "    </tr>\n",
              "  </thead>\n",
              "  <tbody>\n",
              "    <tr>\n",
              "      <th>0</th>\n",
              "      <td>CatBoostRegressor</td>\n",
              "      <td>train</td>\n",
              "      <td>0.134427</td>\n",
              "    </tr>\n",
              "    <tr>\n",
              "      <th>1</th>\n",
              "      <td>XGBRegressor</td>\n",
              "      <td>train</td>\n",
              "      <td>0.601114</td>\n",
              "    </tr>\n",
              "    <tr>\n",
              "      <th>2</th>\n",
              "      <td>LightGBMRegressor</td>\n",
              "      <td>train</td>\n",
              "      <td>2.45961</td>\n",
              "    </tr>\n",
              "    <tr>\n",
              "      <th>3</th>\n",
              "      <td>RandomForestRegressor</td>\n",
              "      <td>train</td>\n",
              "      <td>0.869559</td>\n",
              "    </tr>\n",
              "    <tr>\n",
              "      <th>4</th>\n",
              "      <td>LinearRegression</td>\n",
              "      <td>train</td>\n",
              "      <td>0.192773</td>\n",
              "    </tr>\n",
              "    <tr>\n",
              "      <th>5</th>\n",
              "      <td>-</td>\n",
              "      <td>-</td>\n",
              "      <td>-</td>\n",
              "    </tr>\n",
              "    <tr>\n",
              "      <th>6</th>\n",
              "      <td>XGBRegressor</td>\n",
              "      <td>test</td>\n",
              "      <td>0.021826</td>\n",
              "    </tr>\n",
              "    <tr>\n",
              "      <th>7</th>\n",
              "      <td>LightGBMRegressor</td>\n",
              "      <td>test</td>\n",
              "      <td>1.278717</td>\n",
              "    </tr>\n",
              "    <tr>\n",
              "      <th>8</th>\n",
              "      <td>RandomForestRegressor</td>\n",
              "      <td>test</td>\n",
              "      <td>0.111111</td>\n",
              "    </tr>\n",
              "    <tr>\n",
              "      <th>9</th>\n",
              "      <td>LinearRegression</td>\n",
              "      <td>test</td>\n",
              "      <td>0.285061</td>\n",
              "    </tr>\n",
              "    <tr>\n",
              "      <th>10</th>\n",
              "      <td>CatBoostRegressor</td>\n",
              "      <td>test</td>\n",
              "      <td>0.290461</td>\n",
              "    </tr>\n",
              "    <tr>\n",
              "      <th>11</th>\n",
              "      <td>-</td>\n",
              "      <td>-</td>\n",
              "      <td>-</td>\n",
              "    </tr>\n",
              "    <tr>\n",
              "      <th>12</th>\n",
              "      <td>XGBRegressor</td>\n",
              "      <td>train_valid</td>\n",
              "      <td>0.538415</td>\n",
              "    </tr>\n",
              "    <tr>\n",
              "      <th>13</th>\n",
              "      <td>LightGBMRegressor</td>\n",
              "      <td>train_valid</td>\n",
              "      <td>2.171817</td>\n",
              "    </tr>\n",
              "    <tr>\n",
              "      <th>14</th>\n",
              "      <td>RandomForestRegressor</td>\n",
              "      <td>train_valid</td>\n",
              "      <td>0.224733</td>\n",
              "    </tr>\n",
              "    <tr>\n",
              "      <th>15</th>\n",
              "      <td>LinearRegression</td>\n",
              "      <td>train_valid</td>\n",
              "      <td>0.184637</td>\n",
              "    </tr>\n",
              "    <tr>\n",
              "      <th>16</th>\n",
              "      <td>model_CBR</td>\n",
              "      <td>train_valid</td>\n",
              "      <td>0.131405</td>\n",
              "    </tr>\n",
              "    <tr>\n",
              "      <th>17</th>\n",
              "      <td>-</td>\n",
              "      <td>-</td>\n",
              "      <td>-</td>\n",
              "    </tr>\n",
              "    <tr>\n",
              "      <th>18</th>\n",
              "      <td>XGBRegressor_train_valid</td>\n",
              "      <td>test</td>\n",
              "      <td>0.01313</td>\n",
              "    </tr>\n",
              "    <tr>\n",
              "      <th>19</th>\n",
              "      <td>LightGBMRegressor_train_valid</td>\n",
              "      <td>test</td>\n",
              "      <td>0.949937</td>\n",
              "    </tr>\n",
              "    <tr>\n",
              "      <th>20</th>\n",
              "      <td>RandomForestRegressor_train_valid</td>\n",
              "      <td>test</td>\n",
              "      <td>0.0</td>\n",
              "    </tr>\n",
              "    <tr>\n",
              "      <th>21</th>\n",
              "      <td>LinearRegression_train_valid</td>\n",
              "      <td>test</td>\n",
              "      <td>0.122653</td>\n",
              "    </tr>\n",
              "    <tr>\n",
              "      <th>22</th>\n",
              "      <td>CatBoostRegressor_train_valid</td>\n",
              "      <td>test</td>\n",
              "      <td>0.243989</td>\n",
              "    </tr>\n",
              "  </tbody>\n",
              "</table>\n",
              "</div>\n",
              "      <button class=\"colab-df-convert\" onclick=\"convertToInteractive('df-280dd1c2-69e4-4bf2-b58b-ba4247666f56')\"\n",
              "              title=\"Convert this dataframe to an interactive table.\"\n",
              "              style=\"display:none;\">\n",
              "        \n",
              "  <svg xmlns=\"http://www.w3.org/2000/svg\" height=\"24px\"viewBox=\"0 0 24 24\"\n",
              "       width=\"24px\">\n",
              "    <path d=\"M0 0h24v24H0V0z\" fill=\"none\"/>\n",
              "    <path d=\"M18.56 5.44l.94 2.06.94-2.06 2.06-.94-2.06-.94-.94-2.06-.94 2.06-2.06.94zm-11 1L8.5 8.5l.94-2.06 2.06-.94-2.06-.94L8.5 2.5l-.94 2.06-2.06.94zm10 10l.94 2.06.94-2.06 2.06-.94-2.06-.94-.94-2.06-.94 2.06-2.06.94z\"/><path d=\"M17.41 7.96l-1.37-1.37c-.4-.4-.92-.59-1.43-.59-.52 0-1.04.2-1.43.59L10.3 9.45l-7.72 7.72c-.78.78-.78 2.05 0 2.83L4 21.41c.39.39.9.59 1.41.59.51 0 1.02-.2 1.41-.59l7.78-7.78 2.81-2.81c.8-.78.8-2.07 0-2.86zM5.41 20L4 18.59l7.72-7.72 1.47 1.35L5.41 20z\"/>\n",
              "  </svg>\n",
              "      </button>\n",
              "      \n",
              "  <style>\n",
              "    .colab-df-container {\n",
              "      display:flex;\n",
              "      flex-wrap:wrap;\n",
              "      gap: 12px;\n",
              "    }\n",
              "\n",
              "    .colab-df-convert {\n",
              "      background-color: #E8F0FE;\n",
              "      border: none;\n",
              "      border-radius: 50%;\n",
              "      cursor: pointer;\n",
              "      display: none;\n",
              "      fill: #1967D2;\n",
              "      height: 32px;\n",
              "      padding: 0 0 0 0;\n",
              "      width: 32px;\n",
              "    }\n",
              "\n",
              "    .colab-df-convert:hover {\n",
              "      background-color: #E2EBFA;\n",
              "      box-shadow: 0px 1px 2px rgba(60, 64, 67, 0.3), 0px 1px 3px 1px rgba(60, 64, 67, 0.15);\n",
              "      fill: #174EA6;\n",
              "    }\n",
              "\n",
              "    [theme=dark] .colab-df-convert {\n",
              "      background-color: #3B4455;\n",
              "      fill: #D2E3FC;\n",
              "    }\n",
              "\n",
              "    [theme=dark] .colab-df-convert:hover {\n",
              "      background-color: #434B5C;\n",
              "      box-shadow: 0px 1px 3px 1px rgba(0, 0, 0, 0.15);\n",
              "      filter: drop-shadow(0px 1px 2px rgba(0, 0, 0, 0.3));\n",
              "      fill: #FFFFFF;\n",
              "    }\n",
              "  </style>\n",
              "\n",
              "      <script>\n",
              "        const buttonEl =\n",
              "          document.querySelector('#df-280dd1c2-69e4-4bf2-b58b-ba4247666f56 button.colab-df-convert');\n",
              "        buttonEl.style.display =\n",
              "          google.colab.kernel.accessAllowed ? 'block' : 'none';\n",
              "\n",
              "        async function convertToInteractive(key) {\n",
              "          const element = document.querySelector('#df-280dd1c2-69e4-4bf2-b58b-ba4247666f56');\n",
              "          const dataTable =\n",
              "            await google.colab.kernel.invokeFunction('convertToInteractive',\n",
              "                                                     [key], {});\n",
              "          if (!dataTable) return;\n",
              "\n",
              "          const docLinkHtml = 'Like what you see? Visit the ' +\n",
              "            '<a target=\"_blank\" href=https://colab.research.google.com/notebooks/data_table.ipynb>data table notebook</a>'\n",
              "            + ' to learn more about interactive tables.';\n",
              "          element.innerHTML = '';\n",
              "          dataTable['output_type'] = 'display_data';\n",
              "          await google.colab.output.renderOutput(dataTable, element);\n",
              "          const docLink = document.createElement('div');\n",
              "          docLink.innerHTML = docLinkHtml;\n",
              "          element.appendChild(docLink);\n",
              "        }\n",
              "      </script>\n",
              "    </div>\n",
              "  </div>\n",
              "  "
            ]
          },
          "metadata": {},
          "execution_count": 103
        }
      ]
    },
    {
      "cell_type": "code",
      "source": [
        "model = [model_XGBR, \n",
        "         model_LGBMR, \n",
        "         best_modelRFR,\n",
        "         modelLinR,\n",
        "         model_CBR]"
      ],
      "metadata": {
        "id": "2DwVX4GRiRDB"
      },
      "execution_count": null,
      "outputs": []
    },
    {
      "cell_type": "code",
      "source": [
        "target_test"
      ],
      "metadata": {
        "colab": {
          "base_uri": "https://localhost:8080/"
        },
        "id": "preswm0BiRAM",
        "outputId": "9395e3c8-7df1-4fed-a35a-50ca24cecc2d"
      },
      "execution_count": 104,
      "outputs": [
        {
          "output_type": "execute_result",
          "data": {
            "text/plain": [
              "Дата\n",
              "2022-06-07    1\n",
              "2022-06-08    3\n",
              "2022-06-09    1\n",
              "2022-06-10    1\n",
              "2022-06-11    5\n",
              "2022-06-12    1\n",
              "2022-06-13    3\n",
              "2022-06-14    1\n",
              "2022-06-15    3\n",
              "Name: Продажи, dtype: int64"
            ]
          },
          "metadata": {},
          "execution_count": 104
        }
      ]
    },
    {
      "cell_type": "code",
      "source": [
        "best_modelRFR.predict(features_test)"
      ],
      "metadata": {
        "colab": {
          "base_uri": "https://localhost:8080/"
        },
        "id": "efkML09gk744",
        "outputId": "1738294a-f6ec-4ba6-ea6a-b7686761f22d"
      },
      "execution_count": 105,
      "outputs": [
        {
          "output_type": "execute_result",
          "data": {
            "text/plain": [
              "array([1., 3., 1., 1., 5., 1., 3., 1., 3.])"
            ]
          },
          "metadata": {},
          "execution_count": 105
        }
      ]
    },
    {
      "cell_type": "markdown",
      "source": [
        "--------------"
      ],
      "metadata": {
        "id": "6IVs9IcQmr-5"
      }
    },
    {
      "cell_type": "code",
      "source": [
        "features_test"
      ],
      "metadata": {
        "colab": {
          "base_uri": "https://localhost:8080/",
          "height": 601
        },
        "id": "hRSJUP1bml-3",
        "outputId": "e840e7d5-0f0c-4032-80be-9be825009bfa"
      },
      "execution_count": 117,
      "outputs": [
        {
          "output_type": "execute_result",
          "data": {
            "text/plain": [
              "            Остаток    Цена  Скидка  Цена со скидкой  Сумма продаж  \\\n",
              "Дата                                                                 \n",
              "2022-06-07    241.0  2131.0    81.0            404.0         404.0   \n",
              "2022-06-08    238.0  2131.0    81.0            404.0        1212.0   \n",
              "2022-06-09    237.0  2131.0    81.0            404.0         404.0   \n",
              "2022-06-10    236.0  2131.0    81.0            404.0         404.0   \n",
              "2022-06-11    231.0  2131.0    81.0            404.0        2020.0   \n",
              "2022-06-12    230.0  2131.0    81.0            404.0         404.0   \n",
              "2022-06-13    228.0  2131.0    81.0            404.0        1212.0   \n",
              "2022-06-14    227.0  2131.0    81.0            404.0         404.0   \n",
              "2022-06-15    224.0  2131.0    81.0            404.0        1212.0   \n",
              "\n",
              "            Комментариев  Рейтинг  month  day  dayofweek  lag_1  lag_2  lag_3  \\\n",
              "Дата                                                                            \n",
              "2022-06-07         196.0      5.0      6    7          1    2.0    2.0    3.0   \n",
              "2022-06-08         196.0      5.0      6    8          2    1.0    2.0    2.0   \n",
              "2022-06-09         196.0      5.0      6    9          3    3.0    1.0    2.0   \n",
              "2022-06-10         196.0      5.0      6   10          4    1.0    3.0    1.0   \n",
              "2022-06-11         196.0      5.0      6   11          5    1.0    1.0    3.0   \n",
              "2022-06-12         196.0      5.0      6   12          6    5.0    1.0    1.0   \n",
              "2022-06-13         197.0      5.0      6   13          0    1.0    5.0    1.0   \n",
              "2022-06-14         197.0      5.0      6   14          1    3.0    1.0    5.0   \n",
              "2022-06-15         197.0      5.0      6   15          2    1.0    3.0    1.0   \n",
              "\n",
              "            lag_4  lag_5  lag_6  lag_7  rolling_mean  \n",
              "Дата                                                  \n",
              "2022-06-07    3.0    2.0    0.0    1.0      2.333333  \n",
              "2022-06-08    3.0    3.0    2.0    0.0      1.666667  \n",
              "2022-06-09    2.0    3.0    3.0    2.0      2.000000  \n",
              "2022-06-10    2.0    2.0    3.0    3.0      1.666667  \n",
              "2022-06-11    1.0    2.0    2.0    3.0      1.666667  \n",
              "2022-06-12    3.0    1.0    2.0    2.0      2.333333  \n",
              "2022-06-13    1.0    3.0    1.0    2.0      2.333333  \n",
              "2022-06-14    1.0    1.0    3.0    1.0      3.000000  \n",
              "2022-06-15    5.0    1.0    1.0    3.0      1.666667  "
            ],
            "text/html": [
              "\n",
              "  <div id=\"df-ebc36dfc-81ad-41cd-b613-0ef5418a54b4\">\n",
              "    <div class=\"colab-df-container\">\n",
              "      <div>\n",
              "<style scoped>\n",
              "    .dataframe tbody tr th:only-of-type {\n",
              "        vertical-align: middle;\n",
              "    }\n",
              "\n",
              "    .dataframe tbody tr th {\n",
              "        vertical-align: top;\n",
              "    }\n",
              "\n",
              "    .dataframe thead th {\n",
              "        text-align: right;\n",
              "    }\n",
              "</style>\n",
              "<table border=\"1\" class=\"dataframe\">\n",
              "  <thead>\n",
              "    <tr style=\"text-align: right;\">\n",
              "      <th></th>\n",
              "      <th>Остаток</th>\n",
              "      <th>Цена</th>\n",
              "      <th>Скидка</th>\n",
              "      <th>Цена со скидкой</th>\n",
              "      <th>Сумма продаж</th>\n",
              "      <th>Комментариев</th>\n",
              "      <th>Рейтинг</th>\n",
              "      <th>month</th>\n",
              "      <th>day</th>\n",
              "      <th>dayofweek</th>\n",
              "      <th>lag_1</th>\n",
              "      <th>lag_2</th>\n",
              "      <th>lag_3</th>\n",
              "      <th>lag_4</th>\n",
              "      <th>lag_5</th>\n",
              "      <th>lag_6</th>\n",
              "      <th>lag_7</th>\n",
              "      <th>rolling_mean</th>\n",
              "    </tr>\n",
              "    <tr>\n",
              "      <th>Дата</th>\n",
              "      <th></th>\n",
              "      <th></th>\n",
              "      <th></th>\n",
              "      <th></th>\n",
              "      <th></th>\n",
              "      <th></th>\n",
              "      <th></th>\n",
              "      <th></th>\n",
              "      <th></th>\n",
              "      <th></th>\n",
              "      <th></th>\n",
              "      <th></th>\n",
              "      <th></th>\n",
              "      <th></th>\n",
              "      <th></th>\n",
              "      <th></th>\n",
              "      <th></th>\n",
              "      <th></th>\n",
              "    </tr>\n",
              "  </thead>\n",
              "  <tbody>\n",
              "    <tr>\n",
              "      <th>2022-06-07</th>\n",
              "      <td>241.0</td>\n",
              "      <td>2131.0</td>\n",
              "      <td>81.0</td>\n",
              "      <td>404.0</td>\n",
              "      <td>404.0</td>\n",
              "      <td>196.0</td>\n",
              "      <td>5.0</td>\n",
              "      <td>6</td>\n",
              "      <td>7</td>\n",
              "      <td>1</td>\n",
              "      <td>2.0</td>\n",
              "      <td>2.0</td>\n",
              "      <td>3.0</td>\n",
              "      <td>3.0</td>\n",
              "      <td>2.0</td>\n",
              "      <td>0.0</td>\n",
              "      <td>1.0</td>\n",
              "      <td>2.333333</td>\n",
              "    </tr>\n",
              "    <tr>\n",
              "      <th>2022-06-08</th>\n",
              "      <td>238.0</td>\n",
              "      <td>2131.0</td>\n",
              "      <td>81.0</td>\n",
              "      <td>404.0</td>\n",
              "      <td>1212.0</td>\n",
              "      <td>196.0</td>\n",
              "      <td>5.0</td>\n",
              "      <td>6</td>\n",
              "      <td>8</td>\n",
              "      <td>2</td>\n",
              "      <td>1.0</td>\n",
              "      <td>2.0</td>\n",
              "      <td>2.0</td>\n",
              "      <td>3.0</td>\n",
              "      <td>3.0</td>\n",
              "      <td>2.0</td>\n",
              "      <td>0.0</td>\n",
              "      <td>1.666667</td>\n",
              "    </tr>\n",
              "    <tr>\n",
              "      <th>2022-06-09</th>\n",
              "      <td>237.0</td>\n",
              "      <td>2131.0</td>\n",
              "      <td>81.0</td>\n",
              "      <td>404.0</td>\n",
              "      <td>404.0</td>\n",
              "      <td>196.0</td>\n",
              "      <td>5.0</td>\n",
              "      <td>6</td>\n",
              "      <td>9</td>\n",
              "      <td>3</td>\n",
              "      <td>3.0</td>\n",
              "      <td>1.0</td>\n",
              "      <td>2.0</td>\n",
              "      <td>2.0</td>\n",
              "      <td>3.0</td>\n",
              "      <td>3.0</td>\n",
              "      <td>2.0</td>\n",
              "      <td>2.000000</td>\n",
              "    </tr>\n",
              "    <tr>\n",
              "      <th>2022-06-10</th>\n",
              "      <td>236.0</td>\n",
              "      <td>2131.0</td>\n",
              "      <td>81.0</td>\n",
              "      <td>404.0</td>\n",
              "      <td>404.0</td>\n",
              "      <td>196.0</td>\n",
              "      <td>5.0</td>\n",
              "      <td>6</td>\n",
              "      <td>10</td>\n",
              "      <td>4</td>\n",
              "      <td>1.0</td>\n",
              "      <td>3.0</td>\n",
              "      <td>1.0</td>\n",
              "      <td>2.0</td>\n",
              "      <td>2.0</td>\n",
              "      <td>3.0</td>\n",
              "      <td>3.0</td>\n",
              "      <td>1.666667</td>\n",
              "    </tr>\n",
              "    <tr>\n",
              "      <th>2022-06-11</th>\n",
              "      <td>231.0</td>\n",
              "      <td>2131.0</td>\n",
              "      <td>81.0</td>\n",
              "      <td>404.0</td>\n",
              "      <td>2020.0</td>\n",
              "      <td>196.0</td>\n",
              "      <td>5.0</td>\n",
              "      <td>6</td>\n",
              "      <td>11</td>\n",
              "      <td>5</td>\n",
              "      <td>1.0</td>\n",
              "      <td>1.0</td>\n",
              "      <td>3.0</td>\n",
              "      <td>1.0</td>\n",
              "      <td>2.0</td>\n",
              "      <td>2.0</td>\n",
              "      <td>3.0</td>\n",
              "      <td>1.666667</td>\n",
              "    </tr>\n",
              "    <tr>\n",
              "      <th>2022-06-12</th>\n",
              "      <td>230.0</td>\n",
              "      <td>2131.0</td>\n",
              "      <td>81.0</td>\n",
              "      <td>404.0</td>\n",
              "      <td>404.0</td>\n",
              "      <td>196.0</td>\n",
              "      <td>5.0</td>\n",
              "      <td>6</td>\n",
              "      <td>12</td>\n",
              "      <td>6</td>\n",
              "      <td>5.0</td>\n",
              "      <td>1.0</td>\n",
              "      <td>1.0</td>\n",
              "      <td>3.0</td>\n",
              "      <td>1.0</td>\n",
              "      <td>2.0</td>\n",
              "      <td>2.0</td>\n",
              "      <td>2.333333</td>\n",
              "    </tr>\n",
              "    <tr>\n",
              "      <th>2022-06-13</th>\n",
              "      <td>228.0</td>\n",
              "      <td>2131.0</td>\n",
              "      <td>81.0</td>\n",
              "      <td>404.0</td>\n",
              "      <td>1212.0</td>\n",
              "      <td>197.0</td>\n",
              "      <td>5.0</td>\n",
              "      <td>6</td>\n",
              "      <td>13</td>\n",
              "      <td>0</td>\n",
              "      <td>1.0</td>\n",
              "      <td>5.0</td>\n",
              "      <td>1.0</td>\n",
              "      <td>1.0</td>\n",
              "      <td>3.0</td>\n",
              "      <td>1.0</td>\n",
              "      <td>2.0</td>\n",
              "      <td>2.333333</td>\n",
              "    </tr>\n",
              "    <tr>\n",
              "      <th>2022-06-14</th>\n",
              "      <td>227.0</td>\n",
              "      <td>2131.0</td>\n",
              "      <td>81.0</td>\n",
              "      <td>404.0</td>\n",
              "      <td>404.0</td>\n",
              "      <td>197.0</td>\n",
              "      <td>5.0</td>\n",
              "      <td>6</td>\n",
              "      <td>14</td>\n",
              "      <td>1</td>\n",
              "      <td>3.0</td>\n",
              "      <td>1.0</td>\n",
              "      <td>5.0</td>\n",
              "      <td>1.0</td>\n",
              "      <td>1.0</td>\n",
              "      <td>3.0</td>\n",
              "      <td>1.0</td>\n",
              "      <td>3.000000</td>\n",
              "    </tr>\n",
              "    <tr>\n",
              "      <th>2022-06-15</th>\n",
              "      <td>224.0</td>\n",
              "      <td>2131.0</td>\n",
              "      <td>81.0</td>\n",
              "      <td>404.0</td>\n",
              "      <td>1212.0</td>\n",
              "      <td>197.0</td>\n",
              "      <td>5.0</td>\n",
              "      <td>6</td>\n",
              "      <td>15</td>\n",
              "      <td>2</td>\n",
              "      <td>1.0</td>\n",
              "      <td>3.0</td>\n",
              "      <td>1.0</td>\n",
              "      <td>5.0</td>\n",
              "      <td>1.0</td>\n",
              "      <td>1.0</td>\n",
              "      <td>3.0</td>\n",
              "      <td>1.666667</td>\n",
              "    </tr>\n",
              "  </tbody>\n",
              "</table>\n",
              "</div>\n",
              "      <button class=\"colab-df-convert\" onclick=\"convertToInteractive('df-ebc36dfc-81ad-41cd-b613-0ef5418a54b4')\"\n",
              "              title=\"Convert this dataframe to an interactive table.\"\n",
              "              style=\"display:none;\">\n",
              "        \n",
              "  <svg xmlns=\"http://www.w3.org/2000/svg\" height=\"24px\"viewBox=\"0 0 24 24\"\n",
              "       width=\"24px\">\n",
              "    <path d=\"M0 0h24v24H0V0z\" fill=\"none\"/>\n",
              "    <path d=\"M18.56 5.44l.94 2.06.94-2.06 2.06-.94-2.06-.94-.94-2.06-.94 2.06-2.06.94zm-11 1L8.5 8.5l.94-2.06 2.06-.94-2.06-.94L8.5 2.5l-.94 2.06-2.06.94zm10 10l.94 2.06.94-2.06 2.06-.94-2.06-.94-.94-2.06-.94 2.06-2.06.94z\"/><path d=\"M17.41 7.96l-1.37-1.37c-.4-.4-.92-.59-1.43-.59-.52 0-1.04.2-1.43.59L10.3 9.45l-7.72 7.72c-.78.78-.78 2.05 0 2.83L4 21.41c.39.39.9.59 1.41.59.51 0 1.02-.2 1.41-.59l7.78-7.78 2.81-2.81c.8-.78.8-2.07 0-2.86zM5.41 20L4 18.59l7.72-7.72 1.47 1.35L5.41 20z\"/>\n",
              "  </svg>\n",
              "      </button>\n",
              "      \n",
              "  <style>\n",
              "    .colab-df-container {\n",
              "      display:flex;\n",
              "      flex-wrap:wrap;\n",
              "      gap: 12px;\n",
              "    }\n",
              "\n",
              "    .colab-df-convert {\n",
              "      background-color: #E8F0FE;\n",
              "      border: none;\n",
              "      border-radius: 50%;\n",
              "      cursor: pointer;\n",
              "      display: none;\n",
              "      fill: #1967D2;\n",
              "      height: 32px;\n",
              "      padding: 0 0 0 0;\n",
              "      width: 32px;\n",
              "    }\n",
              "\n",
              "    .colab-df-convert:hover {\n",
              "      background-color: #E2EBFA;\n",
              "      box-shadow: 0px 1px 2px rgba(60, 64, 67, 0.3), 0px 1px 3px 1px rgba(60, 64, 67, 0.15);\n",
              "      fill: #174EA6;\n",
              "    }\n",
              "\n",
              "    [theme=dark] .colab-df-convert {\n",
              "      background-color: #3B4455;\n",
              "      fill: #D2E3FC;\n",
              "    }\n",
              "\n",
              "    [theme=dark] .colab-df-convert:hover {\n",
              "      background-color: #434B5C;\n",
              "      box-shadow: 0px 1px 3px 1px rgba(0, 0, 0, 0.15);\n",
              "      filter: drop-shadow(0px 1px 2px rgba(0, 0, 0, 0.3));\n",
              "      fill: #FFFFFF;\n",
              "    }\n",
              "  </style>\n",
              "\n",
              "      <script>\n",
              "        const buttonEl =\n",
              "          document.querySelector('#df-ebc36dfc-81ad-41cd-b613-0ef5418a54b4 button.colab-df-convert');\n",
              "        buttonEl.style.display =\n",
              "          google.colab.kernel.accessAllowed ? 'block' : 'none';\n",
              "\n",
              "        async function convertToInteractive(key) {\n",
              "          const element = document.querySelector('#df-ebc36dfc-81ad-41cd-b613-0ef5418a54b4');\n",
              "          const dataTable =\n",
              "            await google.colab.kernel.invokeFunction('convertToInteractive',\n",
              "                                                     [key], {});\n",
              "          if (!dataTable) return;\n",
              "\n",
              "          const docLinkHtml = 'Like what you see? Visit the ' +\n",
              "            '<a target=\"_blank\" href=https://colab.research.google.com/notebooks/data_table.ipynb>data table notebook</a>'\n",
              "            + ' to learn more about interactive tables.';\n",
              "          element.innerHTML = '';\n",
              "          dataTable['output_type'] = 'display_data';\n",
              "          await google.colab.output.renderOutput(dataTable, element);\n",
              "          const docLink = document.createElement('div');\n",
              "          docLink.innerHTML = docLinkHtml;\n",
              "          element.appendChild(docLink);\n",
              "        }\n",
              "      </script>\n",
              "    </div>\n",
              "  </div>\n",
              "  "
            ]
          },
          "metadata": {},
          "execution_count": 117
        }
      ]
    },
    {
      "cell_type": "code",
      "source": [
        "data_features"
      ],
      "metadata": {
        "id": "SNP9_RH9mvra"
      },
      "execution_count": null,
      "outputs": []
    }
  ]
}