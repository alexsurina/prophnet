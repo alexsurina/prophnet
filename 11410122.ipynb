{
  "nbformat": 4,
  "nbformat_minor": 0,
  "metadata": {
    "colab": {
      "name": "Untitled17.ipynb",
      "provenance": [],
      "collapsed_sections": []
    },
    "kernelspec": {
      "name": "python3",
      "display_name": "Python 3"
    },
    "language_info": {
      "name": "python"
    }
  },
  "cells": [
    {
      "cell_type": "markdown",
      "source": [
        "Ланч-бокс с приборами двухуровневый 11410122"
      ],
      "metadata": {
        "id": "9sRbrGybu1Uc"
      }
    },
    {
      "cell_type": "code",
      "source": [
        "! pip install catboost"
      ],
      "metadata": {
        "colab": {
          "base_uri": "https://localhost:8080/"
        },
        "id": "SnkKFFSRtyUk",
        "outputId": "fe46911f-2c23-41de-b799-f9bb16daad7a"
      },
      "execution_count": 1,
      "outputs": [
        {
          "output_type": "stream",
          "name": "stdout",
          "text": [
            "Looking in indexes: https://pypi.org/simple, https://us-python.pkg.dev/colab-wheels/public/simple/\n",
            "Requirement already satisfied: catboost in /usr/local/lib/python3.7/dist-packages (1.0.6)\n",
            "Requirement already satisfied: scipy in /usr/local/lib/python3.7/dist-packages (from catboost) (1.4.1)\n",
            "Requirement already satisfied: plotly in /usr/local/lib/python3.7/dist-packages (from catboost) (5.5.0)\n",
            "Requirement already satisfied: pandas>=0.24.0 in /usr/local/lib/python3.7/dist-packages (from catboost) (1.3.5)\n",
            "Requirement already satisfied: six in /usr/local/lib/python3.7/dist-packages (from catboost) (1.15.0)\n",
            "Requirement already satisfied: matplotlib in /usr/local/lib/python3.7/dist-packages (from catboost) (3.2.2)\n",
            "Requirement already satisfied: numpy>=1.16.0 in /usr/local/lib/python3.7/dist-packages (from catboost) (1.21.6)\n",
            "Requirement already satisfied: graphviz in /usr/local/lib/python3.7/dist-packages (from catboost) (0.10.1)\n",
            "Requirement already satisfied: pytz>=2017.3 in /usr/local/lib/python3.7/dist-packages (from pandas>=0.24.0->catboost) (2022.1)\n",
            "Requirement already satisfied: python-dateutil>=2.7.3 in /usr/local/lib/python3.7/dist-packages (from pandas>=0.24.0->catboost) (2.8.2)\n",
            "Requirement already satisfied: cycler>=0.10 in /usr/local/lib/python3.7/dist-packages (from matplotlib->catboost) (0.11.0)\n",
            "Requirement already satisfied: kiwisolver>=1.0.1 in /usr/local/lib/python3.7/dist-packages (from matplotlib->catboost) (1.4.2)\n",
            "Requirement already satisfied: pyparsing!=2.0.4,!=2.1.2,!=2.1.6,>=2.0.1 in /usr/local/lib/python3.7/dist-packages (from matplotlib->catboost) (3.0.9)\n",
            "Requirement already satisfied: typing-extensions in /usr/local/lib/python3.7/dist-packages (from kiwisolver>=1.0.1->matplotlib->catboost) (4.2.0)\n",
            "Requirement already satisfied: tenacity>=6.2.0 in /usr/local/lib/python3.7/dist-packages (from plotly->catboost) (8.0.1)\n"
          ]
        }
      ]
    },
    {
      "cell_type": "code",
      "source": [
        "import pandas as pd\n",
        "import numpy as np\n",
        "\n",
        "import matplotlib.pyplot as plt\n",
        "\n",
        "from statsmodels.tsa.seasonal import seasonal_decompose\n",
        "\n",
        "from sklearn.model_selection import train_test_split\n",
        "\n",
        "from sklearn.model_selection import TimeSeriesSplit\n",
        "\n",
        "from sklearn.model_selection import GridSearchCV\n",
        "from catboost import CatBoostRegressor\n",
        "\n",
        "import lightgbm as lgb\n",
        "\n",
        "import xgboost as xgb\n",
        "from xgboost import XGBRegressor\n",
        "\n",
        "from sklearn.linear_model import LinearRegression\n",
        "from sklearn.ensemble import RandomForestRegressor\n",
        "\n",
        "from sklearn.model_selection import cross_val_score\n",
        "from sklearn.metrics import make_scorer\n",
        "from sklearn.metrics import mean_squared_error\n",
        "\n",
        "import copy\n",
        "from copy import deepcopy"
      ],
      "metadata": {
        "colab": {
          "base_uri": "https://localhost:8080/"
        },
        "id": "g16gG3f4tycg",
        "outputId": "7b29c122-ae9b-4d7d-f8c4-641a60437118"
      },
      "execution_count": 2,
      "outputs": [
        {
          "output_type": "stream",
          "name": "stderr",
          "text": [
            "/usr/local/lib/python3.7/dist-packages/statsmodels/tools/_testing.py:19: FutureWarning: pandas.util.testing is deprecated. Use the functions in the public API at pandas.testing instead.\n",
            "  import pandas.util.testing as tm\n"
          ]
        }
      ]
    },
    {
      "cell_type": "markdown",
      "source": [
        "------------"
      ],
      "metadata": {
        "id": "PgIXLlqL5zM8"
      }
    },
    {
      "cell_type": "code",
      "source": [
        "data = pd.read_csv('/content/11410122.csv', sep=';')"
      ],
      "metadata": {
        "id": "KgNovoIL1wDQ"
      },
      "execution_count": 3,
      "outputs": []
    },
    {
      "cell_type": "code",
      "source": [
        "data"
      ],
      "metadata": {
        "colab": {
          "base_uri": "https://localhost:8080/",
          "height": 679
        },
        "id": "qTog5a2q9q8A",
        "outputId": "62f6f6cc-c228-476c-84ce-21db11aee91a"
      },
      "execution_count": 4,
      "outputs": [
        {
          "output_type": "execute_result",
          "data": {
            "text/plain": [
              "                   Дата  Продажи  Остаток    Цена  Со скидкой и промо  Скидка  \\\n",
              "0            2022-06-16      NaN      NaN     NaN                 NaN     NaN   \n",
              "1            2022-06-15        3    410.0  2442.0               561.0    77.0   \n",
              "2            2022-06-14        1    413.0  2442.0               561.0    77.0   \n",
              "3            2022-06-13        3    413.0  2442.0               561.0    77.0   \n",
              "4            2022-06-12        6    412.0  2442.0               561.0    77.0   \n",
              "..                  ...      ...      ...     ...                 ...     ...   \n",
              "95     Среднее (в день)     6 шт      NaN     NaN                 NaN     NaN   \n",
              "96      Дней с наличием  88 дней      NaN     NaN                 NaN     NaN   \n",
              "97  Среднее при наличии     6 шт      NaN     NaN                 NaN     NaN   \n",
              "98            Потенциал      NaN      NaN     NaN                 NaN     NaN   \n",
              "99    Упущенная выручка      NaN      NaN     NaN                 NaN     NaN   \n",
              "\n",
              "    Цена со скидкой  Промокод  СПП  Цена с СПП  Сумма продаж  Комментариев  \\\n",
              "0               NaN       NaN  NaN         NaN           NaN           NaN   \n",
              "1             561.0       0.0  0.0       561.0          1683         332.0   \n",
              "2             561.0       0.0  0.0       561.0           561         332.0   \n",
              "3             561.0       0.0  0.0       561.0          1683         332.0   \n",
              "4             561.0       0.0  0.0       561.0          3366         332.0   \n",
              "..              ...       ...  ...         ...           ...           ...   \n",
              "95              NaN       NaN  NaN         NaN    3 458,14 ₽           NaN   \n",
              "96              NaN       NaN  NaN         NaN           NaN           NaN   \n",
              "97              NaN       NaN  NaN         NaN    3 548,08 ₽           NaN   \n",
              "98              NaN       NaN  NaN         NaN  339 881,00 ₽           NaN   \n",
              "99              NaN       NaN  NaN         NaN   18 274,00 ₽           NaN   \n",
              "\n",
              "    Рейтинг  \n",
              "0       NaN  \n",
              "1       4.0  \n",
              "2       4.0  \n",
              "3       4.0  \n",
              "4       4.0  \n",
              "..      ...  \n",
              "95      NaN  \n",
              "96      NaN  \n",
              "97      NaN  \n",
              "98      NaN  \n",
              "99      NaN  \n",
              "\n",
              "[100 rows x 13 columns]"
            ],
            "text/html": [
              "\n",
              "  <div id=\"df-3b182bc7-aa0d-416c-8ce2-7f9f95171957\">\n",
              "    <div class=\"colab-df-container\">\n",
              "      <div>\n",
              "<style scoped>\n",
              "    .dataframe tbody tr th:only-of-type {\n",
              "        vertical-align: middle;\n",
              "    }\n",
              "\n",
              "    .dataframe tbody tr th {\n",
              "        vertical-align: top;\n",
              "    }\n",
              "\n",
              "    .dataframe thead th {\n",
              "        text-align: right;\n",
              "    }\n",
              "</style>\n",
              "<table border=\"1\" class=\"dataframe\">\n",
              "  <thead>\n",
              "    <tr style=\"text-align: right;\">\n",
              "      <th></th>\n",
              "      <th>Дата</th>\n",
              "      <th>Продажи</th>\n",
              "      <th>Остаток</th>\n",
              "      <th>Цена</th>\n",
              "      <th>Со скидкой и промо</th>\n",
              "      <th>Скидка</th>\n",
              "      <th>Цена со скидкой</th>\n",
              "      <th>Промокод</th>\n",
              "      <th>СПП</th>\n",
              "      <th>Цена с СПП</th>\n",
              "      <th>Сумма продаж</th>\n",
              "      <th>Комментариев</th>\n",
              "      <th>Рейтинг</th>\n",
              "    </tr>\n",
              "  </thead>\n",
              "  <tbody>\n",
              "    <tr>\n",
              "      <th>0</th>\n",
              "      <td>2022-06-16</td>\n",
              "      <td>NaN</td>\n",
              "      <td>NaN</td>\n",
              "      <td>NaN</td>\n",
              "      <td>NaN</td>\n",
              "      <td>NaN</td>\n",
              "      <td>NaN</td>\n",
              "      <td>NaN</td>\n",
              "      <td>NaN</td>\n",
              "      <td>NaN</td>\n",
              "      <td>NaN</td>\n",
              "      <td>NaN</td>\n",
              "      <td>NaN</td>\n",
              "    </tr>\n",
              "    <tr>\n",
              "      <th>1</th>\n",
              "      <td>2022-06-15</td>\n",
              "      <td>3</td>\n",
              "      <td>410.0</td>\n",
              "      <td>2442.0</td>\n",
              "      <td>561.0</td>\n",
              "      <td>77.0</td>\n",
              "      <td>561.0</td>\n",
              "      <td>0.0</td>\n",
              "      <td>0.0</td>\n",
              "      <td>561.0</td>\n",
              "      <td>1683</td>\n",
              "      <td>332.0</td>\n",
              "      <td>4.0</td>\n",
              "    </tr>\n",
              "    <tr>\n",
              "      <th>2</th>\n",
              "      <td>2022-06-14</td>\n",
              "      <td>1</td>\n",
              "      <td>413.0</td>\n",
              "      <td>2442.0</td>\n",
              "      <td>561.0</td>\n",
              "      <td>77.0</td>\n",
              "      <td>561.0</td>\n",
              "      <td>0.0</td>\n",
              "      <td>0.0</td>\n",
              "      <td>561.0</td>\n",
              "      <td>561</td>\n",
              "      <td>332.0</td>\n",
              "      <td>4.0</td>\n",
              "    </tr>\n",
              "    <tr>\n",
              "      <th>3</th>\n",
              "      <td>2022-06-13</td>\n",
              "      <td>3</td>\n",
              "      <td>413.0</td>\n",
              "      <td>2442.0</td>\n",
              "      <td>561.0</td>\n",
              "      <td>77.0</td>\n",
              "      <td>561.0</td>\n",
              "      <td>0.0</td>\n",
              "      <td>0.0</td>\n",
              "      <td>561.0</td>\n",
              "      <td>1683</td>\n",
              "      <td>332.0</td>\n",
              "      <td>4.0</td>\n",
              "    </tr>\n",
              "    <tr>\n",
              "      <th>4</th>\n",
              "      <td>2022-06-12</td>\n",
              "      <td>6</td>\n",
              "      <td>412.0</td>\n",
              "      <td>2442.0</td>\n",
              "      <td>561.0</td>\n",
              "      <td>77.0</td>\n",
              "      <td>561.0</td>\n",
              "      <td>0.0</td>\n",
              "      <td>0.0</td>\n",
              "      <td>561.0</td>\n",
              "      <td>3366</td>\n",
              "      <td>332.0</td>\n",
              "      <td>4.0</td>\n",
              "    </tr>\n",
              "    <tr>\n",
              "      <th>...</th>\n",
              "      <td>...</td>\n",
              "      <td>...</td>\n",
              "      <td>...</td>\n",
              "      <td>...</td>\n",
              "      <td>...</td>\n",
              "      <td>...</td>\n",
              "      <td>...</td>\n",
              "      <td>...</td>\n",
              "      <td>...</td>\n",
              "      <td>...</td>\n",
              "      <td>...</td>\n",
              "      <td>...</td>\n",
              "      <td>...</td>\n",
              "    </tr>\n",
              "    <tr>\n",
              "      <th>95</th>\n",
              "      <td>Среднее (в день)</td>\n",
              "      <td>6 шт</td>\n",
              "      <td>NaN</td>\n",
              "      <td>NaN</td>\n",
              "      <td>NaN</td>\n",
              "      <td>NaN</td>\n",
              "      <td>NaN</td>\n",
              "      <td>NaN</td>\n",
              "      <td>NaN</td>\n",
              "      <td>NaN</td>\n",
              "      <td>3 458,14 ₽</td>\n",
              "      <td>NaN</td>\n",
              "      <td>NaN</td>\n",
              "    </tr>\n",
              "    <tr>\n",
              "      <th>96</th>\n",
              "      <td>Дней с наличием</td>\n",
              "      <td>88 дней</td>\n",
              "      <td>NaN</td>\n",
              "      <td>NaN</td>\n",
              "      <td>NaN</td>\n",
              "      <td>NaN</td>\n",
              "      <td>NaN</td>\n",
              "      <td>NaN</td>\n",
              "      <td>NaN</td>\n",
              "      <td>NaN</td>\n",
              "      <td>NaN</td>\n",
              "      <td>NaN</td>\n",
              "      <td>NaN</td>\n",
              "    </tr>\n",
              "    <tr>\n",
              "      <th>97</th>\n",
              "      <td>Среднее при наличии</td>\n",
              "      <td>6 шт</td>\n",
              "      <td>NaN</td>\n",
              "      <td>NaN</td>\n",
              "      <td>NaN</td>\n",
              "      <td>NaN</td>\n",
              "      <td>NaN</td>\n",
              "      <td>NaN</td>\n",
              "      <td>NaN</td>\n",
              "      <td>NaN</td>\n",
              "      <td>3 548,08 ₽</td>\n",
              "      <td>NaN</td>\n",
              "      <td>NaN</td>\n",
              "    </tr>\n",
              "    <tr>\n",
              "      <th>98</th>\n",
              "      <td>Потенциал</td>\n",
              "      <td>NaN</td>\n",
              "      <td>NaN</td>\n",
              "      <td>NaN</td>\n",
              "      <td>NaN</td>\n",
              "      <td>NaN</td>\n",
              "      <td>NaN</td>\n",
              "      <td>NaN</td>\n",
              "      <td>NaN</td>\n",
              "      <td>NaN</td>\n",
              "      <td>339 881,00 ₽</td>\n",
              "      <td>NaN</td>\n",
              "      <td>NaN</td>\n",
              "    </tr>\n",
              "    <tr>\n",
              "      <th>99</th>\n",
              "      <td>Упущенная выручка</td>\n",
              "      <td>NaN</td>\n",
              "      <td>NaN</td>\n",
              "      <td>NaN</td>\n",
              "      <td>NaN</td>\n",
              "      <td>NaN</td>\n",
              "      <td>NaN</td>\n",
              "      <td>NaN</td>\n",
              "      <td>NaN</td>\n",
              "      <td>NaN</td>\n",
              "      <td>18 274,00 ₽</td>\n",
              "      <td>NaN</td>\n",
              "      <td>NaN</td>\n",
              "    </tr>\n",
              "  </tbody>\n",
              "</table>\n",
              "<p>100 rows × 13 columns</p>\n",
              "</div>\n",
              "      <button class=\"colab-df-convert\" onclick=\"convertToInteractive('df-3b182bc7-aa0d-416c-8ce2-7f9f95171957')\"\n",
              "              title=\"Convert this dataframe to an interactive table.\"\n",
              "              style=\"display:none;\">\n",
              "        \n",
              "  <svg xmlns=\"http://www.w3.org/2000/svg\" height=\"24px\"viewBox=\"0 0 24 24\"\n",
              "       width=\"24px\">\n",
              "    <path d=\"M0 0h24v24H0V0z\" fill=\"none\"/>\n",
              "    <path d=\"M18.56 5.44l.94 2.06.94-2.06 2.06-.94-2.06-.94-.94-2.06-.94 2.06-2.06.94zm-11 1L8.5 8.5l.94-2.06 2.06-.94-2.06-.94L8.5 2.5l-.94 2.06-2.06.94zm10 10l.94 2.06.94-2.06 2.06-.94-2.06-.94-.94-2.06-.94 2.06-2.06.94z\"/><path d=\"M17.41 7.96l-1.37-1.37c-.4-.4-.92-.59-1.43-.59-.52 0-1.04.2-1.43.59L10.3 9.45l-7.72 7.72c-.78.78-.78 2.05 0 2.83L4 21.41c.39.39.9.59 1.41.59.51 0 1.02-.2 1.41-.59l7.78-7.78 2.81-2.81c.8-.78.8-2.07 0-2.86zM5.41 20L4 18.59l7.72-7.72 1.47 1.35L5.41 20z\"/>\n",
              "  </svg>\n",
              "      </button>\n",
              "      \n",
              "  <style>\n",
              "    .colab-df-container {\n",
              "      display:flex;\n",
              "      flex-wrap:wrap;\n",
              "      gap: 12px;\n",
              "    }\n",
              "\n",
              "    .colab-df-convert {\n",
              "      background-color: #E8F0FE;\n",
              "      border: none;\n",
              "      border-radius: 50%;\n",
              "      cursor: pointer;\n",
              "      display: none;\n",
              "      fill: #1967D2;\n",
              "      height: 32px;\n",
              "      padding: 0 0 0 0;\n",
              "      width: 32px;\n",
              "    }\n",
              "\n",
              "    .colab-df-convert:hover {\n",
              "      background-color: #E2EBFA;\n",
              "      box-shadow: 0px 1px 2px rgba(60, 64, 67, 0.3), 0px 1px 3px 1px rgba(60, 64, 67, 0.15);\n",
              "      fill: #174EA6;\n",
              "    }\n",
              "\n",
              "    [theme=dark] .colab-df-convert {\n",
              "      background-color: #3B4455;\n",
              "      fill: #D2E3FC;\n",
              "    }\n",
              "\n",
              "    [theme=dark] .colab-df-convert:hover {\n",
              "      background-color: #434B5C;\n",
              "      box-shadow: 0px 1px 3px 1px rgba(0, 0, 0, 0.15);\n",
              "      filter: drop-shadow(0px 1px 2px rgba(0, 0, 0, 0.3));\n",
              "      fill: #FFFFFF;\n",
              "    }\n",
              "  </style>\n",
              "\n",
              "      <script>\n",
              "        const buttonEl =\n",
              "          document.querySelector('#df-3b182bc7-aa0d-416c-8ce2-7f9f95171957 button.colab-df-convert');\n",
              "        buttonEl.style.display =\n",
              "          google.colab.kernel.accessAllowed ? 'block' : 'none';\n",
              "\n",
              "        async function convertToInteractive(key) {\n",
              "          const element = document.querySelector('#df-3b182bc7-aa0d-416c-8ce2-7f9f95171957');\n",
              "          const dataTable =\n",
              "            await google.colab.kernel.invokeFunction('convertToInteractive',\n",
              "                                                     [key], {});\n",
              "          if (!dataTable) return;\n",
              "\n",
              "          const docLinkHtml = 'Like what you see? Visit the ' +\n",
              "            '<a target=\"_blank\" href=https://colab.research.google.com/notebooks/data_table.ipynb>data table notebook</a>'\n",
              "            + ' to learn more about interactive tables.';\n",
              "          element.innerHTML = '';\n",
              "          dataTable['output_type'] = 'display_data';\n",
              "          await google.colab.output.renderOutput(dataTable, element);\n",
              "          const docLink = document.createElement('div');\n",
              "          docLink.innerHTML = docLinkHtml;\n",
              "          element.appendChild(docLink);\n",
              "        }\n",
              "      </script>\n",
              "    </div>\n",
              "  </div>\n",
              "  "
            ]
          },
          "metadata": {},
          "execution_count": 4
        }
      ]
    },
    {
      "cell_type": "markdown",
      "source": [
        "Данные за период с 15.03.2022 по 15.06.2022 "
      ],
      "metadata": {
        "id": "IMqL9Jye18Jn"
      }
    },
    {
      "cell_type": "code",
      "source": [
        "data = data[1:94]"
      ],
      "metadata": {
        "id": "0f22QH_f66Be"
      },
      "execution_count": 5,
      "outputs": []
    },
    {
      "cell_type": "code",
      "source": [
        "data.duplicated().sum()"
      ],
      "metadata": {
        "colab": {
          "base_uri": "https://localhost:8080/"
        },
        "id": "eEUu_hf3LV5T",
        "outputId": "678198f7-d67d-4571-f9aa-871c7a5048a7"
      },
      "execution_count": 6,
      "outputs": [
        {
          "output_type": "execute_result",
          "data": {
            "text/plain": [
              "0"
            ]
          },
          "metadata": {},
          "execution_count": 6
        }
      ]
    },
    {
      "cell_type": "code",
      "source": [
        "data.info()"
      ],
      "metadata": {
        "colab": {
          "base_uri": "https://localhost:8080/"
        },
        "id": "GQ78TCOm7BmF",
        "outputId": "f6639b84-9765-40b3-c915-04a823e5ab41"
      },
      "execution_count": 7,
      "outputs": [
        {
          "output_type": "stream",
          "name": "stdout",
          "text": [
            "<class 'pandas.core.frame.DataFrame'>\n",
            "RangeIndex: 93 entries, 1 to 93\n",
            "Data columns (total 13 columns):\n",
            " #   Column              Non-Null Count  Dtype  \n",
            "---  ------              --------------  -----  \n",
            " 0   Дата                93 non-null     object \n",
            " 1   Продажи             93 non-null     object \n",
            " 2   Остаток             93 non-null     float64\n",
            " 3   Цена                93 non-null     float64\n",
            " 4   Со скидкой и промо  93 non-null     float64\n",
            " 5   Скидка              93 non-null     float64\n",
            " 6   Цена со скидкой     93 non-null     float64\n",
            " 7   Промокод            93 non-null     float64\n",
            " 8   СПП                 93 non-null     float64\n",
            " 9   Цена с СПП          93 non-null     float64\n",
            " 10  Сумма продаж        93 non-null     object \n",
            " 11  Комментариев        93 non-null     float64\n",
            " 12  Рейтинг             93 non-null     float64\n",
            "dtypes: float64(10), object(3)\n",
            "memory usage: 9.6+ KB\n"
          ]
        }
      ]
    },
    {
      "cell_type": "code",
      "source": [
        "data['Дата'] = pd.to_datetime(data['Дата'], format='%Y-%m-%d')"
      ],
      "metadata": {
        "colab": {
          "base_uri": "https://localhost:8080/"
        },
        "id": "KiPnhPSP7DW1",
        "outputId": "0e539b43-96c4-43cb-9748-4cc08d0b37f5"
      },
      "execution_count": 8,
      "outputs": [
        {
          "output_type": "stream",
          "name": "stderr",
          "text": [
            "/usr/local/lib/python3.7/dist-packages/ipykernel_launcher.py:1: SettingWithCopyWarning: \n",
            "A value is trying to be set on a copy of a slice from a DataFrame.\n",
            "Try using .loc[row_indexer,col_indexer] = value instead\n",
            "\n",
            "See the caveats in the documentation: https://pandas.pydata.org/pandas-docs/stable/user_guide/indexing.html#returning-a-view-versus-a-copy\n",
            "  \"\"\"Entry point for launching an IPython kernel.\n"
          ]
        }
      ]
    },
    {
      "cell_type": "code",
      "source": [
        "data = data.sort_values(by='Дата')"
      ],
      "metadata": {
        "id": "O2YfjfFI8HSA"
      },
      "execution_count": 9,
      "outputs": []
    },
    {
      "cell_type": "code",
      "source": [
        "data = data.set_index('Дата')"
      ],
      "metadata": {
        "id": "47OJfd3h8XJJ"
      },
      "execution_count": 10,
      "outputs": []
    },
    {
      "cell_type": "code",
      "source": [
        "data['Продажи'] = data['Продажи'].astype('int')\n",
        "data['Сумма продаж'] = data['Сумма продаж'].astype('float64')"
      ],
      "metadata": {
        "id": "S2EVPddVED5N"
      },
      "execution_count": 11,
      "outputs": []
    },
    {
      "cell_type": "code",
      "source": [
        "data.describe()"
      ],
      "metadata": {
        "colab": {
          "base_uri": "https://localhost:8080/",
          "height": 399
        },
        "id": "6YfbaavNKs6d",
        "outputId": "422de418-2dd3-46e0-b952-116422f99f81"
      },
      "execution_count": 12,
      "outputs": [
        {
          "output_type": "execute_result",
          "data": {
            "text/plain": [
              "         Продажи     Остаток    Цена  Со скидкой и промо     Скидка  \\\n",
              "count  93.000000   93.000000    93.0           93.000000  93.000000   \n",
              "mean    5.903226  279.537634  2442.0          588.215054  75.892473   \n",
              "std     3.887171  163.598698     0.0           39.861404   1.638281   \n",
              "min     0.000000    0.000000  2442.0          488.000000  74.000000   \n",
              "25%     3.000000  140.000000  2442.0          561.000000  75.000000   \n",
              "50%     5.000000  381.000000  2442.0          586.000000  76.000000   \n",
              "75%     9.000000  428.000000  2442.0          610.000000  77.000000   \n",
              "max    19.000000  472.000000  2442.0          634.000000  80.000000   \n",
              "\n",
              "       Цена со скидкой  Промокод   СПП  Цена с СПП  Сумма продаж  \\\n",
              "count        93.000000      93.0  93.0   93.000000     93.000000   \n",
              "mean        588.215054       0.0   0.0  588.215054   3458.139785   \n",
              "std          39.861404       0.0   0.0   39.861404   2288.672610   \n",
              "min         488.000000       0.0   0.0  488.000000      0.000000   \n",
              "25%         561.000000       0.0   0.0  561.000000   1758.000000   \n",
              "50%         586.000000       0.0   0.0  586.000000   3050.000000   \n",
              "75%         610.000000       0.0   0.0  610.000000   5072.000000   \n",
              "max         634.000000       0.0   0.0  634.000000  11134.000000   \n",
              "\n",
              "       Комментариев  Рейтинг  \n",
              "count     93.000000     93.0  \n",
              "mean     321.096774      4.0  \n",
              "std        9.308790      0.0  \n",
              "min      307.000000      4.0  \n",
              "25%      311.000000      4.0  \n",
              "50%      322.000000      4.0  \n",
              "75%      329.000000      4.0  \n",
              "max      332.000000      4.0  "
            ],
            "text/html": [
              "\n",
              "  <div id=\"df-92f5656e-2f3a-4a80-907b-6f417b5fab05\">\n",
              "    <div class=\"colab-df-container\">\n",
              "      <div>\n",
              "<style scoped>\n",
              "    .dataframe tbody tr th:only-of-type {\n",
              "        vertical-align: middle;\n",
              "    }\n",
              "\n",
              "    .dataframe tbody tr th {\n",
              "        vertical-align: top;\n",
              "    }\n",
              "\n",
              "    .dataframe thead th {\n",
              "        text-align: right;\n",
              "    }\n",
              "</style>\n",
              "<table border=\"1\" class=\"dataframe\">\n",
              "  <thead>\n",
              "    <tr style=\"text-align: right;\">\n",
              "      <th></th>\n",
              "      <th>Продажи</th>\n",
              "      <th>Остаток</th>\n",
              "      <th>Цена</th>\n",
              "      <th>Со скидкой и промо</th>\n",
              "      <th>Скидка</th>\n",
              "      <th>Цена со скидкой</th>\n",
              "      <th>Промокод</th>\n",
              "      <th>СПП</th>\n",
              "      <th>Цена с СПП</th>\n",
              "      <th>Сумма продаж</th>\n",
              "      <th>Комментариев</th>\n",
              "      <th>Рейтинг</th>\n",
              "    </tr>\n",
              "  </thead>\n",
              "  <tbody>\n",
              "    <tr>\n",
              "      <th>count</th>\n",
              "      <td>93.000000</td>\n",
              "      <td>93.000000</td>\n",
              "      <td>93.0</td>\n",
              "      <td>93.000000</td>\n",
              "      <td>93.000000</td>\n",
              "      <td>93.000000</td>\n",
              "      <td>93.0</td>\n",
              "      <td>93.0</td>\n",
              "      <td>93.000000</td>\n",
              "      <td>93.000000</td>\n",
              "      <td>93.000000</td>\n",
              "      <td>93.0</td>\n",
              "    </tr>\n",
              "    <tr>\n",
              "      <th>mean</th>\n",
              "      <td>5.903226</td>\n",
              "      <td>279.537634</td>\n",
              "      <td>2442.0</td>\n",
              "      <td>588.215054</td>\n",
              "      <td>75.892473</td>\n",
              "      <td>588.215054</td>\n",
              "      <td>0.0</td>\n",
              "      <td>0.0</td>\n",
              "      <td>588.215054</td>\n",
              "      <td>3458.139785</td>\n",
              "      <td>321.096774</td>\n",
              "      <td>4.0</td>\n",
              "    </tr>\n",
              "    <tr>\n",
              "      <th>std</th>\n",
              "      <td>3.887171</td>\n",
              "      <td>163.598698</td>\n",
              "      <td>0.0</td>\n",
              "      <td>39.861404</td>\n",
              "      <td>1.638281</td>\n",
              "      <td>39.861404</td>\n",
              "      <td>0.0</td>\n",
              "      <td>0.0</td>\n",
              "      <td>39.861404</td>\n",
              "      <td>2288.672610</td>\n",
              "      <td>9.308790</td>\n",
              "      <td>0.0</td>\n",
              "    </tr>\n",
              "    <tr>\n",
              "      <th>min</th>\n",
              "      <td>0.000000</td>\n",
              "      <td>0.000000</td>\n",
              "      <td>2442.0</td>\n",
              "      <td>488.000000</td>\n",
              "      <td>74.000000</td>\n",
              "      <td>488.000000</td>\n",
              "      <td>0.0</td>\n",
              "      <td>0.0</td>\n",
              "      <td>488.000000</td>\n",
              "      <td>0.000000</td>\n",
              "      <td>307.000000</td>\n",
              "      <td>4.0</td>\n",
              "    </tr>\n",
              "    <tr>\n",
              "      <th>25%</th>\n",
              "      <td>3.000000</td>\n",
              "      <td>140.000000</td>\n",
              "      <td>2442.0</td>\n",
              "      <td>561.000000</td>\n",
              "      <td>75.000000</td>\n",
              "      <td>561.000000</td>\n",
              "      <td>0.0</td>\n",
              "      <td>0.0</td>\n",
              "      <td>561.000000</td>\n",
              "      <td>1758.000000</td>\n",
              "      <td>311.000000</td>\n",
              "      <td>4.0</td>\n",
              "    </tr>\n",
              "    <tr>\n",
              "      <th>50%</th>\n",
              "      <td>5.000000</td>\n",
              "      <td>381.000000</td>\n",
              "      <td>2442.0</td>\n",
              "      <td>586.000000</td>\n",
              "      <td>76.000000</td>\n",
              "      <td>586.000000</td>\n",
              "      <td>0.0</td>\n",
              "      <td>0.0</td>\n",
              "      <td>586.000000</td>\n",
              "      <td>3050.000000</td>\n",
              "      <td>322.000000</td>\n",
              "      <td>4.0</td>\n",
              "    </tr>\n",
              "    <tr>\n",
              "      <th>75%</th>\n",
              "      <td>9.000000</td>\n",
              "      <td>428.000000</td>\n",
              "      <td>2442.0</td>\n",
              "      <td>610.000000</td>\n",
              "      <td>77.000000</td>\n",
              "      <td>610.000000</td>\n",
              "      <td>0.0</td>\n",
              "      <td>0.0</td>\n",
              "      <td>610.000000</td>\n",
              "      <td>5072.000000</td>\n",
              "      <td>329.000000</td>\n",
              "      <td>4.0</td>\n",
              "    </tr>\n",
              "    <tr>\n",
              "      <th>max</th>\n",
              "      <td>19.000000</td>\n",
              "      <td>472.000000</td>\n",
              "      <td>2442.0</td>\n",
              "      <td>634.000000</td>\n",
              "      <td>80.000000</td>\n",
              "      <td>634.000000</td>\n",
              "      <td>0.0</td>\n",
              "      <td>0.0</td>\n",
              "      <td>634.000000</td>\n",
              "      <td>11134.000000</td>\n",
              "      <td>332.000000</td>\n",
              "      <td>4.0</td>\n",
              "    </tr>\n",
              "  </tbody>\n",
              "</table>\n",
              "</div>\n",
              "      <button class=\"colab-df-convert\" onclick=\"convertToInteractive('df-92f5656e-2f3a-4a80-907b-6f417b5fab05')\"\n",
              "              title=\"Convert this dataframe to an interactive table.\"\n",
              "              style=\"display:none;\">\n",
              "        \n",
              "  <svg xmlns=\"http://www.w3.org/2000/svg\" height=\"24px\"viewBox=\"0 0 24 24\"\n",
              "       width=\"24px\">\n",
              "    <path d=\"M0 0h24v24H0V0z\" fill=\"none\"/>\n",
              "    <path d=\"M18.56 5.44l.94 2.06.94-2.06 2.06-.94-2.06-.94-.94-2.06-.94 2.06-2.06.94zm-11 1L8.5 8.5l.94-2.06 2.06-.94-2.06-.94L8.5 2.5l-.94 2.06-2.06.94zm10 10l.94 2.06.94-2.06 2.06-.94-2.06-.94-.94-2.06-.94 2.06-2.06.94z\"/><path d=\"M17.41 7.96l-1.37-1.37c-.4-.4-.92-.59-1.43-.59-.52 0-1.04.2-1.43.59L10.3 9.45l-7.72 7.72c-.78.78-.78 2.05 0 2.83L4 21.41c.39.39.9.59 1.41.59.51 0 1.02-.2 1.41-.59l7.78-7.78 2.81-2.81c.8-.78.8-2.07 0-2.86zM5.41 20L4 18.59l7.72-7.72 1.47 1.35L5.41 20z\"/>\n",
              "  </svg>\n",
              "      </button>\n",
              "      \n",
              "  <style>\n",
              "    .colab-df-container {\n",
              "      display:flex;\n",
              "      flex-wrap:wrap;\n",
              "      gap: 12px;\n",
              "    }\n",
              "\n",
              "    .colab-df-convert {\n",
              "      background-color: #E8F0FE;\n",
              "      border: none;\n",
              "      border-radius: 50%;\n",
              "      cursor: pointer;\n",
              "      display: none;\n",
              "      fill: #1967D2;\n",
              "      height: 32px;\n",
              "      padding: 0 0 0 0;\n",
              "      width: 32px;\n",
              "    }\n",
              "\n",
              "    .colab-df-convert:hover {\n",
              "      background-color: #E2EBFA;\n",
              "      box-shadow: 0px 1px 2px rgba(60, 64, 67, 0.3), 0px 1px 3px 1px rgba(60, 64, 67, 0.15);\n",
              "      fill: #174EA6;\n",
              "    }\n",
              "\n",
              "    [theme=dark] .colab-df-convert {\n",
              "      background-color: #3B4455;\n",
              "      fill: #D2E3FC;\n",
              "    }\n",
              "\n",
              "    [theme=dark] .colab-df-convert:hover {\n",
              "      background-color: #434B5C;\n",
              "      box-shadow: 0px 1px 3px 1px rgba(0, 0, 0, 0.15);\n",
              "      filter: drop-shadow(0px 1px 2px rgba(0, 0, 0, 0.3));\n",
              "      fill: #FFFFFF;\n",
              "    }\n",
              "  </style>\n",
              "\n",
              "      <script>\n",
              "        const buttonEl =\n",
              "          document.querySelector('#df-92f5656e-2f3a-4a80-907b-6f417b5fab05 button.colab-df-convert');\n",
              "        buttonEl.style.display =\n",
              "          google.colab.kernel.accessAllowed ? 'block' : 'none';\n",
              "\n",
              "        async function convertToInteractive(key) {\n",
              "          const element = document.querySelector('#df-92f5656e-2f3a-4a80-907b-6f417b5fab05');\n",
              "          const dataTable =\n",
              "            await google.colab.kernel.invokeFunction('convertToInteractive',\n",
              "                                                     [key], {});\n",
              "          if (!dataTable) return;\n",
              "\n",
              "          const docLinkHtml = 'Like what you see? Visit the ' +\n",
              "            '<a target=\"_blank\" href=https://colab.research.google.com/notebooks/data_table.ipynb>data table notebook</a>'\n",
              "            + ' to learn more about interactive tables.';\n",
              "          element.innerHTML = '';\n",
              "          dataTable['output_type'] = 'display_data';\n",
              "          await google.colab.output.renderOutput(dataTable, element);\n",
              "          const docLink = document.createElement('div');\n",
              "          docLink.innerHTML = docLinkHtml;\n",
              "          element.appendChild(docLink);\n",
              "        }\n",
              "      </script>\n",
              "    </div>\n",
              "  </div>\n",
              "  "
            ]
          },
          "metadata": {},
          "execution_count": 12
        }
      ]
    },
    {
      "cell_type": "code",
      "source": [
        "data = data.drop(['Со скидкой и промо', 'Промокод', 'СПП', 'Цена с СПП'], axis=1)"
      ],
      "metadata": {
        "id": "iW4s-_ZEKhne"
      },
      "execution_count": 13,
      "outputs": []
    },
    {
      "cell_type": "code",
      "source": [
        "data.info()"
      ],
      "metadata": {
        "colab": {
          "base_uri": "https://localhost:8080/"
        },
        "id": "_6-2g3HRI5hk",
        "outputId": "915d55db-559b-4603-b963-0fba86721ac6"
      },
      "execution_count": 14,
      "outputs": [
        {
          "output_type": "stream",
          "name": "stdout",
          "text": [
            "<class 'pandas.core.frame.DataFrame'>\n",
            "DatetimeIndex: 93 entries, 2022-03-15 to 2022-06-15\n",
            "Data columns (total 8 columns):\n",
            " #   Column           Non-Null Count  Dtype  \n",
            "---  ------           --------------  -----  \n",
            " 0   Продажи          93 non-null     int64  \n",
            " 1   Остаток          93 non-null     float64\n",
            " 2   Цена             93 non-null     float64\n",
            " 3   Скидка           93 non-null     float64\n",
            " 4   Цена со скидкой  93 non-null     float64\n",
            " 5   Сумма продаж     93 non-null     float64\n",
            " 6   Комментариев     93 non-null     float64\n",
            " 7   Рейтинг          93 non-null     float64\n",
            "dtypes: float64(7), int64(1)\n",
            "memory usage: 6.5 KB\n"
          ]
        }
      ]
    },
    {
      "cell_type": "code",
      "source": [
        "data.isna().sum()"
      ],
      "metadata": {
        "colab": {
          "base_uri": "https://localhost:8080/"
        },
        "id": "K56m0ZeqK11z",
        "outputId": "07968dcc-b37c-4bc0-e9cc-60879db91768"
      },
      "execution_count": 15,
      "outputs": [
        {
          "output_type": "execute_result",
          "data": {
            "text/plain": [
              "Продажи            0\n",
              "Остаток            0\n",
              "Цена               0\n",
              "Скидка             0\n",
              "Цена со скидкой    0\n",
              "Сумма продаж       0\n",
              "Комментариев       0\n",
              "Рейтинг            0\n",
              "dtype: int64"
            ]
          },
          "metadata": {},
          "execution_count": 15
        }
      ]
    },
    {
      "cell_type": "code",
      "source": [
        "data"
      ],
      "metadata": {
        "colab": {
          "base_uri": "https://localhost:8080/",
          "height": 455
        },
        "id": "IVwyXcjNJUgG",
        "outputId": "bb6a70a4-2b06-4b89-9586-8159c28539a8"
      },
      "execution_count": 16,
      "outputs": [
        {
          "output_type": "execute_result",
          "data": {
            "text/plain": [
              "            Продажи  Остаток    Цена  Скидка  Цена со скидкой  Сумма продаж  \\\n",
              "Дата                                                                          \n",
              "2022-03-15        8    213.0  2442.0    74.0            634.0        5072.0   \n",
              "2022-03-16        4    209.0  2442.0    74.0            634.0        2536.0   \n",
              "2022-03-17        6    204.0  2442.0    74.0            634.0        3804.0   \n",
              "2022-03-18        2    203.0  2442.0    74.0            634.0        1268.0   \n",
              "2022-03-19        7    198.0  2442.0    74.0            634.0        4438.0   \n",
              "...             ...      ...     ...     ...              ...           ...   \n",
              "2022-06-11        3    416.0  2442.0    77.0            561.0        1683.0   \n",
              "2022-06-12        6    412.0  2442.0    77.0            561.0        3366.0   \n",
              "2022-06-13        3    413.0  2442.0    77.0            561.0        1683.0   \n",
              "2022-06-14        1    413.0  2442.0    77.0            561.0         561.0   \n",
              "2022-06-15        3    410.0  2442.0    77.0            561.0        1683.0   \n",
              "\n",
              "            Комментариев  Рейтинг  \n",
              "Дата                               \n",
              "2022-03-15         307.0      4.0  \n",
              "2022-03-16         307.0      4.0  \n",
              "2022-03-17         307.0      4.0  \n",
              "2022-03-18         307.0      4.0  \n",
              "2022-03-19         307.0      4.0  \n",
              "...                  ...      ...  \n",
              "2022-06-11         332.0      4.0  \n",
              "2022-06-12         332.0      4.0  \n",
              "2022-06-13         332.0      4.0  \n",
              "2022-06-14         332.0      4.0  \n",
              "2022-06-15         332.0      4.0  \n",
              "\n",
              "[93 rows x 8 columns]"
            ],
            "text/html": [
              "\n",
              "  <div id=\"df-b6fcd106-ca46-4785-8efd-bdc8fbeac68e\">\n",
              "    <div class=\"colab-df-container\">\n",
              "      <div>\n",
              "<style scoped>\n",
              "    .dataframe tbody tr th:only-of-type {\n",
              "        vertical-align: middle;\n",
              "    }\n",
              "\n",
              "    .dataframe tbody tr th {\n",
              "        vertical-align: top;\n",
              "    }\n",
              "\n",
              "    .dataframe thead th {\n",
              "        text-align: right;\n",
              "    }\n",
              "</style>\n",
              "<table border=\"1\" class=\"dataframe\">\n",
              "  <thead>\n",
              "    <tr style=\"text-align: right;\">\n",
              "      <th></th>\n",
              "      <th>Продажи</th>\n",
              "      <th>Остаток</th>\n",
              "      <th>Цена</th>\n",
              "      <th>Скидка</th>\n",
              "      <th>Цена со скидкой</th>\n",
              "      <th>Сумма продаж</th>\n",
              "      <th>Комментариев</th>\n",
              "      <th>Рейтинг</th>\n",
              "    </tr>\n",
              "    <tr>\n",
              "      <th>Дата</th>\n",
              "      <th></th>\n",
              "      <th></th>\n",
              "      <th></th>\n",
              "      <th></th>\n",
              "      <th></th>\n",
              "      <th></th>\n",
              "      <th></th>\n",
              "      <th></th>\n",
              "    </tr>\n",
              "  </thead>\n",
              "  <tbody>\n",
              "    <tr>\n",
              "      <th>2022-03-15</th>\n",
              "      <td>8</td>\n",
              "      <td>213.0</td>\n",
              "      <td>2442.0</td>\n",
              "      <td>74.0</td>\n",
              "      <td>634.0</td>\n",
              "      <td>5072.0</td>\n",
              "      <td>307.0</td>\n",
              "      <td>4.0</td>\n",
              "    </tr>\n",
              "    <tr>\n",
              "      <th>2022-03-16</th>\n",
              "      <td>4</td>\n",
              "      <td>209.0</td>\n",
              "      <td>2442.0</td>\n",
              "      <td>74.0</td>\n",
              "      <td>634.0</td>\n",
              "      <td>2536.0</td>\n",
              "      <td>307.0</td>\n",
              "      <td>4.0</td>\n",
              "    </tr>\n",
              "    <tr>\n",
              "      <th>2022-03-17</th>\n",
              "      <td>6</td>\n",
              "      <td>204.0</td>\n",
              "      <td>2442.0</td>\n",
              "      <td>74.0</td>\n",
              "      <td>634.0</td>\n",
              "      <td>3804.0</td>\n",
              "      <td>307.0</td>\n",
              "      <td>4.0</td>\n",
              "    </tr>\n",
              "    <tr>\n",
              "      <th>2022-03-18</th>\n",
              "      <td>2</td>\n",
              "      <td>203.0</td>\n",
              "      <td>2442.0</td>\n",
              "      <td>74.0</td>\n",
              "      <td>634.0</td>\n",
              "      <td>1268.0</td>\n",
              "      <td>307.0</td>\n",
              "      <td>4.0</td>\n",
              "    </tr>\n",
              "    <tr>\n",
              "      <th>2022-03-19</th>\n",
              "      <td>7</td>\n",
              "      <td>198.0</td>\n",
              "      <td>2442.0</td>\n",
              "      <td>74.0</td>\n",
              "      <td>634.0</td>\n",
              "      <td>4438.0</td>\n",
              "      <td>307.0</td>\n",
              "      <td>4.0</td>\n",
              "    </tr>\n",
              "    <tr>\n",
              "      <th>...</th>\n",
              "      <td>...</td>\n",
              "      <td>...</td>\n",
              "      <td>...</td>\n",
              "      <td>...</td>\n",
              "      <td>...</td>\n",
              "      <td>...</td>\n",
              "      <td>...</td>\n",
              "      <td>...</td>\n",
              "    </tr>\n",
              "    <tr>\n",
              "      <th>2022-06-11</th>\n",
              "      <td>3</td>\n",
              "      <td>416.0</td>\n",
              "      <td>2442.0</td>\n",
              "      <td>77.0</td>\n",
              "      <td>561.0</td>\n",
              "      <td>1683.0</td>\n",
              "      <td>332.0</td>\n",
              "      <td>4.0</td>\n",
              "    </tr>\n",
              "    <tr>\n",
              "      <th>2022-06-12</th>\n",
              "      <td>6</td>\n",
              "      <td>412.0</td>\n",
              "      <td>2442.0</td>\n",
              "      <td>77.0</td>\n",
              "      <td>561.0</td>\n",
              "      <td>3366.0</td>\n",
              "      <td>332.0</td>\n",
              "      <td>4.0</td>\n",
              "    </tr>\n",
              "    <tr>\n",
              "      <th>2022-06-13</th>\n",
              "      <td>3</td>\n",
              "      <td>413.0</td>\n",
              "      <td>2442.0</td>\n",
              "      <td>77.0</td>\n",
              "      <td>561.0</td>\n",
              "      <td>1683.0</td>\n",
              "      <td>332.0</td>\n",
              "      <td>4.0</td>\n",
              "    </tr>\n",
              "    <tr>\n",
              "      <th>2022-06-14</th>\n",
              "      <td>1</td>\n",
              "      <td>413.0</td>\n",
              "      <td>2442.0</td>\n",
              "      <td>77.0</td>\n",
              "      <td>561.0</td>\n",
              "      <td>561.0</td>\n",
              "      <td>332.0</td>\n",
              "      <td>4.0</td>\n",
              "    </tr>\n",
              "    <tr>\n",
              "      <th>2022-06-15</th>\n",
              "      <td>3</td>\n",
              "      <td>410.0</td>\n",
              "      <td>2442.0</td>\n",
              "      <td>77.0</td>\n",
              "      <td>561.0</td>\n",
              "      <td>1683.0</td>\n",
              "      <td>332.0</td>\n",
              "      <td>4.0</td>\n",
              "    </tr>\n",
              "  </tbody>\n",
              "</table>\n",
              "<p>93 rows × 8 columns</p>\n",
              "</div>\n",
              "      <button class=\"colab-df-convert\" onclick=\"convertToInteractive('df-b6fcd106-ca46-4785-8efd-bdc8fbeac68e')\"\n",
              "              title=\"Convert this dataframe to an interactive table.\"\n",
              "              style=\"display:none;\">\n",
              "        \n",
              "  <svg xmlns=\"http://www.w3.org/2000/svg\" height=\"24px\"viewBox=\"0 0 24 24\"\n",
              "       width=\"24px\">\n",
              "    <path d=\"M0 0h24v24H0V0z\" fill=\"none\"/>\n",
              "    <path d=\"M18.56 5.44l.94 2.06.94-2.06 2.06-.94-2.06-.94-.94-2.06-.94 2.06-2.06.94zm-11 1L8.5 8.5l.94-2.06 2.06-.94-2.06-.94L8.5 2.5l-.94 2.06-2.06.94zm10 10l.94 2.06.94-2.06 2.06-.94-2.06-.94-.94-2.06-.94 2.06-2.06.94z\"/><path d=\"M17.41 7.96l-1.37-1.37c-.4-.4-.92-.59-1.43-.59-.52 0-1.04.2-1.43.59L10.3 9.45l-7.72 7.72c-.78.78-.78 2.05 0 2.83L4 21.41c.39.39.9.59 1.41.59.51 0 1.02-.2 1.41-.59l7.78-7.78 2.81-2.81c.8-.78.8-2.07 0-2.86zM5.41 20L4 18.59l7.72-7.72 1.47 1.35L5.41 20z\"/>\n",
              "  </svg>\n",
              "      </button>\n",
              "      \n",
              "  <style>\n",
              "    .colab-df-container {\n",
              "      display:flex;\n",
              "      flex-wrap:wrap;\n",
              "      gap: 12px;\n",
              "    }\n",
              "\n",
              "    .colab-df-convert {\n",
              "      background-color: #E8F0FE;\n",
              "      border: none;\n",
              "      border-radius: 50%;\n",
              "      cursor: pointer;\n",
              "      display: none;\n",
              "      fill: #1967D2;\n",
              "      height: 32px;\n",
              "      padding: 0 0 0 0;\n",
              "      width: 32px;\n",
              "    }\n",
              "\n",
              "    .colab-df-convert:hover {\n",
              "      background-color: #E2EBFA;\n",
              "      box-shadow: 0px 1px 2px rgba(60, 64, 67, 0.3), 0px 1px 3px 1px rgba(60, 64, 67, 0.15);\n",
              "      fill: #174EA6;\n",
              "    }\n",
              "\n",
              "    [theme=dark] .colab-df-convert {\n",
              "      background-color: #3B4455;\n",
              "      fill: #D2E3FC;\n",
              "    }\n",
              "\n",
              "    [theme=dark] .colab-df-convert:hover {\n",
              "      background-color: #434B5C;\n",
              "      box-shadow: 0px 1px 3px 1px rgba(0, 0, 0, 0.15);\n",
              "      filter: drop-shadow(0px 1px 2px rgba(0, 0, 0, 0.3));\n",
              "      fill: #FFFFFF;\n",
              "    }\n",
              "  </style>\n",
              "\n",
              "      <script>\n",
              "        const buttonEl =\n",
              "          document.querySelector('#df-b6fcd106-ca46-4785-8efd-bdc8fbeac68e button.colab-df-convert');\n",
              "        buttonEl.style.display =\n",
              "          google.colab.kernel.accessAllowed ? 'block' : 'none';\n",
              "\n",
              "        async function convertToInteractive(key) {\n",
              "          const element = document.querySelector('#df-b6fcd106-ca46-4785-8efd-bdc8fbeac68e');\n",
              "          const dataTable =\n",
              "            await google.colab.kernel.invokeFunction('convertToInteractive',\n",
              "                                                     [key], {});\n",
              "          if (!dataTable) return;\n",
              "\n",
              "          const docLinkHtml = 'Like what you see? Visit the ' +\n",
              "            '<a target=\"_blank\" href=https://colab.research.google.com/notebooks/data_table.ipynb>data table notebook</a>'\n",
              "            + ' to learn more about interactive tables.';\n",
              "          element.innerHTML = '';\n",
              "          dataTable['output_type'] = 'display_data';\n",
              "          await google.colab.output.renderOutput(dataTable, element);\n",
              "          const docLink = document.createElement('div');\n",
              "          docLink.innerHTML = docLinkHtml;\n",
              "          element.appendChild(docLink);\n",
              "        }\n",
              "      </script>\n",
              "    </div>\n",
              "  </div>\n",
              "  "
            ]
          },
          "metadata": {},
          "execution_count": 16
        }
      ]
    },
    {
      "cell_type": "code",
      "source": [
        "data['Продажи'].plot(figsize=(15,5))"
      ],
      "metadata": {
        "colab": {
          "base_uri": "https://localhost:8080/",
          "height": 354
        },
        "id": "KZSA5gbMKAmC",
        "outputId": "730be77f-3532-43ab-c5fb-c24961c60d6f"
      },
      "execution_count": 17,
      "outputs": [
        {
          "output_type": "execute_result",
          "data": {
            "text/plain": [
              "<matplotlib.axes._subplots.AxesSubplot at 0x7f7ef22d3d10>"
            ]
          },
          "metadata": {},
          "execution_count": 17
        },
        {
          "output_type": "display_data",
          "data": {
            "text/plain": [
              "<Figure size 1080x360 with 1 Axes>"
            ],
            "image/png": "[encoded data removed]"
          },
          "metadata": {
            "needs_background": "light"
          }
        }
      ]
    },
    {
      "cell_type": "markdown",
      "source": [
        "Проведем сезонную декомпозицию."
      ],
      "metadata": {
        "id": "MWkKGDT154zm"
      }
    },
    {
      "cell_type": "code",
      "source": [
        "decomposed = seasonal_decompose(data['Продажи'])"
      ],
      "metadata": {
        "id": "X8YZQdy0-Tvf"
      },
      "execution_count": 18,
      "outputs": []
    },
    {
      "cell_type": "code",
      "source": [
        "plt.figure(figsize=(10, 10))\n",
        "\n",
        "plt.subplot(311)\n",
        "decomposed.trend.plot(ax=plt.gca())\n",
        "plt.title('Тренд')\n",
        "\n",
        "plt.subplot(312)\n",
        "decomposed.seasonal.plot(ax=plt.gca()) \n",
        "plt.title('Сезонная составляющая')\n",
        "\n",
        "plt.subplot(313)\n",
        "decomposed.resid.plot(ax=plt.gca()) \n",
        "plt.title('Остаток декомпозиции')\n",
        "\n",
        "plt.tight_layout()"
      ],
      "metadata": {
        "colab": {
          "base_uri": "https://localhost:8080/",
          "height": 729
        },
        "id": "xwy5f0y0AW_b",
        "outputId": "a0835ee1-af45-43e4-e755-fe31ae15dda0"
      },
      "execution_count": 19,
      "outputs": [
        {
          "output_type": "display_data",
          "data": {
            "text/plain": [
              "<Figure size 720x720 with 3 Axes>"
            ],
            "image/png": "[encoded data removed]"
          },
          "metadata": {
            "needs_background": "light"
          }
        }
      ]
    },
    {
      "cell_type": "code",
      "source": [
        "decomposed.seasonal['2022-03-15':'2022-04-15'].plot(figsize=(15, 4)) "
      ],
      "metadata": {
        "colab": {
          "base_uri": "https://localhost:8080/",
          "height": 323
        },
        "id": "M9oRyrqRW7Jz",
        "outputId": "a0e87b93-2bef-4dc3-90e2-4b912dda7834"
      },
      "execution_count": 20,
      "outputs": [
        {
          "output_type": "execute_result",
          "data": {
            "text/plain": [
              "<matplotlib.axes._subplots.AxesSubplot at 0x7f7ef1c4ea90>"
            ]
          },
          "metadata": {},
          "execution_count": 20
        },
        {
          "output_type": "display_data",
          "data": {
            "text/plain": [
              "<Figure size 1080x288 with 1 Axes>"
            ],
            "image/png": "[encoded data removed]"
          },
          "metadata": {
            "needs_background": "light"
          }
        }
      ]
    },
    {
      "cell_type": "markdown",
      "source": [
        "Создадим новые признаки для пострения моделей машинного обучения: календарные (месяц, день, день недели), отстающие значения (до 7 дней), скользящее среднее."
      ],
      "metadata": {
        "id": "-PgsMMzfYHiO"
      }
    },
    {
      "cell_type": "code",
      "source": [
        "def make_features_new(data, max_lag, rolling_mean_size): # создание признаков\n",
        "\n",
        "    data_features = deepcopy(data)\n",
        "\n",
        "    data_features['month'] = data_features.index.month\n",
        "    data_features['day'] = data_features.index.day\n",
        "    data_features['dayofweek'] = data_features.index.dayofweek\n",
        "    \n",
        "    for lag in range(1, max_lag + 1):\n",
        "        data_features['lag_' + str(lag)] = data_features['Продажи'].shift(lag)\n",
        "\n",
        "    data_features['rolling_mean'] = data_features['Продажи'].shift().rolling(rolling_mean_size).mean()\n",
        "    \n",
        "    return data_features"
      ],
      "metadata": {
        "id": "2P-nhPIDXSqu"
      },
      "execution_count": 21,
      "outputs": []
    },
    {
      "cell_type": "code",
      "source": [
        "data_features = make_features_new(data, 7, 3)"
      ],
      "metadata": {
        "id": "jZui1850Ynmo"
      },
      "execution_count": 22,
      "outputs": []
    },
    {
      "cell_type": "code",
      "source": [
        "data_features.columns"
      ],
      "metadata": {
        "colab": {
          "base_uri": "https://localhost:8080/"
        },
        "id": "Lsj9-CDNZTJI",
        "outputId": "b3e38ced-5b4b-45ea-b044-32cdae0474e0"
      },
      "execution_count": 23,
      "outputs": [
        {
          "output_type": "execute_result",
          "data": {
            "text/plain": [
              "Index(['Продажи', 'Остаток', 'Цена', 'Скидка', 'Цена со скидкой',\n",
              "       'Сумма продаж', 'Комментариев', 'Рейтинг', 'month', 'day', 'dayofweek',\n",
              "       'lag_1', 'lag_2', 'lag_3', 'lag_4', 'lag_5', 'lag_6', 'lag_7',\n",
              "       'rolling_mean'],\n",
              "      dtype='object')"
            ]
          },
          "metadata": {},
          "execution_count": 23
        }
      ]
    },
    {
      "cell_type": "code",
      "source": [
        "data_features[['Продажи','lag_1', 'lag_2', 'lag_3', 'lag_4', 'lag_5', 'lag_6', 'lag_7',\n",
        "       'rolling_mean']].head(10)"
      ],
      "metadata": {
        "colab": {
          "base_uri": "https://localhost:8080/",
          "height": 395
        },
        "id": "-pdmutJiY58D",
        "outputId": "3f9a2482-f169-4232-8335-31b3da635259"
      },
      "execution_count": 24,
      "outputs": [
        {
          "output_type": "execute_result",
          "data": {
            "text/plain": [
              "            Продажи  lag_1  lag_2  lag_3  lag_4  lag_5  lag_6  lag_7  \\\n",
              "Дата                                                                   \n",
              "2022-03-15        8    NaN    NaN    NaN    NaN    NaN    NaN    NaN   \n",
              "2022-03-16        4    8.0    NaN    NaN    NaN    NaN    NaN    NaN   \n",
              "2022-03-17        6    4.0    8.0    NaN    NaN    NaN    NaN    NaN   \n",
              "2022-03-18        2    6.0    4.0    8.0    NaN    NaN    NaN    NaN   \n",
              "2022-03-19        7    2.0    6.0    4.0    8.0    NaN    NaN    NaN   \n",
              "2022-03-20        5    7.0    2.0    6.0    4.0    8.0    NaN    NaN   \n",
              "2022-03-21        7    5.0    7.0    2.0    6.0    4.0    8.0    NaN   \n",
              "2022-03-22       10    7.0    5.0    7.0    2.0    6.0    4.0    8.0   \n",
              "2022-03-23        5   10.0    7.0    5.0    7.0    2.0    6.0    4.0   \n",
              "2022-03-24        6    5.0   10.0    7.0    5.0    7.0    2.0    6.0   \n",
              "\n",
              "            rolling_mean  \n",
              "Дата                      \n",
              "2022-03-15           NaN  \n",
              "2022-03-16           NaN  \n",
              "2022-03-17           NaN  \n",
              "2022-03-18      6.000000  \n",
              "2022-03-19      4.000000  \n",
              "2022-03-20      5.000000  \n",
              "2022-03-21      4.666667  \n",
              "2022-03-22      6.333333  \n",
              "2022-03-23      7.333333  \n",
              "2022-03-24      7.333333  "
            ],
            "text/html": [
              "\n",
              "  <div id=\"df-bebb2c9f-77d1-446c-95f9-cc9dbe725bd3\">\n",
              "    <div class=\"colab-df-container\">\n",
              "      <div>\n",
              "<style scoped>\n",
              "    .dataframe tbody tr th:only-of-type {\n",
              "        vertical-align: middle;\n",
              "    }\n",
              "\n",
              "    .dataframe tbody tr th {\n",
              "        vertical-align: top;\n",
              "    }\n",
              "\n",
              "    .dataframe thead th {\n",
              "        text-align: right;\n",
              "    }\n",
              "</style>\n",
              "<table border=\"1\" class=\"dataframe\">\n",
              "  <thead>\n",
              "    <tr style=\"text-align: right;\">\n",
              "      <th></th>\n",
              "      <th>Продажи</th>\n",
              "      <th>lag_1</th>\n",
              "      <th>lag_2</th>\n",
              "      <th>lag_3</th>\n",
              "      <th>lag_4</th>\n",
              "      <th>lag_5</th>\n",
              "      <th>lag_6</th>\n",
              "      <th>lag_7</th>\n",
              "      <th>rolling_mean</th>\n",
              "    </tr>\n",
              "    <tr>\n",
              "      <th>Дата</th>\n",
              "      <th></th>\n",
              "      <th></th>\n",
              "      <th></th>\n",
              "      <th></th>\n",
              "      <th></th>\n",
              "      <th></th>\n",
              "      <th></th>\n",
              "      <th></th>\n",
              "      <th></th>\n",
              "    </tr>\n",
              "  </thead>\n",
              "  <tbody>\n",
              "    <tr>\n",
              "      <th>2022-03-15</th>\n",
              "      <td>8</td>\n",
              "      <td>NaN</td>\n",
              "      <td>NaN</td>\n",
              "      <td>NaN</td>\n",
              "      <td>NaN</td>\n",
              "      <td>NaN</td>\n",
              "      <td>NaN</td>\n",
              "      <td>NaN</td>\n",
              "      <td>NaN</td>\n",
              "    </tr>\n",
              "    <tr>\n",
              "      <th>2022-03-16</th>\n",
              "      <td>4</td>\n",
              "      <td>8.0</td>\n",
              "      <td>NaN</td>\n",
              "      <td>NaN</td>\n",
              "      <td>NaN</td>\n",
              "      <td>NaN</td>\n",
              "      <td>NaN</td>\n",
              "      <td>NaN</td>\n",
              "      <td>NaN</td>\n",
              "    </tr>\n",
              "    <tr>\n",
              "      <th>2022-03-17</th>\n",
              "      <td>6</td>\n",
              "      <td>4.0</td>\n",
              "      <td>8.0</td>\n",
              "      <td>NaN</td>\n",
              "      <td>NaN</td>\n",
              "      <td>NaN</td>\n",
              "      <td>NaN</td>\n",
              "      <td>NaN</td>\n",
              "      <td>NaN</td>\n",
              "    </tr>\n",
              "    <tr>\n",
              "      <th>2022-03-18</th>\n",
              "      <td>2</td>\n",
              "      <td>6.0</td>\n",
              "      <td>4.0</td>\n",
              "      <td>8.0</td>\n",
              "      <td>NaN</td>\n",
              "      <td>NaN</td>\n",
              "      <td>NaN</td>\n",
              "      <td>NaN</td>\n",
              "      <td>6.000000</td>\n",
              "    </tr>\n",
              "    <tr>\n",
              "      <th>2022-03-19</th>\n",
              "      <td>7</td>\n",
              "      <td>2.0</td>\n",
              "      <td>6.0</td>\n",
              "      <td>4.0</td>\n",
              "      <td>8.0</td>\n",
              "      <td>NaN</td>\n",
              "      <td>NaN</td>\n",
              "      <td>NaN</td>\n",
              "      <td>4.000000</td>\n",
              "    </tr>\n",
              "    <tr>\n",
              "      <th>2022-03-20</th>\n",
              "      <td>5</td>\n",
              "      <td>7.0</td>\n",
              "      <td>2.0</td>\n",
              "      <td>6.0</td>\n",
              "      <td>4.0</td>\n",
              "      <td>8.0</td>\n",
              "      <td>NaN</td>\n",
              "      <td>NaN</td>\n",
              "      <td>5.000000</td>\n",
              "    </tr>\n",
              "    <tr>\n",
              "      <th>2022-03-21</th>\n",
              "      <td>7</td>\n",
              "      <td>5.0</td>\n",
              "      <td>7.0</td>\n",
              "      <td>2.0</td>\n",
              "      <td>6.0</td>\n",
              "      <td>4.0</td>\n",
              "      <td>8.0</td>\n",
              "      <td>NaN</td>\n",
              "      <td>4.666667</td>\n",
              "    </tr>\n",
              "    <tr>\n",
              "      <th>2022-03-22</th>\n",
              "      <td>10</td>\n",
              "      <td>7.0</td>\n",
              "      <td>5.0</td>\n",
              "      <td>7.0</td>\n",
              "      <td>2.0</td>\n",
              "      <td>6.0</td>\n",
              "      <td>4.0</td>\n",
              "      <td>8.0</td>\n",
              "      <td>6.333333</td>\n",
              "    </tr>\n",
              "    <tr>\n",
              "      <th>2022-03-23</th>\n",
              "      <td>5</td>\n",
              "      <td>10.0</td>\n",
              "      <td>7.0</td>\n",
              "      <td>5.0</td>\n",
              "      <td>7.0</td>\n",
              "      <td>2.0</td>\n",
              "      <td>6.0</td>\n",
              "      <td>4.0</td>\n",
              "      <td>7.333333</td>\n",
              "    </tr>\n",
              "    <tr>\n",
              "      <th>2022-03-24</th>\n",
              "      <td>6</td>\n",
              "      <td>5.0</td>\n",
              "      <td>10.0</td>\n",
              "      <td>7.0</td>\n",
              "      <td>5.0</td>\n",
              "      <td>7.0</td>\n",
              "      <td>2.0</td>\n",
              "      <td>6.0</td>\n",
              "      <td>7.333333</td>\n",
              "    </tr>\n",
              "  </tbody>\n",
              "</table>\n",
              "</div>\n",
              "      <button class=\"colab-df-convert\" onclick=\"convertToInteractive('df-bebb2c9f-77d1-446c-95f9-cc9dbe725bd3')\"\n",
              "              title=\"Convert this dataframe to an interactive table.\"\n",
              "              style=\"display:none;\">\n",
              "        \n",
              "  <svg xmlns=\"http://www.w3.org/2000/svg\" height=\"24px\"viewBox=\"0 0 24 24\"\n",
              "       width=\"24px\">\n",
              "    <path d=\"M0 0h24v24H0V0z\" fill=\"none\"/>\n",
              "    <path d=\"M18.56 5.44l.94 2.06.94-2.06 2.06-.94-2.06-.94-.94-2.06-.94 2.06-2.06.94zm-11 1L8.5 8.5l.94-2.06 2.06-.94-2.06-.94L8.5 2.5l-.94 2.06-2.06.94zm10 10l.94 2.06.94-2.06 2.06-.94-2.06-.94-.94-2.06-.94 2.06-2.06.94z\"/><path d=\"M17.41 7.96l-1.37-1.37c-.4-.4-.92-.59-1.43-.59-.52 0-1.04.2-1.43.59L10.3 9.45l-7.72 7.72c-.78.78-.78 2.05 0 2.83L4 21.41c.39.39.9.59 1.41.59.51 0 1.02-.2 1.41-.59l7.78-7.78 2.81-2.81c.8-.78.8-2.07 0-2.86zM5.41 20L4 18.59l7.72-7.72 1.47 1.35L5.41 20z\"/>\n",
              "  </svg>\n",
              "      </button>\n",
              "      \n",
              "  <style>\n",
              "    .colab-df-container {\n",
              "      display:flex;\n",
              "      flex-wrap:wrap;\n",
              "      gap: 12px;\n",
              "    }\n",
              "\n",
              "    .colab-df-convert {\n",
              "      background-color: #E8F0FE;\n",
              "      border: none;\n",
              "      border-radius: 50%;\n",
              "      cursor: pointer;\n",
              "      display: none;\n",
              "      fill: #1967D2;\n",
              "      height: 32px;\n",
              "      padding: 0 0 0 0;\n",
              "      width: 32px;\n",
              "    }\n",
              "\n",
              "    .colab-df-convert:hover {\n",
              "      background-color: #E2EBFA;\n",
              "      box-shadow: 0px 1px 2px rgba(60, 64, 67, 0.3), 0px 1px 3px 1px rgba(60, 64, 67, 0.15);\n",
              "      fill: #174EA6;\n",
              "    }\n",
              "\n",
              "    [theme=dark] .colab-df-convert {\n",
              "      background-color: #3B4455;\n",
              "      fill: #D2E3FC;\n",
              "    }\n",
              "\n",
              "    [theme=dark] .colab-df-convert:hover {\n",
              "      background-color: #434B5C;\n",
              "      box-shadow: 0px 1px 3px 1px rgba(0, 0, 0, 0.15);\n",
              "      filter: drop-shadow(0px 1px 2px rgba(0, 0, 0, 0.3));\n",
              "      fill: #FFFFFF;\n",
              "    }\n",
              "  </style>\n",
              "\n",
              "      <script>\n",
              "        const buttonEl =\n",
              "          document.querySelector('#df-bebb2c9f-77d1-446c-95f9-cc9dbe725bd3 button.colab-df-convert');\n",
              "        buttonEl.style.display =\n",
              "          google.colab.kernel.accessAllowed ? 'block' : 'none';\n",
              "\n",
              "        async function convertToInteractive(key) {\n",
              "          const element = document.querySelector('#df-bebb2c9f-77d1-446c-95f9-cc9dbe725bd3');\n",
              "          const dataTable =\n",
              "            await google.colab.kernel.invokeFunction('convertToInteractive',\n",
              "                                                     [key], {});\n",
              "          if (!dataTable) return;\n",
              "\n",
              "          const docLinkHtml = 'Like what you see? Visit the ' +\n",
              "            '<a target=\"_blank\" href=https://colab.research.google.com/notebooks/data_table.ipynb>data table notebook</a>'\n",
              "            + ' to learn more about interactive tables.';\n",
              "          element.innerHTML = '';\n",
              "          dataTable['output_type'] = 'display_data';\n",
              "          await google.colab.output.renderOutput(dataTable, element);\n",
              "          const docLink = document.createElement('div');\n",
              "          docLink.innerHTML = docLinkHtml;\n",
              "          element.appendChild(docLink);\n",
              "        }\n",
              "      </script>\n",
              "    </div>\n",
              "  </div>\n",
              "  "
            ]
          },
          "metadata": {},
          "execution_count": 24
        }
      ]
    },
    {
      "cell_type": "code",
      "source": [
        "data_features = data_features.dropna()"
      ],
      "metadata": {
        "id": "chA6sEQMZxZs"
      },
      "execution_count": 25,
      "outputs": []
    },
    {
      "cell_type": "markdown",
      "source": [
        "----------"
      ],
      "metadata": {
        "id": "pM1vaB0L6BhC"
      }
    },
    {
      "cell_type": "code",
      "source": [
        ""
      ],
      "metadata": {
        "id": "w5wAg33E6Cxh"
      },
      "execution_count": 25,
      "outputs": []
    },
    {
      "cell_type": "markdown",
      "source": [
        "-------"
      ],
      "metadata": {
        "id": "DRoY_gJ36ANz"
      }
    },
    {
      "cell_type": "markdown",
      "source": [
        "Обучение\n",
        "\n",
        "Разделим исходные данные на обучающую, валидационную и тестовую выборки. Делим в отношении 8 : 1 : 1."
      ],
      "metadata": {
        "id": "_9acoDc5aVny"
      }
    },
    {
      "cell_type": "code",
      "source": [
        "features = data_features.drop(['Продажи'], axis=1) # признаки\n",
        "target = data_features['Продажи'] # целевой признак"
      ],
      "metadata": {
        "id": "LzDi6yuHaRZc"
      },
      "execution_count": 26,
      "outputs": []
    },
    {
      "cell_type": "code",
      "source": [
        "features.shape, target.shape"
      ],
      "metadata": {
        "colab": {
          "base_uri": "https://localhost:8080/"
        },
        "id": "BlhsVZjpadHJ",
        "outputId": "ef0bb1ae-9dc0-49b4-e926-75807cb65437"
      },
      "execution_count": 27,
      "outputs": [
        {
          "output_type": "execute_result",
          "data": {
            "text/plain": [
              "((86, 18), (86,))"
            ]
          },
          "metadata": {},
          "execution_count": 27
        }
      ]
    },
    {
      "cell_type": "code",
      "source": [
        "# отделим 10% данных для тестовой выборки, данные не перемешиваем\n",
        "features_train_valid, features_test, target_train_valid, target_test = train_test_split(\n",
        "    features, target, test_size=0.1, shuffle=False) "
      ],
      "metadata": {
        "id": "wMLvYgIAafIL"
      },
      "execution_count": 28,
      "outputs": []
    },
    {
      "cell_type": "code",
      "source": [
        "# отделим 10% данных для валидационной выборки, данные не перемешиваем\n",
        "features_train, features_valid, target_train, target_valid = train_test_split(\n",
        "    features_train_valid, target_train_valid, test_size=0.111, shuffle=False) "
      ],
      "metadata": {
        "id": "UJ4YfGVNakFH"
      },
      "execution_count": 29,
      "outputs": []
    },
    {
      "cell_type": "markdown",
      "source": [
        "----------"
      ],
      "metadata": {
        "id": "2c2-8DNbeBGo"
      }
    },
    {
      "cell_type": "code",
      "source": [
        "tscv = TimeSeriesSplit() # cv для cross_val_score и GridSearchCV для временных рядов"
      ],
      "metadata": {
        "id": "DhRZ_bnDbN_R"
      },
      "execution_count": 30,
      "outputs": []
    },
    {
      "cell_type": "code",
      "source": [
        "def RMSE(target, predictions): # функция для вычисления RMSE\n",
        "    return (mean_squared_error(target, predictions) ** 0.5)"
      ],
      "metadata": {
        "id": "UBj76FUgd7KK"
      },
      "execution_count": 31,
      "outputs": []
    },
    {
      "cell_type": "code",
      "source": [
        "scoring = make_scorer(RMSE, greater_is_better=False) # scoring=scoring для cross_val_score"
      ],
      "metadata": {
        "id": "9KIOOV8kd7BV"
      },
      "execution_count": 32,
      "outputs": []
    },
    {
      "cell_type": "code",
      "source": [
        "df = [] # таблица с результатами\n",
        "col_data = ['model', 'type_data', 'RMSE']"
      ],
      "metadata": {
        "id": "Ptfy1RFYd6xb"
      },
      "execution_count": 33,
      "outputs": []
    },
    {
      "cell_type": "code",
      "source": [
        "def predict_result(model, features, target, type_data, name_model): # функция метрики на предсказании\n",
        "\n",
        "    predictions = model.predict(features) # получим предсказания модели \n",
        "    \n",
        "    result = RMSE(target, predictions) # значение метрики RMSE \n",
        "    \n",
        "#    print(\"RMSE \", name_model, \":\", result)\n",
        "    \n",
        "    df.append([name_model, type_data, result])"
      ],
      "metadata": {
        "id": "5y14Z7h9eJ2S"
      },
      "execution_count": 34,
      "outputs": []
    },
    {
      "cell_type": "code",
      "source": [
        "def plot_test_prediction_result(model, features, target, type_data,  name_model): # тестирование и визуализация\n",
        "\n",
        "    predictions = model.predict(features) # получим предсказания модели \n",
        "    \n",
        "    result = RMSE(target, predictions) # значение метрики RMSE \n",
        "    \n",
        "    print(\"RMSE \", name_model, \":\", result)\n",
        "    \n",
        "    df.append([name_model, type_data, result])   \n",
        "\n",
        "    pred = pd.DataFrame(data=predictions, index = target.index)\n",
        "  \n",
        "    plt.figure(figsize=(12,6))\n",
        "    plt.plot(target, color='green', label='test')\n",
        "    plt.plot(pred, color='red', label='predictions')\n",
        "    plt.title(name_model)\n",
        "    #plt.xlabel('Date')\n",
        "    #plt.ylabel('')\n",
        "    plt.legend()\n",
        "    plt.show()"
      ],
      "metadata": {
        "id": "edxFGYAJeJpp"
      },
      "execution_count": 35,
      "outputs": []
    },
    {
      "cell_type": "markdown",
      "source": [
        "--------------"
      ],
      "metadata": {
        "id": "wdoIKbmwgUBt"
      }
    },
    {
      "cell_type": "markdown",
      "source": [
        "CatBoostRegressor"
      ],
      "metadata": {
        "id": "oSinzO_MbJUr"
      }
    },
    {
      "cell_type": "code",
      "source": [
        "parameters_CBR = {'loss_function': 'RMSE', # значение по умолчанию\n",
        "                  'iterations': 1000, # значение по умолчанию\n",
        "                  'random_state': 12345,\n",
        "                  'verbose': 500}\n",
        "\n",
        "model_CBR = CatBoostRegressor(**parameters_CBR)\n",
        "\n",
        "grid = {'learning_rate': [0.01],\n",
        "        'depth': [4, 6]}\n",
        "\n",
        "grid_search_result = model_CBR.grid_search(grid, \n",
        "                                           X=features_train, \n",
        "                                           y=target_train, cv=tscv)"
      ],
      "metadata": {
        "colab": {
          "base_uri": "https://localhost:8080/"
        },
        "id": "FWQEy9FFaxBt",
        "outputId": "ac61de4a-dd7c-4c13-ae07-c2b0f0c7f2fe"
      },
      "execution_count": 36,
      "outputs": [
        {
          "output_type": "stream",
          "name": "stdout",
          "text": [
            "0:\tlearn: 8.5878454\ttest: 3.3704082\tbest: 3.3704082 (0)\ttotal: 46.8ms\tremaining: 46.7s\n",
            "500:\tlearn: 0.9231907\ttest: 1.8041629\tbest: 1.8041629 (500)\ttotal: 227ms\tremaining: 226ms\n",
            "999:\tlearn: 0.3264455\ttest: 1.4321683\tbest: 1.4321323 (998)\ttotal: 428ms\tremaining: 0us\n",
            "\n",
            "bestTest = 1.432132324\n",
            "bestIteration = 998\n",
            "\n",
            "0:\tloss: 1.4321323\tbest: 1.4321323 (0)\ttotal: 460ms\tremaining: 460ms\n",
            "0:\tlearn: 8.5952972\ttest: 3.4112233\tbest: 3.4112233 (0)\ttotal: 1.36ms\tremaining: 1.36s\n",
            "500:\tlearn: 0.9540261\ttest: 1.7391027\tbest: 1.7391027 (500)\ttotal: 353ms\tremaining: 351ms\n",
            "999:\tlearn: 0.2593245\ttest: 1.5404866\tbest: 1.5403899 (998)\ttotal: 752ms\tremaining: 0us\n",
            "\n",
            "bestTest = 1.540389882\n",
            "bestIteration = 998\n",
            "\n",
            "1:\tloss: 1.5403899\tbest: 1.4321323 (0)\ttotal: 1.24s\tremaining: 0us\n",
            "Estimating final quality...\n",
            "Training on fold [0/5]\n",
            "0:\tlearn: 8.4150566\ttest: 9.7936098\tbest: 9.7936098 (0)\ttotal: 320us\tremaining: 320ms\n",
            "500:\tlearn: 1.3084952\ttest: 4.9340913\tbest: 4.9340913 (500)\ttotal: 345ms\tremaining: 344ms\n",
            "999:\tlearn: 0.3570851\ttest: 4.2174364\tbest: 4.2174364 (999)\ttotal: 646ms\tremaining: 0us\n",
            "\n",
            "bestTest = 4.217436401\n",
            "bestIteration = 999\n",
            "\n",
            "Training on fold [1/5]\n",
            "0:\tlearn: 9.0742306\ttest: 8.5147475\tbest: 8.5147475 (0)\ttotal: 991us\tremaining: 990ms\n",
            "500:\tlearn: 0.9942065\ttest: 4.0480082\tbest: 4.0480082 (500)\ttotal: 319ms\tremaining: 318ms\n",
            "999:\tlearn: 0.2098113\ttest: 3.3251986\tbest: 3.3251986 (999)\ttotal: 644ms\tremaining: 0us\n",
            "\n",
            "bestTest = 3.325198555\n",
            "bestIteration = 999\n",
            "\n",
            "Training on fold [2/5]\n",
            "0:\tlearn: 8.8920909\ttest: 8.8703645\tbest: 8.8703645 (0)\ttotal: 478us\tremaining: 478ms\n",
            "500:\tlearn: 1.0671454\ttest: 3.1797355\tbest: 3.1797355 (500)\ttotal: 453ms\tremaining: 451ms\n",
            "999:\tlearn: 0.3340217\ttest: 2.8505557\tbest: 2.8505557 (999)\ttotal: 855ms\tremaining: 0us\n",
            "\n",
            "bestTest = 2.8505557\n",
            "bestIteration = 999\n",
            "\n",
            "Training on fold [3/5]\n",
            "0:\tlearn: 8.8831963\ttest: 5.9592263\tbest: 5.9592263 (0)\ttotal: 1.06ms\tremaining: 1.06s\n",
            "500:\tlearn: 0.9738291\ttest: 1.8508004\tbest: 1.8506521 (499)\ttotal: 416ms\tremaining: 414ms\n",
            "999:\tlearn: 0.3267148\ttest: 1.6169485\tbest: 1.6169485 (999)\ttotal: 918ms\tremaining: 0us\n",
            "\n",
            "bestTest = 1.616948469\n",
            "bestIteration = 999\n",
            "\n",
            "Training on fold [4/5]\n",
            "0:\tlearn: 8.3986311\ttest: 3.3013654\tbest: 3.3013654 (0)\ttotal: 1.13ms\tremaining: 1.13s\n",
            "500:\tlearn: 0.8900871\ttest: 1.2792672\tbest: 1.2792672 (500)\ttotal: 578ms\tremaining: 575ms\n",
            "999:\tlearn: 0.3415817\ttest: 0.7690964\tbest: 0.7690964 (999)\ttotal: 1.01s\tremaining: 0us\n",
            "\n",
            "bestTest = 0.769096359\n",
            "bestIteration = 999\n",
            "\n"
          ]
        }
      ]
    },
    {
      "cell_type": "code",
      "source": [
        "model_CBR.fit(features_train, target_train)"
      ],
      "metadata": {
        "colab": {
          "base_uri": "https://localhost:8080/"
        },
        "id": "sudUi1PKawjm",
        "outputId": "f38b402d-8f28-4e45-91c7-6fe8671340d3"
      },
      "execution_count": 37,
      "outputs": [
        {
          "output_type": "stream",
          "name": "stdout",
          "text": [
            "0:\tlearn: 4.0300364\ttotal: 773us\tremaining: 773ms\n",
            "500:\tlearn: 0.6540033\ttotal: 490ms\tremaining: 488ms\n",
            "999:\tlearn: 0.2566428\ttotal: 948ms\tremaining: 0us\n"
          ]
        },
        {
          "output_type": "execute_result",
          "data": {
            "text/plain": [
              "<catboost.core.CatBoostRegressor at 0x7f7eedad4610>"
            ]
          },
          "metadata": {},
          "execution_count": 37
        }
      ]
    },
    {
      "cell_type": "code",
      "source": [
        " model_CBR.best_score_['learn']['RMSE']"
      ],
      "metadata": {
        "colab": {
          "base_uri": "https://localhost:8080/"
        },
        "id": "FRBvftLFfHJ8",
        "outputId": "d213d381-7e2b-4ade-d5d5-38829997f784"
      },
      "execution_count": 38,
      "outputs": [
        {
          "output_type": "execute_result",
          "data": {
            "text/plain": [
              "0.2566427785580091"
            ]
          },
          "metadata": {},
          "execution_count": 38
        }
      ]
    },
    {
      "cell_type": "code",
      "source": [
        "df.append(['CatBoostRegressor', 'train', model_CBR.best_score_['learn']['RMSE']])"
      ],
      "metadata": {
        "id": "b2EsfXT6cBnZ"
      },
      "execution_count": 39,
      "outputs": []
    },
    {
      "cell_type": "markdown",
      "source": [
        "-------"
      ],
      "metadata": {
        "id": "UxJsaxG6euEB"
      }
    },
    {
      "cell_type": "markdown",
      "source": [
        "XGBRegressor"
      ],
      "metadata": {
        "id": "zWXuSRDvemge"
      }
    },
    {
      "cell_type": "code",
      "source": [
        "params = { #'eval_metric': \"rmse\"\n",
        "          'max_depth': [6, 8], # 5, 6, 10, 15, 20],\n",
        "          'learning_rate': [0.3], # 0.1, 0.2, 0.3],\n",
        "           #'subsample': 0.8,\n",
        "     #      'colsample_bytree': np.arange(0.4, 1.0, 0.1),\n",
        "     #      'colsample_bylevel': np.arange(0.4, 1.0, 0.1),\n",
        "          'n_estimators': [100]\n",
        "}"
      ],
      "metadata": {
        "id": "b23cWmOPetZ5"
      },
      "execution_count": 40,
      "outputs": []
    },
    {
      "cell_type": "code",
      "source": [
        "model_ = XGBRegressor()"
      ],
      "metadata": {
        "id": "LDuq0v_Vev2z"
      },
      "execution_count": 41,
      "outputs": []
    },
    {
      "cell_type": "code",
      "source": [
        "model_XGBR = GridSearchCV(model_, params, cv=tscv, scoring=scoring, verbose=1)"
      ],
      "metadata": {
        "id": "HuHcekxbev0G"
      },
      "execution_count": 42,
      "outputs": []
    },
    {
      "cell_type": "code",
      "source": [
        "model_XGBR.fit(features_train, target_train)"
      ],
      "metadata": {
        "colab": {
          "base_uri": "https://localhost:8080/"
        },
        "id": "LAziovgNevxA",
        "outputId": "465e39e2-25f6-4b4a-8500-de385bc63bcd"
      },
      "execution_count": 43,
      "outputs": [
        {
          "output_type": "stream",
          "name": "stdout",
          "text": [
            "Fitting 5 folds for each of 2 candidates, totalling 10 fits\n",
            "[09:51:02] WARNING: /workspace/src/objective/regression_obj.cu:152: reg:linear is now deprecated in favor of reg:squarederror.\n",
            "[09:51:02] WARNING: /workspace/src/objective/regression_obj.cu:152: reg:linear is now deprecated in favor of reg:squarederror.\n",
            "[09:51:02] WARNING: /workspace/src/objective/regression_obj.cu:152: reg:linear is now deprecated in favor of reg:squarederror.\n",
            "[09:51:02] WARNING: /workspace/src/objective/regression_obj.cu:152: reg:linear is now deprecated in favor of reg:squarederror.\n",
            "[09:51:02] WARNING: /workspace/src/objective/regression_obj.cu:152: reg:linear is now deprecated in favor of reg:squarederror.\n",
            "[09:51:02] WARNING: /workspace/src/objective/regression_obj.cu:152: reg:linear is now deprecated in favor of reg:squarederror.\n",
            "[09:51:02] WARNING: /workspace/src/objective/regression_obj.cu:152: reg:linear is now deprecated in favor of reg:squarederror.\n",
            "[09:51:02] WARNING: /workspace/src/objective/regression_obj.cu:152: reg:linear is now deprecated in favor of reg:squarederror.\n",
            "[09:51:02] WARNING: /workspace/src/objective/regression_obj.cu:152: reg:linear is now deprecated in favor of reg:squarederror.\n",
            "[09:51:02] WARNING: /workspace/src/objective/regression_obj.cu:152: reg:linear is now deprecated in favor of reg:squarederror.\n",
            "[09:51:02] WARNING: /workspace/src/objective/regression_obj.cu:152: reg:linear is now deprecated in favor of reg:squarederror.\n"
          ]
        },
        {
          "output_type": "execute_result",
          "data": {
            "text/plain": [
              "GridSearchCV(cv=TimeSeriesSplit(gap=0, max_train_size=None, n_splits=5, test_size=None),\n",
              "             estimator=XGBRegressor(),\n",
              "             param_grid={'learning_rate': [0.3], 'max_depth': [6, 8],\n",
              "                         'n_estimators': [100]},\n",
              "             scoring=make_scorer(RMSE, greater_is_better=False), verbose=1)"
            ]
          },
          "metadata": {},
          "execution_count": 43
        }
      ]
    },
    {
      "cell_type": "code",
      "source": [
        "model_XGBR.best_params_"
      ],
      "metadata": {
        "colab": {
          "base_uri": "https://localhost:8080/"
        },
        "id": "tcsw121MevuP",
        "outputId": "8c5801df-989b-47cb-dd96-7b925043d4b8"
      },
      "execution_count": 44,
      "outputs": [
        {
          "output_type": "execute_result",
          "data": {
            "text/plain": [
              "{'learning_rate': 0.3, 'max_depth': 6, 'n_estimators': 100}"
            ]
          },
          "metadata": {},
          "execution_count": 44
        }
      ]
    },
    {
      "cell_type": "code",
      "source": [
        "df.append(['XGBRegressor', 'train', abs(model_XGBR.best_score_)])"
      ],
      "metadata": {
        "id": "MyOvlV_BevrX"
      },
      "execution_count": 45,
      "outputs": []
    },
    {
      "cell_type": "code",
      "source": [
        "abs(model_XGBR.best_score_)"
      ],
      "metadata": {
        "colab": {
          "base_uri": "https://localhost:8080/"
        },
        "id": "k1M7bFc0evn8",
        "outputId": "f8740a79-e84b-4add-b6bf-74218077e3c7"
      },
      "execution_count": 46,
      "outputs": [
        {
          "output_type": "execute_result",
          "data": {
            "text/plain": [
              "1.1521829403077828"
            ]
          },
          "metadata": {},
          "execution_count": 46
        }
      ]
    },
    {
      "cell_type": "markdown",
      "source": [
        "-----------"
      ],
      "metadata": {
        "id": "KclamnvpgREs"
      }
    },
    {
      "cell_type": "markdown",
      "source": [
        "LightGBMRegressor"
      ],
      "metadata": {
        "id": "OhNdvcjZfLkG"
      }
    },
    {
      "cell_type": "code",
      "source": [
        "Params = {\n",
        "    'learning_rate': [0.1, 0.2],\n",
        "    'num_leaves': [31, 50],\n",
        "    'n_estimators': [100],\n",
        "    'objective' : ['regression'],\n",
        "    'random_state' : [12345] \n",
        "    }"
      ],
      "metadata": {
        "id": "eBpNF8T7evk9"
      },
      "execution_count": 47,
      "outputs": []
    },
    {
      "cell_type": "code",
      "source": [
        "model_ = lgb.LGBMRegressor()"
      ],
      "metadata": {
        "id": "1kbYpjUkevib"
      },
      "execution_count": 48,
      "outputs": []
    },
    {
      "cell_type": "code",
      "source": [
        "model_LGBMR = GridSearchCV(model_, Params, scoring=scoring, cv=tscv, verbose=1)"
      ],
      "metadata": {
        "id": "ffB7zYJffYz5"
      },
      "execution_count": 49,
      "outputs": []
    },
    {
      "cell_type": "code",
      "source": [
        "model_LGBMR.fit(features_train, target_train)"
      ],
      "metadata": {
        "colab": {
          "base_uri": "https://localhost:8080/"
        },
        "id": "mk-KO6h1fYw0",
        "outputId": "687a16af-6172-4809-e42f-238ee876fb3c"
      },
      "execution_count": 50,
      "outputs": [
        {
          "output_type": "stream",
          "name": "stdout",
          "text": [
            "Fitting 5 folds for each of 4 candidates, totalling 20 fits\n"
          ]
        },
        {
          "output_type": "execute_result",
          "data": {
            "text/plain": [
              "GridSearchCV(cv=TimeSeriesSplit(gap=0, max_train_size=None, n_splits=5, test_size=None),\n",
              "             estimator=LGBMRegressor(),\n",
              "             param_grid={'learning_rate': [0.1, 0.2], 'n_estimators': [100],\n",
              "                         'num_leaves': [31, 50], 'objective': ['regression'],\n",
              "                         'random_state': [12345]},\n",
              "             scoring=make_scorer(RMSE, greater_is_better=False), verbose=1)"
            ]
          },
          "metadata": {},
          "execution_count": 50
        }
      ]
    },
    {
      "cell_type": "code",
      "source": [
        "model_LGBMR.best_params_"
      ],
      "metadata": {
        "colab": {
          "base_uri": "https://localhost:8080/"
        },
        "id": "CMQ28r_nfYt2",
        "outputId": "c969cb26-c7c1-46a2-87b1-b969e5270fbd"
      },
      "execution_count": 51,
      "outputs": [
        {
          "output_type": "execute_result",
          "data": {
            "text/plain": [
              "{'learning_rate': 0.1,\n",
              " 'n_estimators': 100,\n",
              " 'num_leaves': 31,\n",
              " 'objective': 'regression',\n",
              " 'random_state': 12345}"
            ]
          },
          "metadata": {},
          "execution_count": 51
        }
      ]
    },
    {
      "cell_type": "code",
      "source": [
        "df.append(['LightGBMRegressor', 'train', abs(model_LGBMR.best_score_)])"
      ],
      "metadata": {
        "id": "knygIIMzfYqb"
      },
      "execution_count": 52,
      "outputs": []
    },
    {
      "cell_type": "code",
      "source": [
        "abs(model_LGBMR.best_score_)"
      ],
      "metadata": {
        "colab": {
          "base_uri": "https://localhost:8080/"
        },
        "id": "zpruJWOPfYnr",
        "outputId": "33c9cbde-e0e5-4591-c5dc-03fc648e2eda"
      },
      "execution_count": 53,
      "outputs": [
        {
          "output_type": "execute_result",
          "data": {
            "text/plain": [
              "3.3035976628712853"
            ]
          },
          "metadata": {},
          "execution_count": 53
        }
      ]
    },
    {
      "cell_type": "markdown",
      "source": [
        "-----------"
      ],
      "metadata": {
        "id": "J6g0MsbugO5x"
      }
    },
    {
      "cell_type": "markdown",
      "source": [
        "RandomForestRegressor"
      ],
      "metadata": {
        "id": "8JIyZlZofonD"
      }
    },
    {
      "cell_type": "code",
      "source": [
        "best_modelRFR = None\n",
        "best_depthRFR = 0\n",
        "best_est = 0\n",
        "best_rmseRFR = 10000\n",
        "\n",
        "for est in range(1, 11, 2): # в цикле меняем гиперпараметр - максимальное количество деревьев\n",
        "    for depth in range(1, 11, 2): # в цикле меняем гиперпараметр - максимальную глубину дерева\n",
        "\n",
        "        model = RandomForestRegressor(random_state=12345, n_estimators=est, max_depth=depth) # случайный лес\n",
        "    \n",
        "        score = abs(sum(cross_val_score(\n",
        "            model, features_train, target_train, scoring=scoring, cv=tscv)) / 5)\n",
        "    \n",
        "        if score < best_rmseRFR:\n",
        "            best_modelRFR = model\n",
        "            best_depthRFR = depth\n",
        "            best_est = est\n",
        "            best_rmseRFR = score\n",
        "\n",
        "            \n",
        "print(\"Модель 'Случайный лес', RMSE: \", best_rmseRFR, \n",
        "      \", количество деревьев:\", best_est, \", глубина дерева:\", best_depthRFR)"
      ],
      "metadata": {
        "colab": {
          "base_uri": "https://localhost:8080/"
        },
        "id": "tsRZBudQf2LP",
        "outputId": "1780f630-3f4a-4440-ff79-55c99452d7bc"
      },
      "execution_count": 54,
      "outputs": [
        {
          "output_type": "stream",
          "name": "stdout",
          "text": [
            "Модель 'Случайный лес', RMSE:  1.207110663551227 , количество деревьев: 5 , глубина дерева: 3\n"
          ]
        }
      ]
    },
    {
      "cell_type": "code",
      "source": [
        "best_modelRFR.fit(features_train, target_train)"
      ],
      "metadata": {
        "colab": {
          "base_uri": "https://localhost:8080/"
        },
        "id": "X3S9fk3Kf2IL",
        "outputId": "6b3f4fa4-0ef7-4281-a3ef-1de063b0eab2"
      },
      "execution_count": 55,
      "outputs": [
        {
          "output_type": "execute_result",
          "data": {
            "text/plain": [
              "RandomForestRegressor(max_depth=3, n_estimators=5, random_state=12345)"
            ]
          },
          "metadata": {},
          "execution_count": 55
        }
      ]
    },
    {
      "cell_type": "code",
      "source": [
        "df.append(['RandomForestRegressor', 'train', best_rmseRFR])"
      ],
      "metadata": {
        "id": "a0eeCumsf2FP"
      },
      "execution_count": 56,
      "outputs": []
    },
    {
      "cell_type": "markdown",
      "source": [
        "-----------"
      ],
      "metadata": {
        "id": "W-UI3T37gMaP"
      }
    },
    {
      "cell_type": "markdown",
      "source": [
        "LinearRegression"
      ],
      "metadata": {
        "id": "V-gadqYcgDt1"
      }
    },
    {
      "cell_type": "code",
      "source": [
        "modelLinR = LinearRegression() # инициализируем модель LinearRegression"
      ],
      "metadata": {
        "id": "YkPT-DDzf2CX"
      },
      "execution_count": 57,
      "outputs": []
    },
    {
      "cell_type": "code",
      "source": [
        "modelLinR.fit(features_train, target_train)"
      ],
      "metadata": {
        "colab": {
          "base_uri": "https://localhost:8080/"
        },
        "id": "vo4l5566f1_d",
        "outputId": "e0dbcdb8-b3a6-4fa1-9443-dab430e66b1c"
      },
      "execution_count": 58,
      "outputs": [
        {
          "output_type": "execute_result",
          "data": {
            "text/plain": [
              "LinearRegression()"
            ]
          },
          "metadata": {},
          "execution_count": 58
        }
      ]
    },
    {
      "cell_type": "code",
      "source": [
        "predict_result(modelLinR, features_train, target_train, 'train', 'LinearRegression')"
      ],
      "metadata": {
        "id": "Dd_g2LfNf183"
      },
      "execution_count": 59,
      "outputs": []
    },
    {
      "cell_type": "markdown",
      "source": [
        "----------"
      ],
      "metadata": {
        "id": "5laubhungZKf"
      }
    },
    {
      "cell_type": "code",
      "source": [
        "df_result = pd.DataFrame(data=df, columns=col_data) # таблица с результатами"
      ],
      "metadata": {
        "id": "o-CHLUa4f1Lz"
      },
      "execution_count": 60,
      "outputs": []
    },
    {
      "cell_type": "code",
      "source": [
        "df_result"
      ],
      "metadata": {
        "colab": {
          "base_uri": "https://localhost:8080/",
          "height": 206
        },
        "id": "zSHpRozjgfiF",
        "outputId": "b2af342f-a2a3-49d8-90a8-feed75d31cb7"
      },
      "execution_count": 61,
      "outputs": [
        {
          "output_type": "execute_result",
          "data": {
            "text/plain": [
              "                   model type_data      RMSE\n",
              "0      CatBoostRegressor     train  0.256643\n",
              "1           XGBRegressor     train  1.152183\n",
              "2      LightGBMRegressor     train  3.303598\n",
              "3  RandomForestRegressor     train  1.207111\n",
              "4       LinearRegression     train  0.131374"
            ],
            "text/html": [
              "\n",
              "  <div id=\"df-ee9d0382-3822-436c-b547-63e009422f1f\">\n",
              "    <div class=\"colab-df-container\">\n",
              "      <div>\n",
              "<style scoped>\n",
              "    .dataframe tbody tr th:only-of-type {\n",
              "        vertical-align: middle;\n",
              "    }\n",
              "\n",
              "    .dataframe tbody tr th {\n",
              "        vertical-align: top;\n",
              "    }\n",
              "\n",
              "    .dataframe thead th {\n",
              "        text-align: right;\n",
              "    }\n",
              "</style>\n",
              "<table border=\"1\" class=\"dataframe\">\n",
              "  <thead>\n",
              "    <tr style=\"text-align: right;\">\n",
              "      <th></th>\n",
              "      <th>model</th>\n",
              "      <th>type_data</th>\n",
              "      <th>RMSE</th>\n",
              "    </tr>\n",
              "  </thead>\n",
              "  <tbody>\n",
              "    <tr>\n",
              "      <th>0</th>\n",
              "      <td>CatBoostRegressor</td>\n",
              "      <td>train</td>\n",
              "      <td>0.256643</td>\n",
              "    </tr>\n",
              "    <tr>\n",
              "      <th>1</th>\n",
              "      <td>XGBRegressor</td>\n",
              "      <td>train</td>\n",
              "      <td>1.152183</td>\n",
              "    </tr>\n",
              "    <tr>\n",
              "      <th>2</th>\n",
              "      <td>LightGBMRegressor</td>\n",
              "      <td>train</td>\n",
              "      <td>3.303598</td>\n",
              "    </tr>\n",
              "    <tr>\n",
              "      <th>3</th>\n",
              "      <td>RandomForestRegressor</td>\n",
              "      <td>train</td>\n",
              "      <td>1.207111</td>\n",
              "    </tr>\n",
              "    <tr>\n",
              "      <th>4</th>\n",
              "      <td>LinearRegression</td>\n",
              "      <td>train</td>\n",
              "      <td>0.131374</td>\n",
              "    </tr>\n",
              "  </tbody>\n",
              "</table>\n",
              "</div>\n",
              "      <button class=\"colab-df-convert\" onclick=\"convertToInteractive('df-ee9d0382-3822-436c-b547-63e009422f1f')\"\n",
              "              title=\"Convert this dataframe to an interactive table.\"\n",
              "              style=\"display:none;\">\n",
              "        \n",
              "  <svg xmlns=\"http://www.w3.org/2000/svg\" height=\"24px\"viewBox=\"0 0 24 24\"\n",
              "       width=\"24px\">\n",
              "    <path d=\"M0 0h24v24H0V0z\" fill=\"none\"/>\n",
              "    <path d=\"M18.56 5.44l.94 2.06.94-2.06 2.06-.94-2.06-.94-.94-2.06-.94 2.06-2.06.94zm-11 1L8.5 8.5l.94-2.06 2.06-.94-2.06-.94L8.5 2.5l-.94 2.06-2.06.94zm10 10l.94 2.06.94-2.06 2.06-.94-2.06-.94-.94-2.06-.94 2.06-2.06.94z\"/><path d=\"M17.41 7.96l-1.37-1.37c-.4-.4-.92-.59-1.43-.59-.52 0-1.04.2-1.43.59L10.3 9.45l-7.72 7.72c-.78.78-.78 2.05 0 2.83L4 21.41c.39.39.9.59 1.41.59.51 0 1.02-.2 1.41-.59l7.78-7.78 2.81-2.81c.8-.78.8-2.07 0-2.86zM5.41 20L4 18.59l7.72-7.72 1.47 1.35L5.41 20z\"/>\n",
              "  </svg>\n",
              "      </button>\n",
              "      \n",
              "  <style>\n",
              "    .colab-df-container {\n",
              "      display:flex;\n",
              "      flex-wrap:wrap;\n",
              "      gap: 12px;\n",
              "    }\n",
              "\n",
              "    .colab-df-convert {\n",
              "      background-color: #E8F0FE;\n",
              "      border: none;\n",
              "      border-radius: 50%;\n",
              "      cursor: pointer;\n",
              "      display: none;\n",
              "      fill: #1967D2;\n",
              "      height: 32px;\n",
              "      padding: 0 0 0 0;\n",
              "      width: 32px;\n",
              "    }\n",
              "\n",
              "    .colab-df-convert:hover {\n",
              "      background-color: #E2EBFA;\n",
              "      box-shadow: 0px 1px 2px rgba(60, 64, 67, 0.3), 0px 1px 3px 1px rgba(60, 64, 67, 0.15);\n",
              "      fill: #174EA6;\n",
              "    }\n",
              "\n",
              "    [theme=dark] .colab-df-convert {\n",
              "      background-color: #3B4455;\n",
              "      fill: #D2E3FC;\n",
              "    }\n",
              "\n",
              "    [theme=dark] .colab-df-convert:hover {\n",
              "      background-color: #434B5C;\n",
              "      box-shadow: 0px 1px 3px 1px rgba(0, 0, 0, 0.15);\n",
              "      filter: drop-shadow(0px 1px 2px rgba(0, 0, 0, 0.3));\n",
              "      fill: #FFFFFF;\n",
              "    }\n",
              "  </style>\n",
              "\n",
              "      <script>\n",
              "        const buttonEl =\n",
              "          document.querySelector('#df-ee9d0382-3822-436c-b547-63e009422f1f button.colab-df-convert');\n",
              "        buttonEl.style.display =\n",
              "          google.colab.kernel.accessAllowed ? 'block' : 'none';\n",
              "\n",
              "        async function convertToInteractive(key) {\n",
              "          const element = document.querySelector('#df-ee9d0382-3822-436c-b547-63e009422f1f');\n",
              "          const dataTable =\n",
              "            await google.colab.kernel.invokeFunction('convertToInteractive',\n",
              "                                                     [key], {});\n",
              "          if (!dataTable) return;\n",
              "\n",
              "          const docLinkHtml = 'Like what you see? Visit the ' +\n",
              "            '<a target=\"_blank\" href=https://colab.research.google.com/notebooks/data_table.ipynb>data table notebook</a>'\n",
              "            + ' to learn more about interactive tables.';\n",
              "          element.innerHTML = '';\n",
              "          dataTable['output_type'] = 'display_data';\n",
              "          await google.colab.output.renderOutput(dataTable, element);\n",
              "          const docLink = document.createElement('div');\n",
              "          docLink.innerHTML = docLinkHtml;\n",
              "          element.appendChild(docLink);\n",
              "        }\n",
              "      </script>\n",
              "    </div>\n",
              "  </div>\n",
              "  "
            ]
          },
          "metadata": {},
          "execution_count": 61
        }
      ]
    },
    {
      "cell_type": "markdown",
      "source": [
        "Тестирование"
      ],
      "metadata": {
        "id": "8bKzaHtwgntk"
      }
    },
    {
      "cell_type": "code",
      "source": [
        "model = [model_XGBR, \n",
        "         model_LGBMR, \n",
        "         best_modelRFR,\n",
        "         modelLinR,\n",
        "         model_CBR]\n",
        "name_model = ['XGBRegressor', \n",
        "              'LightGBMRegressor',\n",
        "              'RandomForestRegressor',\n",
        "              'LinearRegression',\n",
        "              'CatBoostRegressor']"
      ],
      "metadata": {
        "id": "Tr2yTM3LgffP"
      },
      "execution_count": 62,
      "outputs": []
    },
    {
      "cell_type": "code",
      "source": [
        "df.append(['-', '-', '-'])"
      ],
      "metadata": {
        "id": "Uknfceq1gfZ1"
      },
      "execution_count": 63,
      "outputs": []
    },
    {
      "cell_type": "code",
      "source": [
        "for _ in range(len(model)):\n",
        "    predict_result(model[_], features_test, target_test, 'test', name_model[_])"
      ],
      "metadata": {
        "id": "cFXNzfMvgsn_"
      },
      "execution_count": 64,
      "outputs": []
    },
    {
      "cell_type": "code",
      "source": [
        "df.append(['-', '-', '-'])"
      ],
      "metadata": {
        "id": "mVEUEFn2gskZ"
      },
      "execution_count": 65,
      "outputs": []
    },
    {
      "cell_type": "code",
      "source": [
        "df_result = pd.DataFrame(data=df, columns=col_data) # таблица с результатами"
      ],
      "metadata": {
        "id": "Ic-esTkegshr"
      },
      "execution_count": 66,
      "outputs": []
    },
    {
      "cell_type": "code",
      "source": [
        "df_result"
      ],
      "metadata": {
        "colab": {
          "base_uri": "https://localhost:8080/",
          "height": 426
        },
        "id": "dowdkZzygsem",
        "outputId": "879cb3e9-df18-4300-fc39-1f6a493fbba0"
      },
      "execution_count": 67,
      "outputs": [
        {
          "output_type": "execute_result",
          "data": {
            "text/plain": [
              "                    model type_data      RMSE\n",
              "0       CatBoostRegressor     train  0.256643\n",
              "1            XGBRegressor     train  1.152183\n",
              "2       LightGBMRegressor     train  3.303598\n",
              "3   RandomForestRegressor     train  1.207111\n",
              "4        LinearRegression     train  0.131374\n",
              "5                       -         -         -\n",
              "6            XGBRegressor      test  0.832845\n",
              "7       LightGBMRegressor      test  1.298981\n",
              "8   RandomForestRegressor      test  0.372001\n",
              "9        LinearRegression      test   0.32794\n",
              "10      CatBoostRegressor      test  0.613146\n",
              "11                      -         -         -"
            ],
            "text/html": [
              "\n",
              "  <div id=\"df-c53edb22-898a-4ef9-aef6-ccac7f2701fa\">\n",
              "    <div class=\"colab-df-container\">\n",
              "      <div>\n",
              "<style scoped>\n",
              "    .dataframe tbody tr th:only-of-type {\n",
              "        vertical-align: middle;\n",
              "    }\n",
              "\n",
              "    .dataframe tbody tr th {\n",
              "        vertical-align: top;\n",
              "    }\n",
              "\n",
              "    .dataframe thead th {\n",
              "        text-align: right;\n",
              "    }\n",
              "</style>\n",
              "<table border=\"1\" class=\"dataframe\">\n",
              "  <thead>\n",
              "    <tr style=\"text-align: right;\">\n",
              "      <th></th>\n",
              "      <th>model</th>\n",
              "      <th>type_data</th>\n",
              "      <th>RMSE</th>\n",
              "    </tr>\n",
              "  </thead>\n",
              "  <tbody>\n",
              "    <tr>\n",
              "      <th>0</th>\n",
              "      <td>CatBoostRegressor</td>\n",
              "      <td>train</td>\n",
              "      <td>0.256643</td>\n",
              "    </tr>\n",
              "    <tr>\n",
              "      <th>1</th>\n",
              "      <td>XGBRegressor</td>\n",
              "      <td>train</td>\n",
              "      <td>1.152183</td>\n",
              "    </tr>\n",
              "    <tr>\n",
              "      <th>2</th>\n",
              "      <td>LightGBMRegressor</td>\n",
              "      <td>train</td>\n",
              "      <td>3.303598</td>\n",
              "    </tr>\n",
              "    <tr>\n",
              "      <th>3</th>\n",
              "      <td>RandomForestRegressor</td>\n",
              "      <td>train</td>\n",
              "      <td>1.207111</td>\n",
              "    </tr>\n",
              "    <tr>\n",
              "      <th>4</th>\n",
              "      <td>LinearRegression</td>\n",
              "      <td>train</td>\n",
              "      <td>0.131374</td>\n",
              "    </tr>\n",
              "    <tr>\n",
              "      <th>5</th>\n",
              "      <td>-</td>\n",
              "      <td>-</td>\n",
              "      <td>-</td>\n",
              "    </tr>\n",
              "    <tr>\n",
              "      <th>6</th>\n",
              "      <td>XGBRegressor</td>\n",
              "      <td>test</td>\n",
              "      <td>0.832845</td>\n",
              "    </tr>\n",
              "    <tr>\n",
              "      <th>7</th>\n",
              "      <td>LightGBMRegressor</td>\n",
              "      <td>test</td>\n",
              "      <td>1.298981</td>\n",
              "    </tr>\n",
              "    <tr>\n",
              "      <th>8</th>\n",
              "      <td>RandomForestRegressor</td>\n",
              "      <td>test</td>\n",
              "      <td>0.372001</td>\n",
              "    </tr>\n",
              "    <tr>\n",
              "      <th>9</th>\n",
              "      <td>LinearRegression</td>\n",
              "      <td>test</td>\n",
              "      <td>0.32794</td>\n",
              "    </tr>\n",
              "    <tr>\n",
              "      <th>10</th>\n",
              "      <td>CatBoostRegressor</td>\n",
              "      <td>test</td>\n",
              "      <td>0.613146</td>\n",
              "    </tr>\n",
              "    <tr>\n",
              "      <th>11</th>\n",
              "      <td>-</td>\n",
              "      <td>-</td>\n",
              "      <td>-</td>\n",
              "    </tr>\n",
              "  </tbody>\n",
              "</table>\n",
              "</div>\n",
              "      <button class=\"colab-df-convert\" onclick=\"convertToInteractive('df-c53edb22-898a-4ef9-aef6-ccac7f2701fa')\"\n",
              "              title=\"Convert this dataframe to an interactive table.\"\n",
              "              style=\"display:none;\">\n",
              "        \n",
              "  <svg xmlns=\"http://www.w3.org/2000/svg\" height=\"24px\"viewBox=\"0 0 24 24\"\n",
              "       width=\"24px\">\n",
              "    <path d=\"M0 0h24v24H0V0z\" fill=\"none\"/>\n",
              "    <path d=\"M18.56 5.44l.94 2.06.94-2.06 2.06-.94-2.06-.94-.94-2.06-.94 2.06-2.06.94zm-11 1L8.5 8.5l.94-2.06 2.06-.94-2.06-.94L8.5 2.5l-.94 2.06-2.06.94zm10 10l.94 2.06.94-2.06 2.06-.94-2.06-.94-.94-2.06-.94 2.06-2.06.94z\"/><path d=\"M17.41 7.96l-1.37-1.37c-.4-.4-.92-.59-1.43-.59-.52 0-1.04.2-1.43.59L10.3 9.45l-7.72 7.72c-.78.78-.78 2.05 0 2.83L4 21.41c.39.39.9.59 1.41.59.51 0 1.02-.2 1.41-.59l7.78-7.78 2.81-2.81c.8-.78.8-2.07 0-2.86zM5.41 20L4 18.59l7.72-7.72 1.47 1.35L5.41 20z\"/>\n",
              "  </svg>\n",
              "      </button>\n",
              "      \n",
              "  <style>\n",
              "    .colab-df-container {\n",
              "      display:flex;\n",
              "      flex-wrap:wrap;\n",
              "      gap: 12px;\n",
              "    }\n",
              "\n",
              "    .colab-df-convert {\n",
              "      background-color: #E8F0FE;\n",
              "      border: none;\n",
              "      border-radius: 50%;\n",
              "      cursor: pointer;\n",
              "      display: none;\n",
              "      fill: #1967D2;\n",
              "      height: 32px;\n",
              "      padding: 0 0 0 0;\n",
              "      width: 32px;\n",
              "    }\n",
              "\n",
              "    .colab-df-convert:hover {\n",
              "      background-color: #E2EBFA;\n",
              "      box-shadow: 0px 1px 2px rgba(60, 64, 67, 0.3), 0px 1px 3px 1px rgba(60, 64, 67, 0.15);\n",
              "      fill: #174EA6;\n",
              "    }\n",
              "\n",
              "    [theme=dark] .colab-df-convert {\n",
              "      background-color: #3B4455;\n",
              "      fill: #D2E3FC;\n",
              "    }\n",
              "\n",
              "    [theme=dark] .colab-df-convert:hover {\n",
              "      background-color: #434B5C;\n",
              "      box-shadow: 0px 1px 3px 1px rgba(0, 0, 0, 0.15);\n",
              "      filter: drop-shadow(0px 1px 2px rgba(0, 0, 0, 0.3));\n",
              "      fill: #FFFFFF;\n",
              "    }\n",
              "  </style>\n",
              "\n",
              "      <script>\n",
              "        const buttonEl =\n",
              "          document.querySelector('#df-c53edb22-898a-4ef9-aef6-ccac7f2701fa button.colab-df-convert');\n",
              "        buttonEl.style.display =\n",
              "          google.colab.kernel.accessAllowed ? 'block' : 'none';\n",
              "\n",
              "        async function convertToInteractive(key) {\n",
              "          const element = document.querySelector('#df-c53edb22-898a-4ef9-aef6-ccac7f2701fa');\n",
              "          const dataTable =\n",
              "            await google.colab.kernel.invokeFunction('convertToInteractive',\n",
              "                                                     [key], {});\n",
              "          if (!dataTable) return;\n",
              "\n",
              "          const docLinkHtml = 'Like what you see? Visit the ' +\n",
              "            '<a target=\"_blank\" href=https://colab.research.google.com/notebooks/data_table.ipynb>data table notebook</a>'\n",
              "            + ' to learn more about interactive tables.';\n",
              "          element.innerHTML = '';\n",
              "          dataTable['output_type'] = 'display_data';\n",
              "          await google.colab.output.renderOutput(dataTable, element);\n",
              "          const docLink = document.createElement('div');\n",
              "          docLink.innerHTML = docLinkHtml;\n",
              "          element.appendChild(docLink);\n",
              "        }\n",
              "      </script>\n",
              "    </div>\n",
              "  </div>\n",
              "  "
            ]
          },
          "metadata": {},
          "execution_count": 67
        }
      ]
    },
    {
      "cell_type": "markdown",
      "source": [
        "train + valid\n",
        "\n",
        "Для улучшения качества моделей переобучим их на объединении трейна и валидации."
      ],
      "metadata": {
        "id": "prcGSTJmhJBd"
      }
    },
    {
      "cell_type": "code",
      "source": [
        "features_train_valid = pd.concat([features_train, features_valid])"
      ],
      "metadata": {
        "id": "Nf_Wz6MlgsYr"
      },
      "execution_count": 68,
      "outputs": []
    },
    {
      "cell_type": "markdown",
      "source": [
        "------"
      ],
      "metadata": {
        "id": "0OXXXDw3hWNi"
      }
    },
    {
      "cell_type": "code",
      "source": [
        "model_XGBR.fit(features_train_valid, target_train_valid)"
      ],
      "metadata": {
        "colab": {
          "base_uri": "https://localhost:8080/"
        },
        "id": "vk6ZCQbmgsV_",
        "outputId": "492c249a-ce17-4478-cae6-de7b958fc110"
      },
      "execution_count": 69,
      "outputs": [
        {
          "output_type": "stream",
          "name": "stdout",
          "text": [
            "Fitting 5 folds for each of 2 candidates, totalling 10 fits\n",
            "[09:51:08] WARNING: /workspace/src/objective/regression_obj.cu:152: reg:linear is now deprecated in favor of reg:squarederror.\n",
            "[09:51:08] WARNING: /workspace/src/objective/regression_obj.cu:152: reg:linear is now deprecated in favor of reg:squarederror.\n",
            "[09:51:08] WARNING: /workspace/src/objective/regression_obj.cu:152: reg:linear is now deprecated in favor of reg:squarederror.\n",
            "[09:51:08] WARNING: /workspace/src/objective/regression_obj.cu:152: reg:linear is now deprecated in favor of reg:squarederror.\n",
            "[09:51:08] WARNING: /workspace/src/objective/regression_obj.cu:152: reg:linear is now deprecated in favor of reg:squarederror.\n",
            "[09:51:08] WARNING: /workspace/src/objective/regression_obj.cu:152: reg:linear is now deprecated in favor of reg:squarederror.\n",
            "[09:51:08] WARNING: /workspace/src/objective/regression_obj.cu:152: reg:linear is now deprecated in favor of reg:squarederror.\n",
            "[09:51:08] WARNING: /workspace/src/objective/regression_obj.cu:152: reg:linear is now deprecated in favor of reg:squarederror.\n",
            "[09:51:08] WARNING: /workspace/src/objective/regression_obj.cu:152: reg:linear is now deprecated in favor of reg:squarederror.\n",
            "[09:51:08] WARNING: /workspace/src/objective/regression_obj.cu:152: reg:linear is now deprecated in favor of reg:squarederror.\n",
            "[09:51:08] WARNING: /workspace/src/objective/regression_obj.cu:152: reg:linear is now deprecated in favor of reg:squarederror.\n"
          ]
        },
        {
          "output_type": "execute_result",
          "data": {
            "text/plain": [
              "GridSearchCV(cv=TimeSeriesSplit(gap=0, max_train_size=None, n_splits=5, test_size=None),\n",
              "             estimator=XGBRegressor(),\n",
              "             param_grid={'learning_rate': [0.3], 'max_depth': [6, 8],\n",
              "                         'n_estimators': [100]},\n",
              "             scoring=make_scorer(RMSE, greater_is_better=False), verbose=1)"
            ]
          },
          "metadata": {},
          "execution_count": 69
        }
      ]
    },
    {
      "cell_type": "code",
      "source": [
        "df.append(['XGBRegressor', 'train_valid', abs(model_XGBR.best_score_)])"
      ],
      "metadata": {
        "id": "ivHIt6uchNXd"
      },
      "execution_count": 70,
      "outputs": []
    },
    {
      "cell_type": "markdown",
      "source": [
        "---"
      ],
      "metadata": {
        "id": "4gzDLQmUhXr2"
      }
    },
    {
      "cell_type": "code",
      "source": [
        "model_LGBMR.fit(features_train_valid, target_train_valid)"
      ],
      "metadata": {
        "colab": {
          "base_uri": "https://localhost:8080/"
        },
        "id": "XK4yzxBChNVR",
        "outputId": "7fe6830a-7634-4ca3-8b6a-2f31ed03b8ec"
      },
      "execution_count": 71,
      "outputs": [
        {
          "output_type": "stream",
          "name": "stdout",
          "text": [
            "Fitting 5 folds for each of 4 candidates, totalling 20 fits\n"
          ]
        },
        {
          "output_type": "execute_result",
          "data": {
            "text/plain": [
              "GridSearchCV(cv=TimeSeriesSplit(gap=0, max_train_size=None, n_splits=5, test_size=None),\n",
              "             estimator=LGBMRegressor(),\n",
              "             param_grid={'learning_rate': [0.1, 0.2], 'n_estimators': [100],\n",
              "                         'num_leaves': [31, 50], 'objective': ['regression'],\n",
              "                         'random_state': [12345]},\n",
              "             scoring=make_scorer(RMSE, greater_is_better=False), verbose=1)"
            ]
          },
          "metadata": {},
          "execution_count": 71
        }
      ]
    },
    {
      "cell_type": "code",
      "source": [
        "df.append(['LightGBMRegressor', 'train_valid', abs(model_LGBMR.best_score_)])"
      ],
      "metadata": {
        "id": "ru3qseZdhNSn"
      },
      "execution_count": 72,
      "outputs": []
    },
    {
      "cell_type": "markdown",
      "source": [
        "---------"
      ],
      "metadata": {
        "id": "brj9FJAIhecv"
      }
    },
    {
      "cell_type": "code",
      "source": [
        "best_modelRFR.fit(features_train_valid, target_train_valid)"
      ],
      "metadata": {
        "colab": {
          "base_uri": "https://localhost:8080/"
        },
        "id": "4Gi8_ZuOhNQW",
        "outputId": "31273909-8d24-4bea-ad25-340df369e0e8"
      },
      "execution_count": 73,
      "outputs": [
        {
          "output_type": "execute_result",
          "data": {
            "text/plain": [
              "RandomForestRegressor(max_depth=3, n_estimators=5, random_state=12345)"
            ]
          },
          "metadata": {},
          "execution_count": 73
        }
      ]
    },
    {
      "cell_type": "code",
      "source": [
        "predict_result(\n",
        "    best_modelRFR, features_train_valid, target_train_valid, 'train_valid', 'RandomForestRegressor')\n"
      ],
      "metadata": {
        "id": "qVgmmEEehf2z"
      },
      "execution_count": 74,
      "outputs": []
    },
    {
      "cell_type": "markdown",
      "source": [
        "------"
      ],
      "metadata": {
        "id": "4ZsQIUxEhm7I"
      }
    },
    {
      "cell_type": "code",
      "source": [
        "modelLinR.fit(features_train_valid, target_train_valid)"
      ],
      "metadata": {
        "colab": {
          "base_uri": "https://localhost:8080/"
        },
        "id": "JDHzuZ2ThnpE",
        "outputId": "76954b19-c720-43d1-a605-9bd848872ca5"
      },
      "execution_count": 75,
      "outputs": [
        {
          "output_type": "execute_result",
          "data": {
            "text/plain": [
              "LinearRegression()"
            ]
          },
          "metadata": {},
          "execution_count": 75
        }
      ]
    },
    {
      "cell_type": "code",
      "source": [
        "predict_result(\n",
        "    modelLinR, features_train_valid, target_train_valid, 'train_valid', 'LinearRegression')"
      ],
      "metadata": {
        "id": "-Mi32Kf4hrYQ"
      },
      "execution_count": 76,
      "outputs": []
    },
    {
      "cell_type": "markdown",
      "source": [
        "------"
      ],
      "metadata": {
        "id": "wSExWEWwhtZh"
      }
    },
    {
      "cell_type": "code",
      "source": [
        "model_CBR.fit(features_train_valid, target_train_valid)"
      ],
      "metadata": {
        "colab": {
          "base_uri": "https://localhost:8080/"
        },
        "id": "kva26zSzhuE0",
        "outputId": "39fe4cd6-771f-4509-98e3-fa8ecb6172ed"
      },
      "execution_count": 77,
      "outputs": [
        {
          "output_type": "stream",
          "name": "stdout",
          "text": [
            "0:\tlearn: 4.0067332\ttotal: 984us\tremaining: 983ms\n",
            "500:\tlearn: 0.6398814\ttotal: 547ms\tremaining: 545ms\n",
            "999:\tlearn: 0.2459973\ttotal: 1.09s\tremaining: 0us\n"
          ]
        },
        {
          "output_type": "execute_result",
          "data": {
            "text/plain": [
              "<catboost.core.CatBoostRegressor at 0x7f7eedad4610>"
            ]
          },
          "metadata": {},
          "execution_count": 77
        }
      ]
    },
    {
      "cell_type": "code",
      "source": [
        "df.append(['model_CBR', 'train_valid', model_CBR.best_score_['learn']['RMSE']])"
      ],
      "metadata": {
        "id": "1_EKruVQhv5D"
      },
      "execution_count": 78,
      "outputs": []
    },
    {
      "cell_type": "code",
      "source": [
        "df.append(['-', '-', '-'])"
      ],
      "metadata": {
        "id": "btvCXRhFhzlq"
      },
      "execution_count": 79,
      "outputs": []
    },
    {
      "cell_type": "markdown",
      "source": [
        "--------"
      ],
      "metadata": {
        "id": "PUUt0aLih5Jo"
      }
    },
    {
      "cell_type": "markdown",
      "source": [
        "Финальное тестирование и визуализация"
      ],
      "metadata": {
        "id": "OMol29Afh5FP"
      }
    },
    {
      "cell_type": "code",
      "source": [
        "name_model = ['XGBRegressor_train_valid', \n",
        "              'LightGBMRegressor_train_valid',\n",
        "              'RandomForestRegressor_train_valid',\n",
        "              'LinearRegression_train_valid',\n",
        "              'CatBoostRegressor_train_valid']"
      ],
      "metadata": {
        "id": "gzEKtjT9h0IL"
      },
      "execution_count": 80,
      "outputs": []
    },
    {
      "cell_type": "code",
      "source": [
        "for _ in range(len(model)):\n",
        "    plot_test_prediction_result(\n",
        "    model[_], features_test, target_test, 'test', name_model[_])"
      ],
      "metadata": {
        "colab": {
          "base_uri": "https://localhost:8080/",
          "height": 1000
        },
        "id": "0uzxIAtgh-4T",
        "outputId": "e56590a9-396b-4660-f2a4-72d9b8444f8c"
      },
      "execution_count": 81,
      "outputs": [
        {
          "output_type": "stream",
          "name": "stdout",
          "text": [
            "RMSE  XGBRegressor_train_valid : 0.15507608994233857\n"
          ]
        },
        {
          "output_type": "display_data",
          "data": {
            "text/plain": [
              "<Figure size 864x432 with 1 Axes>"
            ],
            "image/png": "[encoded data removed]"
          },
          "metadata": {
            "needs_background": "light"
          }
        },
        {
          "output_type": "stream",
          "name": "stdout",
          "text": [
            "RMSE  LightGBMRegressor_train_valid : 1.2534174898328923\n"
          ]
        },
        {
          "output_type": "display_data",
          "data": {
            "text/plain": [
              "<Figure size 864x432 with 1 Axes>"
            ],
            "image/png": "[encoded data removed]"
          },
          "metadata": {
            "needs_background": "light"
          }
        },
        {
          "output_type": "stream",
          "name": "stdout",
          "text": [
            "RMSE  RandomForestRegressor_train_valid : 0.4706097383659596\n"
          ]
        },
        {
          "output_type": "display_data",
          "data": {
            "text/plain": [
              "<Figure size 864x432 with 1 Axes>"
            ],
            "image/png": "[encoded data removed]"
          },
          "metadata": {
            "needs_background": "light"
          }
        },
        {
          "output_type": "stream",
          "name": "stdout",
          "text": [
            "RMSE  LinearRegression_train_valid : 0.09778796793529762\n"
          ]
        },
        {
          "output_type": "display_data",
          "data": {
            "text/plain": [
              "<Figure size 864x432 with 1 Axes>"
            ],
            "image/png": "[encoded data removed]"
          },
          "metadata": {
            "needs_background": "light"
          }
        },
        {
          "output_type": "stream",
          "name": "stdout",
          "text": [
            "RMSE  CatBoostRegressor_train_valid : 0.4753819211213744\n"
          ]
        },
        {
          "output_type": "display_data",
          "data": {
            "text/plain": [
              "<Figure size 864x432 with 1 Axes>"
            ],
            "image/png": "[encoded data removed]"
          },
          "metadata": {
            "needs_background": "light"
          }
        }
      ]
    },
    {
      "cell_type": "code",
      "source": [
        "df_result = pd.DataFrame(data=df, columns=col_data) # таблица с результатами"
      ],
      "metadata": {
        "id": "HdILmtExiPOY"
      },
      "execution_count": 82,
      "outputs": []
    },
    {
      "cell_type": "code",
      "source": [
        "df_result"
      ],
      "metadata": {
        "colab": {
          "base_uri": "https://localhost:8080/",
          "height": 771
        },
        "id": "7X2yxrJWiRFm",
        "outputId": "64e7964e-6f55-4465-90b4-22074e982c36"
      },
      "execution_count": 83,
      "outputs": [
        {
          "output_type": "execute_result",
          "data": {
            "text/plain": [
              "                                model    type_data      RMSE\n",
              "0                   CatBoostRegressor        train  0.256643\n",
              "1                        XGBRegressor        train  1.152183\n",
              "2                   LightGBMRegressor        train  3.303598\n",
              "3               RandomForestRegressor        train  1.207111\n",
              "4                    LinearRegression        train  0.131374\n",
              "5                                   -            -         -\n",
              "6                        XGBRegressor         test  0.832845\n",
              "7                   LightGBMRegressor         test  1.298981\n",
              "8               RandomForestRegressor         test  0.372001\n",
              "9                    LinearRegression         test   0.32794\n",
              "10                  CatBoostRegressor         test  0.613146\n",
              "11                                  -            -         -\n",
              "12                       XGBRegressor  train_valid   1.01077\n",
              "13                  LightGBMRegressor  train_valid  3.081862\n",
              "14              RandomForestRegressor  train_valid  0.532909\n",
              "15                   LinearRegression  train_valid  0.145092\n",
              "16                          model_CBR  train_valid  0.245997\n",
              "17                                  -            -         -\n",
              "18           XGBRegressor_train_valid         test  0.155076\n",
              "19      LightGBMRegressor_train_valid         test  1.253417\n",
              "20  RandomForestRegressor_train_valid         test   0.47061\n",
              "21       LinearRegression_train_valid         test  0.097788\n",
              "22      CatBoostRegressor_train_valid         test  0.475382"
            ],
            "text/html": [
              "\n",
              "  <div id=\"df-dd650b47-5f87-48c2-8e69-6e4ac16849df\">\n",
              "    <div class=\"colab-df-container\">\n",
              "      <div>\n",
              "<style scoped>\n",
              "    .dataframe tbody tr th:only-of-type {\n",
              "        vertical-align: middle;\n",
              "    }\n",
              "\n",
              "    .dataframe tbody tr th {\n",
              "        vertical-align: top;\n",
              "    }\n",
              "\n",
              "    .dataframe thead th {\n",
              "        text-align: right;\n",
              "    }\n",
              "</style>\n",
              "<table border=\"1\" class=\"dataframe\">\n",
              "  <thead>\n",
              "    <tr style=\"text-align: right;\">\n",
              "      <th></th>\n",
              "      <th>model</th>\n",
              "      <th>type_data</th>\n",
              "      <th>RMSE</th>\n",
              "    </tr>\n",
              "  </thead>\n",
              "  <tbody>\n",
              "    <tr>\n",
              "      <th>0</th>\n",
              "      <td>CatBoostRegressor</td>\n",
              "      <td>train</td>\n",
              "      <td>0.256643</td>\n",
              "    </tr>\n",
              "    <tr>\n",
              "      <th>1</th>\n",
              "      <td>XGBRegressor</td>\n",
              "      <td>train</td>\n",
              "      <td>1.152183</td>\n",
              "    </tr>\n",
              "    <tr>\n",
              "      <th>2</th>\n",
              "      <td>LightGBMRegressor</td>\n",
              "      <td>train</td>\n",
              "      <td>3.303598</td>\n",
              "    </tr>\n",
              "    <tr>\n",
              "      <th>3</th>\n",
              "      <td>RandomForestRegressor</td>\n",
              "      <td>train</td>\n",
              "      <td>1.207111</td>\n",
              "    </tr>\n",
              "    <tr>\n",
              "      <th>4</th>\n",
              "      <td>LinearRegression</td>\n",
              "      <td>train</td>\n",
              "      <td>0.131374</td>\n",
              "    </tr>\n",
              "    <tr>\n",
              "      <th>5</th>\n",
              "      <td>-</td>\n",
              "      <td>-</td>\n",
              "      <td>-</td>\n",
              "    </tr>\n",
              "    <tr>\n",
              "      <th>6</th>\n",
              "      <td>XGBRegressor</td>\n",
              "      <td>test</td>\n",
              "      <td>0.832845</td>\n",
              "    </tr>\n",
              "    <tr>\n",
              "      <th>7</th>\n",
              "      <td>LightGBMRegressor</td>\n",
              "      <td>test</td>\n",
              "      <td>1.298981</td>\n",
              "    </tr>\n",
              "    <tr>\n",
              "      <th>8</th>\n",
              "      <td>RandomForestRegressor</td>\n",
              "      <td>test</td>\n",
              "      <td>0.372001</td>\n",
              "    </tr>\n",
              "    <tr>\n",
              "      <th>9</th>\n",
              "      <td>LinearRegression</td>\n",
              "      <td>test</td>\n",
              "      <td>0.32794</td>\n",
              "    </tr>\n",
              "    <tr>\n",
              "      <th>10</th>\n",
              "      <td>CatBoostRegressor</td>\n",
              "      <td>test</td>\n",
              "      <td>0.613146</td>\n",
              "    </tr>\n",
              "    <tr>\n",
              "      <th>11</th>\n",
              "      <td>-</td>\n",
              "      <td>-</td>\n",
              "      <td>-</td>\n",
              "    </tr>\n",
              "    <tr>\n",
              "      <th>12</th>\n",
              "      <td>XGBRegressor</td>\n",
              "      <td>train_valid</td>\n",
              "      <td>1.01077</td>\n",
              "    </tr>\n",
              "    <tr>\n",
              "      <th>13</th>\n",
              "      <td>LightGBMRegressor</td>\n",
              "      <td>train_valid</td>\n",
              "      <td>3.081862</td>\n",
              "    </tr>\n",
              "    <tr>\n",
              "      <th>14</th>\n",
              "      <td>RandomForestRegressor</td>\n",
              "      <td>train_valid</td>\n",
              "      <td>0.532909</td>\n",
              "    </tr>\n",
              "    <tr>\n",
              "      <th>15</th>\n",
              "      <td>LinearRegression</td>\n",
              "      <td>train_valid</td>\n",
              "      <td>0.145092</td>\n",
              "    </tr>\n",
              "    <tr>\n",
              "      <th>16</th>\n",
              "      <td>model_CBR</td>\n",
              "      <td>train_valid</td>\n",
              "      <td>0.245997</td>\n",
              "    </tr>\n",
              "    <tr>\n",
              "      <th>17</th>\n",
              "      <td>-</td>\n",
              "      <td>-</td>\n",
              "      <td>-</td>\n",
              "    </tr>\n",
              "    <tr>\n",
              "      <th>18</th>\n",
              "      <td>XGBRegressor_train_valid</td>\n",
              "      <td>test</td>\n",
              "      <td>0.155076</td>\n",
              "    </tr>\n",
              "    <tr>\n",
              "      <th>19</th>\n",
              "      <td>LightGBMRegressor_train_valid</td>\n",
              "      <td>test</td>\n",
              "      <td>1.253417</td>\n",
              "    </tr>\n",
              "    <tr>\n",
              "      <th>20</th>\n",
              "      <td>RandomForestRegressor_train_valid</td>\n",
              "      <td>test</td>\n",
              "      <td>0.47061</td>\n",
              "    </tr>\n",
              "    <tr>\n",
              "      <th>21</th>\n",
              "      <td>LinearRegression_train_valid</td>\n",
              "      <td>test</td>\n",
              "      <td>0.097788</td>\n",
              "    </tr>\n",
              "    <tr>\n",
              "      <th>22</th>\n",
              "      <td>CatBoostRegressor_train_valid</td>\n",
              "      <td>test</td>\n",
              "      <td>0.475382</td>\n",
              "    </tr>\n",
              "  </tbody>\n",
              "</table>\n",
              "</div>\n",
              "      <button class=\"colab-df-convert\" onclick=\"convertToInteractive('df-dd650b47-5f87-48c2-8e69-6e4ac16849df')\"\n",
              "              title=\"Convert this dataframe to an interactive table.\"\n",
              "              style=\"display:none;\">\n",
              "        \n",
              "  <svg xmlns=\"http://www.w3.org/2000/svg\" height=\"24px\"viewBox=\"0 0 24 24\"\n",
              "       width=\"24px\">\n",
              "    <path d=\"M0 0h24v24H0V0z\" fill=\"none\"/>\n",
              "    <path d=\"M18.56 5.44l.94 2.06.94-2.06 2.06-.94-2.06-.94-.94-2.06-.94 2.06-2.06.94zm-11 1L8.5 8.5l.94-2.06 2.06-.94-2.06-.94L8.5 2.5l-.94 2.06-2.06.94zm10 10l.94 2.06.94-2.06 2.06-.94-2.06-.94-.94-2.06-.94 2.06-2.06.94z\"/><path d=\"M17.41 7.96l-1.37-1.37c-.4-.4-.92-.59-1.43-.59-.52 0-1.04.2-1.43.59L10.3 9.45l-7.72 7.72c-.78.78-.78 2.05 0 2.83L4 21.41c.39.39.9.59 1.41.59.51 0 1.02-.2 1.41-.59l7.78-7.78 2.81-2.81c.8-.78.8-2.07 0-2.86zM5.41 20L4 18.59l7.72-7.72 1.47 1.35L5.41 20z\"/>\n",
              "  </svg>\n",
              "      </button>\n",
              "      \n",
              "  <style>\n",
              "    .colab-df-container {\n",
              "      display:flex;\n",
              "      flex-wrap:wrap;\n",
              "      gap: 12px;\n",
              "    }\n",
              "\n",
              "    .colab-df-convert {\n",
              "      background-color: #E8F0FE;\n",
              "      border: none;\n",
              "      border-radius: 50%;\n",
              "      cursor: pointer;\n",
              "      display: none;\n",
              "      fill: #1967D2;\n",
              "      height: 32px;\n",
              "      padding: 0 0 0 0;\n",
              "      width: 32px;\n",
              "    }\n",
              "\n",
              "    .colab-df-convert:hover {\n",
              "      background-color: #E2EBFA;\n",
              "      box-shadow: 0px 1px 2px rgba(60, 64, 67, 0.3), 0px 1px 3px 1px rgba(60, 64, 67, 0.15);\n",
              "      fill: #174EA6;\n",
              "    }\n",
              "\n",
              "    [theme=dark] .colab-df-convert {\n",
              "      background-color: #3B4455;\n",
              "      fill: #D2E3FC;\n",
              "    }\n",
              "\n",
              "    [theme=dark] .colab-df-convert:hover {\n",
              "      background-color: #434B5C;\n",
              "      box-shadow: 0px 1px 3px 1px rgba(0, 0, 0, 0.15);\n",
              "      filter: drop-shadow(0px 1px 2px rgba(0, 0, 0, 0.3));\n",
              "      fill: #FFFFFF;\n",
              "    }\n",
              "  </style>\n",
              "\n",
              "      <script>\n",
              "        const buttonEl =\n",
              "          document.querySelector('#df-dd650b47-5f87-48c2-8e69-6e4ac16849df button.colab-df-convert');\n",
              "        buttonEl.style.display =\n",
              "          google.colab.kernel.accessAllowed ? 'block' : 'none';\n",
              "\n",
              "        async function convertToInteractive(key) {\n",
              "          const element = document.querySelector('#df-dd650b47-5f87-48c2-8e69-6e4ac16849df');\n",
              "          const dataTable =\n",
              "            await google.colab.kernel.invokeFunction('convertToInteractive',\n",
              "                                                     [key], {});\n",
              "          if (!dataTable) return;\n",
              "\n",
              "          const docLinkHtml = 'Like what you see? Visit the ' +\n",
              "            '<a target=\"_blank\" href=https://colab.research.google.com/notebooks/data_table.ipynb>data table notebook</a>'\n",
              "            + ' to learn more about interactive tables.';\n",
              "          element.innerHTML = '';\n",
              "          dataTable['output_type'] = 'display_data';\n",
              "          await google.colab.output.renderOutput(dataTable, element);\n",
              "          const docLink = document.createElement('div');\n",
              "          docLink.innerHTML = docLinkHtml;\n",
              "          element.appendChild(docLink);\n",
              "        }\n",
              "      </script>\n",
              "    </div>\n",
              "  </div>\n",
              "  "
            ]
          },
          "metadata": {},
          "execution_count": 83
        }
      ]
    },
    {
      "cell_type": "code",
      "source": [
        "model = [model_XGBR, \n",
        "         model_LGBMR, \n",
        "         best_modelRFR,\n",
        "         modelLinR,\n",
        "         model_CBR]"
      ],
      "metadata": {
        "id": "2DwVX4GRiRDB"
      },
      "execution_count": 84,
      "outputs": []
    },
    {
      "cell_type": "code",
      "source": [
        "target_test"
      ],
      "metadata": {
        "colab": {
          "base_uri": "https://localhost:8080/"
        },
        "id": "preswm0BiRAM",
        "outputId": "f2d8c73e-b4c2-4250-98d5-14bbfdd79865"
      },
      "execution_count": 85,
      "outputs": [
        {
          "output_type": "execute_result",
          "data": {
            "text/plain": [
              "Дата\n",
              "2022-06-07    4\n",
              "2022-06-08    2\n",
              "2022-06-09    5\n",
              "2022-06-10    0\n",
              "2022-06-11    3\n",
              "2022-06-12    6\n",
              "2022-06-13    3\n",
              "2022-06-14    1\n",
              "2022-06-15    3\n",
              "Name: Продажи, dtype: int64"
            ]
          },
          "metadata": {},
          "execution_count": 85
        }
      ]
    },
    {
      "cell_type": "code",
      "source": [
        "best_modelRFR.predict(features_test)"
      ],
      "metadata": {
        "colab": {
          "base_uri": "https://localhost:8080/"
        },
        "id": "efkML09gk744",
        "outputId": "158c2160-a6ef-442f-e255-4b637e21b9aa"
      },
      "execution_count": 86,
      "outputs": [
        {
          "output_type": "execute_result",
          "data": {
            "text/plain": [
              "array([4.26475257, 1.73894737, 4.56475257, 0.98      , 3.07306502,\n",
              "       6.83015873, 3.07306502, 1.        , 3.07306502])"
            ]
          },
          "metadata": {},
          "execution_count": 86
        }
      ]
    },
    {
      "cell_type": "markdown",
      "source": [
        "--------------"
      ],
      "metadata": {
        "id": "6IVs9IcQmr-5"
      }
    },
    {
      "cell_type": "code",
      "source": [
        "features_test"
      ],
      "metadata": {
        "colab": {
          "base_uri": "https://localhost:8080/",
          "height": 601
        },
        "id": "hRSJUP1bml-3",
        "outputId": "af9d427a-7b1c-4f93-b236-ef54dc2361e3"
      },
      "execution_count": 87,
      "outputs": [
        {
          "output_type": "execute_result",
          "data": {
            "text/plain": [
              "            Остаток    Цена  Скидка  Цена со скидкой  Сумма продаж  \\\n",
              "Дата                                                                 \n",
              "2022-06-07    417.0  2442.0    77.0            561.0        2244.0   \n",
              "2022-06-08    417.0  2442.0    77.0            561.0        1122.0   \n",
              "2022-06-09    416.0  2442.0    77.0            561.0        2805.0   \n",
              "2022-06-10    416.0  2442.0    77.0            561.0           0.0   \n",
              "2022-06-11    416.0  2442.0    77.0            561.0        1683.0   \n",
              "2022-06-12    412.0  2442.0    77.0            561.0        3366.0   \n",
              "2022-06-13    413.0  2442.0    77.0            561.0        1683.0   \n",
              "2022-06-14    413.0  2442.0    77.0            561.0         561.0   \n",
              "2022-06-15    410.0  2442.0    77.0            561.0        1683.0   \n",
              "\n",
              "            Комментариев  Рейтинг  month  day  dayofweek  lag_1  lag_2  lag_3  \\\n",
              "Дата                                                                            \n",
              "2022-06-07         332.0      4.0      6    7          1    3.0    4.0    3.0   \n",
              "2022-06-08         332.0      4.0      6    8          2    4.0    3.0    4.0   \n",
              "2022-06-09         332.0      4.0      6    9          3    2.0    4.0    3.0   \n",
              "2022-06-10         332.0      4.0      6   10          4    5.0    2.0    4.0   \n",
              "2022-06-11         332.0      4.0      6   11          5    0.0    5.0    2.0   \n",
              "2022-06-12         332.0      4.0      6   12          6    3.0    0.0    5.0   \n",
              "2022-06-13         332.0      4.0      6   13          0    6.0    3.0    0.0   \n",
              "2022-06-14         332.0      4.0      6   14          1    3.0    6.0    3.0   \n",
              "2022-06-15         332.0      4.0      6   15          2    1.0    3.0    6.0   \n",
              "\n",
              "            lag_4  lag_5  lag_6  lag_7  rolling_mean  \n",
              "Дата                                                  \n",
              "2022-06-07    3.0    1.0    3.0    4.0      3.333333  \n",
              "2022-06-08    3.0    3.0    1.0    3.0      3.666667  \n",
              "2022-06-09    4.0    3.0    3.0    1.0      3.000000  \n",
              "2022-06-10    3.0    4.0    3.0    3.0      3.666667  \n",
              "2022-06-11    4.0    3.0    4.0    3.0      2.333333  \n",
              "2022-06-12    2.0    4.0    3.0    4.0      2.666667  \n",
              "2022-06-13    5.0    2.0    4.0    3.0      3.000000  \n",
              "2022-06-14    0.0    5.0    2.0    4.0      4.000000  \n",
              "2022-06-15    3.0    0.0    5.0    2.0      3.333333  "
            ],
            "text/html": [
              "\n",
              "  <div id=\"df-d8f61d93-54f7-43a4-b7d9-3316d13c1146\">\n",
              "    <div class=\"colab-df-container\">\n",
              "      <div>\n",
              "<style scoped>\n",
              "    .dataframe tbody tr th:only-of-type {\n",
              "        vertical-align: middle;\n",
              "    }\n",
              "\n",
              "    .dataframe tbody tr th {\n",
              "        vertical-align: top;\n",
              "    }\n",
              "\n",
              "    .dataframe thead th {\n",
              "        text-align: right;\n",
              "    }\n",
              "</style>\n",
              "<table border=\"1\" class=\"dataframe\">\n",
              "  <thead>\n",
              "    <tr style=\"text-align: right;\">\n",
              "      <th></th>\n",
              "      <th>Остаток</th>\n",
              "      <th>Цена</th>\n",
              "      <th>Скидка</th>\n",
              "      <th>Цена со скидкой</th>\n",
              "      <th>Сумма продаж</th>\n",
              "      <th>Комментариев</th>\n",
              "      <th>Рейтинг</th>\n",
              "      <th>month</th>\n",
              "      <th>day</th>\n",
              "      <th>dayofweek</th>\n",
              "      <th>lag_1</th>\n",
              "      <th>lag_2</th>\n",
              "      <th>lag_3</th>\n",
              "      <th>lag_4</th>\n",
              "      <th>lag_5</th>\n",
              "      <th>lag_6</th>\n",
              "      <th>lag_7</th>\n",
              "      <th>rolling_mean</th>\n",
              "    </tr>\n",
              "    <tr>\n",
              "      <th>Дата</th>\n",
              "      <th></th>\n",
              "      <th></th>\n",
              "      <th></th>\n",
              "      <th></th>\n",
              "      <th></th>\n",
              "      <th></th>\n",
              "      <th></th>\n",
              "      <th></th>\n",
              "      <th></th>\n",
              "      <th></th>\n",
              "      <th></th>\n",
              "      <th></th>\n",
              "      <th></th>\n",
              "      <th></th>\n",
              "      <th></th>\n",
              "      <th></th>\n",
              "      <th></th>\n",
              "      <th></th>\n",
              "    </tr>\n",
              "  </thead>\n",
              "  <tbody>\n",
              "    <tr>\n",
              "      <th>2022-06-07</th>\n",
              "      <td>417.0</td>\n",
              "      <td>2442.0</td>\n",
              "      <td>77.0</td>\n",
              "      <td>561.0</td>\n",
              "      <td>2244.0</td>\n",
              "      <td>332.0</td>\n",
              "      <td>4.0</td>\n",
              "      <td>6</td>\n",
              "      <td>7</td>\n",
              "      <td>1</td>\n",
              "      <td>3.0</td>\n",
              "      <td>4.0</td>\n",
              "      <td>3.0</td>\n",
              "      <td>3.0</td>\n",
              "      <td>1.0</td>\n",
              "      <td>3.0</td>\n",
              "      <td>4.0</td>\n",
              "      <td>3.333333</td>\n",
              "    </tr>\n",
              "    <tr>\n",
              "      <th>2022-06-08</th>\n",
              "      <td>417.0</td>\n",
              "      <td>2442.0</td>\n",
              "      <td>77.0</td>\n",
              "      <td>561.0</td>\n",
              "      <td>1122.0</td>\n",
              "      <td>332.0</td>\n",
              "      <td>4.0</td>\n",
              "      <td>6</td>\n",
              "      <td>8</td>\n",
              "      <td>2</td>\n",
              "      <td>4.0</td>\n",
              "      <td>3.0</td>\n",
              "      <td>4.0</td>\n",
              "      <td>3.0</td>\n",
              "      <td>3.0</td>\n",
              "      <td>1.0</td>\n",
              "      <td>3.0</td>\n",
              "      <td>3.666667</td>\n",
              "    </tr>\n",
              "    <tr>\n",
              "      <th>2022-06-09</th>\n",
              "      <td>416.0</td>\n",
              "      <td>2442.0</td>\n",
              "      <td>77.0</td>\n",
              "      <td>561.0</td>\n",
              "      <td>2805.0</td>\n",
              "      <td>332.0</td>\n",
              "      <td>4.0</td>\n",
              "      <td>6</td>\n",
              "      <td>9</td>\n",
              "      <td>3</td>\n",
              "      <td>2.0</td>\n",
              "      <td>4.0</td>\n",
              "      <td>3.0</td>\n",
              "      <td>4.0</td>\n",
              "      <td>3.0</td>\n",
              "      <td>3.0</td>\n",
              "      <td>1.0</td>\n",
              "      <td>3.000000</td>\n",
              "    </tr>\n",
              "    <tr>\n",
              "      <th>2022-06-10</th>\n",
              "      <td>416.0</td>\n",
              "      <td>2442.0</td>\n",
              "      <td>77.0</td>\n",
              "      <td>561.0</td>\n",
              "      <td>0.0</td>\n",
              "      <td>332.0</td>\n",
              "      <td>4.0</td>\n",
              "      <td>6</td>\n",
              "      <td>10</td>\n",
              "      <td>4</td>\n",
              "      <td>5.0</td>\n",
              "      <td>2.0</td>\n",
              "      <td>4.0</td>\n",
              "      <td>3.0</td>\n",
              "      <td>4.0</td>\n",
              "      <td>3.0</td>\n",
              "      <td>3.0</td>\n",
              "      <td>3.666667</td>\n",
              "    </tr>\n",
              "    <tr>\n",
              "      <th>2022-06-11</th>\n",
              "      <td>416.0</td>\n",
              "      <td>2442.0</td>\n",
              "      <td>77.0</td>\n",
              "      <td>561.0</td>\n",
              "      <td>1683.0</td>\n",
              "      <td>332.0</td>\n",
              "      <td>4.0</td>\n",
              "      <td>6</td>\n",
              "      <td>11</td>\n",
              "      <td>5</td>\n",
              "      <td>0.0</td>\n",
              "      <td>5.0</td>\n",
              "      <td>2.0</td>\n",
              "      <td>4.0</td>\n",
              "      <td>3.0</td>\n",
              "      <td>4.0</td>\n",
              "      <td>3.0</td>\n",
              "      <td>2.333333</td>\n",
              "    </tr>\n",
              "    <tr>\n",
              "      <th>2022-06-12</th>\n",
              "      <td>412.0</td>\n",
              "      <td>2442.0</td>\n",
              "      <td>77.0</td>\n",
              "      <td>561.0</td>\n",
              "      <td>3366.0</td>\n",
              "      <td>332.0</td>\n",
              "      <td>4.0</td>\n",
              "      <td>6</td>\n",
              "      <td>12</td>\n",
              "      <td>6</td>\n",
              "      <td>3.0</td>\n",
              "      <td>0.0</td>\n",
              "      <td>5.0</td>\n",
              "      <td>2.0</td>\n",
              "      <td>4.0</td>\n",
              "      <td>3.0</td>\n",
              "      <td>4.0</td>\n",
              "      <td>2.666667</td>\n",
              "    </tr>\n",
              "    <tr>\n",
              "      <th>2022-06-13</th>\n",
              "      <td>413.0</td>\n",
              "      <td>2442.0</td>\n",
              "      <td>77.0</td>\n",
              "      <td>561.0</td>\n",
              "      <td>1683.0</td>\n",
              "      <td>332.0</td>\n",
              "      <td>4.0</td>\n",
              "      <td>6</td>\n",
              "      <td>13</td>\n",
              "      <td>0</td>\n",
              "      <td>6.0</td>\n",
              "      <td>3.0</td>\n",
              "      <td>0.0</td>\n",
              "      <td>5.0</td>\n",
              "      <td>2.0</td>\n",
              "      <td>4.0</td>\n",
              "      <td>3.0</td>\n",
              "      <td>3.000000</td>\n",
              "    </tr>\n",
              "    <tr>\n",
              "      <th>2022-06-14</th>\n",
              "      <td>413.0</td>\n",
              "      <td>2442.0</td>\n",
              "      <td>77.0</td>\n",
              "      <td>561.0</td>\n",
              "      <td>561.0</td>\n",
              "      <td>332.0</td>\n",
              "      <td>4.0</td>\n",
              "      <td>6</td>\n",
              "      <td>14</td>\n",
              "      <td>1</td>\n",
              "      <td>3.0</td>\n",
              "      <td>6.0</td>\n",
              "      <td>3.0</td>\n",
              "      <td>0.0</td>\n",
              "      <td>5.0</td>\n",
              "      <td>2.0</td>\n",
              "      <td>4.0</td>\n",
              "      <td>4.000000</td>\n",
              "    </tr>\n",
              "    <tr>\n",
              "      <th>2022-06-15</th>\n",
              "      <td>410.0</td>\n",
              "      <td>2442.0</td>\n",
              "      <td>77.0</td>\n",
              "      <td>561.0</td>\n",
              "      <td>1683.0</td>\n",
              "      <td>332.0</td>\n",
              "      <td>4.0</td>\n",
              "      <td>6</td>\n",
              "      <td>15</td>\n",
              "      <td>2</td>\n",
              "      <td>1.0</td>\n",
              "      <td>3.0</td>\n",
              "      <td>6.0</td>\n",
              "      <td>3.0</td>\n",
              "      <td>0.0</td>\n",
              "      <td>5.0</td>\n",
              "      <td>2.0</td>\n",
              "      <td>3.333333</td>\n",
              "    </tr>\n",
              "  </tbody>\n",
              "</table>\n",
              "</div>\n",
              "      <button class=\"colab-df-convert\" onclick=\"convertToInteractive('df-d8f61d93-54f7-43a4-b7d9-3316d13c1146')\"\n",
              "              title=\"Convert this dataframe to an interactive table.\"\n",
              "              style=\"display:none;\">\n",
              "        \n",
              "  <svg xmlns=\"http://www.w3.org/2000/svg\" height=\"24px\"viewBox=\"0 0 24 24\"\n",
              "       width=\"24px\">\n",
              "    <path d=\"M0 0h24v24H0V0z\" fill=\"none\"/>\n",
              "    <path d=\"M18.56 5.44l.94 2.06.94-2.06 2.06-.94-2.06-.94-.94-2.06-.94 2.06-2.06.94zm-11 1L8.5 8.5l.94-2.06 2.06-.94-2.06-.94L8.5 2.5l-.94 2.06-2.06.94zm10 10l.94 2.06.94-2.06 2.06-.94-2.06-.94-.94-2.06-.94 2.06-2.06.94z\"/><path d=\"M17.41 7.96l-1.37-1.37c-.4-.4-.92-.59-1.43-.59-.52 0-1.04.2-1.43.59L10.3 9.45l-7.72 7.72c-.78.78-.78 2.05 0 2.83L4 21.41c.39.39.9.59 1.41.59.51 0 1.02-.2 1.41-.59l7.78-7.78 2.81-2.81c.8-.78.8-2.07 0-2.86zM5.41 20L4 18.59l7.72-7.72 1.47 1.35L5.41 20z\"/>\n",
              "  </svg>\n",
              "      </button>\n",
              "      \n",
              "  <style>\n",
              "    .colab-df-container {\n",
              "      display:flex;\n",
              "      flex-wrap:wrap;\n",
              "      gap: 12px;\n",
              "    }\n",
              "\n",
              "    .colab-df-convert {\n",
              "      background-color: #E8F0FE;\n",
              "      border: none;\n",
              "      border-radius: 50%;\n",
              "      cursor: pointer;\n",
              "      display: none;\n",
              "      fill: #1967D2;\n",
              "      height: 32px;\n",
              "      padding: 0 0 0 0;\n",
              "      width: 32px;\n",
              "    }\n",
              "\n",
              "    .colab-df-convert:hover {\n",
              "      background-color: #E2EBFA;\n",
              "      box-shadow: 0px 1px 2px rgba(60, 64, 67, 0.3), 0px 1px 3px 1px rgba(60, 64, 67, 0.15);\n",
              "      fill: #174EA6;\n",
              "    }\n",
              "\n",
              "    [theme=dark] .colab-df-convert {\n",
              "      background-color: #3B4455;\n",
              "      fill: #D2E3FC;\n",
              "    }\n",
              "\n",
              "    [theme=dark] .colab-df-convert:hover {\n",
              "      background-color: #434B5C;\n",
              "      box-shadow: 0px 1px 3px 1px rgba(0, 0, 0, 0.15);\n",
              "      filter: drop-shadow(0px 1px 2px rgba(0, 0, 0, 0.3));\n",
              "      fill: #FFFFFF;\n",
              "    }\n",
              "  </style>\n",
              "\n",
              "      <script>\n",
              "        const buttonEl =\n",
              "          document.querySelector('#df-d8f61d93-54f7-43a4-b7d9-3316d13c1146 button.colab-df-convert');\n",
              "        buttonEl.style.display =\n",
              "          google.colab.kernel.accessAllowed ? 'block' : 'none';\n",
              "\n",
              "        async function convertToInteractive(key) {\n",
              "          const element = document.querySelector('#df-d8f61d93-54f7-43a4-b7d9-3316d13c1146');\n",
              "          const dataTable =\n",
              "            await google.colab.kernel.invokeFunction('convertToInteractive',\n",
              "                                                     [key], {});\n",
              "          if (!dataTable) return;\n",
              "\n",
              "          const docLinkHtml = 'Like what you see? Visit the ' +\n",
              "            '<a target=\"_blank\" href=https://colab.research.google.com/notebooks/data_table.ipynb>data table notebook</a>'\n",
              "            + ' to learn more about interactive tables.';\n",
              "          element.innerHTML = '';\n",
              "          dataTable['output_type'] = 'display_data';\n",
              "          await google.colab.output.renderOutput(dataTable, element);\n",
              "          const docLink = document.createElement('div');\n",
              "          docLink.innerHTML = docLinkHtml;\n",
              "          element.appendChild(docLink);\n",
              "        }\n",
              "      </script>\n",
              "    </div>\n",
              "  </div>\n",
              "  "
            ]
          },
          "metadata": {},
          "execution_count": 87
        }
      ]
    },
    {
      "cell_type": "code",
      "source": [
        "data_features"
      ],
      "metadata": {
        "colab": {
          "base_uri": "https://localhost:8080/",
          "height": 710
        },
        "id": "SNP9_RH9mvra",
        "outputId": "71dab292-6836-44a0-be5a-679b64bda764"
      },
      "execution_count": 88,
      "outputs": [
        {
          "output_type": "execute_result",
          "data": {
            "text/plain": [
              "            Продажи  Остаток    Цена  Скидка  Цена со скидкой  Сумма продаж  \\\n",
              "Дата                                                                          \n",
              "2022-03-22       10    180.0  2442.0    74.0            634.0        6340.0   \n",
              "2022-03-23        5    180.0  2442.0    74.0            634.0        3170.0   \n",
              "2022-03-24        6    175.0  2442.0    74.0            634.0        3804.0   \n",
              "2022-03-25        7    174.0  2442.0    74.0            634.0        4438.0   \n",
              "2022-03-26        4    171.0  2442.0    74.0            634.0        2536.0   \n",
              "...             ...      ...     ...     ...              ...           ...   \n",
              "2022-06-11        3    416.0  2442.0    77.0            561.0        1683.0   \n",
              "2022-06-12        6    412.0  2442.0    77.0            561.0        3366.0   \n",
              "2022-06-13        3    413.0  2442.0    77.0            561.0        1683.0   \n",
              "2022-06-14        1    413.0  2442.0    77.0            561.0         561.0   \n",
              "2022-06-15        3    410.0  2442.0    77.0            561.0        1683.0   \n",
              "\n",
              "            Комментариев  Рейтинг  month  day  dayofweek  lag_1  lag_2  lag_3  \\\n",
              "Дата                                                                            \n",
              "2022-03-22         307.0      4.0      3   22          1    7.0    5.0    7.0   \n",
              "2022-03-23         307.0      4.0      3   23          2   10.0    7.0    5.0   \n",
              "2022-03-24         307.0      4.0      3   24          3    5.0   10.0    7.0   \n",
              "2022-03-25         307.0      4.0      3   25          4    6.0    5.0   10.0   \n",
              "2022-03-26         307.0      4.0      3   26          5    7.0    6.0    5.0   \n",
              "...                  ...      ...    ...  ...        ...    ...    ...    ...   \n",
              "2022-06-11         332.0      4.0      6   11          5    0.0    5.0    2.0   \n",
              "2022-06-12         332.0      4.0      6   12          6    3.0    0.0    5.0   \n",
              "2022-06-13         332.0      4.0      6   13          0    6.0    3.0    0.0   \n",
              "2022-06-14         332.0      4.0      6   14          1    3.0    6.0    3.0   \n",
              "2022-06-15         332.0      4.0      6   15          2    1.0    3.0    6.0   \n",
              "\n",
              "            lag_4  lag_5  lag_6  lag_7  rolling_mean  \n",
              "Дата                                                  \n",
              "2022-03-22    2.0    6.0    4.0    8.0      6.333333  \n",
              "2022-03-23    7.0    2.0    6.0    4.0      7.333333  \n",
              "2022-03-24    5.0    7.0    2.0    6.0      7.333333  \n",
              "2022-03-25    7.0    5.0    7.0    2.0      7.000000  \n",
              "2022-03-26   10.0    7.0    5.0    7.0      6.000000  \n",
              "...           ...    ...    ...    ...           ...  \n",
              "2022-06-11    4.0    3.0    4.0    3.0      2.333333  \n",
              "2022-06-12    2.0    4.0    3.0    4.0      2.666667  \n",
              "2022-06-13    5.0    2.0    4.0    3.0      3.000000  \n",
              "2022-06-14    0.0    5.0    2.0    4.0      4.000000  \n",
              "2022-06-15    3.0    0.0    5.0    2.0      3.333333  \n",
              "\n",
              "[86 rows x 19 columns]"
            ],
            "text/html": [
              "\n",
              "  <div id=\"df-4bfdfa47-a747-4e4b-88e9-ef4406fb84c1\">\n",
              "    <div class=\"colab-df-container\">\n",
              "      <div>\n",
              "<style scoped>\n",
              "    .dataframe tbody tr th:only-of-type {\n",
              "        vertical-align: middle;\n",
              "    }\n",
              "\n",
              "    .dataframe tbody tr th {\n",
              "        vertical-align: top;\n",
              "    }\n",
              "\n",
              "    .dataframe thead th {\n",
              "        text-align: right;\n",
              "    }\n",
              "</style>\n",
              "<table border=\"1\" class=\"dataframe\">\n",
              "  <thead>\n",
              "    <tr style=\"text-align: right;\">\n",
              "      <th></th>\n",
              "      <th>Продажи</th>\n",
              "      <th>Остаток</th>\n",
              "      <th>Цена</th>\n",
              "      <th>Скидка</th>\n",
              "      <th>Цена со скидкой</th>\n",
              "      <th>Сумма продаж</th>\n",
              "      <th>Комментариев</th>\n",
              "      <th>Рейтинг</th>\n",
              "      <th>month</th>\n",
              "      <th>day</th>\n",
              "      <th>dayofweek</th>\n",
              "      <th>lag_1</th>\n",
              "      <th>lag_2</th>\n",
              "      <th>lag_3</th>\n",
              "      <th>lag_4</th>\n",
              "      <th>lag_5</th>\n",
              "      <th>lag_6</th>\n",
              "      <th>lag_7</th>\n",
              "      <th>rolling_mean</th>\n",
              "    </tr>\n",
              "    <tr>\n",
              "      <th>Дата</th>\n",
              "      <th></th>\n",
              "      <th></th>\n",
              "      <th></th>\n",
              "      <th></th>\n",
              "      <th></th>\n",
              "      <th></th>\n",
              "      <th></th>\n",
              "      <th></th>\n",
              "      <th></th>\n",
              "      <th></th>\n",
              "      <th></th>\n",
              "      <th></th>\n",
              "      <th></th>\n",
              "      <th></th>\n",
              "      <th></th>\n",
              "      <th></th>\n",
              "      <th></th>\n",
              "      <th></th>\n",
              "      <th></th>\n",
              "    </tr>\n",
              "  </thead>\n",
              "  <tbody>\n",
              "    <tr>\n",
              "      <th>2022-03-22</th>\n",
              "      <td>10</td>\n",
              "      <td>180.0</td>\n",
              "      <td>2442.0</td>\n",
              "      <td>74.0</td>\n",
              "      <td>634.0</td>\n",
              "      <td>6340.0</td>\n",
              "      <td>307.0</td>\n",
              "      <td>4.0</td>\n",
              "      <td>3</td>\n",
              "      <td>22</td>\n",
              "      <td>1</td>\n",
              "      <td>7.0</td>\n",
              "      <td>5.0</td>\n",
              "      <td>7.0</td>\n",
              "      <td>2.0</td>\n",
              "      <td>6.0</td>\n",
              "      <td>4.0</td>\n",
              "      <td>8.0</td>\n",
              "      <td>6.333333</td>\n",
              "    </tr>\n",
              "    <tr>\n",
              "      <th>2022-03-23</th>\n",
              "      <td>5</td>\n",
              "      <td>180.0</td>\n",
              "      <td>2442.0</td>\n",
              "      <td>74.0</td>\n",
              "      <td>634.0</td>\n",
              "      <td>3170.0</td>\n",
              "      <td>307.0</td>\n",
              "      <td>4.0</td>\n",
              "      <td>3</td>\n",
              "      <td>23</td>\n",
              "      <td>2</td>\n",
              "      <td>10.0</td>\n",
              "      <td>7.0</td>\n",
              "      <td>5.0</td>\n",
              "      <td>7.0</td>\n",
              "      <td>2.0</td>\n",
              "      <td>6.0</td>\n",
              "      <td>4.0</td>\n",
              "      <td>7.333333</td>\n",
              "    </tr>\n",
              "    <tr>\n",
              "      <th>2022-03-24</th>\n",
              "      <td>6</td>\n",
              "      <td>175.0</td>\n",
              "      <td>2442.0</td>\n",
              "      <td>74.0</td>\n",
              "      <td>634.0</td>\n",
              "      <td>3804.0</td>\n",
              "      <td>307.0</td>\n",
              "      <td>4.0</td>\n",
              "      <td>3</td>\n",
              "      <td>24</td>\n",
              "      <td>3</td>\n",
              "      <td>5.0</td>\n",
              "      <td>10.0</td>\n",
              "      <td>7.0</td>\n",
              "      <td>5.0</td>\n",
              "      <td>7.0</td>\n",
              "      <td>2.0</td>\n",
              "      <td>6.0</td>\n",
              "      <td>7.333333</td>\n",
              "    </tr>\n",
              "    <tr>\n",
              "      <th>2022-03-25</th>\n",
              "      <td>7</td>\n",
              "      <td>174.0</td>\n",
              "      <td>2442.0</td>\n",
              "      <td>74.0</td>\n",
              "      <td>634.0</td>\n",
              "      <td>4438.0</td>\n",
              "      <td>307.0</td>\n",
              "      <td>4.0</td>\n",
              "      <td>3</td>\n",
              "      <td>25</td>\n",
              "      <td>4</td>\n",
              "      <td>6.0</td>\n",
              "      <td>5.0</td>\n",
              "      <td>10.0</td>\n",
              "      <td>7.0</td>\n",
              "      <td>5.0</td>\n",
              "      <td>7.0</td>\n",
              "      <td>2.0</td>\n",
              "      <td>7.000000</td>\n",
              "    </tr>\n",
              "    <tr>\n",
              "      <th>2022-03-26</th>\n",
              "      <td>4</td>\n",
              "      <td>171.0</td>\n",
              "      <td>2442.0</td>\n",
              "      <td>74.0</td>\n",
              "      <td>634.0</td>\n",
              "      <td>2536.0</td>\n",
              "      <td>307.0</td>\n",
              "      <td>4.0</td>\n",
              "      <td>3</td>\n",
              "      <td>26</td>\n",
              "      <td>5</td>\n",
              "      <td>7.0</td>\n",
              "      <td>6.0</td>\n",
              "      <td>5.0</td>\n",
              "      <td>10.0</td>\n",
              "      <td>7.0</td>\n",
              "      <td>5.0</td>\n",
              "      <td>7.0</td>\n",
              "      <td>6.000000</td>\n",
              "    </tr>\n",
              "    <tr>\n",
              "      <th>...</th>\n",
              "      <td>...</td>\n",
              "      <td>...</td>\n",
              "      <td>...</td>\n",
              "      <td>...</td>\n",
              "      <td>...</td>\n",
              "      <td>...</td>\n",
              "      <td>...</td>\n",
              "      <td>...</td>\n",
              "      <td>...</td>\n",
              "      <td>...</td>\n",
              "      <td>...</td>\n",
              "      <td>...</td>\n",
              "      <td>...</td>\n",
              "      <td>...</td>\n",
              "      <td>...</td>\n",
              "      <td>...</td>\n",
              "      <td>...</td>\n",
              "      <td>...</td>\n",
              "      <td>...</td>\n",
              "    </tr>\n",
              "    <tr>\n",
              "      <th>2022-06-11</th>\n",
              "      <td>3</td>\n",
              "      <td>416.0</td>\n",
              "      <td>2442.0</td>\n",
              "      <td>77.0</td>\n",
              "      <td>561.0</td>\n",
              "      <td>1683.0</td>\n",
              "      <td>332.0</td>\n",
              "      <td>4.0</td>\n",
              "      <td>6</td>\n",
              "      <td>11</td>\n",
              "      <td>5</td>\n",
              "      <td>0.0</td>\n",
              "      <td>5.0</td>\n",
              "      <td>2.0</td>\n",
              "      <td>4.0</td>\n",
              "      <td>3.0</td>\n",
              "      <td>4.0</td>\n",
              "      <td>3.0</td>\n",
              "      <td>2.333333</td>\n",
              "    </tr>\n",
              "    <tr>\n",
              "      <th>2022-06-12</th>\n",
              "      <td>6</td>\n",
              "      <td>412.0</td>\n",
              "      <td>2442.0</td>\n",
              "      <td>77.0</td>\n",
              "      <td>561.0</td>\n",
              "      <td>3366.0</td>\n",
              "      <td>332.0</td>\n",
              "      <td>4.0</td>\n",
              "      <td>6</td>\n",
              "      <td>12</td>\n",
              "      <td>6</td>\n",
              "      <td>3.0</td>\n",
              "      <td>0.0</td>\n",
              "      <td>5.0</td>\n",
              "      <td>2.0</td>\n",
              "      <td>4.0</td>\n",
              "      <td>3.0</td>\n",
              "      <td>4.0</td>\n",
              "      <td>2.666667</td>\n",
              "    </tr>\n",
              "    <tr>\n",
              "      <th>2022-06-13</th>\n",
              "      <td>3</td>\n",
              "      <td>413.0</td>\n",
              "      <td>2442.0</td>\n",
              "      <td>77.0</td>\n",
              "      <td>561.0</td>\n",
              "      <td>1683.0</td>\n",
              "      <td>332.0</td>\n",
              "      <td>4.0</td>\n",
              "      <td>6</td>\n",
              "      <td>13</td>\n",
              "      <td>0</td>\n",
              "      <td>6.0</td>\n",
              "      <td>3.0</td>\n",
              "      <td>0.0</td>\n",
              "      <td>5.0</td>\n",
              "      <td>2.0</td>\n",
              "      <td>4.0</td>\n",
              "      <td>3.0</td>\n",
              "      <td>3.000000</td>\n",
              "    </tr>\n",
              "    <tr>\n",
              "      <th>2022-06-14</th>\n",
              "      <td>1</td>\n",
              "      <td>413.0</td>\n",
              "      <td>2442.0</td>\n",
              "      <td>77.0</td>\n",
              "      <td>561.0</td>\n",
              "      <td>561.0</td>\n",
              "      <td>332.0</td>\n",
              "      <td>4.0</td>\n",
              "      <td>6</td>\n",
              "      <td>14</td>\n",
              "      <td>1</td>\n",
              "      <td>3.0</td>\n",
              "      <td>6.0</td>\n",
              "      <td>3.0</td>\n",
              "      <td>0.0</td>\n",
              "      <td>5.0</td>\n",
              "      <td>2.0</td>\n",
              "      <td>4.0</td>\n",
              "      <td>4.000000</td>\n",
              "    </tr>\n",
              "    <tr>\n",
              "      <th>2022-06-15</th>\n",
              "      <td>3</td>\n",
              "      <td>410.0</td>\n",
              "      <td>2442.0</td>\n",
              "      <td>77.0</td>\n",
              "      <td>561.0</td>\n",
              "      <td>1683.0</td>\n",
              "      <td>332.0</td>\n",
              "      <td>4.0</td>\n",
              "      <td>6</td>\n",
              "      <td>15</td>\n",
              "      <td>2</td>\n",
              "      <td>1.0</td>\n",
              "      <td>3.0</td>\n",
              "      <td>6.0</td>\n",
              "      <td>3.0</td>\n",
              "      <td>0.0</td>\n",
              "      <td>5.0</td>\n",
              "      <td>2.0</td>\n",
              "      <td>3.333333</td>\n",
              "    </tr>\n",
              "  </tbody>\n",
              "</table>\n",
              "<p>86 rows × 19 columns</p>\n",
              "</div>\n",
              "      <button class=\"colab-df-convert\" onclick=\"convertToInteractive('df-4bfdfa47-a747-4e4b-88e9-ef4406fb84c1')\"\n",
              "              title=\"Convert this dataframe to an interactive table.\"\n",
              "              style=\"display:none;\">\n",
              "        \n",
              "  <svg xmlns=\"http://www.w3.org/2000/svg\" height=\"24px\"viewBox=\"0 0 24 24\"\n",
              "       width=\"24px\">\n",
              "    <path d=\"M0 0h24v24H0V0z\" fill=\"none\"/>\n",
              "    <path d=\"M18.56 5.44l.94 2.06.94-2.06 2.06-.94-2.06-.94-.94-2.06-.94 2.06-2.06.94zm-11 1L8.5 8.5l.94-2.06 2.06-.94-2.06-.94L8.5 2.5l-.94 2.06-2.06.94zm10 10l.94 2.06.94-2.06 2.06-.94-2.06-.94-.94-2.06-.94 2.06-2.06.94z\"/><path d=\"M17.41 7.96l-1.37-1.37c-.4-.4-.92-.59-1.43-.59-.52 0-1.04.2-1.43.59L10.3 9.45l-7.72 7.72c-.78.78-.78 2.05 0 2.83L4 21.41c.39.39.9.59 1.41.59.51 0 1.02-.2 1.41-.59l7.78-7.78 2.81-2.81c.8-.78.8-2.07 0-2.86zM5.41 20L4 18.59l7.72-7.72 1.47 1.35L5.41 20z\"/>\n",
              "  </svg>\n",
              "      </button>\n",
              "      \n",
              "  <style>\n",
              "    .colab-df-container {\n",
              "      display:flex;\n",
              "      flex-wrap:wrap;\n",
              "      gap: 12px;\n",
              "    }\n",
              "\n",
              "    .colab-df-convert {\n",
              "      background-color: #E8F0FE;\n",
              "      border: none;\n",
              "      border-radius: 50%;\n",
              "      cursor: pointer;\n",
              "      display: none;\n",
              "      fill: #1967D2;\n",
              "      height: 32px;\n",
              "      padding: 0 0 0 0;\n",
              "      width: 32px;\n",
              "    }\n",
              "\n",
              "    .colab-df-convert:hover {\n",
              "      background-color: #E2EBFA;\n",
              "      box-shadow: 0px 1px 2px rgba(60, 64, 67, 0.3), 0px 1px 3px 1px rgba(60, 64, 67, 0.15);\n",
              "      fill: #174EA6;\n",
              "    }\n",
              "\n",
              "    [theme=dark] .colab-df-convert {\n",
              "      background-color: #3B4455;\n",
              "      fill: #D2E3FC;\n",
              "    }\n",
              "\n",
              "    [theme=dark] .colab-df-convert:hover {\n",
              "      background-color: #434B5C;\n",
              "      box-shadow: 0px 1px 3px 1px rgba(0, 0, 0, 0.15);\n",
              "      filter: drop-shadow(0px 1px 2px rgba(0, 0, 0, 0.3));\n",
              "      fill: #FFFFFF;\n",
              "    }\n",
              "  </style>\n",
              "\n",
              "      <script>\n",
              "        const buttonEl =\n",
              "          document.querySelector('#df-4bfdfa47-a747-4e4b-88e9-ef4406fb84c1 button.colab-df-convert');\n",
              "        buttonEl.style.display =\n",
              "          google.colab.kernel.accessAllowed ? 'block' : 'none';\n",
              "\n",
              "        async function convertToInteractive(key) {\n",
              "          const element = document.querySelector('#df-4bfdfa47-a747-4e4b-88e9-ef4406fb84c1');\n",
              "          const dataTable =\n",
              "            await google.colab.kernel.invokeFunction('convertToInteractive',\n",
              "                                                     [key], {});\n",
              "          if (!dataTable) return;\n",
              "\n",
              "          const docLinkHtml = 'Like what you see? Visit the ' +\n",
              "            '<a target=\"_blank\" href=https://colab.research.google.com/notebooks/data_table.ipynb>data table notebook</a>'\n",
              "            + ' to learn more about interactive tables.';\n",
              "          element.innerHTML = '';\n",
              "          dataTable['output_type'] = 'display_data';\n",
              "          await google.colab.output.renderOutput(dataTable, element);\n",
              "          const docLink = document.createElement('div');\n",
              "          docLink.innerHTML = docLinkHtml;\n",
              "          element.appendChild(docLink);\n",
              "        }\n",
              "      </script>\n",
              "    </div>\n",
              "  </div>\n",
              "  "
            ]
          },
          "metadata": {},
          "execution_count": 88
        }
      ]
    }
  ]
}